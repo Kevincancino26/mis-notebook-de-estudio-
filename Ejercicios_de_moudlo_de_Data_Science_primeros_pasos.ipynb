{
  "nbformat": 4,
  "nbformat_minor": 0,
  "metadata": {
    "colab": {
      "provenance": [],
      "authorship_tag": "ABX9TyOVahz6s36kEetyG4FfdyK5",
      "include_colab_link": true
    },
    "kernelspec": {
      "name": "python3",
      "display_name": "Python 3"
    },
    "language_info": {
      "name": "python"
    }
  },
  "cells": [
    {
      "cell_type": "markdown",
      "metadata": {
        "id": "view-in-github",
        "colab_type": "text"
      },
      "source": [
        "<a href=\"https://colab.research.google.com/github/Kevincancino26/mis-notebook-de-estudio-/blob/main/Ejercicios_de_moudlo_de_Data_Science_primeros_pasos.ipynb\" target=\"_parent\"><img src=\"https://colab.research.google.com/assets/colab-badge.svg\" alt=\"Open In Colab\"/></a>"
      ]
    },
    {
      "cell_type": "markdown",
      "source": [
        "#Ejercicios de moudlo de Data Science: primeros pasos."
      ],
      "metadata": {
        "id": "5FY-3UOSAWBh"
      }
    },
    {
      "cell_type": "markdown",
      "source": [
        "1._ Implemente la frase Escuela de datos alura"
      ],
      "metadata": {
        "id": "GQo4dmIfAjNJ"
      }
    },
    {
      "cell_type": "code",
      "source": [
        "print('Escuela de datos alura')"
      ],
      "metadata": {
        "colab": {
          "base_uri": "https://localhost:8080/"
        },
        "id": "2GhfZzmCAugt",
        "outputId": "343fb713-8c40-4385-f436-ad3e9359ed2c"
      },
      "execution_count": null,
      "outputs": [
        {
          "output_type": "stream",
          "name": "stdout",
          "text": [
            "Escuela de datos alura\n"
          ]
        }
      ]
    },
    {
      "cell_type": "markdown",
      "source": [
        "2 - Imprime tu nombre y tu apellido siguiendo la estructura a continuación:\n",
        "Nombre: [tu nombre]\n",
        "Apellido: [tu apellido]"
      ],
      "metadata": {
        "id": "88qNGOhUAv-F"
      }
    },
    {
      "cell_type": "code",
      "source": [
        "nombre= input('Ingrese su nombre: ')\n",
        "apellido= input('Ingrese su apellido: ')\n",
        "print(nombre, apellido)"
      ],
      "metadata": {
        "colab": {
          "base_uri": "https://localhost:8080/"
        },
        "id": "SrttFS11AzPQ",
        "outputId": "35ef16ee-b778-45fc-8469-97f8f49e8867"
      },
      "execution_count": null,
      "outputs": [
        {
          "output_type": "stream",
          "name": "stdout",
          "text": [
            "Ingrese su nombre: kevin\n",
            "Ingrese su apellido: gutierrez cancino\n",
            "kevin gutierrez cancino\n"
          ]
        }
      ]
    },
    {
      "cell_type": "markdown",
      "source": [
        "3 - Imprime tu primer nombre letra por letra. Por ejemplo, si mi nombre es Álvaro, la salida sería:"
      ],
      "metadata": {
        "id": "WcZScyUaA1UC"
      }
    },
    {
      "cell_type": "code",
      "source": [
        "print('K')\n",
        "print('E')\n",
        "print('V')\n",
        "print('I')\n",
        "print('N')"
      ],
      "metadata": {
        "colab": {
          "base_uri": "https://localhost:8080/"
        },
        "id": "WsGoijcHBM9-",
        "outputId": "d07e654e-e1d1-4e5d-e987-426dc56b2be8"
      },
      "execution_count": null,
      "outputs": [
        {
          "output_type": "stream",
          "name": "stdout",
          "text": [
            "K\n",
            "E\n",
            "V\n",
            "I\n",
            "N\n"
          ]
        }
      ]
    },
    {
      "cell_type": "markdown",
      "source": [
        "4 - Imprime tu fecha de nacimiento en formato día mes año. Recuerda que los valores de día y año no deben estar entre comillas. Suponiendo una fecha de cumpleaños el 28 de febrero de 2003, el formato debe ser como el siguiente:\n",
        "\n",
        "28 febrero 2003"
      ],
      "metadata": {
        "id": "3lCx-4g4B_Cr"
      }
    },
    {
      "cell_type": "code",
      "source": [
        "print('ingresa tu fecha de nacimiento de acuerdo a los campos')\n",
        "dia=int(input('cual es tu dia de nacimiento?'))\n",
        "mes=input('cual es tu mes? (en letras)')\n",
        "año=int(input('cual es tu año de nacimiento?'))\n",
        "print(dia, mes, año)"
      ],
      "metadata": {
        "colab": {
          "base_uri": "https://localhost:8080/"
        },
        "id": "XgTqu4RtCDM7",
        "outputId": "eb15a891-2414-40ab-f8ff-a9a2dec31657"
      },
      "execution_count": null,
      "outputs": [
        {
          "output_type": "stream",
          "name": "stdout",
          "text": [
            "ingresa tu fecha de nacimiento de acuerdo a los campos\n",
            "cual es tu dia de nacimiento?05\n",
            "cual es tu mes? (en letras)Agosto\n",
            "cuale s tu año de nacimiento?1998\n",
            "5 Agosto 1998\n"
          ]
        }
      ]
    },
    {
      "cell_type": "markdown",
      "source": [
        "5 - Imprime, en una sola instrucción print, el año actual en el que estás realizando este curso. El valor del año debe ser un dato numérico, y la salida de print debe ser la siguiente:\n",
        "Año actual: [año]"
      ],
      "metadata": {
        "id": "ktQ_SDt-BVR7"
      }
    },
    {
      "cell_type": "code",
      "source": [
        "Año=int(input('cual es el año actual en el que tomas el curso?'))\n",
        "print('El año actual:', Año)"
      ],
      "metadata": {
        "colab": {
          "base_uri": "https://localhost:8080/"
        },
        "id": "bqa_bs_JBYl1",
        "outputId": "ea2f6192-54ca-4d54-e3ea-60aa386f446c"
      },
      "execution_count": null,
      "outputs": [
        {
          "output_type": "stream",
          "name": "stdout",
          "text": [
            "cual es el año actual en el que tomas el curso?2025\n",
            "El año actual: 2025\n"
          ]
        }
      ]
    },
    {
      "cell_type": "markdown",
      "source": [
        "#***Recopilacion de datos***"
      ],
      "metadata": {
        "id": "stCyj5_rV4Pm"
      }
    },
    {
      "cell_type": "markdown",
      "source": [
        "1 - Crea un programa que solicite al usuario que escriba su nombre y luego imprima \"Hola, [nombre].\""
      ],
      "metadata": {
        "id": "U23-OnYGWQtQ"
      }
    },
    {
      "cell_type": "code",
      "source": [
        "nombre1=input('cual es tu nombre')\n",
        "print(f'hola{nombre1}')"
      ],
      "metadata": {
        "colab": {
          "base_uri": "https://localhost:8080/"
        },
        "id": "3UZKUt9DWTu8",
        "outputId": "91518ea1-34fc-4422-d497-a43c7b6085ff"
      },
      "execution_count": null,
      "outputs": [
        {
          "output_type": "stream",
          "name": "stdout",
          "text": [
            "cual es tu nombrekevin\n",
            "holakevin\n"
          ]
        }
      ]
    },
    {
      "cell_type": "markdown",
      "source": [
        "2 - Crea un programa que solicite al usuario que escriba su nombre y edad, y luego imprima \"Hola, [nombre], tienes [edad] años.\""
      ],
      "metadata": {
        "id": "zdHRf5k5WWUR"
      }
    },
    {
      "cell_type": "code",
      "source": [
        "nombre2=input('cual es tu nombre')\n",
        "edad=int(input('cual es tu edad'))\n",
        "print(f'hola {nombre2}, tienes {edad} años')"
      ],
      "metadata": {
        "colab": {
          "base_uri": "https://localhost:8080/"
        },
        "id": "LBIx1IYhWpa_",
        "outputId": "a7a6e4b7-c2dd-4bb5-e618-85041d707be4"
      },
      "execution_count": null,
      "outputs": [
        {
          "output_type": "stream",
          "name": "stdout",
          "text": [
            "cual es tu nombre Kevin\n",
            "cual es tu edad26\n",
            "hola  Kevin, tienes 26 años\n"
          ]
        }
      ]
    },
    {
      "cell_type": "markdown",
      "source": [
        "3 - Crea un programa que solicite al usuario que escriba su nombre, edad y altura en metros, y luego imprima \"Hola, [nombre], tienes [edad] años y mides [altura] metros.\""
      ],
      "metadata": {
        "id": "Bd3NBFDdWmWz"
      }
    },
    {
      "cell_type": "code",
      "source": [
        "nombre3=input('cual es tu nombre')\n",
        "edad=int(input('cual es tu edad'))\n",
        "altura=float(input('cual es tu altura'))\n",
        "print(f'hola {nombre3}, tienes {edad} años y mides {altura} metros')"
      ],
      "metadata": {
        "colab": {
          "base_uri": "https://localhost:8080/"
        },
        "id": "081tLBKwYi5b",
        "outputId": "e8076c58-5328-49f0-b32f-fd51e436d852"
      },
      "execution_count": null,
      "outputs": [
        {
          "output_type": "stream",
          "name": "stdout",
          "text": [
            "cual es tu nombreKevin\n",
            "cual es tu edad26\n",
            "cual es tu altura1.74\n",
            "hola Kevin, tienes 26 años y mides 1.74 metros\n"
          ]
        }
      ]
    },
    {
      "cell_type": "markdown",
      "source": [
        "#***Calculadora con operadores***"
      ],
      "metadata": {
        "id": "lAhF_ezjWqKr"
      }
    },
    {
      "cell_type": "markdown",
      "source": [
        "4 - Crea un programa que solicite dos valores numéricos al usuario y luego imprima la suma de ambos valores."
      ],
      "metadata": {
        "id": "QJuID6oRW1eX"
      }
    },
    {
      "cell_type": "code",
      "source": [
        "num_1= int(input('ingresa el primer numero(entero)'))\n",
        "num_2= int(input('ingresa el segundo numero(entero)'))\n",
        "suma= num_1+num_2\n",
        "print(f'la suma de {num_1} y {num_2} es {suma}')"
      ],
      "metadata": {
        "colab": {
          "base_uri": "https://localhost:8080/"
        },
        "id": "CCaTay9mWlwl",
        "outputId": "189a8e18-e04f-4022-c6aa-60e0c4b49b47"
      },
      "execution_count": null,
      "outputs": [
        {
          "output_type": "stream",
          "name": "stdout",
          "text": [
            "ingresa el primer numero(entero)1\n",
            "ingresa el segundo numero(entero)12\n",
            "la suma de 1 y 12 es 13\n"
          ]
        }
      ]
    },
    {
      "cell_type": "markdown",
      "source": [
        "5 - Crea un programa que solicite tres valores numéricos al usuario y luego imprima la suma de los tres valores."
      ],
      "metadata": {
        "id": "6So4XFxsW3vl"
      }
    },
    {
      "cell_type": "code",
      "source": [
        "num_1= int(input('ingresa el primer numero(entero)'))\n",
        "num_2= int(input('ingresa el segundo numero(entero)'))\n",
        "num_3= int(input('ingresa el tercer numero(entero)'))\n",
        "suma= num_1+num_2+num_3\n",
        "print(f'la suma de {num_1}, {num_2} y {num_3} es {suma}')"
      ],
      "metadata": {
        "colab": {
          "base_uri": "https://localhost:8080/"
        },
        "id": "9cD7xAKyW_2Z",
        "outputId": "0f99f45f-b604-473e-83d2-05716aa805e9"
      },
      "execution_count": null,
      "outputs": [
        {
          "output_type": "stream",
          "name": "stdout",
          "text": [
            "ingresa el primer numero(entero)12\n",
            "ingresa el segundo numero(entero)23\n",
            "ingresa el tercer numero(entero)3\n",
            "la suma de 12, 23 y 3 es 38\n"
          ]
        }
      ]
    },
    {
      "cell_type": "markdown",
      "source": [
        "6 - Crea un programa que solicite dos valores numéricos al usuario y luego imprima la resta del primero menos el segundo valor"
      ],
      "metadata": {
        "id": "ISvtdMPFXA6H"
      }
    },
    {
      "cell_type": "code",
      "source": [
        "num_1= int(input('ingresa el primer numero(entero)'))\n",
        "num_2= int(input('ingresa el segundo numero(entero)'))\n",
        "resta= num_1-num_2\n",
        "print(f'la suma de {num_1} y {num_2} es {resta}')"
      ],
      "metadata": {
        "colab": {
          "base_uri": "https://localhost:8080/"
        },
        "id": "zgSL_dnQXB1y",
        "outputId": "d2dffabd-e56a-4247-b4ad-3d25f60fdc65"
      },
      "execution_count": null,
      "outputs": [
        {
          "output_type": "stream",
          "name": "stdout",
          "text": [
            "ingresa el primer numero(entero)1\n",
            "ingresa el segundo numero(entero)1\n",
            "la suma de 1 y 1 es 0\n"
          ]
        }
      ]
    },
    {
      "cell_type": "markdown",
      "source": [
        "7 - Crea un programa que solicite dos valores numéricos al usuario y luego imprima la multiplicación de los dos valores."
      ],
      "metadata": {
        "id": "vqcQo5GPXCXd"
      }
    },
    {
      "cell_type": "code",
      "source": [
        "num_1= int(input('ingresa el primer numero(entero)'))\n",
        "num_2= int(input('ingresa el segundo numero(entero)'))\n",
        "multiplicacion= num_1*num_2\n",
        "print(f'la suma de {num_1} y {num_2} es {multiplicacion}')"
      ],
      "metadata": {
        "colab": {
          "base_uri": "https://localhost:8080/"
        },
        "id": "SJCpUEnYXEbT",
        "outputId": "532bfad3-3769-4e3f-9aea-b808a87a34c1"
      },
      "execution_count": null,
      "outputs": [
        {
          "output_type": "stream",
          "name": "stdout",
          "text": [
            "ingresa el primer numero(entero)2\n",
            "ingresa el segundo numero(entero)2\n",
            "la suma de 2 y 2 es 4\n"
          ]
        }
      ]
    },
    {
      "cell_type": "markdown",
      "source": [
        "8 - Crea un programa que solicite dos valores numéricos, un numerador y un denominador, y realice la división entre los dos valores. Asegúrate de que el valor del denominador no sea igual a 0."
      ],
      "metadata": {
        "id": "QJ7F1axUXFPm"
      }
    },
    {
      "cell_type": "code",
      "source": [
        "numerador= int(input('ingresa el primer numero(entero)'))\n",
        "denominador= int(input('ingresa el segundo numero(entero)'))\n",
        "division= numerador/denominador\n",
        "residuo= numerador%denominador\n",
        "print(f'la division de {numerador} y {denominador} es {round (division)} y el residuo es {residuo}')"
      ],
      "metadata": {
        "colab": {
          "base_uri": "https://localhost:8080/"
        },
        "id": "fzJLu5LzXL9G",
        "outputId": "82739da6-81c3-47b4-dded-c66944c30020"
      },
      "execution_count": null,
      "outputs": [
        {
          "output_type": "stream",
          "name": "stdout",
          "text": [
            "ingresa el primer numero(entero)2\n",
            "ingresa el segundo numero(entero)2\n",
            "la division de 2 y 2 es 1 y el residuo es 0\n"
          ]
        }
      ]
    },
    {
      "cell_type": "markdown",
      "source": [
        "9 - Crea un programa que solicite dos valores numéricos, un operador y una potencia, y realice la exponenciación entre estos dos valores."
      ],
      "metadata": {
        "id": "-3oSeacrXIvG"
      }
    },
    {
      "cell_type": "code",
      "source": [
        "operador= int(input('ingresa el primer numero(entero)'))\n",
        "potencia= int(input('ingresa el segundo numero(entero)'))\n",
        "exponenciacion= operador**potencia\n",
        "print('el operacor es: %d y el numerador %d exponente es: %d'%(operador,potencia,exponenciacion ))"
      ],
      "metadata": {
        "colab": {
          "base_uri": "https://localhost:8080/"
        },
        "id": "tBczNxMzXMUJ",
        "outputId": "ed790610-0f2d-4c93-e44a-01a2b06cdc81"
      },
      "execution_count": null,
      "outputs": [
        {
          "output_type": "stream",
          "name": "stdout",
          "text": [
            "ingresa el primer numero(entero)2\n",
            "ingresa el segundo numero(entero)2\n",
            "el operacor es: 2 y el numerador 2 exponente es: 4\n"
          ]
        }
      ]
    },
    {
      "cell_type": "markdown",
      "source": [
        "10 - Crea un programa que solicite dos valores numéricos, un numerador y un denominador, y realice la división entera entre los dos valores. Asegúrate de que el valor del denominador no sea igual a 0."
      ],
      "metadata": {
        "id": "UndoRXQTXM5n"
      }
    },
    {
      "cell_type": "code",
      "source": [
        "numerador= int(input('ingresa el primer numero(entero)'))\n",
        "denominador= int(input('ingresa el segundo numero(entero)'))\n",
        "division_entera= numerador//denominador\n",
        "division_normal= numerador/denominador\n",
        "print(f'division entera {division_entera}, division normal {round(division_normal,2)}')"
      ],
      "metadata": {
        "colab": {
          "base_uri": "https://localhost:8080/"
        },
        "id": "X25XdubqXOm8",
        "outputId": "e773bcf2-4473-45af-d6d5-941c60cf3728"
      },
      "execution_count": null,
      "outputs": [
        {
          "output_type": "stream",
          "name": "stdout",
          "text": [
            "ingresa el primer numero(entero)7\n",
            "ingresa el segundo numero(entero)3\n",
            "division entera 2, division normal 2.33\n"
          ]
        }
      ]
    },
    {
      "cell_type": "markdown",
      "source": [
        "11 - Crea un programa que solicite dos valores numéricos, un numerador y un denominador, y devuelva el resto de la división entre los dos valores. Asegúrate de que el valor del denominador no sea igual a 0."
      ],
      "metadata": {
        "id": "p89Ie212XR87"
      }
    },
    {
      "cell_type": "code",
      "source": [
        "numerador= int(input('ingresa el primer numero(entero)'))\n",
        "denominador= int(input('ingresa el segundo numero(entero)'))\n",
        "division= numerador/denominador\n",
        "residuo= numerador%denominador\n",
        "print(f'la division de {numerador} y {denominador} es {round (division)} y el residuo es {residuo}')"
      ],
      "metadata": {
        "colab": {
          "base_uri": "https://localhost:8080/"
        },
        "id": "6l_mITneXUAs",
        "outputId": "50a065f0-a635-4716-b447-3a9c3941c229"
      },
      "execution_count": null,
      "outputs": [
        {
          "output_type": "stream",
          "name": "stdout",
          "text": [
            "ingresa el primer numero(entero)8\n",
            "ingresa el segundo numero(entero)4\n",
            "la division de 8 y 4 es 2 y el residuo es 0\n"
          ]
        }
      ]
    },
    {
      "cell_type": "markdown",
      "source": [
        "12 - Crea un código que solicite las 3 notas de un estudiante e imprima el promedio de las notas."
      ],
      "metadata": {
        "id": "aIOrk-HMXUmI"
      }
    },
    {
      "cell_type": "code",
      "source": [
        "nota1=float(input('ingresa la primera nota'))\n",
        "nota2=float(input('ingresa la segunda nota'))\n",
        "nota3=float(input('ingresa la tercera nota'))\n",
        "promedio=(nota1+nota2+nota3)/3\n",
        "print('el promedio de general es: %f'%(round(promedio,2)))"
      ],
      "metadata": {
        "colab": {
          "base_uri": "https://localhost:8080/"
        },
        "id": "p-MVtzkyXWSZ",
        "outputId": "39832a23-0486-46a9-84e2-680c24b3db54"
      },
      "execution_count": null,
      "outputs": [
        {
          "output_type": "stream",
          "name": "stdout",
          "text": [
            "ingresa la primera nota3.4\n",
            "ingresa la segunda nota5.4\n",
            "ingresa la tercera nota6.5\n",
            "el promedio de general es: 5.100000\n"
          ]
        }
      ]
    },
    {
      "cell_type": "markdown",
      "source": [
        "13 - Crea un código que calcule e imprima el promedio ponderado de los números 5, 12, 20 y 15 con pesos respectivamente iguales a 1, 2, 3 y 4."
      ],
      "metadata": {
        "id": "XA0TJCgIXXpa"
      }
    },
    {
      "cell_type": "code",
      "source": [
        "numero=[5,12,20,15]\n",
        "peso=[1,2,3,4]\n",
        "promedio_ponderado=sum([numero[i]*peso[i] for i in range(len(numero))])/sum(peso)\n",
        "print('el promedio ponderado es: %f'%(round(promedio_ponderado,2)))"
      ],
      "metadata": {
        "colab": {
          "base_uri": "https://localhost:8080/"
        },
        "id": "mDNyFBmsXYnL",
        "outputId": "593df201-bc72-421e-b6c2-32b84f133dcf"
      },
      "execution_count": null,
      "outputs": [
        {
          "output_type": "stream",
          "name": "stdout",
          "text": [
            "el promedio ponderado es: 14.900000\n"
          ]
        }
      ]
    },
    {
      "cell_type": "markdown",
      "source": [
        "# ***Editando textos***"
      ],
      "metadata": {
        "id": "cyZA8xaqXZW8"
      }
    },
    {
      "cell_type": "markdown",
      "source": [
        "14 - Crea una variable llamada \"frase\" y asígnale una cadena de texto de tu elección. Luego, imprime la frase en pantalla."
      ],
      "metadata": {
        "id": "m3RFojqaXimq"
      }
    },
    {
      "cell_type": "code",
      "source": [
        "frase='hola mmundo'\n",
        "frase=frase.upper()\n",
        "print(frase)\n"
      ],
      "metadata": {
        "colab": {
          "base_uri": "https://localhost:8080/"
        },
        "id": "dV26qCjMXdYe",
        "outputId": "8378c42d-b4e0-4725-e79e-56d98fa32830"
      },
      "execution_count": null,
      "outputs": [
        {
          "output_type": "stream",
          "name": "stdout",
          "text": [
            "HOLA MMUNDO\n"
          ]
        }
      ]
    },
    {
      "cell_type": "markdown",
      "source": [
        "15 - Crea un código que solicite una frase y luego imprima la frase en pantalla."
      ],
      "metadata": {
        "id": "yW7-jx_NXmG9"
      }
    },
    {
      "cell_type": "code",
      "source": [
        "frase='hola mmundo'\n",
        "frase=frase.upper()\n",
        "print(frase)"
      ],
      "metadata": {
        "id": "rJKTECe9Xnps"
      },
      "execution_count": null,
      "outputs": []
    },
    {
      "cell_type": "markdown",
      "source": [
        "16 - Crea un código que solicite una frase al usuario y luego imprima la misma frase ingresada pero en mayúsculas."
      ],
      "metadata": {
        "id": "KkWvm-vQXn_Y"
      }
    },
    {
      "cell_type": "code",
      "source": [
        "frase='hola mmundo'\n",
        "print(frase)\n",
        "frase=frase.upper()\n",
        "print(frase)"
      ],
      "metadata": {
        "colab": {
          "base_uri": "https://localhost:8080/"
        },
        "id": "xCN5goMHXq0F",
        "outputId": "d01a7bfc-ba8b-487a-bfe0-6997e20cd841"
      },
      "execution_count": null,
      "outputs": [
        {
          "output_type": "stream",
          "name": "stdout",
          "text": [
            "hola mmundo\n",
            "HOLA MMUNDO\n"
          ]
        }
      ]
    },
    {
      "cell_type": "markdown",
      "source": [
        "17 - Crea un código que solicite una frase al usuario y luego imprima la misma frase ingresada pero en minúsculas."
      ],
      "metadata": {
        "id": "_8A8rkbyXrVO"
      }
    },
    {
      "cell_type": "code",
      "source": [
        "frase=' HOLA UN GUSTO '\n",
        "print(frase)\n",
        "frase=frase.lower().strip()\n",
        "print(frase)"
      ],
      "metadata": {
        "colab": {
          "base_uri": "https://localhost:8080/"
        },
        "id": "8Rb5dR5_XsxU",
        "outputId": "9a27a24e-47d8-498e-a2a1-66b0425476a8"
      },
      "execution_count": null,
      "outputs": [
        {
          "output_type": "stream",
          "name": "stdout",
          "text": [
            " HOLA UN GUSTO \n",
            "hola un gusto\n"
          ]
        }
      ]
    },
    {
      "cell_type": "markdown",
      "source": [
        "18 - Crea una variable llamada \"frase\" y asígnale una cadena de texto de tu elección. Luego, imprime la frase sin espacios en blanco al principio y al final."
      ],
      "metadata": {
        "id": "Yw1J-k86XtDk"
      }
    },
    {
      "cell_type": "code",
      "source": [
        "frase=' HOLA UN GUSTO '\n",
        "print(frase)\n",
        "frase=frase.lower().strip()\n",
        "print(frase)"
      ],
      "metadata": {
        "colab": {
          "base_uri": "https://localhost:8080/"
        },
        "id": "wxikzXsAXuw2",
        "outputId": "25107625-30a1-4711-b0ec-bdaf1e0c75dd"
      },
      "execution_count": null,
      "outputs": [
        {
          "output_type": "stream",
          "name": "stdout",
          "text": [
            " HOLA UN GUSTO \n",
            "hola un gusto\n"
          ]
        }
      ]
    },
    {
      "cell_type": "markdown",
      "source": [
        "19 - Crea un código que solicite una frase al usuario y luego imprima la misma frase sin espacios en blanco al principio y al final."
      ],
      "metadata": {
        "id": "CQTeowHZXvEj"
      }
    },
    {
      "cell_type": "code",
      "source": [
        "frase=(input('ingresa una frase '))\n",
        "\n",
        "frase=frase.strip()\n",
        "print(frase)"
      ],
      "metadata": {
        "colab": {
          "base_uri": "https://localhost:8080/"
        },
        "id": "z1Se6y9lXxCD",
        "outputId": "f65e88ff-a857-43f2-b0d4-6f776dcb70b9"
      },
      "execution_count": null,
      "outputs": [
        {
          "output_type": "stream",
          "name": "stdout",
          "text": [
            "ingresa una frase   hola mundo   \n",
            "hola mundo\n"
          ]
        }
      ]
    },
    {
      "cell_type": "markdown",
      "source": [
        "20 - Crea un código que solicite una frase al usuario y luego imprima la misma frase sin espacios en blanco al principio y al final, además de convertirla a minúsculas."
      ],
      "metadata": {
        "id": "Kx8CMXDLXxX6"
      }
    },
    {
      "cell_type": "code",
      "source": [
        "frase=(input('ingresa una frase(en mayusculas) '))\n",
        "print(frase)\n",
        "frase=frase.lower().strip()\n",
        "print(frase)"
      ],
      "metadata": {
        "colab": {
          "base_uri": "https://localhost:8080/"
        },
        "id": "uq6s4bfyX0Ff",
        "outputId": "29ee3a0b-a4dc-4887-ba61-d9af7893de26"
      },
      "execution_count": null,
      "outputs": [
        {
          "output_type": "stream",
          "name": "stdout",
          "text": [
            "ingresa una frase(en mayusculas)       KEVIN GUTIERRREZ    \n",
            "      KEVIN GUTIERRREZ    \n",
            "kevin gutierrrez\n"
          ]
        }
      ]
    },
    {
      "cell_type": "markdown",
      "source": [
        "21 - Crea un código que solicite una frase al usuario y luego imprima la misma frase con todas las vocales \"e\" reemplazadas por la letra \"f\".b"
      ],
      "metadata": {
        "id": "BcGHio6-X0Vq"
      }
    },
    {
      "cell_type": "code",
      "source": [
        "PALABRA=input('ingresa una palabra ')\n",
        "PALABRA=PALABRA.replace('e','f')\n",
        "print(PALABRA)"
      ],
      "metadata": {
        "colab": {
          "base_uri": "https://localhost:8080/"
        },
        "id": "jX40HFoXX2MY",
        "outputId": "f4dc15b0-fcf9-4b1d-8a67-e06b56f5682e"
      },
      "execution_count": null,
      "outputs": [
        {
          "output_type": "stream",
          "name": "stdout",
          "text": [
            "ingresa una palabra eoca\n",
            "foca\n"
          ]
        }
      ]
    },
    {
      "cell_type": "markdown",
      "source": [
        "22 - Crea un código que solicite una frase al usuario y luego imprima la misma frase con todas las vocales \"a\" reemplazadas por el carácter \"@\"."
      ],
      "metadata": {
        "id": "64VdNsNOX3dj"
      }
    },
    {
      "cell_type": "code",
      "source": [
        "PALABRA=input('ingresa una palabra ')\n",
        "PALABRA=PALABRA.replace('a',chr(64))\n",
        "print(PALABRA)"
      ],
      "metadata": {
        "colab": {
          "base_uri": "https://localhost:8080/"
        },
        "id": "Jg4i2nTYX4r9",
        "outputId": "41580059-3b34-417d-edae-493d6cb8a9d3"
      },
      "execution_count": null,
      "outputs": [
        {
          "output_type": "stream",
          "name": "stdout",
          "text": [
            "ingresa una palabra pato\n",
            "p@to\n"
          ]
        }
      ]
    },
    {
      "cell_type": "markdown",
      "source": [
        "23 - Crea un código que solicite una frase al usuario y luego imprima la misma frase con todas las consonantes \"s\" reemplazadas por el carácter \"$\"."
      ],
      "metadata": {
        "id": "WdR8g-sfX7Z1"
      }
    },
    {
      "cell_type": "code",
      "source": [
        "PALABRA=input('ingresa una palabra ')\n",
        "PALABRA=PALABRA.replace('s','$')\n",
        "print(PALABRA)"
      ],
      "metadata": {
        "colab": {
          "base_uri": "https://localhost:8080/"
        },
        "id": "JMiyEw_IX8jn",
        "outputId": "e6be0627-743d-43fb-880a-3b1e407fc21c"
      },
      "execution_count": null,
      "outputs": [
        {
          "output_type": "stream",
          "name": "stdout",
          "text": [
            "ingresa una palabra serpientes\n",
            "$erpiente$\n"
          ]
        }
      ]
    },
    {
      "cell_type": "markdown",
      "source": [
        "\n",
        "\n",
        "# ***Entrenando la programació***\n",
        "\n",
        "\n",
        "\n",
        "\n",
        "\n"
      ],
      "metadata": {
        "id": "7prNh2GUjTPl"
      }
    },
    {
      "cell_type": "markdown",
      "source": [
        "1 - Escribe un programa que pida a la persona usuaria que proporcione dos números y muestre el número más grande."
      ],
      "metadata": {
        "id": "l1SbatOqj9ZT"
      }
    },
    {
      "cell_type": "code",
      "source": [
        "numer1=int(input('ingresa el primer numero'))\n",
        "numer2=int(input('ingresa el segundo numero'))\n",
        "if numer1>numer2:\n",
        "  print(f'el numero mayor es {numer1}')\n",
        "else:\n",
        "  print(f'el numero mayor es {numer2}')"
      ],
      "metadata": {
        "colab": {
          "base_uri": "https://localhost:8080/"
        },
        "id": "wldt3esukFju",
        "outputId": "5e1bbbc0-b448-4c40-9472-6ecfca86c992"
      },
      "execution_count": null,
      "outputs": [
        {
          "output_type": "stream",
          "name": "stdout",
          "text": [
            "ingresa el primer numero1\n",
            "ingresa el segundo numero2\n",
            "el numero mayor es 2\n"
          ]
        }
      ]
    },
    {
      "cell_type": "markdown",
      "source": [
        "2 - Escribe un programa que solicite el porcentaje de crecimiento de producción de una empresa e informe si hubo un crecimiento (porcentaje positivo) o una disminución (porcentaje negativo)."
      ],
      "metadata": {
        "id": "UEAWIPBVkGMg"
      }
    },
    {
      "cell_type": "code",
      "source": [
        "porcentaje_actual=float(input('ingresa el porcentaje actual de crecimiento'))\n",
        "porcentaje_anterior=float(input('ingrese el porcentaje anterior de crecimiento '))\n",
        "if porcentaje_actual>porcentaje_anterior:\n",
        "  print('hubo un crecimiento')\n",
        "else:\n",
        "  print('hubo una disminucion')"
      ],
      "metadata": {
        "colab": {
          "base_uri": "https://localhost:8080/"
        },
        "id": "10-FMocCkIkS",
        "outputId": "ddee7a57-165e-4be7-8fc2-6f1bd73b51e8"
      },
      "execution_count": null,
      "outputs": [
        {
          "output_type": "stream",
          "name": "stdout",
          "text": [
            "ingresa el porcentaje actual de crecimiento67\n",
            "ingrese el porcentaje anterior de crecimiento 89\n",
            "hubo una disminucion\n"
          ]
        }
      ]
    },
    {
      "cell_type": "markdown",
      "source": [
        "3 - Escribe un programa que determine si una letra proporcionada por la persona usuaria es una vocal o una consonante."
      ],
      "metadata": {
        "id": "FifrozhFkK1m"
      }
    },
    {
      "cell_type": "code",
      "source": [
        "letra=input('ingresa una letra: ')\n",
        "vocal=['a','e','i','o','u','A','E','I','O','U']\n",
        "if letra in vocal:\n",
        "  print('es una vocal')\n",
        "else:\n",
        "  print('es una consonante')"
      ],
      "metadata": {
        "colab": {
          "base_uri": "https://localhost:8080/"
        },
        "id": "BrDPQdYpkLfC",
        "outputId": "031740bb-a320-479b-e082-0d75f9f22ed2"
      },
      "execution_count": null,
      "outputs": [
        {
          "output_type": "stream",
          "name": "stdout",
          "text": [
            "ingresa una letra: A\n",
            "es una vocal\n"
          ]
        }
      ]
    },
    {
      "cell_type": "markdown",
      "source": [
        "4 - Escribe un programa que lea valores promedio de precios de un modelo de automóvil durante 3 años consecutivos y muestre el valor más alto y más bajo entre esos tres años."
      ],
      "metadata": {
        "id": "K_Wo53XxkMJr"
      }
    },
    {
      "cell_type": "code",
      "source": [
        "valores=[12,46.7,89]\n",
        "print(f'el valor maximo es: {max(valores)}, el valor minomo es: {min(valores)}')\n"
      ],
      "metadata": {
        "colab": {
          "base_uri": "https://localhost:8080/"
        },
        "id": "oVomt2M9kOpP",
        "outputId": "631d73a1-caa2-45f4-bdb5-cee0b07bf637"
      },
      "execution_count": null,
      "outputs": [
        {
          "output_type": "stream",
          "name": "stdout",
          "text": [
            "el valor maximo es: 89, el valor minomo es: 12\n"
          ]
        }
      ]
    },
    {
      "cell_type": "markdown",
      "source": [
        "5 - Escribe un programa que pregunte sobre el precio de tres productos e indique cuál es el producto más barato para comprar."
      ],
      "metadata": {
        "id": "adEMO4fIkPMm"
      }
    },
    {
      "cell_type": "code",
      "source": [
        "producto1=float(input('ingrese el precio del prodcuto: '))\n",
        "nombre_producto1= str(input('nombre del producto:'))\n",
        "producto2= float(input('ingrese el precio del prodcuto: '))\n",
        "nombre_producto2= str(input('nombre del producto:'))\n",
        "producto3= float(input('ingrese el precio del prodcuto: '))\n",
        "nombre_producto3= str(input('nombre del producto:'))\n",
        "if producto1<producto2 and producto1<producto3:\n",
        "  print(f'el producto mas barato es: {nombre_producto1} con precio de {producto1}')\n",
        "elif producto2<producto1 and producto2<producto3:\n",
        "  print(f'el producto mas barato es: {nombre_producto2} con precio de {producto2}')\n",
        "else:\n",
        "  print(f'el producto mas barato es: {nombre_producto3} con precio de {producto3}')\n",
        "\n"
      ],
      "metadata": {
        "colab": {
          "base_uri": "https://localhost:8080/"
        },
        "id": "IAYujMAPkb8F",
        "outputId": "3439f8e8-6c12-4455-e22b-5dcdf6e59742"
      },
      "execution_count": null,
      "outputs": [
        {
          "output_type": "stream",
          "name": "stdout",
          "text": [
            "ingrese el precio del prodcuto: 12.4\n",
            "nombre del producto:agua\n",
            "ingrese el precio del prodcuto: 45.8\n",
            "nombre del producto:coca\n",
            "ingrese el precio del prodcuto: 23.5\n",
            "nombre del producto:cereal\n",
            "el producto mas barato es: agua con precio de 12.4\n"
          ]
        }
      ]
    },
    {
      "cell_type": "markdown",
      "source": [
        "6 - Escribe un programa que lea tres números y los muestre en orden descendente."
      ],
      "metadata": {
        "id": "q6IKGnAtkcYB"
      }
    },
    {
      "cell_type": "code",
      "source": [
        "numeros=[2,1,3,5,4,8,7,6,10,9]\n",
        "numeros.sort(reverse=True)\n",
        "print(numeros)\n",
        "\n"
      ],
      "metadata": {
        "colab": {
          "base_uri": "https://localhost:8080/"
        },
        "id": "_UqgsFW1keJT",
        "outputId": "aa1f2df3-86d5-4290-cc3f-f2ed27e83265"
      },
      "execution_count": null,
      "outputs": [
        {
          "output_type": "stream",
          "name": "stdout",
          "text": [
            "[10, 9, 8, 7, 6, 5, 4, 3, 2, 1]\n"
          ]
        }
      ]
    },
    {
      "cell_type": "markdown",
      "source": [
        "7 -Escribe un programa que pregunte en qué turno estudia la persona usuaria (\"mañana\", \"tarde\" o \"noche\") y muestre el mensaje \"¡Buenos Días!\", \"¡Buenas Tardes!\", \"¡Buenas Noches!\" o \"Valor Inválido!\", según el caso."
      ],
      "metadata": {
        "id": "5WOWxqCYkgLv"
      }
    },
    {
      "cell_type": "code",
      "source": [
        "turno=input('¿que turno esta trabajando?')\n",
        "if turno=='mañana'or 'Mañana':\n",
        "  print('Buenos dias')\n",
        "elif turno=='tarde' or 'Tarde':\n",
        "  print('Buena tardes')\n",
        "elif turno=='noche' or 'Tarde':\n",
        "  print('Buenas noches')\n",
        "else:\n",
        "  print('valor invalido')"
      ],
      "metadata": {
        "colab": {
          "base_uri": "https://localhost:8080/"
        },
        "id": "C9ZhWvE7kg3V",
        "outputId": "6c4420c8-b8b6-4426-d489-71f8c8262609"
      },
      "execution_count": null,
      "outputs": [
        {
          "output_type": "stream",
          "name": "stdout",
          "text": [
            "¿que turno esta trabajando?Mañana\n",
            "Buenos dias\n"
          ]
        }
      ]
    },
    {
      "cell_type": "markdown",
      "source": [
        "8 - Escribe un programa que solicite un número entero a la persona usuaria y determine si es par o impar. Pista: Puedes usar el operador módulo (%)."
      ],
      "metadata": {
        "id": "ygFM8v1vkiK_"
      }
    },
    {
      "cell_type": "code",
      "source": [
        "numero=int(input('ingresa un numero: '))\n",
        "if numero%2==0:\n",
        "  print('el numero es par')\n",
        "else:\n",
        "  print('el numero no es par')"
      ],
      "metadata": {
        "colab": {
          "base_uri": "https://localhost:8080/"
        },
        "id": "Ml9EZGwuki6j",
        "outputId": "429f5b05-5457-4a8a-c7c7-1a4c42a5aa1d"
      },
      "execution_count": null,
      "outputs": [
        {
          "output_type": "stream",
          "name": "stdout",
          "text": [
            "ingresa un numero7\n",
            "el numero no es par\n"
          ]
        }
      ]
    },
    {
      "cell_type": "markdown",
      "source": [
        "9 - Escribe un programa que pida un número a la persona usuaria y le informe si es entero o decimal."
      ],
      "metadata": {
        "id": "IIkQcGqmkj4h"
      }
    },
    {
      "cell_type": "code",
      "source": [
        "numero=float(input('ingresa un numero '))\n",
        "if numero%1==0:\n",
        "  print('el numero es un entero')\n",
        "else:\n",
        "  print('el nuemro es un decimal')"
      ],
      "metadata": {
        "colab": {
          "base_uri": "https://localhost:8080/"
        },
        "id": "v8-D7roXkkkk",
        "outputId": "c4b0e5ce-c556-412c-96a4-0a18f2b6c106"
      },
      "execution_count": null,
      "outputs": [
        {
          "output_type": "stream",
          "name": "stdout",
          "text": [
            "ingresa un numero 8.9\n",
            "el nuemro es un decimal\n"
          ]
        }
      ]
    },
    {
      "cell_type": "markdown",
      "source": [
        "\n",
        "\n",
        "# Momento de los proyectos\n",
        "\n",
        "\n"
      ],
      "metadata": {
        "id": "wbgsQNoskl7h"
      }
    },
    {
      "cell_type": "markdown",
      "source": [
        "10 - Un programa debe ser escrito para leer dos números y luego preguntar a la persona usuaria qué operación desea realizar. El resultado de la operación debe incluir información sobre el número, si es par o impar, positivo o negativo, e entero o decimal."
      ],
      "metadata": {
        "id": "EwL2ssJoqsI4"
      }
    },
    {
      "cell_type": "code",
      "source": [
        "numero_1 = float(input('Ingresa el primer número: '))\n",
        "numero_2 = float(input('Ingresa el segundo número: '))\n",
        "\n",
        "print('¿Qué operación deseas realizar?')\n",
        "print('suma')\n",
        "print('resta')\n",
        "print('multiplicación')\n",
        "print('división')\n",
        "\n",
        "operacion = input('Selecciona la operación: ')\n",
        "\n",
        "def es_entero(resultado):\n",
        "    return resultado.is_integer()\n",
        "\n",
        "if operacion == 'suma':\n",
        "    suma = numero_1 + numero_2\n",
        "    if es_entero(suma):\n",
        "        resultado = int(suma)  # Convertir a entero si es entero\n",
        "        tipo_numero = 'entero'\n",
        "    else:\n",
        "        resultado = suma\n",
        "        tipo_numero = 'decimal'\n",
        "    if resultado % 2 == 0:\n",
        "        print(f'El número es: {resultado}, positivo, par y {tipo_numero}')\n",
        "    else:\n",
        "        print(f'El número es: {resultado}, positivo, impar y {tipo_numero}')\n",
        "\n",
        "elif operacion == 'resta':\n",
        "    resta = numero_1 - numero_2\n",
        "    if es_entero(resta):\n",
        "        resultado = int(resta)  # Convertir a entero si es entero\n",
        "        tipo_numero = 'entero'\n",
        "    else:\n",
        "        resultado = resta\n",
        "        tipo_numero = 'decimal'\n",
        "    if resultado % 2 == 0 and resultado > 0:\n",
        "        print(f'El número es: {resultado}, positivo, par y {tipo_numero}')\n",
        "    elif resultado % 2 == 0 and resultado < 0:\n",
        "        print(f'El número es: {resultado}, negativo, par y {tipo_numero}')\n",
        "    elif resultado % 2 != 0 and resultado > 0:\n",
        "        print(f'El número es: {resultado}, positivo, impar y {tipo_numero}')\n",
        "    else:\n",
        "        print(f'El número es: {resultado}, negativo, impar y {tipo_numero}')\n",
        "\n",
        "elif operacion == 'multiplicacion':\n",
        "    multiplicacion = numero_1 * numero_2\n",
        "    if es_entero(multiplicacion):\n",
        "        resultado = int(multiplicacion)  # Convertir a entero si es entero\n",
        "        tipo_numero = 'entero'\n",
        "    else:\n",
        "        resultado = multiplicacion\n",
        "        tipo_numero = 'decimal'\n",
        "    if resultado % 2 == 0:\n",
        "        print(f'El número es: {resultado}, positivo, par y {tipo_numero}')\n",
        "    else:\n",
        "        print(f'El número es: {resultado}, positivo, impar y {tipo_numero}')\n",
        "\n",
        "elif operacion == 'division':\n",
        "    if numero_2 != 0:\n",
        "        division = numero_1 / numero_2\n",
        "        if es_entero(division):\n",
        "            resultado = int(division)  # Convertir a entero si es entero\n",
        "            tipo_numero = 'entero'\n",
        "        else:\n",
        "            resultado = division\n",
        "            tipo_numero = 'decimal'\n",
        "        if resultado % 2 == 0:\n",
        "            print(f'El número es: {resultado}, positivo, par y {tipo_numero}')\n",
        "        else:\n",
        "            print(f'El número es: {resultado}, positivo, impar y {tipo_numero}')\n",
        "    else:\n",
        "        print('Error: No se puede dividir entre cero.')\n",
        "\n",
        "else:\n",
        "    print('Operación inválida, especifica una operación válida.')\n",
        "\n"
      ],
      "metadata": {
        "colab": {
          "base_uri": "https://localhost:8080/"
        },
        "id": "2g61DY1pqw6s",
        "outputId": "50ea4a53-965c-4484-ae66-9b952bc9fb68"
      },
      "execution_count": null,
      "outputs": [
        {
          "output_type": "stream",
          "name": "stdout",
          "text": [
            "Ingresa el primer número: 23\n",
            "Ingresa el segundo número: 1\n",
            "¿Qué operación deseas realizar?\n",
            "suma\n",
            "resta\n",
            "multiplicación\n",
            "división\n",
            "Selecciona la operación: suma\n",
            "El número es: 24, positivo, par y entero\n"
          ]
        }
      ]
    },
    {
      "cell_type": "markdown",
      "source": [
        "11 - Escribe un programa que pida a la persona usuaria tres números que representan los lados de un triángulo. El programa debe informar si los valores pueden utilizarse para formar un triángulo y, en caso afirmativo, si es equilátero, isósceles o escaleno. Ten en cuenta algunas sugerencias:\n",
        "\n",
        "Tres lados forman un triángulo cuando la suma de cualesquiera dos lados es mayor que el tercero;\n",
        "Triángulo Equilátero: tres lados iguales;\n",
        "Triángulo Isósceles: dos lados iguales;\n",
        "Triángulo Escaleno: tres lados diferentes."
      ],
      "metadata": {
        "id": "EnPHxBOLq0AI"
      }
    },
    {
      "cell_type": "code",
      "source": [
        "valor1=int(input('ingresa el primer valor'))\n",
        "valor2=int(input('ingresa el segundo valor'))\n",
        "valor3=int(input('ingresa el tercer valor'))\n",
        "if valor1+valor2>valor3 and valor1+valor3>valor2 and valor2+valor3>valor1:\n",
        "  print('los valores forman un triangulo')\n",
        "  if valor1==valor2==valor3:\n",
        "    print('el triangulo es equilatero')\n",
        "  elif valor1==valor2 or valor1==valor3 or valor2==valor3:\n",
        "    print('el trianfulo es isoceles')\n",
        "  else:\n",
        "    print('el triangulo es escaleno')\n",
        "else:\n",
        "  print('los valores no forman un triangulo')"
      ],
      "metadata": {
        "colab": {
          "base_uri": "https://localhost:8080/"
        },
        "id": "lvMzYvk9q0vZ",
        "outputId": "81a39599-393c-4719-8f36-9963d19918f4"
      },
      "execution_count": null,
      "outputs": [
        {
          "output_type": "stream",
          "name": "stdout",
          "text": [
            "ingresa el primer valor3\n",
            "ingresa el segundo valor3\n",
            "ingresa el tercer valor3\n",
            "los valores forman un triangulo\n",
            "el triangulo es equilatero\n"
          ]
        }
      ]
    },
    {
      "cell_type": "markdown",
      "source": [
        "12 - Un establecimiento está vendiendo combustibles con descuentos variables. Para el etanol, si la cantidad comprada es de hasta 15 litros, el descuento será del 2% por litro. En caso contrario, será del 4% por litro. Para el diésel, si la cantidad comprada es de hasta 15 litros, el descuento será del 3% por litro. En caso contrario, será del 5% por litro. El precio por litro de diésel es de R$ 2,00 y el precio por litro de etanol es de R$ 1,70. Escribe un programa que lea la cantidad de litros vendidos y el tipo de combustible (E para etanol y D para diésel) y calcule el valor a pagar por el cliente. Ten en cuenta algunas sugerencias:\n",
        "\n",
        "El valor del descuento será el producto del precio por litro, la cantidad de litros y el valor del descuento.\n",
        "El valor a pagar por un cliente será el resultado de la multiplicación del precio por litro por la cantidad de litros menos el valor del descuento resultante del cálculo."
      ],
      "metadata": {
        "id": "7aU-e3OKq2tS"
      }
    },
    {
      "cell_type": "code",
      "source": [
        "litros=float(input('cuantos litros compraste?'))\n",
        "tipo_gasolina=input('que tipo de gasolina compraste? (E para etanol y D para disel)')\n",
        "etanolp=1.70\n",
        "diselp=2.00\n",
        "if tipo_gasolina=='E'or tipo_gasolina== 'e':\n",
        "\n",
        "    if litros<=15:\n",
        "\n",
        "       precio=(etanolp*litros)\n",
        "       descuento=(precio*0.02)\n",
        "       precio_final=(precio-descuento)\n",
        "       print(\"EtanoEtanol\")\n",
        "       print(f'el precio a pagar por {litros} litros es de {round(precio_final,2)}')\n",
        "    elif litros>15:\n",
        "       precio=(etanolp*litros)\n",
        "       descuento=(precio*0.04)\n",
        "       precio_final=(precio-descuento)\n",
        "       print(\"Etanol\")\n",
        "       print(f'el precio a pagar por {litros} litros es de {round(precio_final,2)}')\n",
        "elif tipo_gasolina==\"D\" or tipo_gasolina== \"d\":\n",
        "    if litros<=15:\n",
        "       precio=(diselp*litros)\n",
        "       descuento=(precio*0.03)\n",
        "       precio_final=(precio-descuento)\n",
        "       print(\"Disel\")\n",
        "       print(f'el precio a pagar por {litros} litros es de {round(precio_final,2)}')\n",
        "    elif litros>15:\n",
        "       precio=(diselp*litros)\n",
        "       descuento=(precio*0.05)\n",
        "       precio_final=(precio-descuento)\n",
        "       print(\"Disel\")\n",
        "       print(f'el precio a pagar por {litros} litros es de {round(precio_final,2)}')\n",
        "else:\n",
        "  print('ingrese un tipo de gasolina valido o verifique los valores ingresados')\n"
      ],
      "metadata": {
        "colab": {
          "base_uri": "https://localhost:8080/"
        },
        "id": "yOXafNlhq3VW",
        "outputId": "0ad51d40-189a-482a-ff54-6bfa0ba5a9e8"
      },
      "execution_count": null,
      "outputs": [
        {
          "output_type": "stream",
          "name": "stdout",
          "text": [
            "cuantos litros compraste?16\n",
            "que tipo de gasolina compraste? (E para etanol y D para disel)d\n",
            "Disel\n",
            "el precio a pagar por 16.0 litros es de 30.4\n"
          ]
        }
      ]
    },
    {
      "cell_type": "markdown",
      "source": [
        "13 - En una empresa de venta de bienes raíces, debes crear un código que analice los datos de ventas anuales para ayudar a la dirección en la toma de decisiones. El código debe recopilar los datos de cantidad de ventas durante los años 2022 y 2023 y calcular la variación porcentual. A partir del valor de la variación, se deben proporcionar las siguientes sugerencias:\n",
        "\n",
        "Para una variación superior al 20%: bonificación para el equipo de ventas.\n",
        "Para una variación entre el 2% y el 20%: pequeña bonificación para el equipo de ventas.\n",
        "Para una variación entre el 2% y el -10%: planificación de políticas de incentivo a las ventas.\n",
        "Para bonificaciones inferiores al -10%: recorte de gastos."
      ],
      "metadata": {
        "id": "DziLDdAFq4ew"
      }
    },
    {
      "cell_type": "code",
      "source": [
        "ventas1=float(input('ingresa las ventas del año 2022: '))\n",
        "ventas2=float(input('ingresa las ventas del año 2023: '))\n",
        "variacion=(((ventas2-ventas1)/ventas1)*100)\n",
        "if variacion>0.2:\n",
        "  print('bonificacion para el equipo de ventas')\n",
        "elif variacion>=0.02 and variacion<=0.2:\n",
        "  print('pequeña bonificacion para el equipo de ventas')\n",
        "elif variacion>=0.02 and variacion<=-0.1:\n",
        "  print('planificacion de politicas de incentivo a las ventas')\n",
        "elif variacion<=-0.1:\n",
        "  print('recorte de gastos')\n",
        "\n",
        "else:\n",
        "  print('no hay bonificacion')\n"
      ],
      "metadata": {
        "colab": {
          "base_uri": "https://localhost:8080/"
        },
        "id": "_CUehR8Wq6ve",
        "outputId": "51308854-8f17-4133-b410-3272b40f948f"
      },
      "execution_count": null,
      "outputs": [
        {
          "output_type": "stream",
          "name": "stdout",
          "text": [
            "ingresa las ventas del año 2022: 100\n",
            "ingresa las ventas del año 2023: 20\n",
            "recorte de gastos\n"
          ]
        }
      ]
    },
    {
      "cell_type": "markdown",
      "source": [
        "#Vamos practicar el uso de estructuras de repetición como el \"while\" y el \"for\" a partir de algunas actividades. Ahora que estamos avanzando en el contenido, podemos hacer los desafíos más interesantes. ¡Para ello, trabajaremos en proyectos de código!\n",
        "\n",
        "\n"
      ],
      "metadata": {
        "id": "qmZqV33IVXRS"
      }
    },
    {
      "cell_type": "markdown",
      "source": [
        "\n",
        "\n",
        "\n",
        "# Entrenando la programación\n",
        "\n",
        "\n"
      ],
      "metadata": {
        "id": "bMMs28mRVkvC"
      }
    },
    {
      "cell_type": "markdown",
      "source": [
        "1 - Escribe un programa que solicite dos números enteros e imprima todos los números enteros entre ellos."
      ],
      "metadata": {
        "id": "EOxw1mDoVsCe"
      }
    },
    {
      "cell_type": "code",
      "source": [
        "numero1=int(input('ingresa el primer numero: '))\n",
        "numero2=int(input('ingresa el segundo numero (el numero tiene que ser posterior al que quiere imprimir: )'))\n",
        "for n in range(numero1,numero2):\n",
        "  print(n)"
      ],
      "metadata": {
        "colab": {
          "base_uri": "https://localhost:8080/"
        },
        "id": "UEL368b0VvDT",
        "outputId": "3a56b717-53e1-42ec-acf6-47f586f35428"
      },
      "execution_count": null,
      "outputs": [
        {
          "output_type": "stream",
          "name": "stdout",
          "text": [
            "ingresa el primer numero: 0\n",
            "ingresa el segundo numero (el numero tiene que ser posterior al que quiere imprimir: )11\n",
            "0\n",
            "1\n",
            "2\n",
            "3\n",
            "4\n",
            "5\n",
            "6\n",
            "7\n",
            "8\n",
            "9\n",
            "10\n"
          ]
        }
      ]
    },
    {
      "cell_type": "markdown",
      "source": [
        "2 - Escribe un programa para calcular cuántos días tomará que la colonia de una bacteria A supere o iguale a la colonia de una bacteria B, basado en tasas de crecimiento del 3% y 1.5%, respectivamente. Supón que la colonia A comienza con 4 elementos y B con 10."
      ],
      "metadata": {
        "id": "vfEYRqlaVvjH"
      }
    },
    {
      "cell_type": "code",
      "source": [
        "A=4\n",
        "B=10\n",
        "dias=0\n",
        "while A<=B:\n",
        "  A+=1.03 # A crecre un 3%\n",
        "  B*=1.015 # B crece un 1.5%\n",
        "  dias+=1\n",
        "print(f'el numero de dias es: {dias}')"
      ],
      "metadata": {
        "colab": {
          "base_uri": "https://localhost:8080/"
        },
        "id": "f6oqXajuVy4V",
        "outputId": "be2ad47a-0ff7-49b7-ad86-fe2658e0e617"
      },
      "execution_count": null,
      "outputs": [
        {
          "output_type": "stream",
          "name": "stdout",
          "text": [
            "el numero de dias es: 7\n"
          ]
        }
      ]
    },
    {
      "cell_type": "markdown",
      "source": [
        "3 - Para procesar una cantidad de 15 datos de evaluaciones de usuarios de un servicio de la empresa, necesitamos verificar si las calificaciones son válidas. Por lo tanto, escribe un programa que recibirá calificaciones del 0 al 5 y verificará si son valores válidos. Si se ingresa una calificación superior a 5 o inferior a 0, se repetirá hasta que el usuario ingrese un valor válido."
      ],
      "metadata": {
        "id": "Nkau7S0DV30t"
      }
    },
    {
      "cell_type": "code",
      "source": [
        "valor=int(input('ingrese un numero de calificacion entre el 0 al 5: '))\n",
        "while valor>5 or valor<0:\n",
        "  print(f'el numero no es valido {valor}')# se pone la señalizacion para indicar al usuario que el numero no es valido\n",
        "  valor=int(input('ingrese un numero de calificacion entre el 0 al 5: '))\n",
        "\n",
        "print(f'la calificacion es: {valor}, el numero es valido')#el print debe de estar afuera del while dado que este marca el final y el correcto del numero al usuario\n",
        "\n"
      ],
      "metadata": {
        "colab": {
          "base_uri": "https://localhost:8080/"
        },
        "id": "2z_RDYQRV5mD",
        "outputId": "46865cb4-f3fd-440f-a4f4-0c027360923a"
      },
      "execution_count": null,
      "outputs": [
        {
          "output_type": "stream",
          "name": "stdout",
          "text": [
            "ingrese un numero de calificacion entre el 0 al 5: 7\n",
            "el numero no es valido 7\n",
            "ingrese un numero de calificacion entre el 0 al 5: 7\n",
            "el numero no es valido 7\n",
            "ingrese un numero de calificacion entre el 0 al 5: 8\n",
            "el numero no es valido 8\n",
            "ingrese un numero de calificacion entre el 0 al 5: 7\n",
            "el numero no es valido 7\n",
            "ingrese un numero de calificacion entre el 0 al 5: 8\n",
            "el numero no es valido 8\n",
            "ingrese un numero de calificacion entre el 0 al 5: 4\n",
            "la calificacion es: 4, el numero es valido\n"
          ]
        }
      ]
    },
    {
      "cell_type": "markdown",
      "source": [
        "4 - Desarrolla un programa que lea un conjunto indefinido de temperaturas en grados Celsius y calcule su promedio. La lectura debe detenerse al ingresar el valor -273°C."
      ],
      "metadata": {
        "id": "oBv5KJHPV6FX"
      }
    },
    {
      "cell_type": "code",
      "source": [
        "suma= 0\n",
        "contador=0\n",
        "while True:\n",
        "  T=float(input('ingresa la temperatura en grados celsius:'))\n",
        "\n",
        "  if T== -273:\n",
        "    break\n",
        "  suma+=T\n",
        "  contador+=1\n",
        "if contador >0:\n",
        "  promedio=suma/contador\n",
        "  print(f'el promedio de las temperaturas es: {promedio}')\n",
        "else:\n",
        "  print('no se ingresaron temperaturas')\n"
      ],
      "metadata": {
        "colab": {
          "base_uri": "https://localhost:8080/"
        },
        "id": "ORJTqYJWV8qD",
        "outputId": "b2406fb6-dfcc-4dca-b920-793eda81b232"
      },
      "execution_count": null,
      "outputs": [
        {
          "output_type": "stream",
          "name": "stdout",
          "text": [
            "ingresa la temperatura en grados celsius:7\n",
            "ingresa la temperatura en grados celsius:9\n",
            "ingresa la temperatura en grados celsius:9\n",
            "ingresa la temperatura en grados celsius:-273\n",
            "el promedio de las temperaturas es: 8.333333333333334\n"
          ]
        }
      ]
    },
    {
      "cell_type": "markdown",
      "source": [
        "5 - Escribe un programa que calcule el factorial de un número entero proporcionado por el usuario. Recuerda que el factorial de un número entero es el producto de ese número por todos sus antecesores hasta llegar al número 1. Por ejemplo, el factorial de 5 es 5 x 4 x 3 x 2 x 1 = 120."
      ],
      "metadata": {
        "id": "KKYVhcxvV9fd"
      }
    },
    {
      "cell_type": "code",
      "source": [
        "num=int(input('ingresa un numero: '))\n",
        "factorial=1\n",
        "for i in range(1,num+1):# se ingresa el num+1 dado que el num que apareceia seria el siguiente al que el usuario ingreso\n",
        "  factorial*=i#\n",
        "  print(f'paso {i}:factorial={factorial}')\n",
        "print(f'el factorial de {num} es: {factorial}')"
      ],
      "metadata": {
        "colab": {
          "base_uri": "https://localhost:8080/"
        },
        "id": "hb7ls5K4WA6N",
        "outputId": "8151f850-9bbd-4207-80d7-3a4233226fdc"
      },
      "execution_count": null,
      "outputs": [
        {
          "output_type": "stream",
          "name": "stdout",
          "text": [
            "ingresa un numero: 7\n",
            "paso 1:factorial=1\n",
            "paso 2:factorial=2\n",
            "paso 3:factorial=6\n",
            "paso 4:factorial=24\n",
            "paso 5:factorial=120\n",
            "paso 6:factorial=720\n",
            "paso 7:factorial=5040\n",
            "el factorial de 7 es: 5040\n"
          ]
        }
      ]
    },
    {
      "cell_type": "markdown",
      "source": [
        "\n",
        "\n",
        "\n",
        "# Momento de los proyectos\n",
        "\n",
        "\n"
      ],
      "metadata": {
        "id": "79qEMT6gWBY6"
      }
    },
    {
      "cell_type": "markdown",
      "source": [
        "6 - Escribe un programa que genere la tabla de multiplicar de un número entero del 1 al 10, según la elección del usuario. Como ejemplo, para el número 2, la tabla de multiplicar debe mostrarse en el siguiente formato:\n",
        "\n",
        "\"\"\"Tabla de multiplicar del 2:\n",
        "2 x 1 = 2\n",
        "2 x 2 = 4\n",
        "[...]\n",
        "2 x 10 = 20\"\""
      ],
      "metadata": {
        "id": "XUW_A1LYWGBc"
      }
    },
    {
      "cell_type": "code",
      "source": [
        "#al ingresar el numero se crea la tabla de multiplicar de dicho numero,\n",
        "#se puede ingresar cual quier numero y t la dara .\n",
        "num2= float(input('ingresa un numero: '))\n",
        "print(f'\\nla tabla del {round(num2)}:') #imp#imprecion de titulo\n",
        "for i in range(1,11):\n",
        "  m=num2*i\n",
        "  print(f'{round(num2)}x{i}= {round(m)}') #impresion de resultado de tabla\n"
      ],
      "metadata": {
        "id": "o8Ms9Ob_WTPL",
        "colab": {
          "base_uri": "https://localhost:8080/"
        },
        "outputId": "2241063b-fc85-4895-f9f3-aeba1df8c38f"
      },
      "execution_count": null,
      "outputs": [
        {
          "output_type": "stream",
          "name": "stdout",
          "text": [
            "ingresa un numero: 5\n",
            "\n",
            "la tabla del 5:\n",
            "5x1= 5\n",
            "5x2= 10\n",
            "5x3= 15\n",
            "5x4= 20\n",
            "5x5= 25\n",
            "5x6= 30\n",
            "5x7= 35\n",
            "5x8= 40\n",
            "5x9= 45\n",
            "5x10= 50\n"
          ]
        }
      ]
    },
    {
      "cell_type": "markdown",
      "source": [
        "7 - Los números primos tienen diversas aplicaciones en Ciencia de Datos, como en criptografía y seguridad. Un número primo es aquel que es divisible solo por sí mismo y por 1. Por lo tanto, crea un programa que solicite un número entero y determine si es un número primo o no."
      ],
      "metadata": {
        "id": "Z8xlFyQCWTrx"
      }
    },
    {
      "cell_type": "code",
      "source": [
        "primo=int(input('ingresa un numero primo: '))\n",
        "for i in range(2,primo):\n",
        "  if primo%i==0:\n",
        "    print(f'numero {primo} no es primo')\n",
        "    break\n",
        "  else:\n",
        "    print(f'numero {primo} es primo')\n",
        "\n"
      ],
      "metadata": {
        "id": "BAK1z82CWXPI",
        "colab": {
          "base_uri": "https://localhost:8080/"
        },
        "outputId": "e17d9a52-03ec-45f7-8672-9cdf8fd46e99"
      },
      "execution_count": null,
      "outputs": [
        {
          "output_type": "stream",
          "name": "stdout",
          "text": [
            "ingresa un numero primo: 3\n",
            "numero 3 es primo\n"
          ]
        }
      ]
    },
    {
      "cell_type": "markdown",
      "source": [
        "8 - Vamos a comprender la distribución de edades de los pensionistas de una empresa de seguros. Escribe un programa que lea las edades de una cantidad no informada de clientes y muestre la distribución en los intervalos [0-25], [26-50], [51-75] y [76-100]. La entrada de datos se detendrá al ingresar un número negativo."
      ],
      "metadata": {
        "id": "kh9wh9CJWZIB"
      }
    },
    {
      "cell_type": "code",
      "source": [
        "contador1_0_25=0\n",
        "contador2_26_50=0\n",
        "contador3_51_75=0\n",
        "contador3_76_100=0\n",
        "print('ingrese las edades del personal pensionado para su clasificacion \\n para para imprimir ingrese un numero negativo ')\n",
        "\n",
        "while True:\n",
        "  try:#crea un bloque de codigo que verifica el dato ingresado sea el necesario si ni lo es ejecuta directo el except\n",
        "      edad=int(input(\"ingrese la edad del personal pensionado:\\n\"))\n",
        "      ##ingresar la edad al momento que se ingrese un numero negativo se detendra el programa\n",
        "      if edad<0:\n",
        "        break\n",
        "      elif 0<= edad <=25:\n",
        "        contador1_0_25+=1\n",
        "      elif 26<= edad <=50:\n",
        "        contador2_26_50+=1\n",
        "      elif 51<= edad <=75:\n",
        "        contador3_51_75+=1\n",
        "      elif 76<= edad <=100:\n",
        "        contador3_76_100+=1\n",
        "      else:\n",
        "        print(\"los rangos de edad deben ser de 0-100, el rango ingresado no es valido\")\n",
        "  except ValueError:\n",
        "    print('ingrese un numero valido')##crea una exepcion para en el momento que s ingresa por error una palabra avisa que no es un numero\n",
        "\n",
        "#se imprimen los resultados\n",
        "print('la clasificacion de edades es:')\n",
        "print(f'de edades [00-25] es de {contador1_0_25}')\n",
        "print(f'de edades [26-50] es de {contador2_26_50}')\n",
        "print(f'de edades [51-75] es de {contador3_51_75}')\n",
        "print(f'de edades [76-100] es de {contador3_76_100}')\n",
        "\n"
      ],
      "metadata": {
        "id": "i_uhoIH5WaAc",
        "colab": {
          "base_uri": "https://localhost:8080/"
        },
        "outputId": "fa2cc018-8d10-43d2-b997-b03df7ae3740"
      },
      "execution_count": null,
      "outputs": [
        {
          "output_type": "stream",
          "name": "stdout",
          "text": [
            "ingrese las edades del personal pensionado para su clasificacion \n",
            " para para imprimir ingrese un numero negativo \n",
            "ingrese la edad del personal pensionado:\n",
            "89\n",
            "ingrese la edad del personal pensionado:\n",
            "66\n",
            "ingrese la edad del personal pensionado:\n",
            "75\n",
            "ingrese la edad del personal pensionado:\n",
            "45\n",
            "ingrese la edad del personal pensionado:\n",
            "56\n",
            "ingrese la edad del personal pensionado:\n",
            "53\n",
            "ingrese la edad del personal pensionado:\n",
            "64\n",
            "ingrese la edad del personal pensionado:\n",
            "67\n",
            "ingrese la edad del personal pensionado:\n",
            "-1\n",
            "la clasificacion de edades es:\n",
            "de edades [00-25] es de 0\n",
            "de edades [26-50] es de 1\n",
            "de edades [51-75] es de 6\n",
            "de edades [76-100] es de 1\n"
          ]
        }
      ]
    },
    {
      "cell_type": "markdown",
      "source": [
        "9 - En una elección para la gerencia de una empresa con 20 empleados, hay cuatro candidatos. Escribe un programa que calcule al ganador de la elección. La votación se realizó de la siguiente manera:\n",
        "\n",
        "Cada empleado votó por uno de los cuatro candidatos (representados por los números 1, 2, 3 y 4).\n",
        "\n",
        "También se contaron los votos nulos (representados por el número 5) y los votos en blanco (representados por el número 6).\n",
        "\n",
        "Al final de la votación, el programa debe mostrar el número total de votos para cada candidato, los votos nulos y los votos en blanco. Además, debe calcular y mostrar el porcentaje de votos nulos con respecto al total de votos y el porcentaje de votos en blanco con respecto al total de votos."
      ],
      "metadata": {
        "id": "7LctLm5FWgD2"
      }
    },
    {
      "cell_type": "code",
      "source": [
        "print(' los canditados disponibles se representan por los numeros 1,2,3,4.\\n')\n",
        "print('los votos nulos se representan con 5 y los votos en blanco por el 6\\n')\n",
        "print('para finalizar la votacion ingrese un numero negativo\\n')\n",
        "contador1=0\n",
        "contador2=0\n",
        "contador3=0\n",
        "contador4=0\n",
        "contador5=0\n",
        "contador6=0\n",
        "suma=0\n",
        "while True:\n",
        "  try:\n",
        "    voto=int((input('ingrese su voto: ')))\n",
        "    suma+=1\n",
        "    if voto==1:\n",
        "      contador1+=1\n",
        "    elif voto==2:\n",
        "      contador2+=1\n",
        "    elif voto==3:\n",
        "      contador3+=1\n",
        "    elif voto==4:\n",
        "      contador4+=1\n",
        "    elif voto==5:\n",
        "      contador5+=15\n",
        "    elif voto==6:\n",
        "      contador6+=1\n",
        "    elif voto<0:\n",
        "      break\n",
        "    else:\n",
        "      print('\\ningrese un numero valido\\n')\n",
        "\n",
        "  except ValueError:\n",
        "    print('\\ningrese un numero valido\\n')\n",
        "  if suma>0:\n",
        "    promedio5=(contador5*100)/suma\n",
        "    promedio6=(contador6*100)/suma\n",
        "  else:\n",
        "    promedio5=promedio6=0\n",
        "\n",
        "print(f'\\nel candidato 1 obtuvo {contador1} votos\\n')\n",
        "print(f'\\nel candidato 2 obtuvo {contador2} votos\\n')\n",
        "print(f'\\nel candidato 3 obtuvo {contador3} votos\\n')\n",
        "print(f'\\nel candidato 4 obtuvo {contador4} votos\\n')\n",
        "print(f'\\nlos votos nulos fueron {contador5}, el porcentade voto es: {round(promedio5)}%\\n')\n",
        "print(f'\\nlos votos en blanco fueron {contador6},el porcentade voto es: {round(promedio6)}%\\n')\n",
        "#se ingresa un diccionario para seleccionar de acuerdo al conteo de votos al ganador\n",
        "candidatos={\n",
        "    1:'candidato 1',\n",
        "    2:'candidato 2',\n",
        "    3:'candidato 3',\n",
        "    4:'candidato 4',\n",
        "}\n",
        "\n",
        "ganador=max(candidatos,key=candidatos.get)\n",
        "print(f'\\nel ganador es el candidato numero: {ganador}')\n"
      ],
      "metadata": {
        "id": "D998hahoWlJ9",
        "colab": {
          "base_uri": "https://localhost:8080/"
        },
        "outputId": "e780ea3c-8dce-4d22-d8e0-79cc5f6b538e"
      },
      "execution_count": null,
      "outputs": [
        {
          "output_type": "stream",
          "name": "stdout",
          "text": [
            " los canditados disponibles se representan por los numeros 1,2,3,4.\n",
            "\n",
            "los votos nulos se representan con 5 y los votos en blanco por el 6\n",
            "\n",
            "para finalizar la votacion ingrese un numero negativo\n",
            "\n",
            "ingrese su voto: 5\n",
            "ingrese su voto: 5\n",
            "ingrese su voto: 4\n",
            "ingrese su voto: 6\n",
            "ingrese su voto: 3\n",
            "ingrese su voto: 1\n",
            "ingrese su voto: 2\n",
            "ingrese su voto: 3\n",
            "ingrese su voto: 4\n",
            "ingrese su voto: 3\n",
            "ingrese su voto: 2\n",
            "ingrese su voto: 3\n",
            "ingrese su voto: -3\n",
            "\n",
            "el candidato 1 obtuvo 1 votos\n",
            "\n",
            "\n",
            "el candidato 2 obtuvo 2 votos\n",
            "\n",
            "\n",
            "el candidato 3 obtuvo 4 votos\n",
            "\n",
            "\n",
            "el candidato 4 obtuvo 2 votos\n",
            "\n",
            "\n",
            "los votos nulos fueron 2, el porcentade voto es: 17%\n",
            "\n",
            "\n",
            "los votos en blanco fueron 1,el porcentade voto es: 8%\n",
            "\n",
            "\n",
            "el ganador es el candidato numero: 4\n"
          ]
        }
      ]
    },
    {
      "cell_type": "markdown",
      "source": [
        "\n",
        "\n",
        "\n",
        "# Entrenando la programación\n",
        "\n",
        "\n"
      ],
      "metadata": {
        "id": "EVdbGLvNTzAm"
      }
    },
    {
      "cell_type": "markdown",
      "source": [
        "1 - Crea un programa que tenga la siguiente lista con los gastos de una empresa de papel [2172.54, 3701.35, 3518.09, 3456.61, 3249.38, 2840.82, 3891.45, 3075.26, 2317.64, 3219.08]. Con estos valores, crea un programa que calcule el promedio de gastos. Sugerencia: usa las funciones integradas sum() y len()."
      ],
      "metadata": {
        "id": "zf7sBif4T5vN"
      }
    },
    {
      "cell_type": "code",
      "source": [
        "lista_gastos= [2172.54, 3701.35, 3518.09, 3456.61, 3249.38, 2840.82, 3891.45, 3075.26, 2317.64, 3219.08]\n",
        "promedio=sum(lista_gastos)/len(lista_gastos)\n",
        "print(f'el proomedio de los gastos es de: ${round(promedio)}.')"
      ],
      "metadata": {
        "id": "5RwpdWbgT4uO",
        "colab": {
          "base_uri": "https://localhost:8080/"
        },
        "outputId": "cb69ea47-05e8-47e6-dbd2-d693584744af"
      },
      "execution_count": null,
      "outputs": [
        {
          "output_type": "stream",
          "name": "stdout",
          "text": [
            "el proomedio de los gastos es de: $3144.\n"
          ]
        }
      ]
    },
    {
      "cell_type": "markdown",
      "source": [
        "2 - Con los mismos datos de la pregunta anterior, determina cuántas compras se realizaron por encima de 3000 reales y calcula el porcentaje con respecto al total de compras."
      ],
      "metadata": {
        "id": "3G5DS7akUCr6"
      }
    },
    {
      "cell_type": "code",
      "source": [
        "lista_gastos= [2172.54, 3701.35, 3518.09, 3456.61, 3249.38, 2840.82, 3891.45, 3075.26, 2317.64, 3219.08]\n",
        "gastos_mayores=0\n",
        "for gastos in lista_gastos:\n",
        "  if gastos>3000:\n",
        "    gastos_mayores+=1\n",
        "\n",
        "    porcentaje=(gastos_mayores/len(lista_gastos))*100\n",
        "print(f'el total de gastos mayores a 3000 es: {gastos_mayores}')\n",
        "print(f'el porcentaje de los gastos es: {porcentaje}')\n",
        "\n",
        "\n"
      ],
      "metadata": {
        "id": "DJmUtFcYUEkt",
        "colab": {
          "base_uri": "https://localhost:8080/"
        },
        "outputId": "f374990e-d162-47c1-ea79-72a5720296eb"
      },
      "execution_count": null,
      "outputs": [
        {
          "output_type": "stream",
          "name": "stdout",
          "text": [
            "el total de gastos mayores a 3000 es: 7\n",
            "el porcentaje de los gastos es: 70.0\n"
          ]
        }
      ]
    },
    {
      "cell_type": "markdown",
      "source": [
        "3 - Crea un código que recoja en una lista 5 números enteros aleatorios e imprima la lista. Ejemplo: [1, 4, 7, 2, 4]."
      ],
      "metadata": {
        "id": "ayJZwHN7UFFI"
      }
    },
    {
      "cell_type": "code",
      "source": [
        "import random\n",
        "lista=[]\n",
        "for i in range(5):\n",
        "  lista.append(random.randint(1,10))\n",
        "print(lista)\n"
      ],
      "metadata": {
        "id": "mDKrEtFDUHO-",
        "colab": {
          "base_uri": "https://localhost:8080/"
        },
        "outputId": "df125ecc-578b-4056-dce1-228c452888c9"
      },
      "execution_count": null,
      "outputs": [
        {
          "output_type": "stream",
          "name": "stdout",
          "text": [
            "[6, 7, 2, 6, 5]\n"
          ]
        }
      ]
    },
    {
      "cell_type": "markdown",
      "source": [
        "4 - Recoge nuevamente 5 números enteros e imprime la lista en orden inverso al enviado."
      ],
      "metadata": {
        "id": "ALpXRsFWUHv-"
      }
    },
    {
      "cell_type": "code",
      "source": [
        "lista=[]\n",
        "for i in range(5):\n",
        "  lista.append(random.randint(1,10))\n",
        "lista.sort()\n",
        "lista.reverse()\n",
        "\n",
        "print(lista)"
      ],
      "metadata": {
        "id": "UErqUDKcUKb-",
        "colab": {
          "base_uri": "https://localhost:8080/"
        },
        "outputId": "dd5d02d0-5ad9-44be-e6e0-1dbcec26a2f6"
      },
      "execution_count": null,
      "outputs": [
        {
          "output_type": "stream",
          "name": "stdout",
          "text": [
            "[9, 8, 6, 6, 4]\n"
          ]
        }
      ]
    },
    {
      "cell_type": "markdown",
      "source": [
        "5 - Crea un programa que, al ingresar un número cualquiera, genere una lista que contenga todos los números primos entre 1 y el número ingresado."
      ],
      "metadata": {
        "id": "BAGzeZKQUK-J"
      }
    },
    {
      "cell_type": "code",
      "source": [
        "numero=int(input('ingresa un numero: '))\n",
        "lista=[]\n",
        "for i in range(2,numero+1):\n",
        " es_primo=True\n",
        " for k in range(2,i):\n",
        "  if i%k==0:\n",
        "    es_primo=False\n",
        "    break\n",
        "  else:\n",
        "    lista.append(i)\n",
        "print(lista)"
      ],
      "metadata": {
        "id": "N8fOVRX-UMmn",
        "colab": {
          "base_uri": "https://localhost:8080/"
        },
        "outputId": "1e3456ff-e343-4f23-fa8f-cb193cdb0933"
      },
      "execution_count": null,
      "outputs": [
        {
          "output_type": "stream",
          "name": "stdout",
          "text": [
            "ingresa un numero: 6\n",
            "[3, 5, 5, 5]\n"
          ]
        }
      ]
    },
    {
      "cell_type": "markdown",
      "source": [
        "6 - Escribe un programa que pida una fecha, especificando el día, mes y año, y determine si es válida para su análisis."
      ],
      "metadata": {
        "id": "WIxMSFnnUODU"
      }
    },
    {
      "cell_type": "code",
      "source": [
        "from datetime import datetime\n",
        "dia=int(input('ingresa el dia: '))\n",
        "mes=int(input('ingresa el mes: '))\n",
        "año=int(input('ingresa el año: '))\n",
        "try:\n",
        "    fecha = datetime(año, mes, dia)  # para usar datetime, se debe checar el orden de ingresp de datoa para igual horas en la documentacion\n",
        "    print(\"La fecha es válida.\")\n",
        "except ValueError:\n",
        "  print('la fecha no es valida')"
      ],
      "metadata": {
        "id": "HZLFRf03UOuk",
        "colab": {
          "base_uri": "https://localhost:8080/"
        },
        "outputId": "c04ed072-74ed-4ac6-ed9a-a631450cc79a"
      },
      "execution_count": null,
      "outputs": [
        {
          "output_type": "stream",
          "name": "stdout",
          "text": [
            "ingresa el dia: 5\n",
            "ingresa el mes: 8\n",
            "ingresa el año: 1998\n",
            "La fecha es válida.\n"
          ]
        }
      ]
    },
    {
      "cell_type": "code",
      "source": [],
      "metadata": {
        "id": "drUxb8O-ahh3"
      },
      "execution_count": null,
      "outputs": []
    },
    {
      "cell_type": "code",
      "source": [],
      "metadata": {
        "id": "NwiKiG6rahWC"
      },
      "execution_count": null,
      "outputs": []
    },
    {
      "cell_type": "markdown",
      "source": [
        "\n",
        "\n",
        "\n",
        "# Momento para los proyectos\n",
        "\n",
        "\n"
      ],
      "metadata": {
        "id": "c7vXUfRwUPWj"
      }
    },
    {
      "cell_type": "markdown",
      "source": [
        "7 - Para un estudio sobre la multiplicación de bacterias en una colonia, se recopiló el número de bacterias multiplicadas por día y se puede observar a continuación: [1.2, 2.1, 3.3, 5.0, 7.8, 11.3, 16.6, 25.1, 37.8, 56.9]. Con estos valores, crea un código que genere una lista que contenga el porcentaje de crecimiento de bacterias por día, comparando el número de bacterias en cada día con el número de bacterias del día anterior. Sugerencia: para calcular el porcentaje de crecimiento, utiliza la siguiente ecuación: 100 * (muestra_actual - muestra_anterior) / muestra_anterior."
      ],
      "metadata": {
        "id": "rB59sL9oUUAW"
      }
    },
    {
      "cell_type": "code",
      "source": [],
      "metadata": {
        "id": "l2r5UofOUWD4"
      },
      "execution_count": null,
      "outputs": []
    },
    {
      "cell_type": "markdown",
      "source": [
        "8 - Para una selección de productos alimenticios, debemos separar el conjunto de IDs proporcionados por números enteros, sabiendo que los productos con ID par son dulces y los que tienen ID impar son amargos. Crea un código que recoja 10 IDs. Luego, calcula y muestra la cantidad de productos dulces y amargos."
      ],
      "metadata": {
        "id": "s9TJ29wnUYDj"
      }
    },
    {
      "cell_type": "code",
      "source": [],
      "metadata": {
        "id": "9Mv3qT-WUY-_"
      },
      "execution_count": null,
      "outputs": []
    },
    {
      "cell_type": "markdown",
      "source": [
        "9 - Desarrolla un programa que informe la puntuación de un estudiante de acuerdo con sus respuestas. Debe pedir la respuesta del estudiante para cada pregunta y verificar si la respuesta coincide con el resultado. Cada pregunta vale un punto y hay opciones A, B, C o D.\n",
        "\n"
      ],
      "metadata": {
        "id": "fjgzt1W4UbcF"
      }
    },
    {
      "cell_type": "markdown",
      "source": [
        "Resultado del examen:\n",
        "\n",
        "01 - D\n",
        "\n",
        "02 - A\n",
        "\n",
        "03 - C\n",
        "\n",
        "04 - B\n",
        "\n",
        "05 - A\n",
        "\n",
        "06 - D\n",
        "\n",
        "07 - C\n",
        "\n",
        "08 - C\n",
        "\n",
        "09 - A\n",
        "\n",
        "10 - B"
      ],
      "metadata": {
        "id": "Wi_cnsFsFZhe"
      }
    },
    {
      "cell_type": "code",
      "source": [],
      "metadata": {
        "id": "j9p0ph3kUjJn"
      },
      "execution_count": null,
      "outputs": []
    },
    {
      "cell_type": "markdown",
      "source": [
        "10 - Un instituto de meteorología desea realizar un estudio de la temperatura media de cada mes del año. Para ello, debes crear un código que recoja y almacene esas temperaturas medias en una lista. Luego, calcula el promedio anual de las temperaturas y muestra todas las temperaturas por encima del promedio anual y en qué mes ocurrieron, mostrando los meses por su nombre (Enero, Febrero, etc.)."
      ],
      "metadata": {
        "id": "X7TyDAe1Udj1"
      }
    },
    {
      "cell_type": "code",
      "source": [],
      "metadata": {
        "id": "3nWD1RQVUfNG"
      },
      "execution_count": null,
      "outputs": []
    },
    {
      "cell_type": "markdown",
      "source": [
        "11 - Una empresa de comercio electrónico está interesada en analizar las ventas de sus productos. Los datos de ventas se han almacenado en un diccionario:"
      ],
      "metadata": {
        "id": "Lp00PYY5UltO"
      }
    },
    {
      "cell_type": "code",
      "source": [
        "{'Producto A': 300, 'Producto B': 80, 'Producto C': 60, 'Producto D': 200, 'Producto E': 250, 'Producto F': 30}"
      ],
      "metadata": {
        "id": "qegd3VSbUnUt"
      },
      "execution_count": null,
      "outputs": []
    },
    {
      "cell_type": "code",
      "source": [],
      "metadata": {
        "id": "blF1PbgDUoSs"
      },
      "execution_count": null,
      "outputs": []
    },
    {
      "cell_type": "markdown",
      "source": [
        "12 - Se realizó una encuesta de mercado para decidir cuál diseño de marca infantil es más atractivo para los niños. Los votos de la encuesta se pueden ver a continuación:"
      ],
      "metadata": {
        "id": "26MKx8M8Uo2i"
      }
    },
    {
      "cell_type": "markdown",
      "source": [
        "Tabla de votos de la marca\n",
        "\n",
        "Diseño 1 - 1334 votos\n",
        "\n",
        "\n",
        "Diseño 2 - 982 votos\n",
        "\n",
        "Diseño 3 - 1751 votos\n",
        "\n",
        "Diseño 4 - 210 votos\n",
        "\n",
        "Diseño 5 - 1811 votos"
      ],
      "metadata": {
        "id": "NQi6u4FjECYG"
      }
    },
    {
      "cell_type": "code",
      "source": [],
      "metadata": {
        "id": "DkUP4JKmUsHw"
      },
      "execution_count": null,
      "outputs": []
    },
    {
      "cell_type": "markdown",
      "source": [
        "Adapta los datos proporcionados a una estructura de diccionario. A partir de ello, informa el diseño ganador y el porcentaje de votos recibidos."
      ],
      "metadata": {
        "id": "xhcj2Rt7UuBF"
      }
    },
    {
      "cell_type": "markdown",
      "source": [
        "13 - Los empleados de un departamento de tu empresa recibirán una bonificación del 10% de su salario debido a un excelente rendimiento del equipo. El departamento de finanzas ha solicitado tu ayuda para verificar las consecuencias financieras de esta bonificación en los recursos. Se te ha enviado una lista con los salarios que recibirán la bonificación: [1172, 1644, 2617, 5130, 5532, 6341, 6650, 7238, 7685, 7782, 7903]. La bonificación de cada empleado no puede ser inferior a 200. En el código, convierte cada uno de los salarios en claves de un diccionario y la bonificación de cada salario en el valor correspondiente. Luego, informa el gasto total en bonificaciones, cuántos empleados recibieron la bonificación mínima y cuál fue el valor más alto de la bonificación proporcionada."
      ],
      "metadata": {
        "id": "l7unkiB_Uwt5"
      }
    },
    {
      "cell_type": "code",
      "source": [],
      "metadata": {
        "id": "7Z0rvVfqUzhx"
      },
      "execution_count": null,
      "outputs": []
    },
    {
      "cell_type": "markdown",
      "source": [
        "14 - Un equipo de científicos de datos está estudiando la diversidad biológica en un bosque. El equipo recopiló información sobre el número de especies de plantas y animales en cada área del bosque y almacenó estos datos en un diccionario. En él, la clave describe el área de los datos y los valores en las listas corresponden a las especies de plantas y animales en esas áreas, respectivamente."
      ],
      "metadata": {
        "id": "YjCiLFpmU0jT"
      }
    },
    {
      "cell_type": "code",
      "source": [
        "{'Área Norte': [2819, 7236], 'Área Leste': [1440, 9492], 'Área Sul': [5969, 7496], 'Área Oeste': [14446, 49688], 'Área Centro': [22558, 45148]}"
      ],
      "metadata": {
        "id": "wakYCTOXU2Xs"
      },
      "execution_count": null,
      "outputs": []
    },
    {
      "cell_type": "code",
      "source": [],
      "metadata": {
        "id": "BsZmBBmBU20m"
      },
      "execution_count": null,
      "outputs": []
    }
  ]
}