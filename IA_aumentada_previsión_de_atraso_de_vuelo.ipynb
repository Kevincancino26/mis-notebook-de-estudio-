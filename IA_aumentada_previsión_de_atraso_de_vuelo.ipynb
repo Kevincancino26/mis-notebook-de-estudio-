{
  "nbformat": 4,
  "nbformat_minor": 0,
  "metadata": {
    "colab": {
      "provenance": [],
      "include_colab_link": true
    },
    "kernelspec": {
      "name": "python3",
      "display_name": "Python 3"
    },
    "language_info": {
      "name": "python"
    }
  },
  "cells": [
    {
      "cell_type": "markdown",
      "metadata": {
        "id": "view-in-github",
        "colab_type": "text"
      },
      "source": [
        "<a href=\"https://colab.research.google.com/github/Kevincancino26/mis-notebook-de-estudio-/blob/main/IA_aumentada_previsi%C3%B3n_de_atraso_de_vuelo.ipynb\" target=\"_parent\"><img src=\"https://colab.research.google.com/assets/colab-badge.svg\" alt=\"Open In Colab\"/></a>"
      ]
    },
    {
      "cell_type": "markdown",
      "source": [
        "#<font color='skayblue'> Proyecto"
      ],
      "metadata": {
        "id": "TknDg_0Md98d"
      }
    },
    {
      "cell_type": "markdown",
      "source": [
        "utilizaremos datos de vuelo de un areopuerto esto lo que ahce es generar costos para las empresas y los pasajeros, este proyecto es para prever los atrasos en los vuelos y se puede optimizar las operaciones aereo portuaria, y tengan una mejora en los procesos y costos operativos"
      ],
      "metadata": {
        "id": "Zz70fmUpjAHy"
      }
    },
    {
      "cell_type": "markdown",
      "source": [
        "el problema: consiste en tratar de tener una prevision del atraso de los vuelos, para optizar los procesos operativos de los vuelos, nos enfocaremso en desarrollar un modelo para prevenir los atrasos en el mejot tiempo posible, es decir tener un margen de tiempo en un periodo para determinar si el vuelo saldra en ese horario y mejorando la experiencia del usuario y reduciendo costos de la aelorinia"
      ],
      "metadata": {
        "id": "OdSGGQsxkk_r"
      }
    },
    {
      "cell_type": "markdown",
      "source": [
        "Bibliotecas a usar"
      ],
      "metadata": {
        "id": "oStmI2n0ebMh"
      }
    },
    {
      "cell_type": "markdown",
      "source": [
        "En este curso, vamos a aprender cómo construir un modelo de regresión para predecir los retrasos en vuelos. Para ello, utilizaremos las bibliotecas Pandas, NumPy, scikit-learn, Seaborn y Yellowbrick en las siguientes versiones:"
      ],
      "metadata": {
        "id": "JdX2P9oOehZG"
      }
    },
    {
      "cell_type": "markdown",
      "source": [
        "![image.png](data:image/png;base64,iVBORw0KGgoAAAANSUhEUgAAAQ4AAAFuCAYAAABwRfb/AAAAAXNSR0IArs4c6QAAAARnQU1BAACxjwv8YQUAAAAJcEhZcwAADsMAAA7DAcdvqGQAAEEASURBVHhe7d1/XFTnnff/V1e/mdxmnay9Het+kaY9ujbgmkBiC9gq2BggJkgSlSSKsRVNI4kbMWkF3Q2Yu0rcKnbXH+kK2FXwm4jepmBlmVSXsWYzaCzGuIxJnDHqyEYZNpbDHR6c3PK4vn/MDDOM+OPgz8TP8/GYx4brx5kzc855z3Vd59j9hsfjUUOHDkUIIa7UX0QWCCHE5UhwCCFMk+AQQpgmwSGEME2CQwhhmgSHEMI0CQ4hhGkSHEII0yQ4hBCmSXAIIUyT4BBCmCbBIYQwTYJDCGGaBIcQwjQJDiGEaRIcQgjTJDiEEKZJcAghTJPgEEKYJsEhhDBNguMKGOeaaT5nRBZfoP1sM63tkaVC3DjGqX28+dtN1Da2RlZdUxIcQR3HeXNRJmPGjCW7ZB+tHc3sXptHdvoYxoxPZ9ov99DaFdkJOLufTf8wh8yxoxk7MZ3crUcxALraOVyWy4QxY5gwbwOHz0V2FMKEyPOzt3Oxo5ld//Qqy0tW8s92D+29tblGvr7B0XGUDTNGM3r0ha8x4zPJfnklbx5o9l/kAOc+4sC+4xhGO4cd+2n+PzrN7qN81OxvYbHcEb71bkbHf+P6TxfHAyONO+6wBCp8fLBvH62GQavzj3xw9vIjFnEL6Wpn/6/SLzh3Rj+xksPt0H5gJekRddm/DfxoXA+R52dHZAOD47UrWflOK4x4hldmxDGwX2Sba6ffSy+9VPSXf/mXkeVffX9hZejIGP7m7j/zpw+a+RIL9z+eTeYPhmNVZ2j8owNHTT3tsemM+84AuGsQg77h46wayvinc5j84EgeTJ/GxP+xn7ecZxkQm0lWyj0MiIja/oP+hoenpTP0o204TvTnO8nTeHT0IPr/PwOwWeFMW3+01GyyHx6JtX/PvhdncPS3P+HHz67hbOxjTPjOgMgG4nr7Cwt3/79/w8gh5zm6/xjtQNRDs/jJY+NIiB3GgP79sNzVH/2To5wdNI7nXsljekocUVd+kM2JPD/vH0T4OxnN77CyYAPuEc/xL2teYXzUddqPgK/viKOfhaj7JvLoxPsZBoBGwrT5zP/5UlavX89rqQOBZv7wzgf+YV+/wSTMWUFZ+XoWP64RGDeEmD4OFqIems/qDWWsfmkiURds8BK62mn+6DhgwWIx01FcSwO/m8Ck6T/jmR/4j4ExKIEnn0hgsAUsUQk8mX4vd3ZBzOM/47mpE7nf1EE26TLnp8X6XR6eu4LytfNJ+FZE5XXw9Q2OoH6hr9gSHLr1tzLQagXAML70l3U0s/93a8ibkUXe1uMXDjn14/zxt4XMeXQsYyZmU7j1cO/zzKCudo6/+yYr52eRtXQ3gRmPX/txdq9dRNaEMYwen0luyQ6OBtay2ptq2fTGGv7V2Q408/viHLJnzaEwuHZitHJ463JyJ49l9JgJZL+8kh2NrT3399xRav8pj6zxoxmTns2ist0cDx/adjSz77eFzJk8ltGjxzBhRiFvfiirur0aEMW41B9gAVr3/Z4PutccDY6/t4sPjBjGjQ9dyO3u3WxYlM2EMaMZO3kOhWW7u6exdDSzf/tKcp/OZuWeo+zfvIis8WOYMGslu5sNjLP7ebM4j6yJYxidMIGsBWvY7Q50vsT5aZzax6Z/XMbKkkXkZM9h+db9tIY1MM4epnZtHtkzCtlxYD87/mkR2eljGD02k7zf7r/0eXwRX9+pSkCX70+8vf0ArdhImPokDw7pT/sneygr28Gx9oGM/8l8Hr37XZZM/Qmrdv2J42dbYeRjTEscSn+6OPdBDW85z9LheQ/H/qPod1roOHuKo3/cwYGO0UxIvIcBtHO07i0cJ2DYuGk8Ovwc2+Y/xgu/cXD4RCutd45mWkYcg/qD0bybf5z3E1baT2F94FEmRJ/DsWMbb9WfZGhCItbDv+bnq3fT3Onf/y//3MrZz5oxvpNGZvyX7CrK5u/KD9ChTSQ9/k6O/dsuan63DyP+McZGWzA+reV//exnrPn3Zqxj0vjBXR9Ru+Nt3nL8mdETxnHPXxzlzZezyd96GOIeY9yQMxxu/BP7/vgZIx8ej3a9htpfWf0ZYP0Gx3bu5vjnZ+h3fyYPDx8AHceoXVPKvkGTWfTsOGwWaHWu4Wc5y9l16i4eTJ/APX/ex65du9h1YigT7tN5Y2YWy2sOc8p3lsP1NdT88SNaO7vo+KyZu2KGcuCXf8cbe3WGJz9Gwl+3cmDPbnZ/+i0evc/Lsqd6Oz+h9cAacn/6Gm8f6U/spIcZZezn7W3b2fXJXSQkxWE9toGZU/J58/3jnD17FEdNDY7GY5xt74Ivz3Hc+Se+vD+dcd82Nx3++o84uh3lX3+RxYSE0YydtojaVo1Jf/8Gr2VEYRnwXRIyJnL/IH9Ly529LISOeIbVuw7y3u73qH9jFhpwdPNK/vVPvfxSW6xoKU8yboT/d8jS/w7/L1LHcXYszefNjyDq8dcpX7uUpavKKZ8TA6dqKfz7f6V9UhkH61czaTCAxnNbDnLkyBGqfx6Hb+dKlte2MjB1BZUbVrB0+TrWFyRg4Tg7tu+jtf0om/5+ETs+tTDu76uoemMFK177ORMHAu7fs+NPzbQffptN77bDoIn83c8Xs2JNOa88ALTu4w+He/ksAkvUD3h03ECgnX32AzQbYJw6wB+aDGImjEcbCLTuZ0PxBo4aMTz3RiXr/9dSVr+xmme+De173mLX6QHEPTKJ+4PTCMMg5vHneG76kzz50hKm9f8jv3eD5UfzWfraYpYWzOehwcAAC1gvcn427+ZXizZwuGMgEwvXs275UlaUlvNKkoVWx0ry1u3j/wyKYeITCUQFRtsDH5jFik111NesZ9a9AM3s/1MzZo/8bRQcQD/oXjIwjlO7bg1v/qkVBsXw5EtL+Eny4IgOIQO1OOICc9jBDzzJkz+wAMc5cOj0hdOafoNJmL6YJbP8Q1wCB834r/3sajQAjUefSGBwP6DfQO599AkSLEDTbv547CKHsOM4+2r2YWBB+/YdnG46zOHGD/jojH9o0n7cw4mP9rH7Q2DQOJ5MCQyfh/6Ap+dOYmLGT3jy/sEM1Mbx5ONPMn/5KzwUBa3/1YyOBWinuVW/8LMI6DeYuNSHGQy0O3/P/rPtHH/3Dxw+H8PEpHv905jDtfzhUyDquwzuOM7hxsPs/8/TtHUBnOb42W8y6cW/Z36a5t/mqOdY8ov5zC9YytI5ExlquRMLYLxbSO7STexujuInayupWPgwUf+z9/OzuXEX+1qBbz0cOt4DYpiYMY6BQLNjN67/MY7nfv4yT44CGEjCU88w6YEoBn/3Bzya7N8XvVXHMDlduY2CI4afFFdR98cjHPljNSsej4Jz+1mzdA37zvpbRC44XZTFStS3BgKgn2nly4t+6T23+KXvU//c02IjalBoVGP5Kxv/cyCAj+Nn9PAuIe3NuLwABofL8pgzK5vsWXNY9NvD/ou9P/zfsx5OA/xVFAODm+83mISfrmD18ucYF2WBb43juYLniDn2z8wcO4YJT+SyoTEQF10SGxcz+P6JPPxtoP0AtXv2sXv3Ybh3IuO+awEMfJ8epRWguZbl87LJnpXNnPnLqW0ObCCw1nZn4Eck6m/j0MJmB4OTZvHzqf4L+fjOleTNyiLrF/8fH4StTfU8mwz0/wqMFAZHMThsW9ZvRWEF+HMzp/8ceJwgVB1yZ6C0D8f9NgqOMIM0Hnr6SWL6Aaf+yL6L/cpfSuDLtgyImNZc6t55WF3PQ9XrYb3Al+cBLCT8bDVlmyqpDHtV/eMz3POX/l8tOtovHmat+1kzL5Pckn3c8fhi1m+rYsUkfwiKSxgUx0MPaYDB/pJFbGiCmAnj/NMUgM7AEf32kyx9o+exqdxSzivjLj6aBWCAxqTCKuo2vMKkwBSXU7UsL1jDfrMPgd6AZaqvf3BcJE3bzzTj6wKwMdDqv/h7a9lbGXozH3zSDgxEu3cYAxVwPlDX44Lt2fuOb36XYRbA8NHsC9zNAYw/H6e5HcCGNtR/t8e/nbBAGWBD+xaAgee/YPj993P/A4HXdwfyZQcMHHav/7bv2f3sPhx2tnW1c3j7BnZ8+N8cry1lQ6OB5UfzWbHwGcb9jY1eVnREpH4DiU2ZSGCiAcQw8UfBuykWrPdoDARo9tA6SAsdmwfuZTBfYpz3H9POXgPd4PjO5eTOX8XRqKdZsb2e6lWziLEAn+7nwH/5f9gif2ys0VH+92z1BM4fP725GR3/SGTYX/n3sNfzOLAvZqcp3A7B8WX3l6bj+c8DHG7cz77tK8lfuoNWwJL0BI8GEz74Rf7fsA10+S/w9sbfs8PZTPu54+z+7a94yw18axyP/iAqrK8RCpCw/za6/Ptg+e7DPP1IFHCct0rWsPujVlo/3ceGf/wXDhsw8EdP8+i9AwEL/vUvH62+Vpo/3Mf+c1GMT48BoHVnPjmL17DDsZ99tRtYNDubBZsPoH9rPNMfGgw0s2NRDov+ZQf7nPvY8U95zHt9F8c7Q79GxrED7H53P7t/+yqv1vrPuvYzn3Jgz+Eet/JEyMB7J/LofYE/RgWnKX6DH3iYcYOBrsOseTGP5Zt3s8+5jzd/9QLZzy9j16eBK/u8/8sNnhNBxtkP2Of4PX/4qB36DSRK04ga4J/WDg6OaiPOz6ikp3lyBHC2ljVrd3D4bDvNBzax8p920w7c/8STxAUHOsFw6ENI9OYbHo9HDR06NLL8q6/jKBvmZrHmw8iKoMEkTJ/P/Oef5P6ufSyalktt2I+05cEcnv2ynNIj4X3C9NN4ZtV65kftIufpNRwNPyDDn2HOkB2UOcNOjUETWb1tNRP77WfD4nzWOHuOPy33PcPrxS8z8dsWMFrZvXQaeTtDbWLmlFE+dxgflBayqGx/z1XwEc+weu3LTIyyYJzdx4bFi9hwoOf0S3t2PeULxzGwuZb87EXs7v63MxaiRgyk2R14r8ETWVH5OpOu58NMX1kGRzfnkPWrw8S8WEXFz2J6TDLbm97kl79YTu2psEIGMu7n5ayY/CX/OjebDR+FVQ0Yx9Jtq3ny2xaaaxeRs6iW4JKIn4WEn63j9Wlf8qunI87PHyymev0zWD9+k1d/sZzdPTuiPb6U1QVPEnVqEzlPr+Rw2PkZNWk+44+v4c3wffn2M5RVLiYhcOfmcr6+wYFBq/sjmntba+x/B4O/G0NUcH4aeFKzxy+t1YbN8OJq/m/0c23c+d0EvvvlBxz4qBWj32Duf+hhEr49EDpaOe5upr17pAEMsGLr34lPD01HsAxEu1fz//uBLoPmP+1h94enMbosDB41joeTAnVB7cfZV7uPo8ZAtL9NYNz9UYEH2AxaP/qAD/7zOM1/bodv3c/EhxL8v05BRitH3/0DBz5t92//e+N4eFxo++2f7uP3jqO0d1kYdt9EHnpwMO3HDvDHRh9RP3qUhG9LaFzU2cPssHuIeuhREnoL145mDh84jOvUadq/HIj2o8eYeO9A6DJoPfZRz39jYhlI1AiNwYHNGKf2sWvPUVq/BO4YiPaDhxk3ajCWXs/PKO4dMdgfXEYrh/f+gf2ftvv7JQXeE3o9P+8YHIW1o5nW8H0ZMBjtb6Ku+N+3fI2DQwhxvXzt1ziEENeeBIcQwjQJDiGEaRIcQgjTJDiEEKZJcAghTJPgEEKYJsEhhDBNgkMIYZoEhxDCNAkOIYRpEhxCCNMkOIQQpklwCCFMk+AQQpgmwSGEME2CQwhhmgSHEMI0CQ4hhGkSHEII0yQ4hBCmSXAIIUyT4BBCmCbBIYQw7Rsej0dpWuj/la4QQlyOjDiEEKZJcAghTJPgEEKYJsEhhDBNgkMIYZoEhxDCNAkOIYRpEhxCCNMkOIQQpklwCCFMk+AQQpgmwSGEME2CQwhhmgSHEMI0CQ4hhGkSHEII0yQ4hBCmSXAIIUyT4BBCmCbBIYQwTYJDCGGaBIcQwrSvfHAYHicVq3OZ+sNsKk5H1gohroeveHAYeN534PrAxaEzYLFE1gtx7Ri6G+e7bozIioswPE7stfaIlxN3R2TLSAbeBjsVqwsoLq3B6bnSd7yBPB6P+srbvUBp2gJVH1kuxFVrUlufn6IS4jSlaZrSHitVpyKbXETj0jh/nx6vDFV6IrJlmPPHVGlWjNKe3ayOtZxSTdvyVepITWVsOBbZ8qb6io84hLjehpP+2kb2HvRQ/kRk3aW16UN4YWsDDQ3hr0pmDotsGebdcooPGqQ9lcUIWzSxU4upfDWepteLqPJFNr55rio4DJ8Le4MXunRctWUULymhosF74VDO8OHaW0HJkgKKS+24zkU2CNsWYJx0BoZpDrwXbAwwvDjfLqN4WRl2lx5Z69dl4G6ooWxZAQWrK3Ce7GVDwe0sKabs7SsZQorbjwWrzYqlX2T55RnnLVhtNmw9XpfZVnIRhxoOsXpSaN5tGxoN6Oi30PnZx+BwUTErhfjEDHJXl1D01GxKm4cwbEAj62alkPyKg+7LWXdQ8ONEXj3yINPmzWT4iRIyEnOp6W7gomJGIrGJGeRusGN/LY3E6QWU/66OitdzSJldRY+g9ZQxNT6FnA1N2GItNK3JJnuNJ7wFdLkpmx7PnLcg5bkc0nCQ9+M0So6EtdEd5CVPo6J1FNPmZRLtKiZtTBHOsCZC9J0Xr2cYQ2xg6PqFP6YXFQiqsBLnXgfETibtnrDCm61vaxydqq2lRVW/qClt/HLV2BmqabMvUHFanCp0+v9u/GWC0kbOVltbAg2+qFbzNE3Nqwl2CtvWyAy16v224KbUqQ0ZStPmqeovuktU6WOa0qZvVcHNKaXUsfWpPdY42rbNVpqWoJY3Bls0qVXjNZX8q6buPqfKM3rOV72lKsPE/FXcfupfNrPGEThXw9Y34jILVd1nke161+l+T9Xt2qyWT09WcZnL1Xuhy+KW0McRh38IZrUAVhuDw+LR+lAmKf11KnY6AIjP3Ujl26vJsgUa9PM3Pn2mJVAQtq2Rk5k2xhooh2htOHCaluCQ48g2Kl0weVYWwc0BWPr3vJ1izSiicss2FsYHCrruwDIAvN3vGeAqo6jUic8Ahs2hZucconu2EKKPopm51YXH48Hj8eB6p5gUXwW5jxfguNIpxzkfutWKpcNLk+ciU/KbpI/BcQn9hjNqJPB5YHg2KJak74Frewm5s6aS+1o1fX7cosWLl1GM+l5kRQRLNEmJQ2jZW0bB7KlkLyjHGXGwomeVUDBGx/F6Non3xTP5lQoO9bL2IkRfWQaEftAsw7NYvXYO0b4qqvZcfuJiGZ5E2oyFFL9RwzvzoXhqNmUnI1vdPNc+OILuCszTPFXkjE9llZHO6o3bWb8si+GRbU0xMM5HlkXQnRQ/ksicvSNY+MZ2KtfkkhIayPj1G8GcrS4O7VxPQUY03p1FTH3ExK+BEGbd9wDxPUbbV8Y6KZPJNFHzjv/mwa3g2gdHxyEaXRAdNQTwUfVqAY77FrN+RuylV5OvxIhRjMJNk+vSiX3o17mUdcxk9asp2C7yUJjviB3XGbDGpjFnZQ2HahcyyldFtayOij4wdB8+PXheGjheSyPt1bCbBAAn3LiAYUOHdBdF9ju0eiopsyroERGG4R+9X+31cw1dfXCcbgy71alz6J/LsPdPIveZWKAT/QvgtNd/W7VL51BpRejORVdoM1fknkyyE8G+LB97cFrR5cPZ2DOJ2wwddC/ec/ifwqtdz7ZPgu39/6dpUy75tWH9bDZs2BjyzVCREFfEVUJafCKJ388NPGth4W7acG8po677lqCO440K3LaZzA3eau2ln4VWvO+Wsy3sDqB7i/+ayp5066zAfcPj8ShN0yLLr4jjleHkNE1mZrSLuo8N0L34jHhe2LKRhfH+uYG+p4DU3Cp85wHLCOa8UUbSO9PIedsg+p4sin+Xifu5PEred6N3WbGNzuT1N4oYsn0queUuvOcMrEPjmVO6nRdiA9OQp3IoO27BNvRujH7DKZhmpWClHeuwWDJfe4OiYdVMzSjmkAH0t5HyaiUFxkLSVnixDX2AF7aU8+DOyczYYJA06QHupo0muwtbXhnrZ4zocStM3OZ8dgqeLabupJfugYHFSvQ9o8hZVcnMWOBkGZNTi2kiheJ3y/03AvRDlMydQc2dmSQNg7amOpxGJq//toi0oYHt9Navy03VvGzKjQk8MAw6T9RjPzGKgt+uZ+bIW+fMvPrg+LgAx845DNF96IYF6zd7ecDF0PHpBhZr4O4JYJzTwdpL2ytknPOhnw+8Hwa6DtZBYV9sl4H+uQ532bAOCPTRfRiW0D4E2xjQY9+EMMvQfRj9Q+daeLnuP8Gw9XKCXawfHTq+Lwzob8UWfl7fIq5ZcNw6gyghxPV29WscQojbTh+Dw4djdQFljcDpGoqXlFBzK/7TXyHEddHHqYqB7uv5/L0lbC1BCPH11sfgEELczvo4VRFC3M4kOIQQpklwCCFMk+AQQpgmwSGEME2CQwhhmgSHEMI0CQ4hhGkSHEII0yQ4hBCmSXAIIUyT4BBCmCbBIYQwTYJDCGGaBIcQwjQJDiGEaRIcQgjTJDiEEKZJcAghTJPgEEKYJsEhhDBNgkMIYZoEhxDCNAkOIYRpEhxCCNMkOIQQpklwCCFMk+AQQpgmwSGEME2CQwhhmgSHEMI0CQ4hhGkSHEII0yQ4hBCmSXAIIUyT4BBCmCbBIYQwTYJDCGGaBIcQwjQJDiGEaRIcQgjTJDiEEKZJcAghTPuGx+NRmqZFlgshIhi6m8YP4YEfjcASWdmbLgP3+3Yce5z4hiSR8uM0koZH9OzScb3r4L13nejfSSM9NYlY2+W37jtip9EbWRrNA5NisUUWXw8ej0cJIS6mSW19fopKiNOUpmlKe6xUnYps0pu2epU/VlMZxe+pU94mVffLDKVpMWrKprDegTbJ/1CvTrUcU/Uls1WClqAW7G4L31IvWtTW6YH96fFaoOojm14nEhxCXFKnamtpU53nlap/+cqDo3FpnNK0DFV6IljSprb+VFNaXKFqDJScKs9QmpasVjWF+r33D3E92vTulCp9bJ6qbmlRLT1ebaozsul1clVrHIbPhb3BP14yTjqpWF1AcakDrxHWRvfh+8SJvdaFL1jYoeM77cJRa8d1JtSWLgP3XjuuDsDw4aoto3hZGfZP9FB9QwUlS4op2+sl7G0gfH+6dH/fJSVUNITaGR4n9lp76PWuGwMfrrAypydyq+L2ZsFqs2LpF1l+aYNjk0iaXUDWPcESK0lJo0Bvoy1QEj1rG4cO2lkYG+o3LDq6R5veGRjnLVhtNmw9XtYrm0JdA30MDhcVMxKJTcwgd4Md+2tpJE4voPx3dVS8nkPK7KrukGjZW0bhL3LJnV9KU6DM8NRRtiKfvPm5lAYKfXuLSBsdS9rsYqprq8h5JJXcFZVUby8m95HJlDQ4KBifyLRF5dTYKyienULOW8F3cVExK4X4xAxyV5dQ9NRsSpuHMGxAI+tmpZD8ioNA9GA0rCN3fi6lHwYKAtw78yn8twsmjUL0SfTU9VQuScIaVub5uAmGRTMkWNDPgnVQ+KXuw7G7CesTmSSFlV7oNO4O/3YM/Sb90PVtqtKp2lpaVPWLmtJGZqhV74fmZKc2ZChNm6eqvwi19pdFzL9OlKoMTVMLdgf+/qJNtby/SqVqmkp4cas6FRxztW1VszVNaQ8XqvrPg51b1OYsTWnTt6oWpXruz/jlqjFsvNZmX6DitDhV6AwUfFGn5o3UVNzS8MFgi9qcNUVt/iysSIgIZqYqFwicdzPe9J+x4Vo+rFN1O0rVgvQ4lfz8VnXsfGSLSPVqQY+1jRiV/Hyparzc0sg11McRh3+YZLUAIyczbUwoV6O14cBpWrrnJVdogLV7qJX0eBbRwSC2PsADI2HEE9mkDAo2thEdDeg6ndBzf6w2BoeFuPWhTFL661TsdPgLBqQx8ykr+tvVOLsCjc7UUd0/i/ShoX5CXDs6jlcLacwoZ/3Tvd/zMFp98M0hdPpceC577aTw+hEXHo8Hj8dFw5Y5DN5bzNRny7hRY+Y+BseNZMHSH9ye05EVV6bfcEaNBD7Xu9c6kiZlYtUrqApkiXfnNobMyLwxt7HEbce3M5989xwqV6T0mLoE2UanMXluAau32NmY6CD3kTwcHZGterIMCP46WrAlLmTjaylwpJJtRyIaXidfgeC4Ru4KWzhKzGLmPVDzOzsGLrbtGEZmyo1aVhK3E31PHhnlo6jcOocRV7DAGvvENEboNVQ7I2suzRr/ACPw4m2JrLk+bl5wnDcuuCtyXXQcotEF0VHdS1JALDNz4uGdahwH63B8fyZpA8KqhTDJ0H34IhYq9YYisjeOovJ/v8CIC36XvNTMTyPtNUfP66DDf13c2T9YYKD7fIQ27aViVgrZG93dXQDwuHETTXT4aX4d3ZDgGDJ0GOCk+h0dMPAdqSDv5QquSziebsR5Mvgt6xz65zLs/ZPIfSbsnhdge2IuadjJn1vDA5MvvYYtxCW5SkiLTyTx+7lUBdYn9IYipr3oJuXpaDz2sEcAum/5D8GCG/emKuzd0xIdx6YqvLaZZP0osOnVacQnJhI/L3in8k4s570411RyKNity03Z+hpIzGXm6GDhdda3uypNavOzqSouRlPayDiVMKVQ1bco1bR+ikp+MEZpmqbixk5Ra4MPtnxRrwrHhlaBE+aWqsbPqtU8TVMxD6aq/F0tqsVRqKaMjVNaoGzGpialWupUfnqCihupKS0mTqX+ok61XOS9VXDVO32BKpybqhLGJ/uf9ouZolb1utzcqepe1JQ2YZUKe/5GiJ5a6lR+erL/fAvexYiJU8npM9Tm4IlzolRljNSUNnK22hp+Ll7wZKf/lbEhcF+m7T21PD1BZbyYr/IX56t56TEqJn152N3D4ENimtJ+GryDqJT6rFotGBvst0DNmBDnv6Z6O82vkxv3b1W6DPTPdQyLFZvV4h+C6WC1XjCG6zPHK8PJ+bgAx845DNF96IYF6zcv/vCOUZvLjHNL2T5DlkXF1TF0H0Z/G9Y+THkNPTAV6b42etSi+wwsvZzHxjkf+nmw3NW3970aN2SqAoGHXWy2sC/Gck1DI5LFGniS7iKhATr2f7Mw9wkJDXH1LNa+X7z+czX82uhRe9EnVy2D/P36+r5X48YFx61AP0TFsmIqDuroewrZfM9cWRQVog++JsHhw7G6gLJG4HQNxUtKqOnl35z43llL0cYyip6KJ3HDKF7P67lgKoS4MjdujeO6MtB9oQe84OLzPsPjxOGzkfL9Eb0O/4QQl/c1CQ4hxI30NZmqCCFuJAkOIYRpEhxCCNMkOIQQpklwCCFMk+AQQpgmwSGEME2CQwhhmgSHEMI0CQ4hhGkSHEII0yQ4hBCmSXAIIUyT4BBCmCbBIYQwTYJDCGGaBIcQwjQJDiGEaRIcQgjTJDiEEKZJcAghTJPgEEKYJsEhhDBNgkMIYZoEhxDCNAkOIYRpEhxCCNMkOIQQpklwCCFMk+AQQpgmwSGEME2CQwhhmgSHEMI0CQ4hhGkSHEII0yQ4hBCmSXAIIUyT4BBCmCbBIYQwTYJDCGGaBIcQwjQJDiGEaRIcQgjTbmJw+HAsyyV3mQMfAAa+I3bKlmSTNqsCb2TzcGccFM/LpXiPv6c5Jt7nFmV8so6cVx0YkRXhugzcDRWUzJtK4muOyNpuhs+FvbSA7NRsKk5H1t4KXJQ8nodDjywXN9PNC47T1ZRstGPfWEL1aYAWnDUOHE4n7s8veUngrS2h7B07ZWuq+3DhX/n73JL0GvIebyLzlRQskXXhDBeOnU4cDYfwXeKia2moxvGuE6dHx+iKrL0VxLLw7+8m/9ky3Dd5/wzdjfNd96UDO1yXgbuhhrJlBRSX1uD0XGHPvva7kTwej7o5OtWpXavUql2nVGdYaf3LmtIeK1Wnwsou0HlK1ZWsUnUnwnsq1bJ7lVrraOlRdjFX9D63nBa1dbqmMjZc6V6fUqWPaUp7uT6yoqfdC5SmZajSE5EVt4o2Vf28pjLWH4usuAGa1Nbnp6iEOE1pmolzpq1e5Y/VVEbxe+qUt0nV/TJDaVqMmrLpMr372u8Gu3kjDixET1rIwknRl/7l7I0lmrS8haTdE97TwLl9HfZPOsPKvmYa1lF8MI0XZkRH1nzNWZn83Bz0X5dg74isu96Gk/7aRvYe9FD+RGTdxR36dR5VZ0Yx+ZkkoofFkrakkuJkg0OryzkU2ThMX/vdaFcXHOdcOLaUULCkhIq9LnyRI6ouHdfeCkqWFFP2thNvRL2hu3G847ro0M/wOLHX2kOvI8E1DQP9Ewf2I4GeHTq+T6qpawC9yeFva2ZIGa7DjXNLCQXLyqhp8F64DcMX+EwFFJfacZ2LbBBYN2jwT6J0VxUlyyo4FGzXEfaZz7mwlxZTsLqq1+1EcmyvQM/IIm1AeKmB9wqHtb4jYd9lrf2Sbf0C60HLCijZ4uh1Hw2Pk5rSYv850Nv31WXg3mvH1QEYXhylxZTUBtv5t+886f9vb0PgXNnby3biM5k81E5FTV/Wta6GBavNiqVfZPmlDY5NIml2AVn3BEusJCWNAr2Ntp5Ne+hrvxut78HhKWPyD/NxDkond1YSxvbZJD5bEVjoBM7UkDc+mbw9kDQrm7Fn1pGSnEPVScDnoOjxeGLj08hZ8x4tPbccxkfTznXkvVZK3cf+Vr69RUyOjyX+kRzWNQTK3q+gZFMNLh3aTjhx/IcDxwenucTUvlf6ngISx7xAjSWdnMnRNK1OI3l2VWgdRXdQ8ONEXj3yINPmzWT4iRIyEnOp6X4jFxUzEolNzCD3LRfu0qkkTy1g3cYiZq+px/FaGrGj08hZVk31lhxSHs6luLKaut8UkPFIEYcuOYd3YN8JaclJYWU6jleSmbalhVHTcsmMaqJ4UjxF74Y1CfeFF+eWYnJ/XUVj8wWXZk9dbsqeiidjdRMjpuWQ1FHN7B+mUXww1M+9cSrxs6sgeQ45qeBYkELaSld3vW9vEWmjY0mbXUK9y0HeI2nkvl7GuvkFVP9HBdk/jCXx8VzK9tgpeiSRaYvKqbFXUDw7hZy3IgMilgkPWXHudV4YKreg6KnrqVyShDWszPNxEwyLZkhYWaS+9rvh+rrGUb84Yu7syA/72z+3TljaGKr/olrN0zSlLa5X6nynams5pTb/VFPa9K0qfFWix9pDW73Kz5yttrrDGnzRplq8m9VsTVMz3uzRUy3Qrnz+f8Eax2db1YyRcWqBvS3U6Is6NW+kpubt8q+lNP4yQWkjZ6utwbcNfKZ5NcG1lk7V1tKiql/UlDY+Wc0uaVKqs0U1Od5TpzqV6vy8RTX+KlVpWoKaty1sbWf3AqVpyWrVh8GCXpwoVRlaqlob/l14S1VGj7WJU6o0M+Lv8DUOd6makVmo3gv7iEr1vsbRuDRBaY+tVcfOh8qaSpKVNmGValJKqc+3qtmaphJ+GTrGTb9KVtr4QL0KHKv3V6lUTVPJ6ctVdZtSne73VH1Tm1KdbaqlJXBOZK5SjZ8HOwX2+fnqHmtfSil1akOG0uIKVdhZdUNdcM6YETiXep6zV6Cv/a6zvo84AHYWU1Dr9q/GJxfjWZniLz9YzjpXNFlPxIfaDpjM0q3r2T4/BfpZsNqiif4m8NdDsIVaheiHKHm2CGthOVnDw8oHWLENi8YK2Gy99uwT15vrcZJOZmpY1lusDBkAp5v9I5v43I1Uvr2arODb9vOvsZw+ExwzWbDabFgtwJlYsn4WCxYbsclJRFvAMsjG4LstQBJZU8PWdkaMYhRevBcfeoGuo2PB0j+yoomypWU4fQYQzZzf1TCne5gb5kwNuTOcTN5cRFL4z1lvOuyUbvEx6onJjAgbotuGDIaTXv8IcVAmRVsq2fZK6BjfcacFTgfqCRwrm9X/OVMzmWwFy/AkUmKtYAnVjXp0GvGDgp2iGfE94HTLBSPRaG34LTdkvzI6jlcLacwoZ/3TZs7Zvva7/vocHCmLyska7KZqfhqxo1PIXmbvXsPwud3oWLFGnKC2MWnED+1Z1qvzTZTMnU3ZUS/VO69iSWhPHsOHDw+9Msouevu2pdkL1JGfnEJK8PXjAhzWaGzBNYVBsSR9D1zbS8idNZXc16q56KMPIx8gtsdaxFUy9AsvmGFzKFkSj763mOzEWOIfz6PiYC8TtM+ryZuej8PnoKY2cgrQC5+X0+fBvX5m6LtITmHahlaihw0JBJ6F6MQkhpxxULYkh6mzcil3XnwSEX9fbGTRbcO3M5989xwqV6T0mIJcTl/73Qh9Dg6sKRT/hwvHliLmfB8aN+aS8pT/wrTedZUf87iHUcsPYV80Ct+mPEqORDa4Qj9aSkNDQ+i1eSaXvB8xdCYb9zpwRLzKg3cxPFXkjE9llZHO6o3bWb8si/DB0HVlG9brvo+YvR3XwZ2sz59M9Mkaip5KpWBvxAXsgszfHWL90zachYVhazKXllJov+C7cOwtwL/KouNclkbiXAcjFqxn+6b15KZc5XG/DO9JD/S/M7L4lqbvySOjfBSVW+f0GL1dTl/73Sh9DA4D97tO3B0WohNnUrDJQcMbk7EeqcF+EizDRxBNE3XvXvjrZugRJ/VnLaEF1aCRk0kbDtGzSlgY62XdSyW4elk49Pku6NmTxYrNZgu9Bl38xu/w742C0zXUhdb2QroAfFS9WoDjvsWsnxFrepX9qg2LZjhNNLnDys64/HeaBsWSNnc1NQftLIz1UbXTGdYI+FEmKVYLKYuWMnmAnbxFNZdeOB42guH9wf5OL0+nBo/DwRJyNxrMXFVEiu3i3+u11P65DjHDb1xYm2DoPnwR57beUET2xlFU/u8XGHGRr6iv/W62PgZHC44V2ZS/Hyqx2oZwd38b1gFA7ExyE+HQazmUdA+dDbzbc5lR7gl1wj93v+iTF/1G8MLyF4g+uY78DeFXjJ/efmFP43zgIPQSNJcSnZFNUn8v6xYU4QjeV+7SObQyhwKHAXSifwGc9vqnZF06h0or6L5ETb6faf0eICkRDh0KS7amUnL/Iezp2X5DsNnANujuUJtw1jSWvpYG7xRS+M4loqNfCs/OsEFtIblbXN1PlBonq8idG5jufWGg04bX69+OcdLO+m1NoW1c8+/Dx5/e9xKdPLbXkddN5SohLT6RxO/nUhX4LdMbipj2opuUp6Px2C9yG7yv/W4Ffbur0qLqfpGs4sbOUAsW56v8l2ao5AdT1XJH2HJ9W6NaNT3O/7Rd4JUwd2tglb5JrZ2SrOJiNKWNjFMJU9aqpsiy9Blqc2B5vnFpQqhd01o1ZXycitE0pcUlqCnrg2v4bar+5QSljUxQM57NUAnPbr7I6vfF36etsVTNHhvaX21kgpr9Zuhpxbbd+SphZKAuJlUtd5xS9YsTlBYTp5LTl6v3OpvU5mdTe922Ui2qfmnwCcQYFReoa9mVr1LH+r+nmAdTVf6ui6+ed+6a1/OuRdNalREXp1Kfz1f5i/PVvMw4lTx3szrWqZRqqVP56QkqbqTm378phaq+RXU/farFxKnUX9Spd9dPUckPxihN01Tc2FQ1Y1Ng6+dbVN0/pPq/58ArJn156I7M+WOqNMvfz39sN6tjH5eqjJGaihubrGZXnlItjkI1pfuzJaspS+tDd9CaNqsZ6WHHcWm9aok8NlPWhj7rZ5vVFC1ZreouuEFa6lR+emCfgt9FTJxKDj+2J/yfO/yOW/3LYe0jXt13/vra7xbwDY/HozRNi8yTK2PogWGWBes3e39IxtB9+JtYsVmv97jLQPfpGP2tl5yWXFpgG4DFGrhD0qPa/5nD64xzOlh7//zXVJeLkoczcL/iYv2k0I4Z53zo56/Td9yh4/vCgIt8p8Y5HzphdYaOz7Bc8/1wrUxhxpkiGlZe5t/o3CSG7sMIjrhN6Gu/m+3qgkPceAeLSPyFlY1/WEjs9Q6qW8WZKrKnOJnzb6u5zuuv4gr1cY1D3DRjiqh8xtHrms/Xk4+qxVWkbJbQuJXIiOMrSj+nYx10e1xJt9Nn/aqQEcdX1O10Id1On/WrQoJDCGGaBIcQwjQJDiGEaRIcQgjTJDiEEKZJcAghTJPgEEKYJsEhhDBNgkMIYZoEhxDCNAkOIYRpEhxCCNMkOIQQpklwCCFMk+AQQpgmwSGEME2CQwhhmgSHEMI0CQ4hhGkSHEII0yQ4hBCmSXAIIUyT4BBCmCbBIYQwTYJDCGGaBIcQwjQJDiGEaRIcQgjTJDiEEKZJcAghTJPgEEKYJsEhhDBNgkMIYZoEhxDCNAkOIYRpEhxCCNMkOIQQpklwCCFMk+AQQpgmwSGEME2CQwhhmgSHEMI0CQ4hhGkSHEII027h4DDwHbFTtiSbtFkVeCOrhRA3zS0cHC04axw4nE7cnxuRlULcUMZJJzWlxZRsceLuiKy9NEN343zXTa9nseHDtbeCkiUFlGxx4PL12upCfe13jdzCwRHN5CXFzHkgslyIG8tXm0vyUxW0JU4jnQqyx0ylzBPZKpKLqnlTSYwfTmx8GtkrHLRENvGUMTU+lbWfJTFz1mSsDflk/CiZor2XCYG+9ruWPB6PupXVv6wp7bFSdSqyQogboa1azRupqXm7OruL3vuHuCs4JztVW0ub6jx/sXO4RW2drilt5AJVfz5QdL5RLR+vKW36VtXSo224vva7tq5uxHHOhWNLCQVLSqjY6+KC0VKXgbuhgpIlxZS97cTba30NZcsKKFhdgfNkZIMw3dsqoaLB2/uwL7g/y8qoaXBjdEU28K+bOE8CXTqu7SUUbzmEHmzX4cbxjsu/7XMu7KXFFKyuwnWu51bE7cNXW4X9fBrpKZbusqSH0sFVybYjPZpGsGC1WbH0iywPsvI38UmkLX2BlGCbfvEkfR/QdTojWof0td+11ffg8JQx+Yf5OAelkzsrCWP7bBKfrcAXrNcdFIyP54WdFtJnZRL98SrSknOoOhmo73JTNj2eOW9BynM5pOEg78dplPR2MPRGip+dRokTRnzHS+WsFOKf6rlg6tuZR+IP87Bb0smdNoq2nS8Q/0gRTj3QwFVB9g9jSXw8l6omN2XTk5m6ZB1lr86m5JAPx2tpxI5OI2dZNdVbckh5OJfiymrqflNAxiNFHLoghMTtoOmgE4aNYMSAsMLvDGcUXhqbus/2PrAQ/0ol658eEVbmxf0xMGwIQ8JKe+prv2usr1OV+sWa0l6uDxU48sP+9g+n4l6qU23dDTpV3Yua0l6sU51KqbZts5WmJajljcH6JrVqvKaSf9XU3UMFpyrjl6vG0EhRqfcLVYIWNnw8UaoyNE3Nqwm9m1ItanNW2PCts021tFSreZqmkifMVqs+VKqzpUnVO0+pTqVU5+ctqvFXqUrTEtS8bf4ypZRSuxcoTUtWqz4M27S4TQSmBZHTDK//fMvYcOnJSlDvU5VeNK1SyVqCKnw/suIy+trvKvR9xAGws5iC2sCUILkYz8oUf7mrgvUNkP5EGtbuxhasg6xwwksLYM0oonLLNhbGB6q77sAyALxnLlhCAquNwaGRIozJImsY2N9xAODaVkkTaaQ/FHo3sJGSNgoaKqk+DVis2GxWLIB3VBYvjAaLLZaUxGgsgGWQjcF3W4Aksqb6ywAYMYpRePH2slvi664TPThiDffX0QyPLLtaXW7KFpdhza+kaExk5SX0td9V6nNwpCwqJ2uwm6r5acSOTiF7mT20hvGZFy9QtziFlOTQq2Dv3UTbApekJZqkxCG07C2jYPZUsheU47zi21wDsVoBj/99Ws54/cEUPpwEou8ZDjTR9HHP8lH3xYaCQYiLGsKQYZFlwGkvl72pYorOodULKRuxnsq54VOQy+lrv6vX5+DAmkLxf7hwbClizvehcWMuKU+Vha07RDPzNw4ceyNeG2cSDaA7KX4kkTl7R7Dwje1UrsklJXzAcCWsVu6MLOvFnf0jS4S4Ehai/9oKp0/TGlkFDL8nOrKoT9yl2cw78wLvrEgJG6FfXl/7XQt9DA4D97tO3B0WohNnUrDJQcMbk7EeqcF+MjS8r9ntiuwIgUXGQ7/OpaxjJqtfTSE4CLliXac5fRqi4/8WGzD8e6MAHy0Ra1XuT1xAEvGxPcuFuFKxY5JAd3Ms7NwyPmykiSSSgtNswNB9+PRe7/VdkvutHBaeWMg7K9Ow9noHxkD3+Yjc9OX7XV99DI4WHCuyKX8/VGK1DeHu/jb/dOGeTLITwfubPIr2+LpvneoHS8h51YEBtBk66F685wAMvLXr2fZJoGHkHYzTDuyfBLdi4N5QTEVHErnZ/kSInrGQLJuTyu3uUB/DSeUmN7ZZL5NlCxULYYYlbS4ze5xbOvZaO9Yn5pAZPK9cJaTFJ5L4/VyqTNxocb+VQ/bGIWT/0MBZa8ce9nKd8bdxrU4jPjGR+HlV3Xcsr6Tfdde3uyotqu4XySpu7Ay1YHG+yn9phkp+MFUtd4Td1WhrVKVzE5Smad2vhLlb1bHgQyvuUjUlJlA3MkHNrjymjpVnKG1knEoYP1tt9japzc+mqrgYTWk/Xas2v5Ss4sYmq+QHY5QWk6qWO8PvoCilPqtThelxKmH6ApW/eIGaMSFOZfyyXrUF369ps5qRHqdiNE1pcQkq9dnNKnT/pkXVL52iEuI0pWkxKi59htrcpFTLrnyVOjZOaZqmYh5MVfm7btTjNeKW4t6qZo+NU6nP56sF0xNUXFapOhZ+l+9EqcoYqSlt5Gy1NXiKtNSp/PRk//kbvAZi4lRy4NxS6pQqfSysLuK1YLd/M6fKM/xlPw0+3HVl/a63b3g8HqVpWmSeXBlDDwzPLFi/2fvDLoYeGGZZrNisEXOSLgP9cx3uCoxUAu0Ni43uph06vvMWbFZLYFsXfy/C3s9iDduGEFfNQPfpGP2t2AZdeGIZug8jOOK+pgx0n4HlEuf8zXB1wSGEuC31cY1DCHE7k+AQQpgmwSGEME2CQwhhmgSHEMI0CQ4hhGkSHEII0yQ4hBCmSXAIIUyT4BBCmCbBIYQwTYJDCGGaBIcQwjQJDiGEaRIcQgjTJDiEEKZJcAghTJPgEEKYJsEhhDBNgkMIYZoEhxDCNAkOIYRpEhxCCNMkOIQQpklwCCFMk+AQQpgmwSGEME2CQwhhmgSHEMI0CQ4hhGkSHEII0yQ4hBCmSXAIIUyT4BBCmCbBIYQwTYJDCGGaBIcQwjQJDiGEaRIcQgjTJDiEEKZJcAghTJPgEEKYJsEhhDBNgkMIYZoEhxDCNAkOIYRpEhxCCNNuYnAY+I7YKVuSTdqsCrzBUp8Le2kB2anZVJyO6HLN9b4PfXLGQfG8XIr3+CJrLuIavrcQN9hNDI4WnDUOHE4n7s+NUGlDNY53nTg9OkZXjw7XQe/70Bfe2hLK3rFTtqb6CkPg2r23uDEM3Y3zXTdXerQMjxN7rT3i5cTdEdnyK8jj8aibqf5lTWmPlapT4YW7FyhNy1ClJ8ILr59e98GszlOqrmSVqjvRGVlzSdfkvcV11KS2Pj9FJcRpStPMHavGpXH+Pj1eN+68vp5u4ojja8YSTVreQtLusUTWiK+04aS/tpG9Bz2UPxFZd2lt+hBe2NpAQ0P4q5KZwyJbfvX0KTh8RyKGX0d80OHGGVbmOhNo3GXgbqigZEkxZW878V7pOK9XBt6GGsqWFVCyxYHLF9pY5LDQ6THgjOuCsh7tjkSsR3TvawkVDd4Lh6RdBu69dlwdgOHFUVpMSW2wnYH+iQP7kQt6YZx0UlNaTMHqChwuPbK6W+RnuGD/xE1gwWqzYukXWX55xnkLVpsNW49X37Z1q+lTcAC4d+aTO7+YutbwUgPnG7msOxS4eHQHBePjeWGnhfRZmUR/vIq05ByqTob3uUL6IUqeimfaBjcjpuWSPqiRVRnJ5LzlDjagaXshufPzWXewpbtby8F15M/PY11DsEzH++/ryFtZjfeL7magN1L87DRKnDDiO14qZ6UQ/1Ro0dK3t4i00bGkzS6h3uUg75E0cl8vY938AipripgcH0v8Izlh7wOgc2j1VBKnl+GOyiT30SHYX4wnbdmhC0MJAB9NO9eR91opdR+Hb0d89XjxeoYxxAaGrl/keH+F9XmNo2mVStY0NePNllDZ+fdU4YRC9d55pZRqUVunayrupTrV1t2gU9W9qCntxToVXAnodY5/wRpHp6p/OU5pE1appvNh7ZyFKk5LUIXvB/7+bLOaErFPLZVTlKZpKmND6B1Obcjo0ab+ZU1p45erxvDlifcLVYKmqXm7AoVftKmW91epVE1TyenLVXWbUp3u91R9U5u/zrtZzY54787dC1TcyBlq62ehzTb9Ktn/2bz+v3t8/rZ6lZ85W211h9qLW0ev5+pFnVKlj/Vc34jLLFR1YefCV1mfRxzEziRnDDjfrqN7QP2+HUdKJkn9AFcF6xsg/Yk0rN2dLFgHWeGEF1O/px12qt7WiZ6UTmz4MC8xhfT+Piredvj/HppO5hhw7qwP7JOPutohzJkdTdOb23AFyhy7rUx+yBa2IcBqY3D48sSYLLKGgf2dwLYHWP3DTIDUTCZbwTI8iZRYq79uWDRWwGYLbtdH9cYa9B9nkTk0tNnY58oo31hCVuQ8Vz9EybNFWAvLyRoeUSe+gqKZudWFx+PB4/HgeqeYFF8FuY8X4Pga3FXpe3BgI31yPBzcRnVg6uHY7mTy1Hj/H5958QJ1i1NISQ69CvbeTbTN5AKir4XTgPXugREVwxk+EvjQHZhS2MjKToOGGup9/vCq/OssCnJyiD9ZQdVBwFePvf9kJkTkxoUGYrUCHv/nCBd/X2xESW9O43IBdwXCJsg6gpTkEWFhCpxvomTubMqOeqneeSi8RnyFWQaEjrxleBar184h2ldF1Z6v/sTlKoIDbE/MJa1/E5U7XP5RQVMa6T2uqWhm/saBY2/Ea+NMosObXa2wUYjloUzS+jup2ePDZXeQNDUlMBLRqa5xojc4IGMCl82NIKuVOyPLrojFHzxX4riHUcsPYV80Ct+mPEqORDYQXwv3PUA8cPqMqfH2LemqgoMBacx8yop3Zx2HHNXo2TPpzo0RoxiFl5rd/glCD2Yf7Bo2guH9wftZj5VY6HLR5ALrAw+GgmhAGlkZ4Ny5nNJ/f4DMRLpHIvrWCvLfhqzJVxAbXac5fRqi4//2ykMG8PmCE7fhjLoP2OPAGfl5DR09/Edn5GTShkP0rBIWxnpZ91IJrsg+4pZm6D583QfVwPFaGmmvOuhxD+2EGxcwbOiQ8NKvpKsLDiDp6ZlEn6xg9hKdyalhl9g9mWQngvc3eRTt8XWvKusHS8h51WFulblfCgsXjUJ/ezP2sCPhfauCmv5JFDwXmB4FpEydibWhhkM/ziJYY3kokzTs2C3ppA3o0dzvtAP7J6ED795QTEVHErnZVzItCdHbOwP/ZSFt1kxsegV5C6pCt6HPHaLk2cILwwSg3wheWP4C0SfXkb8heLdI3PJcJaTFJ5L4/VyqfAAW7qYN95Yy6roXAHUcb1Tgts1k7iSTU/VbUZ/vqnRrUqsm9LxT0q2tUZXOTeixspwwd6s6dt7fb+2UZBUXoyltZJxKSJ+hNjcp1bR+ikp+MMa/Cj02Vc3Y1BTcmGrcMFslxKWqeYvzVf7zqSpuwjy1+eML3tW/T+OT1apgV6W67+jMqwlv36Q2P5vq34efrlWbX0pWcWOT/e8fk6qWO0P3g1ochWrKWP+TgDEPJqspS+tV9/2TprVqyvg4FaNpSotLUFPWh964pWaBSo4JW13v3m7vn18ppRqXJvjLpqxVPT6CuPFa6lR+euA4dR/DOJUcdrzUiVKVMVJT2sjZamvwpGhrVKuyYlTys/kqf3G+mpcZp+LSvz53Vb7h8XiUpmmReWKKe+1UKsdspygxssbP0H3+obnFis16lWnbZaB/rmP0t2IbdPFtGboO1oiFyQ4dw9LLAzgdOr7zFmxWS2BfLVi/2Uu7vgruM9d4u+KWYeg+jP42rBGj2Wt67t9Crj44ulyUzK0jfePC0PqGEOJrrW9rHGfslCwpwX7SwL3xVdxPzJHQEOI20qcRx6FliUzd6IP+YMso552VKT2fSxBCfK31KTj8/yM0TpoYRdJoW891BCHE114fg0MIcTvr2xqHEOK2JsEhhDBNgkMIYZoEhxDCNAkOIYRpEhxCCNMkOIQQpklwCCFMk+AQQpgmwSGEME2CQwhhmgSHEMI0CQ4hhGkSHEII0yQ4hBCmSXAIIUz7/wGhn0tc7GVOcQAAAABJRU5ErkJggg==)"
      ],
      "metadata": {
        "id": "OKmvgcVZeoO-"
      }
    },
    {
      "cell_type": "markdown",
      "source": [
        "El código a continuación imprime las versiones de las bibliotecas:\n",
        "\n",
        "\n",
        "\n",
        "```\n",
        "import pandas as pd\n",
        "import numpy as np\n",
        "import sklearn\n",
        "import seaborn as sns\n",
        "import yellowbrick\n",
        "\n",
        "print(f'Versión de pandas: {pd.__version__}')\n",
        "print(f'Versión de numpy: {np.__version__}')\n",
        "print(f'Versión de scikit-learn (sklearn): {sklearn.__version__}')\n",
        "print(f'Versión de seaborn: {sns.__version__}')\n",
        "print(f'Versión de yellowbrick: {yellowbrick.__version__}')\n",
        "```\n",
        "\n"
      ],
      "metadata": {
        "id": "ImvvDfIefnQf"
      }
    },
    {
      "cell_type": "markdown",
      "source": [
        "\n",
        "En este archivo CSV, encontrarás el material con los datos que vamos a trabajar durante el curso.\n",
        "https://github.com/Kevincancino26/mis-notebook-de-estudio-/blob/main/IA_aumentada_previsi%C3%B3n_de_atraso_de_vuelo/flights.csv"
      ],
      "metadata": {
        "id": "Ns63XbiLfPx4"
      }
    },
    {
      "cell_type": "markdown",
      "source": [
        "#<font color='skayblue'> Explorando los datos"
      ],
      "metadata": {
        "id": "yvTzXEQxfVGc"
      }
    },
    {
      "cell_type": "code",
      "execution_count": 16,
      "metadata": {
        "id": "nfLc7Sqgbb-K",
        "colab": {
          "base_uri": "https://localhost:8080/"
        },
        "outputId": "f3989b17-216e-453b-ec80-2be98b5c4b8d"
      },
      "outputs": [
        {
          "output_type": "stream",
          "name": "stdout",
          "text": [
            "Versión de pandas: 2.2.2\n",
            "Versión de numpy: 2.0.2\n",
            "Versión de scikit-learn (sklearn): 1.6.1\n",
            "Versión de seaborn: 0.13.2\n"
          ]
        }
      ],
      "source": [
        "import pandas as pd\n",
        "import numpy as np\n",
        "import sklearn\n",
        "import seaborn as sns\n",
        "import yellowbrick\n",
        "import matplotlib.pyplot as plt\n",
        "\n",
        "print(f'Versión de pandas: {pd.__version__}')\n",
        "print(f'Versión de numpy: {np.__version__}')\n",
        "print(f'Versión de scikit-learn (sklearn): {sklearn.__version__}')\n",
        "print(f'Versión de seaborn: {sns.__version__}')"
      ]
    },
    {
      "cell_type": "code",
      "source": [
        "df_vuelos=pd.read_csv('/content/flights.csv')"
      ],
      "metadata": {
        "id": "hggXHhKBf9P9"
      },
      "execution_count": 3,
      "outputs": []
    },
    {
      "cell_type": "code",
      "source": [
        "df_vuelos.shape"
      ],
      "metadata": {
        "colab": {
          "base_uri": "https://localhost:8080/"
        },
        "id": "13EM6IdKlWA_",
        "outputId": "35f72e92-332a-45ee-c7e7-a433611675d8"
      },
      "execution_count": 6,
      "outputs": [
        {
          "output_type": "execute_result",
          "data": {
            "text/plain": [
              "(71175, 11)"
            ]
          },
          "metadata": {},
          "execution_count": 6
        }
      ]
    },
    {
      "cell_type": "code",
      "source": [
        "#delay esta es minutos y segundos\n",
        "round(.88*60)"
      ],
      "metadata": {
        "colab": {
          "base_uri": "https://localhost:8080/"
        },
        "id": "EhZEqr8qmZH_",
        "outputId": "46e6487f-a65f-4860-e86f-ebcae94d5651"
      },
      "execution_count": 8,
      "outputs": [
        {
          "output_type": "execute_result",
          "data": {
            "text/plain": [
              "53"
            ]
          },
          "metadata": {},
          "execution_count": 8
        }
      ]
    },
    {
      "cell_type": "code",
      "source": [
        "df_vuelos.head()"
      ],
      "metadata": {
        "colab": {
          "base_uri": "https://localhost:8080/",
          "height": 295
        },
        "id": "wadXVWE-gI_P",
        "outputId": "321bd5f0-88e4-47f3-ffc6-1a7c1e4fe034"
      },
      "execution_count": 4,
      "outputs": [
        {
          "output_type": "execute_result",
          "data": {
            "text/plain": [
              "   flight_id airline aircraft_type      schengen origin  arrival_time  \\\n",
              "0         26      MM   Airbus A320  non-schengen    TCY      8.885071   \n",
              "1         10      YE   Airbus A320  non-schengen    TCY      8.939996   \n",
              "2          3      BZ  Embraer E175      schengen    TZF     18.635384   \n",
              "3         28      BZ   Airbus A330  non-schengen    EMM     15.967963   \n",
              "4         15      BZ   Airbus A330  non-schengen    FJB     16.571894   \n",
              "\n",
              "   departure_time  day  year  is_holiday      delay  \n",
              "0       10.885071    0  2010       False  70.205981  \n",
              "1       11.939996    0  2010       False  38.484609  \n",
              "2       22.635384    0  2010       False   2.388305  \n",
              "3       17.967963    0  2010       False  19.138491  \n",
              "4       19.571894    0  2010       False  15.016271  "
            ],
            "text/html": [
              "\n",
              "  <div id=\"df-d393a6e2-95d1-4978-8e07-31e0291f50b5\" class=\"colab-df-container\">\n",
              "    <div>\n",
              "<style scoped>\n",
              "    .dataframe tbody tr th:only-of-type {\n",
              "        vertical-align: middle;\n",
              "    }\n",
              "\n",
              "    .dataframe tbody tr th {\n",
              "        vertical-align: top;\n",
              "    }\n",
              "\n",
              "    .dataframe thead th {\n",
              "        text-align: right;\n",
              "    }\n",
              "</style>\n",
              "<table border=\"1\" class=\"dataframe\">\n",
              "  <thead>\n",
              "    <tr style=\"text-align: right;\">\n",
              "      <th></th>\n",
              "      <th>flight_id</th>\n",
              "      <th>airline</th>\n",
              "      <th>aircraft_type</th>\n",
              "      <th>schengen</th>\n",
              "      <th>origin</th>\n",
              "      <th>arrival_time</th>\n",
              "      <th>departure_time</th>\n",
              "      <th>day</th>\n",
              "      <th>year</th>\n",
              "      <th>is_holiday</th>\n",
              "      <th>delay</th>\n",
              "    </tr>\n",
              "  </thead>\n",
              "  <tbody>\n",
              "    <tr>\n",
              "      <th>0</th>\n",
              "      <td>26</td>\n",
              "      <td>MM</td>\n",
              "      <td>Airbus A320</td>\n",
              "      <td>non-schengen</td>\n",
              "      <td>TCY</td>\n",
              "      <td>8.885071</td>\n",
              "      <td>10.885071</td>\n",
              "      <td>0</td>\n",
              "      <td>2010</td>\n",
              "      <td>False</td>\n",
              "      <td>70.205981</td>\n",
              "    </tr>\n",
              "    <tr>\n",
              "      <th>1</th>\n",
              "      <td>10</td>\n",
              "      <td>YE</td>\n",
              "      <td>Airbus A320</td>\n",
              "      <td>non-schengen</td>\n",
              "      <td>TCY</td>\n",
              "      <td>8.939996</td>\n",
              "      <td>11.939996</td>\n",
              "      <td>0</td>\n",
              "      <td>2010</td>\n",
              "      <td>False</td>\n",
              "      <td>38.484609</td>\n",
              "    </tr>\n",
              "    <tr>\n",
              "      <th>2</th>\n",
              "      <td>3</td>\n",
              "      <td>BZ</td>\n",
              "      <td>Embraer E175</td>\n",
              "      <td>schengen</td>\n",
              "      <td>TZF</td>\n",
              "      <td>18.635384</td>\n",
              "      <td>22.635384</td>\n",
              "      <td>0</td>\n",
              "      <td>2010</td>\n",
              "      <td>False</td>\n",
              "      <td>2.388305</td>\n",
              "    </tr>\n",
              "    <tr>\n",
              "      <th>3</th>\n",
              "      <td>28</td>\n",
              "      <td>BZ</td>\n",
              "      <td>Airbus A330</td>\n",
              "      <td>non-schengen</td>\n",
              "      <td>EMM</td>\n",
              "      <td>15.967963</td>\n",
              "      <td>17.967963</td>\n",
              "      <td>0</td>\n",
              "      <td>2010</td>\n",
              "      <td>False</td>\n",
              "      <td>19.138491</td>\n",
              "    </tr>\n",
              "    <tr>\n",
              "      <th>4</th>\n",
              "      <td>15</td>\n",
              "      <td>BZ</td>\n",
              "      <td>Airbus A330</td>\n",
              "      <td>non-schengen</td>\n",
              "      <td>FJB</td>\n",
              "      <td>16.571894</td>\n",
              "      <td>19.571894</td>\n",
              "      <td>0</td>\n",
              "      <td>2010</td>\n",
              "      <td>False</td>\n",
              "      <td>15.016271</td>\n",
              "    </tr>\n",
              "  </tbody>\n",
              "</table>\n",
              "</div>\n",
              "    <div class=\"colab-df-buttons\">\n",
              "\n",
              "  <div class=\"colab-df-container\">\n",
              "    <button class=\"colab-df-convert\" onclick=\"convertToInteractive('df-d393a6e2-95d1-4978-8e07-31e0291f50b5')\"\n",
              "            title=\"Convert this dataframe to an interactive table.\"\n",
              "            style=\"display:none;\">\n",
              "\n",
              "  <svg xmlns=\"http://www.w3.org/2000/svg\" height=\"24px\" viewBox=\"0 -960 960 960\">\n",
              "    <path d=\"M120-120v-720h720v720H120Zm60-500h600v-160H180v160Zm220 220h160v-160H400v160Zm0 220h160v-160H400v160ZM180-400h160v-160H180v160Zm440 0h160v-160H620v160ZM180-180h160v-160H180v160Zm440 0h160v-160H620v160Z\"/>\n",
              "  </svg>\n",
              "    </button>\n",
              "\n",
              "  <style>\n",
              "    .colab-df-container {\n",
              "      display:flex;\n",
              "      gap: 12px;\n",
              "    }\n",
              "\n",
              "    .colab-df-convert {\n",
              "      background-color: #E8F0FE;\n",
              "      border: none;\n",
              "      border-radius: 50%;\n",
              "      cursor: pointer;\n",
              "      display: none;\n",
              "      fill: #1967D2;\n",
              "      height: 32px;\n",
              "      padding: 0 0 0 0;\n",
              "      width: 32px;\n",
              "    }\n",
              "\n",
              "    .colab-df-convert:hover {\n",
              "      background-color: #E2EBFA;\n",
              "      box-shadow: 0px 1px 2px rgba(60, 64, 67, 0.3), 0px 1px 3px 1px rgba(60, 64, 67, 0.15);\n",
              "      fill: #174EA6;\n",
              "    }\n",
              "\n",
              "    .colab-df-buttons div {\n",
              "      margin-bottom: 4px;\n",
              "    }\n",
              "\n",
              "    [theme=dark] .colab-df-convert {\n",
              "      background-color: #3B4455;\n",
              "      fill: #D2E3FC;\n",
              "    }\n",
              "\n",
              "    [theme=dark] .colab-df-convert:hover {\n",
              "      background-color: #434B5C;\n",
              "      box-shadow: 0px 1px 3px 1px rgba(0, 0, 0, 0.15);\n",
              "      filter: drop-shadow(0px 1px 2px rgba(0, 0, 0, 0.3));\n",
              "      fill: #FFFFFF;\n",
              "    }\n",
              "  </style>\n",
              "\n",
              "    <script>\n",
              "      const buttonEl =\n",
              "        document.querySelector('#df-d393a6e2-95d1-4978-8e07-31e0291f50b5 button.colab-df-convert');\n",
              "      buttonEl.style.display =\n",
              "        google.colab.kernel.accessAllowed ? 'block' : 'none';\n",
              "\n",
              "      async function convertToInteractive(key) {\n",
              "        const element = document.querySelector('#df-d393a6e2-95d1-4978-8e07-31e0291f50b5');\n",
              "        const dataTable =\n",
              "          await google.colab.kernel.invokeFunction('convertToInteractive',\n",
              "                                                    [key], {});\n",
              "        if (!dataTable) return;\n",
              "\n",
              "        const docLinkHtml = 'Like what you see? Visit the ' +\n",
              "          '<a target=\"_blank\" href=https://colab.research.google.com/notebooks/data_table.ipynb>data table notebook</a>'\n",
              "          + ' to learn more about interactive tables.';\n",
              "        element.innerHTML = '';\n",
              "        dataTable['output_type'] = 'display_data';\n",
              "        await google.colab.output.renderOutput(dataTable, element);\n",
              "        const docLink = document.createElement('div');\n",
              "        docLink.innerHTML = docLinkHtml;\n",
              "        element.appendChild(docLink);\n",
              "      }\n",
              "    </script>\n",
              "  </div>\n",
              "\n",
              "\n",
              "    <div id=\"df-a9a3429f-82a4-4a96-9eab-d652feb9cb0a\">\n",
              "      <button class=\"colab-df-quickchart\" onclick=\"quickchart('df-a9a3429f-82a4-4a96-9eab-d652feb9cb0a')\"\n",
              "                title=\"Suggest charts\"\n",
              "                style=\"display:none;\">\n",
              "\n",
              "<svg xmlns=\"http://www.w3.org/2000/svg\" height=\"24px\"viewBox=\"0 0 24 24\"\n",
              "     width=\"24px\">\n",
              "    <g>\n",
              "        <path d=\"M19 3H5c-1.1 0-2 .9-2 2v14c0 1.1.9 2 2 2h14c1.1 0 2-.9 2-2V5c0-1.1-.9-2-2-2zM9 17H7v-7h2v7zm4 0h-2V7h2v10zm4 0h-2v-4h2v4z\"/>\n",
              "    </g>\n",
              "</svg>\n",
              "      </button>\n",
              "\n",
              "<style>\n",
              "  .colab-df-quickchart {\n",
              "      --bg-color: #E8F0FE;\n",
              "      --fill-color: #1967D2;\n",
              "      --hover-bg-color: #E2EBFA;\n",
              "      --hover-fill-color: #174EA6;\n",
              "      --disabled-fill-color: #AAA;\n",
              "      --disabled-bg-color: #DDD;\n",
              "  }\n",
              "\n",
              "  [theme=dark] .colab-df-quickchart {\n",
              "      --bg-color: #3B4455;\n",
              "      --fill-color: #D2E3FC;\n",
              "      --hover-bg-color: #434B5C;\n",
              "      --hover-fill-color: #FFFFFF;\n",
              "      --disabled-bg-color: #3B4455;\n",
              "      --disabled-fill-color: #666;\n",
              "  }\n",
              "\n",
              "  .colab-df-quickchart {\n",
              "    background-color: var(--bg-color);\n",
              "    border: none;\n",
              "    border-radius: 50%;\n",
              "    cursor: pointer;\n",
              "    display: none;\n",
              "    fill: var(--fill-color);\n",
              "    height: 32px;\n",
              "    padding: 0;\n",
              "    width: 32px;\n",
              "  }\n",
              "\n",
              "  .colab-df-quickchart:hover {\n",
              "    background-color: var(--hover-bg-color);\n",
              "    box-shadow: 0 1px 2px rgba(60, 64, 67, 0.3), 0 1px 3px 1px rgba(60, 64, 67, 0.15);\n",
              "    fill: var(--button-hover-fill-color);\n",
              "  }\n",
              "\n",
              "  .colab-df-quickchart-complete:disabled,\n",
              "  .colab-df-quickchart-complete:disabled:hover {\n",
              "    background-color: var(--disabled-bg-color);\n",
              "    fill: var(--disabled-fill-color);\n",
              "    box-shadow: none;\n",
              "  }\n",
              "\n",
              "  .colab-df-spinner {\n",
              "    border: 2px solid var(--fill-color);\n",
              "    border-color: transparent;\n",
              "    border-bottom-color: var(--fill-color);\n",
              "    animation:\n",
              "      spin 1s steps(1) infinite;\n",
              "  }\n",
              "\n",
              "  @keyframes spin {\n",
              "    0% {\n",
              "      border-color: transparent;\n",
              "      border-bottom-color: var(--fill-color);\n",
              "      border-left-color: var(--fill-color);\n",
              "    }\n",
              "    20% {\n",
              "      border-color: transparent;\n",
              "      border-left-color: var(--fill-color);\n",
              "      border-top-color: var(--fill-color);\n",
              "    }\n",
              "    30% {\n",
              "      border-color: transparent;\n",
              "      border-left-color: var(--fill-color);\n",
              "      border-top-color: var(--fill-color);\n",
              "      border-right-color: var(--fill-color);\n",
              "    }\n",
              "    40% {\n",
              "      border-color: transparent;\n",
              "      border-right-color: var(--fill-color);\n",
              "      border-top-color: var(--fill-color);\n",
              "    }\n",
              "    60% {\n",
              "      border-color: transparent;\n",
              "      border-right-color: var(--fill-color);\n",
              "    }\n",
              "    80% {\n",
              "      border-color: transparent;\n",
              "      border-right-color: var(--fill-color);\n",
              "      border-bottom-color: var(--fill-color);\n",
              "    }\n",
              "    90% {\n",
              "      border-color: transparent;\n",
              "      border-bottom-color: var(--fill-color);\n",
              "    }\n",
              "  }\n",
              "</style>\n",
              "\n",
              "      <script>\n",
              "        async function quickchart(key) {\n",
              "          const quickchartButtonEl =\n",
              "            document.querySelector('#' + key + ' button');\n",
              "          quickchartButtonEl.disabled = true;  // To prevent multiple clicks.\n",
              "          quickchartButtonEl.classList.add('colab-df-spinner');\n",
              "          try {\n",
              "            const charts = await google.colab.kernel.invokeFunction(\n",
              "                'suggestCharts', [key], {});\n",
              "          } catch (error) {\n",
              "            console.error('Error during call to suggestCharts:', error);\n",
              "          }\n",
              "          quickchartButtonEl.classList.remove('colab-df-spinner');\n",
              "          quickchartButtonEl.classList.add('colab-df-quickchart-complete');\n",
              "        }\n",
              "        (() => {\n",
              "          let quickchartButtonEl =\n",
              "            document.querySelector('#df-a9a3429f-82a4-4a96-9eab-d652feb9cb0a button');\n",
              "          quickchartButtonEl.style.display =\n",
              "            google.colab.kernel.accessAllowed ? 'block' : 'none';\n",
              "        })();\n",
              "      </script>\n",
              "    </div>\n",
              "\n",
              "    </div>\n",
              "  </div>\n"
            ],
            "application/vnd.google.colaboratory.intrinsic+json": {
              "type": "dataframe",
              "variable_name": "df_vuelos",
              "summary": "{\n  \"name\": \"df_vuelos\",\n  \"rows\": 71175,\n  \"fields\": [\n    {\n      \"column\": \"flight_id\",\n      \"properties\": {\n        \"dtype\": \"number\",\n        \"std\": 8,\n        \"min\": 1,\n        \"max\": 30,\n        \"num_unique_values\": 30,\n        \"samples\": [\n          11,\n          30,\n          18\n        ],\n        \"semantic_type\": \"\",\n        \"description\": \"\"\n      }\n    },\n    {\n      \"column\": \"airline\",\n      \"properties\": {\n        \"dtype\": \"category\",\n        \"num_unique_values\": 3,\n        \"samples\": [\n          \"MM\",\n          \"YE\",\n          \"BZ\"\n        ],\n        \"semantic_type\": \"\",\n        \"description\": \"\"\n      }\n    },\n    {\n      \"column\": \"aircraft_type\",\n      \"properties\": {\n        \"dtype\": \"category\",\n        \"num_unique_values\": 6,\n        \"samples\": [\n          \"Airbus A320\",\n          \"Embraer E175\",\n          \"Boeing 737\"\n        ],\n        \"semantic_type\": \"\",\n        \"description\": \"\"\n      }\n    },\n    {\n      \"column\": \"schengen\",\n      \"properties\": {\n        \"dtype\": \"category\",\n        \"num_unique_values\": 2,\n        \"samples\": [\n          \"schengen\",\n          \"non-schengen\"\n        ],\n        \"semantic_type\": \"\",\n        \"description\": \"\"\n      }\n    },\n    {\n      \"column\": \"origin\",\n      \"properties\": {\n        \"dtype\": \"category\",\n        \"num_unique_values\": 10,\n        \"samples\": [\n          \"CNU\",\n          \"TZF\"\n        ],\n        \"semantic_type\": \"\",\n        \"description\": \"\"\n      }\n    },\n    {\n      \"column\": \"arrival_time\",\n      \"properties\": {\n        \"dtype\": \"number\",\n        \"std\": 4.023379604080493,\n        \"min\": 7.065593808091852,\n        \"max\": 19.3412354924849,\n        \"num_unique_values\": 30,\n        \"samples\": [\n          10.17719661140464,\n          8.923441263556974\n        ],\n        \"semantic_type\": \"\",\n        \"description\": \"\"\n      }\n    },\n    {\n      \"column\": \"departure_time\",\n      \"properties\": {\n        \"dtype\": \"number\",\n        \"std\": 4.143705375787633,\n        \"min\": 10.065593808091853,\n        \"max\": 23.3412354924849,\n        \"num_unique_values\": 30,\n        \"samples\": [\n          13.17719661140464,\n          12.923441263556974\n        ],\n        \"semantic_type\": \"\",\n        \"description\": \"\"\n      }\n    },\n    {\n      \"column\": \"day\",\n      \"properties\": {\n        \"dtype\": \"number\",\n        \"std\": 105,\n        \"min\": 0,\n        \"max\": 364,\n        \"num_unique_values\": 365,\n        \"samples\": [\n          193,\n          33\n        ],\n        \"semantic_type\": \"\",\n        \"description\": \"\"\n      }\n    },\n    {\n      \"column\": \"year\",\n      \"properties\": {\n        \"dtype\": \"number\",\n        \"std\": 3,\n        \"min\": 2010,\n        \"max\": 2022,\n        \"num_unique_values\": 13,\n        \"samples\": [\n          2021,\n          2019\n        ],\n        \"semantic_type\": \"\",\n        \"description\": \"\"\n      }\n    },\n    {\n      \"column\": \"is_holiday\",\n      \"properties\": {\n        \"dtype\": \"boolean\",\n        \"num_unique_values\": 2,\n        \"samples\": [\n          true,\n          false\n        ],\n        \"semantic_type\": \"\",\n        \"description\": \"\"\n      }\n    },\n    {\n      \"column\": \"delay\",\n      \"properties\": {\n        \"dtype\": \"number\",\n        \"std\": 23.125349031179883,\n        \"min\": -41.0280332484786,\n        \"max\": 125.63235207172622,\n        \"num_unique_values\": 71175,\n        \"samples\": [\n          -4.298068209139712,\n          29.712747352198942\n        ],\n        \"semantic_type\": \"\",\n        \"description\": \"\"\n      }\n    }\n  ]\n}"
            }
          },
          "metadata": {},
          "execution_count": 4
        }
      ]
    },
    {
      "cell_type": "code",
      "source": [
        "df_vuelos.info()#metadatos(la infromacion de los datos)"
      ],
      "metadata": {
        "colab": {
          "base_uri": "https://localhost:8080/"
        },
        "id": "ucoFMQxbgKsg",
        "outputId": "1a5fd555-9452-4f9b-8d0b-0740a4fbb5c7"
      },
      "execution_count": 5,
      "outputs": [
        {
          "output_type": "stream",
          "name": "stdout",
          "text": [
            "<class 'pandas.core.frame.DataFrame'>\n",
            "RangeIndex: 71175 entries, 0 to 71174\n",
            "Data columns (total 11 columns):\n",
            " #   Column          Non-Null Count  Dtype  \n",
            "---  ------          --------------  -----  \n",
            " 0   flight_id       71175 non-null  int64  \n",
            " 1   airline         71175 non-null  object \n",
            " 2   aircraft_type   71175 non-null  object \n",
            " 3   schengen        71175 non-null  object \n",
            " 4   origin          71175 non-null  object \n",
            " 5   arrival_time    71175 non-null  float64\n",
            " 6   departure_time  71175 non-null  float64\n",
            " 7   day             71175 non-null  int64  \n",
            " 8   year            71175 non-null  int64  \n",
            " 9   is_holiday      71175 non-null  bool   \n",
            " 10  delay           71175 non-null  float64\n",
            "dtypes: bool(1), float64(3), int64(3), object(4)\n",
            "memory usage: 5.5+ MB\n"
          ]
        }
      ]
    },
    {
      "cell_type": "code",
      "source": [
        "df_vuelos.describe()"
      ],
      "metadata": {
        "colab": {
          "base_uri": "https://localhost:8080/",
          "height": 320
        },
        "id": "3kbHdf81gO-s",
        "outputId": "bf6d0454-d6d3-4a62-d8cc-51ef6d480cd8"
      },
      "execution_count": 9,
      "outputs": [
        {
          "output_type": "execute_result",
          "data": {
            "text/plain": [
              "          flight_id  arrival_time  departure_time           day          year  \\\n",
              "count  71175.000000  71175.000000    71175.000000  71175.000000  71175.000000   \n",
              "mean      15.465135     13.283159       16.480222    182.000000   2016.000000   \n",
              "std        8.649646      4.023380        4.143705    105.366769      3.741684   \n",
              "min        1.000000      7.065594       10.065594      0.000000   2010.000000   \n",
              "25%        8.000000      8.939996       12.668655     91.000000   2013.000000   \n",
              "50%       15.000000     14.258911       16.376052    182.000000   2016.000000   \n",
              "75%       23.000000     16.909690       20.041281    273.000000   2019.000000   \n",
              "max       30.000000     19.341235       23.341235    364.000000   2022.000000   \n",
              "\n",
              "              delay  \n",
              "count  71175.000000  \n",
              "mean      12.548378  \n",
              "std       23.125349  \n",
              "min      -41.028033  \n",
              "25%       -4.412876  \n",
              "50%        9.740454  \n",
              "75%       27.650853  \n",
              "max      125.632352  "
            ],
            "text/html": [
              "\n",
              "  <div id=\"df-7d2a1ddf-2acd-40e6-bc6e-e68e195646d0\" class=\"colab-df-container\">\n",
              "    <div>\n",
              "<style scoped>\n",
              "    .dataframe tbody tr th:only-of-type {\n",
              "        vertical-align: middle;\n",
              "    }\n",
              "\n",
              "    .dataframe tbody tr th {\n",
              "        vertical-align: top;\n",
              "    }\n",
              "\n",
              "    .dataframe thead th {\n",
              "        text-align: right;\n",
              "    }\n",
              "</style>\n",
              "<table border=\"1\" class=\"dataframe\">\n",
              "  <thead>\n",
              "    <tr style=\"text-align: right;\">\n",
              "      <th></th>\n",
              "      <th>flight_id</th>\n",
              "      <th>arrival_time</th>\n",
              "      <th>departure_time</th>\n",
              "      <th>day</th>\n",
              "      <th>year</th>\n",
              "      <th>delay</th>\n",
              "    </tr>\n",
              "  </thead>\n",
              "  <tbody>\n",
              "    <tr>\n",
              "      <th>count</th>\n",
              "      <td>71175.000000</td>\n",
              "      <td>71175.000000</td>\n",
              "      <td>71175.000000</td>\n",
              "      <td>71175.000000</td>\n",
              "      <td>71175.000000</td>\n",
              "      <td>71175.000000</td>\n",
              "    </tr>\n",
              "    <tr>\n",
              "      <th>mean</th>\n",
              "      <td>15.465135</td>\n",
              "      <td>13.283159</td>\n",
              "      <td>16.480222</td>\n",
              "      <td>182.000000</td>\n",
              "      <td>2016.000000</td>\n",
              "      <td>12.548378</td>\n",
              "    </tr>\n",
              "    <tr>\n",
              "      <th>std</th>\n",
              "      <td>8.649646</td>\n",
              "      <td>4.023380</td>\n",
              "      <td>4.143705</td>\n",
              "      <td>105.366769</td>\n",
              "      <td>3.741684</td>\n",
              "      <td>23.125349</td>\n",
              "    </tr>\n",
              "    <tr>\n",
              "      <th>min</th>\n",
              "      <td>1.000000</td>\n",
              "      <td>7.065594</td>\n",
              "      <td>10.065594</td>\n",
              "      <td>0.000000</td>\n",
              "      <td>2010.000000</td>\n",
              "      <td>-41.028033</td>\n",
              "    </tr>\n",
              "    <tr>\n",
              "      <th>25%</th>\n",
              "      <td>8.000000</td>\n",
              "      <td>8.939996</td>\n",
              "      <td>12.668655</td>\n",
              "      <td>91.000000</td>\n",
              "      <td>2013.000000</td>\n",
              "      <td>-4.412876</td>\n",
              "    </tr>\n",
              "    <tr>\n",
              "      <th>50%</th>\n",
              "      <td>15.000000</td>\n",
              "      <td>14.258911</td>\n",
              "      <td>16.376052</td>\n",
              "      <td>182.000000</td>\n",
              "      <td>2016.000000</td>\n",
              "      <td>9.740454</td>\n",
              "    </tr>\n",
              "    <tr>\n",
              "      <th>75%</th>\n",
              "      <td>23.000000</td>\n",
              "      <td>16.909690</td>\n",
              "      <td>20.041281</td>\n",
              "      <td>273.000000</td>\n",
              "      <td>2019.000000</td>\n",
              "      <td>27.650853</td>\n",
              "    </tr>\n",
              "    <tr>\n",
              "      <th>max</th>\n",
              "      <td>30.000000</td>\n",
              "      <td>19.341235</td>\n",
              "      <td>23.341235</td>\n",
              "      <td>364.000000</td>\n",
              "      <td>2022.000000</td>\n",
              "      <td>125.632352</td>\n",
              "    </tr>\n",
              "  </tbody>\n",
              "</table>\n",
              "</div>\n",
              "    <div class=\"colab-df-buttons\">\n",
              "\n",
              "  <div class=\"colab-df-container\">\n",
              "    <button class=\"colab-df-convert\" onclick=\"convertToInteractive('df-7d2a1ddf-2acd-40e6-bc6e-e68e195646d0')\"\n",
              "            title=\"Convert this dataframe to an interactive table.\"\n",
              "            style=\"display:none;\">\n",
              "\n",
              "  <svg xmlns=\"http://www.w3.org/2000/svg\" height=\"24px\" viewBox=\"0 -960 960 960\">\n",
              "    <path d=\"M120-120v-720h720v720H120Zm60-500h600v-160H180v160Zm220 220h160v-160H400v160Zm0 220h160v-160H400v160ZM180-400h160v-160H180v160Zm440 0h160v-160H620v160ZM180-180h160v-160H180v160Zm440 0h160v-160H620v160Z\"/>\n",
              "  </svg>\n",
              "    </button>\n",
              "\n",
              "  <style>\n",
              "    .colab-df-container {\n",
              "      display:flex;\n",
              "      gap: 12px;\n",
              "    }\n",
              "\n",
              "    .colab-df-convert {\n",
              "      background-color: #E8F0FE;\n",
              "      border: none;\n",
              "      border-radius: 50%;\n",
              "      cursor: pointer;\n",
              "      display: none;\n",
              "      fill: #1967D2;\n",
              "      height: 32px;\n",
              "      padding: 0 0 0 0;\n",
              "      width: 32px;\n",
              "    }\n",
              "\n",
              "    .colab-df-convert:hover {\n",
              "      background-color: #E2EBFA;\n",
              "      box-shadow: 0px 1px 2px rgba(60, 64, 67, 0.3), 0px 1px 3px 1px rgba(60, 64, 67, 0.15);\n",
              "      fill: #174EA6;\n",
              "    }\n",
              "\n",
              "    .colab-df-buttons div {\n",
              "      margin-bottom: 4px;\n",
              "    }\n",
              "\n",
              "    [theme=dark] .colab-df-convert {\n",
              "      background-color: #3B4455;\n",
              "      fill: #D2E3FC;\n",
              "    }\n",
              "\n",
              "    [theme=dark] .colab-df-convert:hover {\n",
              "      background-color: #434B5C;\n",
              "      box-shadow: 0px 1px 3px 1px rgba(0, 0, 0, 0.15);\n",
              "      filter: drop-shadow(0px 1px 2px rgba(0, 0, 0, 0.3));\n",
              "      fill: #FFFFFF;\n",
              "    }\n",
              "  </style>\n",
              "\n",
              "    <script>\n",
              "      const buttonEl =\n",
              "        document.querySelector('#df-7d2a1ddf-2acd-40e6-bc6e-e68e195646d0 button.colab-df-convert');\n",
              "      buttonEl.style.display =\n",
              "        google.colab.kernel.accessAllowed ? 'block' : 'none';\n",
              "\n",
              "      async function convertToInteractive(key) {\n",
              "        const element = document.querySelector('#df-7d2a1ddf-2acd-40e6-bc6e-e68e195646d0');\n",
              "        const dataTable =\n",
              "          await google.colab.kernel.invokeFunction('convertToInteractive',\n",
              "                                                    [key], {});\n",
              "        if (!dataTable) return;\n",
              "\n",
              "        const docLinkHtml = 'Like what you see? Visit the ' +\n",
              "          '<a target=\"_blank\" href=https://colab.research.google.com/notebooks/data_table.ipynb>data table notebook</a>'\n",
              "          + ' to learn more about interactive tables.';\n",
              "        element.innerHTML = '';\n",
              "        dataTable['output_type'] = 'display_data';\n",
              "        await google.colab.output.renderOutput(dataTable, element);\n",
              "        const docLink = document.createElement('div');\n",
              "        docLink.innerHTML = docLinkHtml;\n",
              "        element.appendChild(docLink);\n",
              "      }\n",
              "    </script>\n",
              "  </div>\n",
              "\n",
              "\n",
              "    <div id=\"df-1675dd13-8771-4627-a7ce-bcf4760b063f\">\n",
              "      <button class=\"colab-df-quickchart\" onclick=\"quickchart('df-1675dd13-8771-4627-a7ce-bcf4760b063f')\"\n",
              "                title=\"Suggest charts\"\n",
              "                style=\"display:none;\">\n",
              "\n",
              "<svg xmlns=\"http://www.w3.org/2000/svg\" height=\"24px\"viewBox=\"0 0 24 24\"\n",
              "     width=\"24px\">\n",
              "    <g>\n",
              "        <path d=\"M19 3H5c-1.1 0-2 .9-2 2v14c0 1.1.9 2 2 2h14c1.1 0 2-.9 2-2V5c0-1.1-.9-2-2-2zM9 17H7v-7h2v7zm4 0h-2V7h2v10zm4 0h-2v-4h2v4z\"/>\n",
              "    </g>\n",
              "</svg>\n",
              "      </button>\n",
              "\n",
              "<style>\n",
              "  .colab-df-quickchart {\n",
              "      --bg-color: #E8F0FE;\n",
              "      --fill-color: #1967D2;\n",
              "      --hover-bg-color: #E2EBFA;\n",
              "      --hover-fill-color: #174EA6;\n",
              "      --disabled-fill-color: #AAA;\n",
              "      --disabled-bg-color: #DDD;\n",
              "  }\n",
              "\n",
              "  [theme=dark] .colab-df-quickchart {\n",
              "      --bg-color: #3B4455;\n",
              "      --fill-color: #D2E3FC;\n",
              "      --hover-bg-color: #434B5C;\n",
              "      --hover-fill-color: #FFFFFF;\n",
              "      --disabled-bg-color: #3B4455;\n",
              "      --disabled-fill-color: #666;\n",
              "  }\n",
              "\n",
              "  .colab-df-quickchart {\n",
              "    background-color: var(--bg-color);\n",
              "    border: none;\n",
              "    border-radius: 50%;\n",
              "    cursor: pointer;\n",
              "    display: none;\n",
              "    fill: var(--fill-color);\n",
              "    height: 32px;\n",
              "    padding: 0;\n",
              "    width: 32px;\n",
              "  }\n",
              "\n",
              "  .colab-df-quickchart:hover {\n",
              "    background-color: var(--hover-bg-color);\n",
              "    box-shadow: 0 1px 2px rgba(60, 64, 67, 0.3), 0 1px 3px 1px rgba(60, 64, 67, 0.15);\n",
              "    fill: var(--button-hover-fill-color);\n",
              "  }\n",
              "\n",
              "  .colab-df-quickchart-complete:disabled,\n",
              "  .colab-df-quickchart-complete:disabled:hover {\n",
              "    background-color: var(--disabled-bg-color);\n",
              "    fill: var(--disabled-fill-color);\n",
              "    box-shadow: none;\n",
              "  }\n",
              "\n",
              "  .colab-df-spinner {\n",
              "    border: 2px solid var(--fill-color);\n",
              "    border-color: transparent;\n",
              "    border-bottom-color: var(--fill-color);\n",
              "    animation:\n",
              "      spin 1s steps(1) infinite;\n",
              "  }\n",
              "\n",
              "  @keyframes spin {\n",
              "    0% {\n",
              "      border-color: transparent;\n",
              "      border-bottom-color: var(--fill-color);\n",
              "      border-left-color: var(--fill-color);\n",
              "    }\n",
              "    20% {\n",
              "      border-color: transparent;\n",
              "      border-left-color: var(--fill-color);\n",
              "      border-top-color: var(--fill-color);\n",
              "    }\n",
              "    30% {\n",
              "      border-color: transparent;\n",
              "      border-left-color: var(--fill-color);\n",
              "      border-top-color: var(--fill-color);\n",
              "      border-right-color: var(--fill-color);\n",
              "    }\n",
              "    40% {\n",
              "      border-color: transparent;\n",
              "      border-right-color: var(--fill-color);\n",
              "      border-top-color: var(--fill-color);\n",
              "    }\n",
              "    60% {\n",
              "      border-color: transparent;\n",
              "      border-right-color: var(--fill-color);\n",
              "    }\n",
              "    80% {\n",
              "      border-color: transparent;\n",
              "      border-right-color: var(--fill-color);\n",
              "      border-bottom-color: var(--fill-color);\n",
              "    }\n",
              "    90% {\n",
              "      border-color: transparent;\n",
              "      border-bottom-color: var(--fill-color);\n",
              "    }\n",
              "  }\n",
              "</style>\n",
              "\n",
              "      <script>\n",
              "        async function quickchart(key) {\n",
              "          const quickchartButtonEl =\n",
              "            document.querySelector('#' + key + ' button');\n",
              "          quickchartButtonEl.disabled = true;  // To prevent multiple clicks.\n",
              "          quickchartButtonEl.classList.add('colab-df-spinner');\n",
              "          try {\n",
              "            const charts = await google.colab.kernel.invokeFunction(\n",
              "                'suggestCharts', [key], {});\n",
              "          } catch (error) {\n",
              "            console.error('Error during call to suggestCharts:', error);\n",
              "          }\n",
              "          quickchartButtonEl.classList.remove('colab-df-spinner');\n",
              "          quickchartButtonEl.classList.add('colab-df-quickchart-complete');\n",
              "        }\n",
              "        (() => {\n",
              "          let quickchartButtonEl =\n",
              "            document.querySelector('#df-1675dd13-8771-4627-a7ce-bcf4760b063f button');\n",
              "          quickchartButtonEl.style.display =\n",
              "            google.colab.kernel.accessAllowed ? 'block' : 'none';\n",
              "        })();\n",
              "      </script>\n",
              "    </div>\n",
              "\n",
              "    </div>\n",
              "  </div>\n"
            ],
            "application/vnd.google.colaboratory.intrinsic+json": {
              "type": "dataframe",
              "summary": "{\n  \"name\": \"df_vuelos\",\n  \"rows\": 8,\n  \"fields\": [\n    {\n      \"column\": \"flight_id\",\n      \"properties\": {\n        \"dtype\": \"number\",\n        \"std\": 25159.057132830687,\n        \"min\": 1.0,\n        \"max\": 71175.0,\n        \"num_unique_values\": 8,\n        \"samples\": [\n          15.465135230066737,\n          15.0,\n          71175.0\n        ],\n        \"semantic_type\": \"\",\n        \"description\": \"\"\n      }\n    },\n    {\n      \"column\": \"arrival_time\",\n      \"properties\": {\n        \"dtype\": \"number\",\n        \"std\": 25159.92944385278,\n        \"min\": 4.023379604080493,\n        \"max\": 71175.0,\n        \"num_unique_values\": 8,\n        \"samples\": [\n          13.283158843278189,\n          14.25891108485482,\n          71175.0\n        ],\n        \"semantic_type\": \"\",\n        \"description\": \"\"\n      }\n    },\n    {\n      \"column\": \"departure_time\",\n      \"properties\": {\n        \"dtype\": \"number\",\n        \"std\": 25158.95509234885,\n        \"min\": 4.143705375787633,\n        \"max\": 71175.0,\n        \"num_unique_values\": 8,\n        \"samples\": [\n          16.4802224189719,\n          16.376052206287405,\n          71175.0\n        ],\n        \"semantic_type\": \"\",\n        \"description\": \"\"\n      }\n    },\n    {\n      \"column\": \"day\",\n      \"properties\": {\n        \"dtype\": \"number\",\n        \"std\": 25103.93636518227,\n        \"min\": 0.0,\n        \"max\": 71175.0,\n        \"num_unique_values\": 7,\n        \"samples\": [\n          71175.0,\n          182.0,\n          273.0\n        ],\n        \"semantic_type\": \"\",\n        \"description\": \"\"\n      }\n    },\n    {\n      \"column\": \"year\",\n      \"properties\": {\n        \"dtype\": \"number\",\n        \"std\": 24563.128406181462,\n        \"min\": 3.7416836719640685,\n        \"max\": 71175.0,\n        \"num_unique_values\": 7,\n        \"samples\": [\n          71175.0,\n          2016.0,\n          2019.0\n        ],\n        \"semantic_type\": \"\",\n        \"description\": \"\"\n      }\n    },\n    {\n      \"column\": \"delay\",\n      \"properties\": {\n        \"dtype\": \"number\",\n        \"std\": 25156.466483245298,\n        \"min\": -41.0280332484786,\n        \"max\": 71175.0,\n        \"num_unique_values\": 8,\n        \"samples\": [\n          12.548378015698628,\n          9.740453855590491,\n          71175.0\n        ],\n        \"semantic_type\": \"\",\n        \"description\": \"\"\n      }\n    }\n  ]\n}"
            }
          },
          "metadata": {},
          "execution_count": 9
        }
      ]
    },
    {
      "cell_type": "markdown",
      "source": [
        "Al revsar los datos descriptivos podemos darnos una idea de la distribucion y los tiempos de retraso que tenemos en nuestros vuelos con la varibale respuesta, viendo que tenemos que el 25% de mis vuelos salen hasta 4 minutos antes, y que el maximo de mis vuelos salen hasta 1 hora y 25 minutos tarde"
      ],
      "metadata": {
        "id": "vAxDmLrZpfug"
      }
    },
    {
      "cell_type": "code",
      "source": [
        "df_vuelos.describe(include='object')#nos da la estadistica descriptiva de las variables gategoricas"
      ],
      "metadata": {
        "colab": {
          "base_uri": "https://localhost:8080/",
          "height": 175
        },
        "id": "UYZm19ORnUj_",
        "outputId": "7b579662-b4c5-41fd-a2b0-188fca610ac4"
      },
      "execution_count": 11,
      "outputs": [
        {
          "output_type": "execute_result",
          "data": {
            "text/plain": [
              "       airline aircraft_type  schengen origin\n",
              "count    71175         71175     71175  71175\n",
              "unique       3             6         2     10\n",
              "top         BZ   Airbus A320  schengen    TZF\n",
              "freq     47598         30778     42569  14162"
            ],
            "text/html": [
              "\n",
              "  <div id=\"df-9450e7e3-57c2-4a4f-901c-0193505d2f0a\" class=\"colab-df-container\">\n",
              "    <div>\n",
              "<style scoped>\n",
              "    .dataframe tbody tr th:only-of-type {\n",
              "        vertical-align: middle;\n",
              "    }\n",
              "\n",
              "    .dataframe tbody tr th {\n",
              "        vertical-align: top;\n",
              "    }\n",
              "\n",
              "    .dataframe thead th {\n",
              "        text-align: right;\n",
              "    }\n",
              "</style>\n",
              "<table border=\"1\" class=\"dataframe\">\n",
              "  <thead>\n",
              "    <tr style=\"text-align: right;\">\n",
              "      <th></th>\n",
              "      <th>airline</th>\n",
              "      <th>aircraft_type</th>\n",
              "      <th>schengen</th>\n",
              "      <th>origin</th>\n",
              "    </tr>\n",
              "  </thead>\n",
              "  <tbody>\n",
              "    <tr>\n",
              "      <th>count</th>\n",
              "      <td>71175</td>\n",
              "      <td>71175</td>\n",
              "      <td>71175</td>\n",
              "      <td>71175</td>\n",
              "    </tr>\n",
              "    <tr>\n",
              "      <th>unique</th>\n",
              "      <td>3</td>\n",
              "      <td>6</td>\n",
              "      <td>2</td>\n",
              "      <td>10</td>\n",
              "    </tr>\n",
              "    <tr>\n",
              "      <th>top</th>\n",
              "      <td>BZ</td>\n",
              "      <td>Airbus A320</td>\n",
              "      <td>schengen</td>\n",
              "      <td>TZF</td>\n",
              "    </tr>\n",
              "    <tr>\n",
              "      <th>freq</th>\n",
              "      <td>47598</td>\n",
              "      <td>30778</td>\n",
              "      <td>42569</td>\n",
              "      <td>14162</td>\n",
              "    </tr>\n",
              "  </tbody>\n",
              "</table>\n",
              "</div>\n",
              "    <div class=\"colab-df-buttons\">\n",
              "\n",
              "  <div class=\"colab-df-container\">\n",
              "    <button class=\"colab-df-convert\" onclick=\"convertToInteractive('df-9450e7e3-57c2-4a4f-901c-0193505d2f0a')\"\n",
              "            title=\"Convert this dataframe to an interactive table.\"\n",
              "            style=\"display:none;\">\n",
              "\n",
              "  <svg xmlns=\"http://www.w3.org/2000/svg\" height=\"24px\" viewBox=\"0 -960 960 960\">\n",
              "    <path d=\"M120-120v-720h720v720H120Zm60-500h600v-160H180v160Zm220 220h160v-160H400v160Zm0 220h160v-160H400v160ZM180-400h160v-160H180v160Zm440 0h160v-160H620v160ZM180-180h160v-160H180v160Zm440 0h160v-160H620v160Z\"/>\n",
              "  </svg>\n",
              "    </button>\n",
              "\n",
              "  <style>\n",
              "    .colab-df-container {\n",
              "      display:flex;\n",
              "      gap: 12px;\n",
              "    }\n",
              "\n",
              "    .colab-df-convert {\n",
              "      background-color: #E8F0FE;\n",
              "      border: none;\n",
              "      border-radius: 50%;\n",
              "      cursor: pointer;\n",
              "      display: none;\n",
              "      fill: #1967D2;\n",
              "      height: 32px;\n",
              "      padding: 0 0 0 0;\n",
              "      width: 32px;\n",
              "    }\n",
              "\n",
              "    .colab-df-convert:hover {\n",
              "      background-color: #E2EBFA;\n",
              "      box-shadow: 0px 1px 2px rgba(60, 64, 67, 0.3), 0px 1px 3px 1px rgba(60, 64, 67, 0.15);\n",
              "      fill: #174EA6;\n",
              "    }\n",
              "\n",
              "    .colab-df-buttons div {\n",
              "      margin-bottom: 4px;\n",
              "    }\n",
              "\n",
              "    [theme=dark] .colab-df-convert {\n",
              "      background-color: #3B4455;\n",
              "      fill: #D2E3FC;\n",
              "    }\n",
              "\n",
              "    [theme=dark] .colab-df-convert:hover {\n",
              "      background-color: #434B5C;\n",
              "      box-shadow: 0px 1px 3px 1px rgba(0, 0, 0, 0.15);\n",
              "      filter: drop-shadow(0px 1px 2px rgba(0, 0, 0, 0.3));\n",
              "      fill: #FFFFFF;\n",
              "    }\n",
              "  </style>\n",
              "\n",
              "    <script>\n",
              "      const buttonEl =\n",
              "        document.querySelector('#df-9450e7e3-57c2-4a4f-901c-0193505d2f0a button.colab-df-convert');\n",
              "      buttonEl.style.display =\n",
              "        google.colab.kernel.accessAllowed ? 'block' : 'none';\n",
              "\n",
              "      async function convertToInteractive(key) {\n",
              "        const element = document.querySelector('#df-9450e7e3-57c2-4a4f-901c-0193505d2f0a');\n",
              "        const dataTable =\n",
              "          await google.colab.kernel.invokeFunction('convertToInteractive',\n",
              "                                                    [key], {});\n",
              "        if (!dataTable) return;\n",
              "\n",
              "        const docLinkHtml = 'Like what you see? Visit the ' +\n",
              "          '<a target=\"_blank\" href=https://colab.research.google.com/notebooks/data_table.ipynb>data table notebook</a>'\n",
              "          + ' to learn more about interactive tables.';\n",
              "        element.innerHTML = '';\n",
              "        dataTable['output_type'] = 'display_data';\n",
              "        await google.colab.output.renderOutput(dataTable, element);\n",
              "        const docLink = document.createElement('div');\n",
              "        docLink.innerHTML = docLinkHtml;\n",
              "        element.appendChild(docLink);\n",
              "      }\n",
              "    </script>\n",
              "  </div>\n",
              "\n",
              "\n",
              "    <div id=\"df-34d3a3a4-ca0c-4447-9333-a327794e9154\">\n",
              "      <button class=\"colab-df-quickchart\" onclick=\"quickchart('df-34d3a3a4-ca0c-4447-9333-a327794e9154')\"\n",
              "                title=\"Suggest charts\"\n",
              "                style=\"display:none;\">\n",
              "\n",
              "<svg xmlns=\"http://www.w3.org/2000/svg\" height=\"24px\"viewBox=\"0 0 24 24\"\n",
              "     width=\"24px\">\n",
              "    <g>\n",
              "        <path d=\"M19 3H5c-1.1 0-2 .9-2 2v14c0 1.1.9 2 2 2h14c1.1 0 2-.9 2-2V5c0-1.1-.9-2-2-2zM9 17H7v-7h2v7zm4 0h-2V7h2v10zm4 0h-2v-4h2v4z\"/>\n",
              "    </g>\n",
              "</svg>\n",
              "      </button>\n",
              "\n",
              "<style>\n",
              "  .colab-df-quickchart {\n",
              "      --bg-color: #E8F0FE;\n",
              "      --fill-color: #1967D2;\n",
              "      --hover-bg-color: #E2EBFA;\n",
              "      --hover-fill-color: #174EA6;\n",
              "      --disabled-fill-color: #AAA;\n",
              "      --disabled-bg-color: #DDD;\n",
              "  }\n",
              "\n",
              "  [theme=dark] .colab-df-quickchart {\n",
              "      --bg-color: #3B4455;\n",
              "      --fill-color: #D2E3FC;\n",
              "      --hover-bg-color: #434B5C;\n",
              "      --hover-fill-color: #FFFFFF;\n",
              "      --disabled-bg-color: #3B4455;\n",
              "      --disabled-fill-color: #666;\n",
              "  }\n",
              "\n",
              "  .colab-df-quickchart {\n",
              "    background-color: var(--bg-color);\n",
              "    border: none;\n",
              "    border-radius: 50%;\n",
              "    cursor: pointer;\n",
              "    display: none;\n",
              "    fill: var(--fill-color);\n",
              "    height: 32px;\n",
              "    padding: 0;\n",
              "    width: 32px;\n",
              "  }\n",
              "\n",
              "  .colab-df-quickchart:hover {\n",
              "    background-color: var(--hover-bg-color);\n",
              "    box-shadow: 0 1px 2px rgba(60, 64, 67, 0.3), 0 1px 3px 1px rgba(60, 64, 67, 0.15);\n",
              "    fill: var(--button-hover-fill-color);\n",
              "  }\n",
              "\n",
              "  .colab-df-quickchart-complete:disabled,\n",
              "  .colab-df-quickchart-complete:disabled:hover {\n",
              "    background-color: var(--disabled-bg-color);\n",
              "    fill: var(--disabled-fill-color);\n",
              "    box-shadow: none;\n",
              "  }\n",
              "\n",
              "  .colab-df-spinner {\n",
              "    border: 2px solid var(--fill-color);\n",
              "    border-color: transparent;\n",
              "    border-bottom-color: var(--fill-color);\n",
              "    animation:\n",
              "      spin 1s steps(1) infinite;\n",
              "  }\n",
              "\n",
              "  @keyframes spin {\n",
              "    0% {\n",
              "      border-color: transparent;\n",
              "      border-bottom-color: var(--fill-color);\n",
              "      border-left-color: var(--fill-color);\n",
              "    }\n",
              "    20% {\n",
              "      border-color: transparent;\n",
              "      border-left-color: var(--fill-color);\n",
              "      border-top-color: var(--fill-color);\n",
              "    }\n",
              "    30% {\n",
              "      border-color: transparent;\n",
              "      border-left-color: var(--fill-color);\n",
              "      border-top-color: var(--fill-color);\n",
              "      border-right-color: var(--fill-color);\n",
              "    }\n",
              "    40% {\n",
              "      border-color: transparent;\n",
              "      border-right-color: var(--fill-color);\n",
              "      border-top-color: var(--fill-color);\n",
              "    }\n",
              "    60% {\n",
              "      border-color: transparent;\n",
              "      border-right-color: var(--fill-color);\n",
              "    }\n",
              "    80% {\n",
              "      border-color: transparent;\n",
              "      border-right-color: var(--fill-color);\n",
              "      border-bottom-color: var(--fill-color);\n",
              "    }\n",
              "    90% {\n",
              "      border-color: transparent;\n",
              "      border-bottom-color: var(--fill-color);\n",
              "    }\n",
              "  }\n",
              "</style>\n",
              "\n",
              "      <script>\n",
              "        async function quickchart(key) {\n",
              "          const quickchartButtonEl =\n",
              "            document.querySelector('#' + key + ' button');\n",
              "          quickchartButtonEl.disabled = true;  // To prevent multiple clicks.\n",
              "          quickchartButtonEl.classList.add('colab-df-spinner');\n",
              "          try {\n",
              "            const charts = await google.colab.kernel.invokeFunction(\n",
              "                'suggestCharts', [key], {});\n",
              "          } catch (error) {\n",
              "            console.error('Error during call to suggestCharts:', error);\n",
              "          }\n",
              "          quickchartButtonEl.classList.remove('colab-df-spinner');\n",
              "          quickchartButtonEl.classList.add('colab-df-quickchart-complete');\n",
              "        }\n",
              "        (() => {\n",
              "          let quickchartButtonEl =\n",
              "            document.querySelector('#df-34d3a3a4-ca0c-4447-9333-a327794e9154 button');\n",
              "          quickchartButtonEl.style.display =\n",
              "            google.colab.kernel.accessAllowed ? 'block' : 'none';\n",
              "        })();\n",
              "      </script>\n",
              "    </div>\n",
              "\n",
              "    </div>\n",
              "  </div>\n"
            ],
            "application/vnd.google.colaboratory.intrinsic+json": {
              "type": "dataframe",
              "summary": "{\n  \"name\": \"df_vuelos\",\n  \"rows\": 4,\n  \"fields\": [\n    {\n      \"column\": \"airline\",\n      \"properties\": {\n        \"dtype\": \"string\",\n        \"num_unique_values\": 4,\n        \"samples\": [\n          3,\n          \"47598\",\n          \"71175\"\n        ],\n        \"semantic_type\": \"\",\n        \"description\": \"\"\n      }\n    },\n    {\n      \"column\": \"aircraft_type\",\n      \"properties\": {\n        \"dtype\": \"string\",\n        \"num_unique_values\": 4,\n        \"samples\": [\n          6,\n          \"30778\",\n          \"71175\"\n        ],\n        \"semantic_type\": \"\",\n        \"description\": \"\"\n      }\n    },\n    {\n      \"column\": \"schengen\",\n      \"properties\": {\n        \"dtype\": \"string\",\n        \"num_unique_values\": 4,\n        \"samples\": [\n          2,\n          \"42569\",\n          \"71175\"\n        ],\n        \"semantic_type\": \"\",\n        \"description\": \"\"\n      }\n    },\n    {\n      \"column\": \"origin\",\n      \"properties\": {\n        \"dtype\": \"string\",\n        \"num_unique_values\": 4,\n        \"samples\": [\n          10,\n          \"14162\",\n          \"71175\"\n        ],\n        \"semantic_type\": \"\",\n        \"description\": \"\"\n      }\n    }\n  ]\n}"
            }
          },
          "metadata": {},
          "execution_count": 11
        }
      ]
    },
    {
      "cell_type": "markdown",
      "source": [
        "podemos visualisar el conjunto de datos categoricos, donde vemos la cantidad de valores, los datos de cada una de las columnas y el dato que mas se repite con su frecuencia de este, por ejemplo: la aerolinea se repite el BZ con una frecuencia de 47.598"
      ],
      "metadata": {
        "id": "yDrcA1PiqoHk"
      }
    },
    {
      "cell_type": "code",
      "source": [
        "print('\\n')\n",
        "avg_daley=df_vuelos.groupby('airline')['delay'].mean().reset_index()\n",
        "sns.barplot(x='airline',y='delay',data=avg_daley)\n",
        "plt.title('Compañoas aereas vs atrado promedio')\n",
        "plt.xlabel('Compañia aerea')\n",
        "plt.ylabel('Atraso aereo promedio en minutos')\n",
        "plt.show()\n",
        "print('\\n')\n"
      ],
      "metadata": {
        "colab": {
          "base_uri": "https://localhost:8080/",
          "height": 597
        },
        "id": "X6RDjT7KqIpl",
        "outputId": "028643c2-c2c5-4c26-d814-abe7a5afa4fd"
      },
      "execution_count": 21,
      "outputs": [
        {
          "output_type": "stream",
          "name": "stdout",
          "text": [
            "\n",
            "\n"
          ]
        },
        {
          "output_type": "display_data",
          "data": {
            "text/plain": [
              "<Figure size 800x550 with 1 Axes>"
            ],
            "image/png": "[encoded data removed]"
          },
          "metadata": {}
        },
        {
          "output_type": "stream",
          "name": "stdout",
          "text": [
            "\n",
            "\n"
          ]
        }
      ]
    },
    {
      "cell_type": "code",
      "source": [
        "#vamos a crear el numero de vuelos por comañia aeria\n",
        "sns.countplot(df_vuelos,x='airline')\n",
        "plt.title('Numero de vuelos por compañia aerea')\n",
        "plt.xlabel('Compañia aerea')\n",
        "plt.ylabel('Numero de vuelos')\n",
        "plt.show()"
      ],
      "metadata": {
        "id": "uaU9HLskyruW",
        "outputId": "7d41f2ac-82cc-43f4-831a-dd52f3ce3fab",
        "colab": {
          "base_uri": "https://localhost:8080/",
          "height": 524
        }
      },
      "execution_count": 22,
      "outputs": [
        {
          "output_type": "display_data",
          "data": {
            "text/plain": [
              "<Figure size 800x550 with 1 Axes>"
            ],
            "image/png": "[encoded data removed]"
          },
          "metadata": {}
        }
      ]
    },
    {
      "cell_type": "code",
      "source": [
        "#cantidad de atraso promedio si es espacio schangen o no\n",
        "avg_daley=df_vuelos.groupby('schengen')['delay'].mean().reset_index()\n",
        "sns.barplot(x='schengen',y='delay',data=avg_daley)\n",
        "plt.title('Tipo de vuelo vs atraso promedio')\n",
        "plt.xlabel('Tipo de vuelo')\n",
        "plt.ylabel('Atraso aereo promedio en minutos')\n",
        "plt.show()\n"
      ],
      "metadata": {
        "id": "3TycVGMy0FKJ",
        "outputId": "b552fb97-4f64-4724-ac9e-adc45a49b799",
        "colab": {
          "base_uri": "https://localhost:8080/",
          "height": 524
        }
      },
      "execution_count": 27,
      "outputs": [
        {
          "output_type": "display_data",
          "data": {
            "text/plain": [
              "<Figure size 800x550 with 1 Axes>"
            ],
            "image/png": "[encoded data removed]"
          },
          "metadata": {}
        }
      ]
    },
    {
      "cell_type": "code",
      "source": [
        "print('\\n')\n",
        "\n",
        "\n",
        "sns.countplot(df_vuelos,x='schengen')\n",
        "plt.title('Numero de vuelos por Tipo')\n",
        "plt.xlabel('Tipo de vuelo')\n",
        "plt.ylabel('Numero de vuelos')\n",
        "plt.show()"
      ],
      "metadata": {
        "id": "EKX4S_MS1B4N",
        "outputId": "879c1954-3c54-46c9-fb41-a1ea04b82286",
        "colab": {
          "base_uri": "https://localhost:8080/",
          "height": 560
        }
      },
      "execution_count": 26,
      "outputs": [
        {
          "output_type": "stream",
          "name": "stdout",
          "text": [
            "\n",
            "\n"
          ]
        },
        {
          "output_type": "display_data",
          "data": {
            "text/plain": [
              "<Figure size 800x550 with 1 Axes>"
            ],
            "image/png": "[encoded data removed]"
          },
          "metadata": {}
        }
      ]
    },
    {
      "cell_type": "code",
      "source": [
        "#atrasos sis son dias feriados o no\n",
        "avg_daley=df_vuelos.groupby('is_holiday')['delay'].mean().reset_index()\n",
        "sns.barplot(x='is_holiday',y='delay',data=avg_daley)\n",
        "plt.title('Dias feriados vs atraso promedio')\n",
        "plt.xlabel('Dias feriados')\n",
        "plt.ylabel('Atraso aereo promedio en minutos')\n",
        "plt.show()"
      ],
      "metadata": {
        "id": "nCaxCM8p1OcX",
        "outputId": "ba6d2d9f-75a6-4c71-adf9-60ae16411702",
        "colab": {
          "base_uri": "https://localhost:8080/",
          "height": 524
        }
      },
      "execution_count": 28,
      "outputs": [
        {
          "output_type": "display_data",
          "data": {
            "text/plain": [
              "<Figure size 800x550 with 1 Axes>"
            ],
            "image/png": "[encoded data removed]"
          },
          "metadata": {}
        }
      ]
    },
    {
      "cell_type": "code",
      "source": [
        "order=df_vuelos['aircraft_type'].value_counts().index\n",
        "order"
      ],
      "metadata": {
        "id": "VX4rFR0e2YEy",
        "outputId": "39ec6805-d548-4988-d4e2-da6fdf7dc32f",
        "colab": {
          "base_uri": "https://localhost:8080/"
        }
      },
      "execution_count": 30,
      "outputs": [
        {
          "output_type": "execute_result",
          "data": {
            "text/plain": [
              "Index(['Airbus A320', 'Airbus A330', 'Boeing 787', 'Embraer E175',\n",
              "       'Boeing 737', 'Boeing 777'],\n",
              "      dtype='object', name='aircraft_type')"
            ]
          },
          "metadata": {},
          "execution_count": 30
        }
      ]
    },
    {
      "cell_type": "code",
      "source": [
        "#cantidad de aeronaves por aeropuerto\n",
        "order=df_vuelos['aircraft_type'].value_counts().index\n",
        "sns.countplot(df_vuelos,x='aircraft_type',order=order)\n",
        "plt.title('Numero de vuelos por Tipo de aeronave')\n",
        "plt.xticks(rotation=70)\n",
        "plt.xlabel('Tipo de aeronave')\n",
        "plt.ylabel('Numero de vuelos')\n",
        "plt.show()"
      ],
      "metadata": {
        "id": "QegSRhFc1_GX",
        "outputId": "04dac5a3-8602-463c-8029-acb063ec5d54",
        "colab": {
          "base_uri": "https://localhost:8080/",
          "height": 599
        }
      },
      "execution_count": 32,
      "outputs": [
        {
          "output_type": "display_data",
          "data": {
            "text/plain": [
              "<Figure size 800x550 with 1 Axes>"
            ],
            "image/png": "[encoded data removed]"
          },
          "metadata": {}
        }
      ]
    },
    {
      "cell_type": "markdown",
      "source": [
        "con esto vemos como esta el comportamiento de nuestros datos con respecto a la variable respuesta asi como cantidades y retrasos"
      ],
      "metadata": {
        "id": "rlXG2pdG3UHd"
      }
    },
    {
      "cell_type": "code",
      "source": [],
      "metadata": {
        "id": "xKzI3_gN3FZw"
      },
      "execution_count": null,
      "outputs": []
    }
  ]
}