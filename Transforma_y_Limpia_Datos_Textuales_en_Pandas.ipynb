{
  "nbformat": 4,
  "nbformat_minor": 0,
  "metadata": {
    "colab": {
      "provenance": [],
      "authorship_tag": "ABX9TyOnIv3YJX+RbnjPZ5BucvD2",
      "include_colab_link": true
    },
    "kernelspec": {
      "name": "python3",
      "display_name": "Python 3"
    },
    "language_info": {
      "name": "python"
    }
  },
  "cells": [
    {
      "cell_type": "markdown",
      "metadata": {
        "id": "view-in-github",
        "colab_type": "text"
      },
      "source": [
        "<a href=\"https://colab.research.google.com/github/Kevincancino26/mis-notebook-de-estudio-/blob/main/Transforma_y_Limpia_Datos_Textuales_en_Pandas.ipynb\" target=\"_parent\"><img src=\"https://colab.research.google.com/assets/colab-badge.svg\" alt=\"Open In Colab\"/></a>"
      ]
    },
    {
      "cell_type": "code",
      "execution_count": null,
      "metadata": {
        "id": "NFqwuEYxOxRC"
      },
      "outputs": [],
      "source": []
    },
    {
      "cell_type": "markdown",
      "source": [
        "##Nombres de los clientes letras mayusculas"
      ],
      "metadata": {
        "id": "Oq7qgLdqO9iF"
      }
    },
    {
      "cell_type": "code",
      "source": [
        "#usando el metodo upper\n",
        "df['nombre'].str.upper()"
      ],
      "metadata": {
        "id": "GGDAdag6P46r"
      },
      "execution_count": null,
      "outputs": []
    },
    {
      "cell_type": "markdown",
      "source": [
        "cambiar la columna telefono a un formato xx xxxxx-xxxx"
      ],
      "metadata": {
        "id": "rT_s4J2TQdqe"
      }
    },
    {
      "cell_type": "code",
      "source": [
        "#usando replase\n",
        "#se usa el metodo replace para eliminar los parentesis dado que en el formato ya esta como queremos\n",
        "df['telefono'].str.replace('(','',regex=False).str.repalce(')','',regex=False)#igual false por que no trabajamos con expresiones regular"
      ],
      "metadata": {
        "id": "HBUeGw01QdYL"
      },
      "execution_count": null,
      "outputs": []
    },
    {
      "cell_type": "markdown",
      "source": [
        "creando columna de codigo postañ"
      ],
      "metadata": {
        "id": "LBkXvaG7SqjQ"
      }
    },
    {
      "cell_type": "code",
      "source": [
        "#usamos extrac para extraer solo una columna convinada con una expresion regular para que nos +#extraiga lo que queremos\n",
        "df['direccion'].str.extract('(\\d{s}-\\d{3})')\n",
        "\n",
        "#remover dato dentro de una tabla\n",
        "df['direccion'].str.replace('(\\d{s}-\\d{3})','',regex=True).str.strip()"
      ],
      "metadata": {
        "id": "iGUuYKdOSt6Y"
      },
      "execution_count": null,
      "outputs": []
    },
    {
      "cell_type": "markdown",
      "source": [
        "como estamos trabajando con expreciones regulares todos los cracteres con los dijitos con un espacio en blanco son importantes dado que nos pueden dar un error con strip eliminamos el espacio en blanco\n",
        "\n",
        "https://www.youtube.com/watch?v=6__k-D4Y3Vk&t=9s&ab_channel=AluraLatam\n",
        "12;29"
      ],
      "metadata": {
        "id": "9w7yt7QRTn57"
      }
    },
    {
      "cell_type": "code",
      "source": [],
      "metadata": {
        "id": "32Qz7qOuUBYL"
      },
      "execution_count": null,
      "outputs": []
    }
  ]
}