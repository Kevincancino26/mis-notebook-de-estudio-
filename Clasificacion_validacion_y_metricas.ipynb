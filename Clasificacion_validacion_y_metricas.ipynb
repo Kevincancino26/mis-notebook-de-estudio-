{
  "nbformat": 4,
  "nbformat_minor": 0,
  "metadata": {
    "colab": {
      "provenance": [],
      "include_colab_link": true
    },
    "kernelspec": {
      "name": "python3",
      "display_name": "Python 3"
    },
    "language_info": {
      "name": "python"
    }
  },
  "cells": [
    {
      "cell_type": "markdown",
      "metadata": {
        "id": "view-in-github",
        "colab_type": "text"
      },
      "source": [
        "<a href=\"https://colab.research.google.com/github/Kevincancino26/mis-notebook-de-estudio-/blob/main/Clasificacion_validacion_y_metricas.ipynb\" target=\"_parent\"><img src=\"https://colab.research.google.com/assets/colab-badge.svg\" alt=\"Open In Colab\"/></a>"
      ]
    },
    {
      "cell_type": "markdown",
      "source": [
        "# <font color='dark'>**Clasificación: Validación de modelos y métricas de evaluación**</h1>"
      ],
      "metadata": {
        "id": "MCqTDybk4ShK"
      }
    },
    {
      "cell_type": "markdown",
      "source": [
        "### Proyecto\n",
        "\n",
        "Una empresa de financiamiento de automóviles está atravesando una situación complicada, con una alta demanda para una flota reducida de vehículos y un alto número de morosos, lo que está generando grandes pérdidas para la empresa.\n",
        "\n",
        "Nosotros fuimos contratados para buscar mejoras en la identificación de morosos. El análisis de los clientes actualmente se realiza de forma manual, cliente por cliente, lo que consume mucho tiempo y, aun así, la detección de morosos es muy imprecisa.\n",
        "\n",
        "Nuestra tarea es utilizar los datos proporcionados por la empresa para **clasificar** a los clientes en cumplidores y morosos."
      ],
      "metadata": {
        "id": "WscU3KG7a9No"
      }
    },
    {
      "cell_type": "markdown",
      "source": [
        "## <font color='dark'>Clasificando los datos</h1>"
      ],
      "metadata": {
        "id": "WgS8iF51Csrn"
      }
    },
    {
      "cell_type": "markdown",
      "source": [
        "### Creando un modelo inicial"
      ],
      "metadata": {
        "id": "6lExmBuKn-xe"
      }
    },
    {
      "cell_type": "code",
      "source": [
        "import pandas as pd"
      ],
      "metadata": {
        "id": "ANJDC3LqP43q"
      },
      "execution_count": 2,
      "outputs": []
    },
    {
      "cell_type": "code",
      "source": [
        "datos=pd.read_csv('/content/prestacar.csv')\n",
        "datos.head()"
      ],
      "metadata": {
        "id": "UPddns6dP4kt",
        "outputId": "6ba7f8c3-8369-45fc-8e27-b2ddb8d89793",
        "colab": {
          "base_uri": "https://localhost:8080/",
          "height": 206
        }
      },
      "execution_count": 3,
      "outputs": [
        {
          "output_type": "execute_result",
          "data": {
            "text/plain": [
              "   ingresos_cliente  anualidad_prestamo  años_casa_propia  telefono_trab  \\\n",
              "0           12600.0         3569.400000         12.157324              1   \n",
              "1            9000.0         2722.188351          7.000000              0   \n",
              "2           15750.0         4477.500000         12.000000              0   \n",
              "3            9000.0         1309.050000         12.157324              0   \n",
              "4            7650.0         1125.000000         12.157324              0   \n",
              "\n",
              "   evaluacion_ciudad   score_1   score_2   score_3  score_social  \\\n",
              "0                2.0  0.057153  0.527227  0.513171      0.117428   \n",
              "1                2.0  0.657661  0.285898  0.614414      0.222700   \n",
              "2                2.0  0.501213  0.695423  0.513171      0.117428   \n",
              "3                3.0  0.501213  0.155973  0.513171      0.117428   \n",
              "4                2.0  0.294328  0.152076  0.513171      0.117428   \n",
              "\n",
              "   cambio_telefono  moroso  \n",
              "0           2545.0       0  \n",
              "1            495.0       0  \n",
              "2           1212.0       0  \n",
              "3            515.0       0  \n",
              "4            162.0       0  "
            ],
            "text/html": [
              "\n",
              "  <div id=\"df-0267edbc-4c2b-4d26-bb04-aa1a87ce2620\" class=\"colab-df-container\">\n",
              "    <div>\n",
              "<style scoped>\n",
              "    .dataframe tbody tr th:only-of-type {\n",
              "        vertical-align: middle;\n",
              "    }\n",
              "\n",
              "    .dataframe tbody tr th {\n",
              "        vertical-align: top;\n",
              "    }\n",
              "\n",
              "    .dataframe thead th {\n",
              "        text-align: right;\n",
              "    }\n",
              "</style>\n",
              "<table border=\"1\" class=\"dataframe\">\n",
              "  <thead>\n",
              "    <tr style=\"text-align: right;\">\n",
              "      <th></th>\n",
              "      <th>ingresos_cliente</th>\n",
              "      <th>anualidad_prestamo</th>\n",
              "      <th>años_casa_propia</th>\n",
              "      <th>telefono_trab</th>\n",
              "      <th>evaluacion_ciudad</th>\n",
              "      <th>score_1</th>\n",
              "      <th>score_2</th>\n",
              "      <th>score_3</th>\n",
              "      <th>score_social</th>\n",
              "      <th>cambio_telefono</th>\n",
              "      <th>moroso</th>\n",
              "    </tr>\n",
              "  </thead>\n",
              "  <tbody>\n",
              "    <tr>\n",
              "      <th>0</th>\n",
              "      <td>12600.0</td>\n",
              "      <td>3569.400000</td>\n",
              "      <td>12.157324</td>\n",
              "      <td>1</td>\n",
              "      <td>2.0</td>\n",
              "      <td>0.057153</td>\n",
              "      <td>0.527227</td>\n",
              "      <td>0.513171</td>\n",
              "      <td>0.117428</td>\n",
              "      <td>2545.0</td>\n",
              "      <td>0</td>\n",
              "    </tr>\n",
              "    <tr>\n",
              "      <th>1</th>\n",
              "      <td>9000.0</td>\n",
              "      <td>2722.188351</td>\n",
              "      <td>7.000000</td>\n",
              "      <td>0</td>\n",
              "      <td>2.0</td>\n",
              "      <td>0.657661</td>\n",
              "      <td>0.285898</td>\n",
              "      <td>0.614414</td>\n",
              "      <td>0.222700</td>\n",
              "      <td>495.0</td>\n",
              "      <td>0</td>\n",
              "    </tr>\n",
              "    <tr>\n",
              "      <th>2</th>\n",
              "      <td>15750.0</td>\n",
              "      <td>4477.500000</td>\n",
              "      <td>12.000000</td>\n",
              "      <td>0</td>\n",
              "      <td>2.0</td>\n",
              "      <td>0.501213</td>\n",
              "      <td>0.695423</td>\n",
              "      <td>0.513171</td>\n",
              "      <td>0.117428</td>\n",
              "      <td>1212.0</td>\n",
              "      <td>0</td>\n",
              "    </tr>\n",
              "    <tr>\n",
              "      <th>3</th>\n",
              "      <td>9000.0</td>\n",
              "      <td>1309.050000</td>\n",
              "      <td>12.157324</td>\n",
              "      <td>0</td>\n",
              "      <td>3.0</td>\n",
              "      <td>0.501213</td>\n",
              "      <td>0.155973</td>\n",
              "      <td>0.513171</td>\n",
              "      <td>0.117428</td>\n",
              "      <td>515.0</td>\n",
              "      <td>0</td>\n",
              "    </tr>\n",
              "    <tr>\n",
              "      <th>4</th>\n",
              "      <td>7650.0</td>\n",
              "      <td>1125.000000</td>\n",
              "      <td>12.157324</td>\n",
              "      <td>0</td>\n",
              "      <td>2.0</td>\n",
              "      <td>0.294328</td>\n",
              "      <td>0.152076</td>\n",
              "      <td>0.513171</td>\n",
              "      <td>0.117428</td>\n",
              "      <td>162.0</td>\n",
              "      <td>0</td>\n",
              "    </tr>\n",
              "  </tbody>\n",
              "</table>\n",
              "</div>\n",
              "    <div class=\"colab-df-buttons\">\n",
              "\n",
              "  <div class=\"colab-df-container\">\n",
              "    <button class=\"colab-df-convert\" onclick=\"convertToInteractive('df-0267edbc-4c2b-4d26-bb04-aa1a87ce2620')\"\n",
              "            title=\"Convert this dataframe to an interactive table.\"\n",
              "            style=\"display:none;\">\n",
              "\n",
              "  <svg xmlns=\"http://www.w3.org/2000/svg\" height=\"24px\" viewBox=\"0 -960 960 960\">\n",
              "    <path d=\"M120-120v-720h720v720H120Zm60-500h600v-160H180v160Zm220 220h160v-160H400v160Zm0 220h160v-160H400v160ZM180-400h160v-160H180v160Zm440 0h160v-160H620v160ZM180-180h160v-160H180v160Zm440 0h160v-160H620v160Z\"/>\n",
              "  </svg>\n",
              "    </button>\n",
              "\n",
              "  <style>\n",
              "    .colab-df-container {\n",
              "      display:flex;\n",
              "      gap: 12px;\n",
              "    }\n",
              "\n",
              "    .colab-df-convert {\n",
              "      background-color: #E8F0FE;\n",
              "      border: none;\n",
              "      border-radius: 50%;\n",
              "      cursor: pointer;\n",
              "      display: none;\n",
              "      fill: #1967D2;\n",
              "      height: 32px;\n",
              "      padding: 0 0 0 0;\n",
              "      width: 32px;\n",
              "    }\n",
              "\n",
              "    .colab-df-convert:hover {\n",
              "      background-color: #E2EBFA;\n",
              "      box-shadow: 0px 1px 2px rgba(60, 64, 67, 0.3), 0px 1px 3px 1px rgba(60, 64, 67, 0.15);\n",
              "      fill: #174EA6;\n",
              "    }\n",
              "\n",
              "    .colab-df-buttons div {\n",
              "      margin-bottom: 4px;\n",
              "    }\n",
              "\n",
              "    [theme=dark] .colab-df-convert {\n",
              "      background-color: #3B4455;\n",
              "      fill: #D2E3FC;\n",
              "    }\n",
              "\n",
              "    [theme=dark] .colab-df-convert:hover {\n",
              "      background-color: #434B5C;\n",
              "      box-shadow: 0px 1px 3px 1px rgba(0, 0, 0, 0.15);\n",
              "      filter: drop-shadow(0px 1px 2px rgba(0, 0, 0, 0.3));\n",
              "      fill: #FFFFFF;\n",
              "    }\n",
              "  </style>\n",
              "\n",
              "    <script>\n",
              "      const buttonEl =\n",
              "        document.querySelector('#df-0267edbc-4c2b-4d26-bb04-aa1a87ce2620 button.colab-df-convert');\n",
              "      buttonEl.style.display =\n",
              "        google.colab.kernel.accessAllowed ? 'block' : 'none';\n",
              "\n",
              "      async function convertToInteractive(key) {\n",
              "        const element = document.querySelector('#df-0267edbc-4c2b-4d26-bb04-aa1a87ce2620');\n",
              "        const dataTable =\n",
              "          await google.colab.kernel.invokeFunction('convertToInteractive',\n",
              "                                                    [key], {});\n",
              "        if (!dataTable) return;\n",
              "\n",
              "        const docLinkHtml = 'Like what you see? Visit the ' +\n",
              "          '<a target=\"_blank\" href=https://colab.research.google.com/notebooks/data_table.ipynb>data table notebook</a>'\n",
              "          + ' to learn more about interactive tables.';\n",
              "        element.innerHTML = '';\n",
              "        dataTable['output_type'] = 'display_data';\n",
              "        await google.colab.output.renderOutput(dataTable, element);\n",
              "        const docLink = document.createElement('div');\n",
              "        docLink.innerHTML = docLinkHtml;\n",
              "        element.appendChild(docLink);\n",
              "      }\n",
              "    </script>\n",
              "  </div>\n",
              "\n",
              "\n",
              "    <div id=\"df-01c292a2-56a3-4cfe-9e09-71fe34ea56f5\">\n",
              "      <button class=\"colab-df-quickchart\" onclick=\"quickchart('df-01c292a2-56a3-4cfe-9e09-71fe34ea56f5')\"\n",
              "                title=\"Suggest charts\"\n",
              "                style=\"display:none;\">\n",
              "\n",
              "<svg xmlns=\"http://www.w3.org/2000/svg\" height=\"24px\"viewBox=\"0 0 24 24\"\n",
              "     width=\"24px\">\n",
              "    <g>\n",
              "        <path d=\"M19 3H5c-1.1 0-2 .9-2 2v14c0 1.1.9 2 2 2h14c1.1 0 2-.9 2-2V5c0-1.1-.9-2-2-2zM9 17H7v-7h2v7zm4 0h-2V7h2v10zm4 0h-2v-4h2v4z\"/>\n",
              "    </g>\n",
              "</svg>\n",
              "      </button>\n",
              "\n",
              "<style>\n",
              "  .colab-df-quickchart {\n",
              "      --bg-color: #E8F0FE;\n",
              "      --fill-color: #1967D2;\n",
              "      --hover-bg-color: #E2EBFA;\n",
              "      --hover-fill-color: #174EA6;\n",
              "      --disabled-fill-color: #AAA;\n",
              "      --disabled-bg-color: #DDD;\n",
              "  }\n",
              "\n",
              "  [theme=dark] .colab-df-quickchart {\n",
              "      --bg-color: #3B4455;\n",
              "      --fill-color: #D2E3FC;\n",
              "      --hover-bg-color: #434B5C;\n",
              "      --hover-fill-color: #FFFFFF;\n",
              "      --disabled-bg-color: #3B4455;\n",
              "      --disabled-fill-color: #666;\n",
              "  }\n",
              "\n",
              "  .colab-df-quickchart {\n",
              "    background-color: var(--bg-color);\n",
              "    border: none;\n",
              "    border-radius: 50%;\n",
              "    cursor: pointer;\n",
              "    display: none;\n",
              "    fill: var(--fill-color);\n",
              "    height: 32px;\n",
              "    padding: 0;\n",
              "    width: 32px;\n",
              "  }\n",
              "\n",
              "  .colab-df-quickchart:hover {\n",
              "    background-color: var(--hover-bg-color);\n",
              "    box-shadow: 0 1px 2px rgba(60, 64, 67, 0.3), 0 1px 3px 1px rgba(60, 64, 67, 0.15);\n",
              "    fill: var(--button-hover-fill-color);\n",
              "  }\n",
              "\n",
              "  .colab-df-quickchart-complete:disabled,\n",
              "  .colab-df-quickchart-complete:disabled:hover {\n",
              "    background-color: var(--disabled-bg-color);\n",
              "    fill: var(--disabled-fill-color);\n",
              "    box-shadow: none;\n",
              "  }\n",
              "\n",
              "  .colab-df-spinner {\n",
              "    border: 2px solid var(--fill-color);\n",
              "    border-color: transparent;\n",
              "    border-bottom-color: var(--fill-color);\n",
              "    animation:\n",
              "      spin 1s steps(1) infinite;\n",
              "  }\n",
              "\n",
              "  @keyframes spin {\n",
              "    0% {\n",
              "      border-color: transparent;\n",
              "      border-bottom-color: var(--fill-color);\n",
              "      border-left-color: var(--fill-color);\n",
              "    }\n",
              "    20% {\n",
              "      border-color: transparent;\n",
              "      border-left-color: var(--fill-color);\n",
              "      border-top-color: var(--fill-color);\n",
              "    }\n",
              "    30% {\n",
              "      border-color: transparent;\n",
              "      border-left-color: var(--fill-color);\n",
              "      border-top-color: var(--fill-color);\n",
              "      border-right-color: var(--fill-color);\n",
              "    }\n",
              "    40% {\n",
              "      border-color: transparent;\n",
              "      border-right-color: var(--fill-color);\n",
              "      border-top-color: var(--fill-color);\n",
              "    }\n",
              "    60% {\n",
              "      border-color: transparent;\n",
              "      border-right-color: var(--fill-color);\n",
              "    }\n",
              "    80% {\n",
              "      border-color: transparent;\n",
              "      border-right-color: var(--fill-color);\n",
              "      border-bottom-color: var(--fill-color);\n",
              "    }\n",
              "    90% {\n",
              "      border-color: transparent;\n",
              "      border-bottom-color: var(--fill-color);\n",
              "    }\n",
              "  }\n",
              "</style>\n",
              "\n",
              "      <script>\n",
              "        async function quickchart(key) {\n",
              "          const quickchartButtonEl =\n",
              "            document.querySelector('#' + key + ' button');\n",
              "          quickchartButtonEl.disabled = true;  // To prevent multiple clicks.\n",
              "          quickchartButtonEl.classList.add('colab-df-spinner');\n",
              "          try {\n",
              "            const charts = await google.colab.kernel.invokeFunction(\n",
              "                'suggestCharts', [key], {});\n",
              "          } catch (error) {\n",
              "            console.error('Error during call to suggestCharts:', error);\n",
              "          }\n",
              "          quickchartButtonEl.classList.remove('colab-df-spinner');\n",
              "          quickchartButtonEl.classList.add('colab-df-quickchart-complete');\n",
              "        }\n",
              "        (() => {\n",
              "          let quickchartButtonEl =\n",
              "            document.querySelector('#df-01c292a2-56a3-4cfe-9e09-71fe34ea56f5 button');\n",
              "          quickchartButtonEl.style.display =\n",
              "            google.colab.kernel.accessAllowed ? 'block' : 'none';\n",
              "        })();\n",
              "      </script>\n",
              "    </div>\n",
              "\n",
              "    </div>\n",
              "  </div>\n"
            ],
            "application/vnd.google.colaboratory.intrinsic+json": {
              "type": "dataframe",
              "variable_name": "datos",
              "summary": "{\n  \"name\": \"datos\",\n  \"rows\": 54025,\n  \"fields\": [\n    {\n      \"column\": \"ingresos_cliente\",\n      \"properties\": {\n        \"dtype\": \"number\",\n        \"std\": 9658.762569130264,\n        \"min\": 2700.0,\n        \"max\": 450000.0,\n        \"num_unique_values\": 663,\n        \"samples\": [\n          11018.7,\n          38520.0,\n          17796.6\n        ],\n        \"semantic_type\": \"\",\n        \"description\": \"\"\n      }\n    },\n    {\n      \"column\": \"anualidad_prestamo\",\n      \"properties\": {\n        \"dtype\": \"number\",\n        \"std\": 1305.3647344874787,\n        \"min\": 218.7,\n        \"max\": 22500.0,\n        \"num_unique_values\": 8004,\n        \"samples\": [\n          5339.7,\n          5067.0,\n          5757.3\n        ],\n        \"semantic_type\": \"\",\n        \"description\": \"\"\n      }\n    },\n    {\n      \"column\": \"a\\u00f1os_casa_propia\",\n      \"properties\": {\n        \"dtype\": \"number\",\n        \"std\": 7.452120104984191,\n        \"min\": 0.0,\n        \"max\": 69.0,\n        \"num_unique_values\": 53,\n        \"samples\": [\n          11.0,\n          31.0,\n          32.0\n        ],\n        \"semantic_type\": \"\",\n        \"description\": \"\"\n      }\n    },\n    {\n      \"column\": \"telefono_trab\",\n      \"properties\": {\n        \"dtype\": \"number\",\n        \"std\": 0,\n        \"min\": 0,\n        \"max\": 1,\n        \"num_unique_values\": 2,\n        \"samples\": [\n          0,\n          1\n        ],\n        \"semantic_type\": \"\",\n        \"description\": \"\"\n      }\n    },\n    {\n      \"column\": \"evaluacion_ciudad\",\n      \"properties\": {\n        \"dtype\": \"number\",\n        \"std\": 0.49880682251877845,\n        \"min\": 1.0,\n        \"max\": 3.0,\n        \"num_unique_values\": 4,\n        \"samples\": [\n          3.0,\n          2.030038427084816\n        ],\n        \"semantic_type\": \"\",\n        \"description\": \"\"\n      }\n    },\n    {\n      \"column\": \"score_1\",\n      \"properties\": {\n        \"dtype\": \"number\",\n        \"std\": 0.14238945649917853,\n        \"min\": 0.014568132,\n        \"max\": 0.942680454,\n        \"num_unique_values\": 23062,\n        \"samples\": [\n          0.475611877,\n          0.435226091\n        ],\n        \"semantic_type\": \"\",\n        \"description\": \"\"\n      }\n    },\n    {\n      \"column\": \"score_2\",\n      \"properties\": {\n        \"dtype\": \"number\",\n        \"std\": 0.8759454878096079,\n        \"min\": 5e-06,\n        \"max\": 100.0,\n        \"num_unique_values\": 38047,\n        \"samples\": [\n          0.416306086,\n          0.675062411\n        ],\n        \"semantic_type\": \"\",\n        \"description\": \"\"\n      }\n    },\n    {\n      \"column\": \"score_3\",\n      \"properties\": {\n        \"dtype\": \"number\",\n        \"std\": 0.06272486372343226,\n        \"min\": 0.000527265,\n        \"max\": 0.869210801,\n        \"num_unique_values\": 612,\n        \"samples\": [\n          0.420610964,\n          0.168416171\n        ],\n        \"semantic_type\": \"\",\n        \"description\": \"\"\n      }\n    },\n    {\n      \"column\": \"score_social\",\n      \"properties\": {\n        \"dtype\": \"number\",\n        \"std\": 0.0761796573204536,\n        \"min\": 0.0,\n        \"max\": 1.0,\n        \"num_unique_values\": 1459,\n        \"samples\": [\n          0.1674,\n          0.6381\n        ],\n        \"semantic_type\": \"\",\n        \"description\": \"\"\n      }\n    },\n    {\n      \"column\": \"cambio_telefono\",\n      \"properties\": {\n        \"dtype\": \"number\",\n        \"std\": 818.1417090553241,\n        \"min\": 0.0,\n        \"max\": 4185.0,\n        \"num_unique_values\": 3408,\n        \"samples\": [\n          966.0,\n          3099.0\n        ],\n        \"semantic_type\": \"\",\n        \"description\": \"\"\n      }\n    },\n    {\n      \"column\": \"moroso\",\n      \"properties\": {\n        \"dtype\": \"number\",\n        \"std\": 0,\n        \"min\": 0,\n        \"max\": 1,\n        \"num_unique_values\": 2,\n        \"samples\": [\n          1,\n          0\n        ],\n        \"semantic_type\": \"\",\n        \"description\": \"\"\n      }\n    }\n  ]\n}"
            }
          },
          "metadata": {},
          "execution_count": 3
        }
      ]
    },
    {
      "cell_type": "code",
      "source": [
        "datos.info()"
      ],
      "metadata": {
        "id": "Jb0UVdWcDq7C",
        "outputId": "578d01ab-024e-441f-c1ef-9045da050c41",
        "colab": {
          "base_uri": "https://localhost:8080/"
        }
      },
      "execution_count": 4,
      "outputs": [
        {
          "output_type": "stream",
          "name": "stdout",
          "text": [
            "<class 'pandas.core.frame.DataFrame'>\n",
            "RangeIndex: 54025 entries, 0 to 54024\n",
            "Data columns (total 11 columns):\n",
            " #   Column              Non-Null Count  Dtype  \n",
            "---  ------              --------------  -----  \n",
            " 0   ingresos_cliente    54025 non-null  float64\n",
            " 1   anualidad_prestamo  54025 non-null  float64\n",
            " 2   años_casa_propia    54025 non-null  float64\n",
            " 3   telefono_trab       54025 non-null  int64  \n",
            " 4   evaluacion_ciudad   54025 non-null  float64\n",
            " 5   score_1             54025 non-null  float64\n",
            " 6   score_2             54025 non-null  float64\n",
            " 7   score_3             54025 non-null  float64\n",
            " 8   score_social        54025 non-null  float64\n",
            " 9   cambio_telefono     54025 non-null  float64\n",
            " 10  moroso              54025 non-null  int64  \n",
            "dtypes: float64(9), int64(2)\n",
            "memory usage: 4.5 MB\n"
          ]
        }
      ]
    },
    {
      "cell_type": "markdown",
      "source": [
        "secmentacion del conjunto de datos para tener las variables explicativas y nuestra variable de respuesta"
      ],
      "metadata": {
        "id": "TeKFyjq-D_q9"
      }
    },
    {
      "cell_type": "code",
      "source": [
        "x=datos.drop('moroso',axis=1)\n",
        "y=datos['moroso']"
      ],
      "metadata": {
        "id": "UVIX6QLpP4iC"
      },
      "execution_count": 5,
      "outputs": []
    },
    {
      "cell_type": "markdown",
      "source": [
        "utilizando el modelo de clasificacion del arbol"
      ],
      "metadata": {
        "id": "kwzzqe_-ESS3"
      }
    },
    {
      "cell_type": "code",
      "source": [
        "from sklearn.tree import DecisionTreeClassifier"
      ],
      "metadata": {
        "id": "MikoMXI7P4dG"
      },
      "execution_count": 6,
      "outputs": []
    },
    {
      "cell_type": "code",
      "source": [
        "modelo=DecisionTreeClassifier()\n",
        "modelo.fit(x,y)\n",
        "modelo.score(x,y)"
      ],
      "metadata": {
        "id": "wqbE1AstElmm",
        "outputId": "024a5acc-4930-4805-cdca-d666a9b73571",
        "colab": {
          "base_uri": "https://localhost:8080/"
        }
      },
      "execution_count": 7,
      "outputs": [
        {
          "output_type": "execute_result",
          "data": {
            "text/plain": [
              "1.0"
            ]
          },
          "metadata": {},
          "execution_count": 7
        }
      ]
    },
    {
      "cell_type": "code",
      "source": [
        "print(f'La exactitud del modelo es: {modelo.score(x,y)}')"
      ],
      "metadata": {
        "id": "ag8mQh8SE_29",
        "outputId": "8228c9a9-6378-4799-93b3-fa764a741b83",
        "colab": {
          "base_uri": "https://localhost:8080/"
        }
      },
      "execution_count": 8,
      "outputs": [
        {
          "output_type": "stream",
          "name": "stdout",
          "text": [
            "La exactitud del modelo es: 1.0\n"
          ]
        }
      ]
    },
    {
      "cell_type": "markdown",
      "source": [
        "### Validando el modelo"
      ],
      "metadata": {
        "id": "EPrFcm39oAof"
      }
    },
    {
      "cell_type": "markdown",
      "source": [
        "Evaluar el modelo con los mismos datos utilizados en el entrenamiento no es recomendable. Es necesario que la evaluación se realice con datos independientes.  \n",
        "\n",
        "Evaluar el modelo con los propios datos de entrenamiento sería equivalente a entregar un examen con las preguntas y las respuestas a una persona y, al momento de evaluarla nuevamente, entregarle un examen con las mismas preguntas y opciones. Se espera que esa persona obtenga un buen resultado, ya que ya ha visto las respuestas y ha memorizado el resultado. Esto es diferente de haber aprendido la materia a partir de ese examen y luego presentar una prueba con contenido similar y obtener un resultado positivo.  \n",
        "\n",
        "Con el objetivo de verificar la capacidad de generalización de un modelo, debemos dividir el conjunto de datos en tres partes: datos de entrenamiento, validación y prueba.  \n",
        "\n",
        "- El **conjunto de entrenamiento** se utiliza para entrenar los modelos. A partir de este conjunto, los modelos identifican patrones en los datos.  \n",
        "\n",
        "- El **conjunto de validación** se emplea para evaluar el desempeño de diferentes modelos con datos nuevos que no fueron utilizados en el entrenamiento.  \n",
        "\n",
        "- El **conjunto de prueba** se mantiene separado desde el inicio para simular datos del mundo real. No se utiliza en ninguna etapa del entrenamiento ni de la validación, sirviendo como una estimación de la capacidad del modelo elegido para generalizar y predecir nuevos datos."
      ],
      "metadata": {
        "id": "v0u-uij9eNcD"
      }
    },
    {
      "cell_type": "markdown",
      "source": [
        "<a href=\"https://ibb.co/9H2Z1HZ5\"><img src=\"https://i.ibb.co/0yZs6ysb/datos-train-test.png\" alt=\"datos-train-test\" border=\"0\"></a>"
      ],
      "metadata": {
        "id": "TCIN5oOJFk_W"
      }
    },
    {
      "cell_type": "markdown",
      "source": [
        "este paquete lo que hace es separar la base de entrenamiento y la base de prueba nustros datos"
      ],
      "metadata": {
        "id": "wkXqje4oA_AN"
      }
    },
    {
      "cell_type": "code",
      "source": [
        "from sklearn.model_selection import train_test_split"
      ],
      "metadata": {
        "id": "OICJjv9HP1QZ"
      },
      "execution_count": 9,
      "outputs": []
    },
    {
      "cell_type": "code",
      "source": [
        "x,x_test,y,y_test=train_test_split(x,y,test_size=0.15,stratify=y,random_state=5)\n",
        "x_train,x_val,y_train,y_val=train_test_split(x,y,stratify=y,random_state=5)"
      ],
      "metadata": {
        "id": "mvDcVFFDP1sB"
      },
      "execution_count": 10,
      "outputs": []
    },
    {
      "cell_type": "markdown",
      "source": [
        "repetimos la missma linea y parametros para la validacion"
      ],
      "metadata": {
        "id": "xss3n1lNZzz_"
      }
    },
    {
      "cell_type": "code",
      "source": [
        "modelo=DecisionTreeClassifier()\n",
        "modelo.fit(x_train,y_train)\n",
        "print(f'La exactitud del modelo del conjunto de entrenamiento es: {round(modelo.score(x_train,y_train))}')\n",
        "print(f'La exactitud del modelo del conjunto de validacion es: {round(modelo.score(x_val,y_val),2)}')"
      ],
      "metadata": {
        "id": "sEJPwwG_P1Md",
        "colab": {
          "base_uri": "https://localhost:8080/"
        },
        "outputId": "0c0c43bf-fc0f-43b0-f047-fa3244d84cf4"
      },
      "execution_count": 11,
      "outputs": [
        {
          "output_type": "stream",
          "name": "stdout",
          "text": [
            "La exactitud del modelo del conjunto de entrenamiento es: 1\n",
            "La exactitud del modelo del conjunto de validacion es: 0.85\n"
          ]
        }
      ]
    },
    {
      "cell_type": "markdown",
      "source": [
        "a la hora de correr el modelo de entrenamiento hizo 100% pero a la hora de validar hizo 85%, que quiere decir que mi modelo de arbol se memoriso todas las salidas y por eso llego al 100% y al momento de colocar datos que no habia visto por eso llego al 85%, esta no es la mejor forma para distanciar un modelo de arbol de decision si no debemos distanciar una profuncidad, colocar un parametro como:"
      ],
      "metadata": {
        "id": "oTTeJSuhkJq3"
      }
    },
    {
      "cell_type": "code",
      "source": [
        "modelo=DecisionTreeClassifier(max_depth=10)\n",
        "modelo.fit(x_train,y_train)\n",
        "print(f'La exactitud del modelo del conjunto de entrenamiento es: {modelo.score(x_train,y_train)}')\n",
        "print(f'La exactitud del modelo del conjunto de validacion es: {(modelo.score(x_val,y_val))}')"
      ],
      "metadata": {
        "id": "NIeGQZGcP1J1",
        "colab": {
          "base_uri": "https://localhost:8080/"
        },
        "outputId": "0be64fe2-628d-48b2-d410-3b2b7ab88e09"
      },
      "execution_count": 12,
      "outputs": [
        {
          "output_type": "stream",
          "name": "stdout",
          "text": [
            "La exactitud del modelo del conjunto de entrenamiento es: 0.9206445993031359\n",
            "La exactitud del modelo del conjunto de validacion es: 0.9059315390645414\n"
          ]
        }
      ]
    },
    {
      "cell_type": "markdown",
      "source": [
        "ahora obervamo que durante el entrenamiento llego al 92% y al momento de la validadcion fue de un 90%, lo que nos indica que esta validando mejor el modelo, y solo al ajustar un parametro"
      ],
      "metadata": {
        "id": "tpGuq9uIkpOc"
      }
    },
    {
      "cell_type": "markdown",
      "source": [
        "### Evaluando el modelo"
      ],
      "metadata": {
        "id": "WtlRAZt96VLG"
      }
    },
    {
      "cell_type": "markdown",
      "source": [
        "anteriormente vimos los porcentajes el cual al poner metrica, nos indica que esta generalizando bien nuestro modelo pero que esta generalizando bien, esto es cuando decimos exactitud, pero que generalizo? no nos dice cantidad de clientes o clientes morosos por lot anto la exactitud no nos dice mucho hacerca de ciertos parametros, solo nos dice si generaliza bien o no,  pero no a detalle o si esto es de nuestro interes.\n",
        "\n",
        "por lo tanto usaremos la matriz de confucion para la validacion de nuestros modelos"
      ],
      "metadata": {
        "id": "nad_JCA53B_8"
      }
    },
    {
      "cell_type": "code",
      "source": [
        "from sklearn.metrics import confusion_matrix"
      ],
      "metadata": {
        "id": "IlUZBhPrPyYh"
      },
      "execution_count": 13,
      "outputs": []
    },
    {
      "cell_type": "code",
      "source": [
        "y_previsto=modelo.predict(x_val)\n",
        "matriz_confucion=confusion_matrix(y_val,y_previsto)\n",
        "print(matriz_confucion)"
      ],
      "metadata": {
        "id": "iill3u5HPyOA",
        "outputId": "78cbcf49-5097-4915-eefb-f2c3b87b6c5b",
        "colab": {
          "base_uri": "https://localhost:8080/"
        }
      },
      "execution_count": 14,
      "outputs": [
        {
          "output_type": "stream",
          "name": "stdout",
          "text": [
            "[[10359   120]\n",
            " [  960    42]]\n"
          ]
        }
      ]
    },
    {
      "cell_type": "markdown",
      "source": [
        "esto hara la comparacion de los valores reales y los previstos del modelo\n",
        "\n",
        "asi mismo observamos que nos da una matriz pero esto que es que de nuestros datos, para saber vamos hacer lo siguiente"
      ],
      "metadata": {
        "id": "5Rcdt-zw-JlE"
      }
    },
    {
      "cell_type": "code",
      "source": [
        "from sklearn.metrics import ConfusionMatrixDisplay"
      ],
      "metadata": {
        "id": "gtFWt6emPyJt"
      },
      "execution_count": 15,
      "outputs": []
    },
    {
      "cell_type": "markdown",
      "source": [
        "esta herramienta nos permitira crear nuestra matriz de confucion dibujarla"
      ],
      "metadata": {
        "id": "sh-2pNFNACoJ"
      }
    },
    {
      "cell_type": "code",
      "source": [
        "visualizacion=ConfusionMatrixDisplay(matriz_confucion)\n",
        "visualizacion.plot();#con le punto y coma se extrae esa parte si no, tendriamos que importar\n",
        "#matplotlip para usar el plt.show"
      ],
      "metadata": {
        "id": "qg0OgZeqPyGJ",
        "outputId": "51e757e7-3d86-434c-e57c-4277dbf4b2b9",
        "colab": {
          "base_uri": "https://localhost:8080/",
          "height": 449
        }
      },
      "execution_count": 16,
      "outputs": [
        {
          "output_type": "display_data",
          "data": {
            "text/plain": [
              "<Figure size 640x480 with 2 Axes>"
            ],
            "image/png": "[encoded data removed]"
          },
          "metadata": {}
        }
      ]
    },
    {
      "cell_type": "markdown",
      "source": [
        "en el eje y tenemos los valores reales 0 siendo cumplido y 1 siedno moroso, en el eje x tenemos los valores vebistos 0 siedno cumplido y 1 siendo moroso"
      ],
      "metadata": {
        "id": "5uCuyIdLIXOA"
      }
    },
    {
      "cell_type": "code",
      "source": [
        "visualizacion=ConfusionMatrixDisplay(confusion_matrix=matriz_confucion,display_labels=['cumplido','moroso'])\n",
        "visualizacion.plot();#ahora para mayor visualizacion vamos a poner parametros para asi entender mejor la informacion"
      ],
      "metadata": {
        "id": "GG3AjWnYI3Dj",
        "outputId": "2500ef74-996e-497f-b3fb-b3eac59c2253",
        "colab": {
          "base_uri": "https://localhost:8080/",
          "height": 449
        }
      },
      "execution_count": 17,
      "outputs": [
        {
          "output_type": "display_data",
          "data": {
            "text/plain": [
              "<Figure size 640x480 with 2 Axes>"
            ],
            "image/png": "[encoded data removed]"
          },
          "metadata": {}
        }
      ]
    },
    {
      "cell_type": "markdown",
      "source": [
        "que quiere decri la matriz de confucion: nos dice que nuestro modelo predijo de todo el conjunto de datos, que tuvimos mas 10000 clientes cumplidos, pero que tuvimos 957 clientes que se clasificaron como cumplidos pero que son morosos siendo esto un riesgo grande por la cantidad que son, 123 que se clasificaron como morosos y que son cumplidos, unicamente identifico de formaefectiva 45 clientes que son morosos y de la misma forma mas de 10000 clientes que son cumplidos\n",
        "\n",
        "\n",
        "estos numero aqui que nos van a permitir evaluar nuestro modelo para mejorarlo y asi poder preorisar los casos en que los clientes son morosos, asi tener un mejor filtro para los filtros, dadoq ue por ejemplo le dejariamos de dar prestamos a 123 clientes que si nos pagarian bien pero le seguimos dando prestamos a 957 clientes que no nos pagarian bien, entonces aqui estamos asumiendo un riesgo muy grande o potencialmente"
      ],
      "metadata": {
        "id": "znFsLGQ3JnSx"
      }
    },
    {
      "cell_type": "markdown",
      "source": [
        "####Entendiendo la matriz de confusión"
      ],
      "metadata": {
        "id": "CtLxYdwX9JgK"
      }
    },
    {
      "cell_type": "markdown",
      "source": [
        "Para obtener una evaluación más completa del desempeño de modelos de clasificación, podemos utilizar una herramienta conocida como matriz de confusión. Esta matriz ofrece ventajas a la persona científica de datos, ya que permite entender cuántos errores y aciertos tiene las predicciones de un modelo. En lugar de una tasa de acierto general, la matriz es capaz de proporcionar información en una visualización para cada una de las categorías de la variable objetivo.\n",
        "\n",
        "Piensa en un sistema de seguridad de un edificio que utiliza cámaras para identificar personas que entran. La \"matriz de confusión\" se vuelve valiosa, ya que permite verificar cuántas veces el sistema acertó al identificar correctamente a las personas autorizadas, cuántas veces acusó erróneamente a personas y cuántas veces dejó pasar a personas no autorizadas. Con estos números, es posible ajustar el sistema para minimizar falsos positivos y negativos, mejorando su precisión en la detección de visitantes.\n",
        "\n",
        "En la representación general de una matriz de confusión, para más detalles analiza la imagen a continuación, las filas de la matriz corresponden a los valores reales de la base de datos, mientras que las columnas corresponden a los valores previstos por el modelo de clasificación. Las categorías de la variable objetivo están representadas por el valor 0 (ausencia del atributo), también llamado negativo, y por el valor 1 (presencia del atributo), también llamado positivo."
      ],
      "metadata": {
        "id": "sOtsnI0q9NqW"
      }
    },
    {
      "cell_type": "markdown",
      "source": [
        "![image.png](data:image/png;base64,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)"
      ],
      "metadata": {
        "id": "FA1fSGPP_YfR"
      }
    },
    {
      "cell_type": "markdown",
      "source": [
        "Cada elemento de la matriz está identificado por un nombre de acuerdo con la intersección entre la predicción y el valor real. La diagonal principal de la matriz, que está destacada por el color verde, representa los elementos que tienen la predicción igual al valor real, por lo tanto son los aciertos del modelo. Por otro lado, la diagonal secundaria, que está destacada por el color rojo, representa los elementos con predicciones diferentes del valor real, por lo tanto son los errores del modelo. La descripción de cada uno de los elementos es la siguiente:\n",
        "\n",
        "\n",
        "* Verdaderos Negativos (VN): Cuando el valor real es 0 y la predicción también es 0. Indica que el modelo clasificó correctamente los valores de la clase negativa.\n",
        "\n",
        "* Falsos Positivos (FP): Cuando el valor real es 0 y la predicción es 1. Indica que el modelo clasificó erróneamente un elemento de la clase negativa como si fuera de la clase positiva.\n",
        "\n",
        "* Falsos Negativos (FN): Cuando el valor real es 1 y la predicción es 0. Indica que el modelo clasificó erróneamente un elemento de la clase positiva como si fuera de la clase negativa.\n",
        "\n",
        "* Verdaderos Positivos (VP): Cuando el valor real es 1 y la predicción también es 1. Indica que el modelo clasificó correctamente los valores de la clase positiva.\n",
        "\n",
        "Estos valores son muy útiles para un análisis más profundo del modelo de clasificación. Esto permite identificar las capacidades y limitaciones de la predicción, si hay un equilibrio entre los aciertos y errores o si el resultado está sesgado hacia una clase en detrimento de la otra. Con esto, es evidente que la matriz de confusión es una herramienta mucho más completa que la métrica de precisión, que representa solo el porcentaje de aciertos del modelo, sin considerar las clases de manera aislada."
      ],
      "metadata": {
        "id": "yCSlpHrt_dqF"
      }
    },
    {
      "cell_type": "markdown",
      "source": [
        "##Metodo RandomForestClassifier"
      ],
      "metadata": {
        "id": "1Lb9tpJOAm-J"
      }
    },
    {
      "cell_type": "markdown",
      "source": [
        "Se recomienda utilizar más de un modelo de clasificación en proyectos de machine learning, para que se comparen los resultados y se elija aquel modelo que tenga un mejor desempeño, después de todos los análisis y mejoras.\n",
        "\n",
        "Utilizamos durante la clase el algoritmo de árbol de decisión, pero la biblioteca Scikit-Learn tiene varios otros métodos de clasificación que pueden ser utilizados en nuestro proyecto. Como desafío, utiliza el algoritmo Random Forest para crear un modelo y evaluar el desempeño con la precisión y la matriz de confusión, y compara los resultados con el resultado del árbol de decisión.\n",
        "\n",
        "Como un consejo, revisa la documentación del algoritmo RandomForestClassifier. Explora este material y observa cómo importar la función. Durante este proceso, recuerda verificar los parámetros del método para evitar que el modelo se ajuste demasiado a los datos de entrenamiento."
      ],
      "metadata": {
        "id": "xvhZANAhAwE-"
      }
    },
    {
      "cell_type": "code",
      "source": [
        "from sklearn.ensemble import RandomForestClassifier"
      ],
      "metadata": {
        "id": "GCkcDOvQAzaM"
      },
      "execution_count": 19,
      "outputs": []
    },
    {
      "cell_type": "code",
      "source": [
        "modelo_random_forest=RandomForestClassifier(max_depth=10)\n",
        "modelo_random_forest.fit(x_train,y_train)"
      ],
      "metadata": {
        "id": "-wmA0u5KBSRH",
        "outputId": "564087e6-f8cd-44ca-c253-7be9f5e874b1",
        "colab": {
          "base_uri": "https://localhost:8080/",
          "height": 80
        }
      },
      "execution_count": 23,
      "outputs": [
        {
          "output_type": "execute_result",
          "data": {
            "text/plain": [
              "RandomForestClassifier(max_depth=10)"
            ],
            "text/html": [
              "<style>#sk-container-id-3 {\n",
              "  /* Definition of color scheme common for light and dark mode */\n",
              "  --sklearn-color-text: #000;\n",
              "  --sklearn-color-text-muted: #666;\n",
              "  --sklearn-color-line: gray;\n",
              "  /* Definition of color scheme for unfitted estimators */\n",
              "  --sklearn-color-unfitted-level-0: #fff5e6;\n",
              "  --sklearn-color-unfitted-level-1: #f6e4d2;\n",
              "  --sklearn-color-unfitted-level-2: #ffe0b3;\n",
              "  --sklearn-color-unfitted-level-3: chocolate;\n",
              "  /* Definition of color scheme for fitted estimators */\n",
              "  --sklearn-color-fitted-level-0: #f0f8ff;\n",
              "  --sklearn-color-fitted-level-1: #d4ebff;\n",
              "  --sklearn-color-fitted-level-2: #b3dbfd;\n",
              "  --sklearn-color-fitted-level-3: cornflowerblue;\n",
              "\n",
              "  /* Specific color for light theme */\n",
              "  --sklearn-color-text-on-default-background: var(--sg-text-color, var(--theme-code-foreground, var(--jp-content-font-color1, black)));\n",
              "  --sklearn-color-background: var(--sg-background-color, var(--theme-background, var(--jp-layout-color0, white)));\n",
              "  --sklearn-color-border-box: var(--sg-text-color, var(--theme-code-foreground, var(--jp-content-font-color1, black)));\n",
              "  --sklearn-color-icon: #696969;\n",
              "\n",
              "  @media (prefers-color-scheme: dark) {\n",
              "    /* Redefinition of color scheme for dark theme */\n",
              "    --sklearn-color-text-on-default-background: var(--sg-text-color, var(--theme-code-foreground, var(--jp-content-font-color1, white)));\n",
              "    --sklearn-color-background: var(--sg-background-color, var(--theme-background, var(--jp-layout-color0, #111)));\n",
              "    --sklearn-color-border-box: var(--sg-text-color, var(--theme-code-foreground, var(--jp-content-font-color1, white)));\n",
              "    --sklearn-color-icon: #878787;\n",
              "  }\n",
              "}\n",
              "\n",
              "#sk-container-id-3 {\n",
              "  color: var(--sklearn-color-text);\n",
              "}\n",
              "\n",
              "#sk-container-id-3 pre {\n",
              "  padding: 0;\n",
              "}\n",
              "\n",
              "#sk-container-id-3 input.sk-hidden--visually {\n",
              "  border: 0;\n",
              "  clip: rect(1px 1px 1px 1px);\n",
              "  clip: rect(1px, 1px, 1px, 1px);\n",
              "  height: 1px;\n",
              "  margin: -1px;\n",
              "  overflow: hidden;\n",
              "  padding: 0;\n",
              "  position: absolute;\n",
              "  width: 1px;\n",
              "}\n",
              "\n",
              "#sk-container-id-3 div.sk-dashed-wrapped {\n",
              "  border: 1px dashed var(--sklearn-color-line);\n",
              "  margin: 0 0.4em 0.5em 0.4em;\n",
              "  box-sizing: border-box;\n",
              "  padding-bottom: 0.4em;\n",
              "  background-color: var(--sklearn-color-background);\n",
              "}\n",
              "\n",
              "#sk-container-id-3 div.sk-container {\n",
              "  /* jupyter's `normalize.less` sets `[hidden] { display: none; }`\n",
              "     but bootstrap.min.css set `[hidden] { display: none !important; }`\n",
              "     so we also need the `!important` here to be able to override the\n",
              "     default hidden behavior on the sphinx rendered scikit-learn.org.\n",
              "     See: https://github.com/scikit-learn/scikit-learn/issues/21755 */\n",
              "  display: inline-block !important;\n",
              "  position: relative;\n",
              "}\n",
              "\n",
              "#sk-container-id-3 div.sk-text-repr-fallback {\n",
              "  display: none;\n",
              "}\n",
              "\n",
              "div.sk-parallel-item,\n",
              "div.sk-serial,\n",
              "div.sk-item {\n",
              "  /* draw centered vertical line to link estimators */\n",
              "  background-image: linear-gradient(var(--sklearn-color-text-on-default-background), var(--sklearn-color-text-on-default-background));\n",
              "  background-size: 2px 100%;\n",
              "  background-repeat: no-repeat;\n",
              "  background-position: center center;\n",
              "}\n",
              "\n",
              "/* Parallel-specific style estimator block */\n",
              "\n",
              "#sk-container-id-3 div.sk-parallel-item::after {\n",
              "  content: \"\";\n",
              "  width: 100%;\n",
              "  border-bottom: 2px solid var(--sklearn-color-text-on-default-background);\n",
              "  flex-grow: 1;\n",
              "}\n",
              "\n",
              "#sk-container-id-3 div.sk-parallel {\n",
              "  display: flex;\n",
              "  align-items: stretch;\n",
              "  justify-content: center;\n",
              "  background-color: var(--sklearn-color-background);\n",
              "  position: relative;\n",
              "}\n",
              "\n",
              "#sk-container-id-3 div.sk-parallel-item {\n",
              "  display: flex;\n",
              "  flex-direction: column;\n",
              "}\n",
              "\n",
              "#sk-container-id-3 div.sk-parallel-item:first-child::after {\n",
              "  align-self: flex-end;\n",
              "  width: 50%;\n",
              "}\n",
              "\n",
              "#sk-container-id-3 div.sk-parallel-item:last-child::after {\n",
              "  align-self: flex-start;\n",
              "  width: 50%;\n",
              "}\n",
              "\n",
              "#sk-container-id-3 div.sk-parallel-item:only-child::after {\n",
              "  width: 0;\n",
              "}\n",
              "\n",
              "/* Serial-specific style estimator block */\n",
              "\n",
              "#sk-container-id-3 div.sk-serial {\n",
              "  display: flex;\n",
              "  flex-direction: column;\n",
              "  align-items: center;\n",
              "  background-color: var(--sklearn-color-background);\n",
              "  padding-right: 1em;\n",
              "  padding-left: 1em;\n",
              "}\n",
              "\n",
              "\n",
              "/* Toggleable style: style used for estimator/Pipeline/ColumnTransformer box that is\n",
              "clickable and can be expanded/collapsed.\n",
              "- Pipeline and ColumnTransformer use this feature and define the default style\n",
              "- Estimators will overwrite some part of the style using the `sk-estimator` class\n",
              "*/\n",
              "\n",
              "/* Pipeline and ColumnTransformer style (default) */\n",
              "\n",
              "#sk-container-id-3 div.sk-toggleable {\n",
              "  /* Default theme specific background. It is overwritten whether we have a\n",
              "  specific estimator or a Pipeline/ColumnTransformer */\n",
              "  background-color: var(--sklearn-color-background);\n",
              "}\n",
              "\n",
              "/* Toggleable label */\n",
              "#sk-container-id-3 label.sk-toggleable__label {\n",
              "  cursor: pointer;\n",
              "  display: flex;\n",
              "  width: 100%;\n",
              "  margin-bottom: 0;\n",
              "  padding: 0.5em;\n",
              "  box-sizing: border-box;\n",
              "  text-align: center;\n",
              "  align-items: start;\n",
              "  justify-content: space-between;\n",
              "  gap: 0.5em;\n",
              "}\n",
              "\n",
              "#sk-container-id-3 label.sk-toggleable__label .caption {\n",
              "  font-size: 0.6rem;\n",
              "  font-weight: lighter;\n",
              "  color: var(--sklearn-color-text-muted);\n",
              "}\n",
              "\n",
              "#sk-container-id-3 label.sk-toggleable__label-arrow:before {\n",
              "  /* Arrow on the left of the label */\n",
              "  content: \"▸\";\n",
              "  float: left;\n",
              "  margin-right: 0.25em;\n",
              "  color: var(--sklearn-color-icon);\n",
              "}\n",
              "\n",
              "#sk-container-id-3 label.sk-toggleable__label-arrow:hover:before {\n",
              "  color: var(--sklearn-color-text);\n",
              "}\n",
              "\n",
              "/* Toggleable content - dropdown */\n",
              "\n",
              "#sk-container-id-3 div.sk-toggleable__content {\n",
              "  max-height: 0;\n",
              "  max-width: 0;\n",
              "  overflow: hidden;\n",
              "  text-align: left;\n",
              "  /* unfitted */\n",
              "  background-color: var(--sklearn-color-unfitted-level-0);\n",
              "}\n",
              "\n",
              "#sk-container-id-3 div.sk-toggleable__content.fitted {\n",
              "  /* fitted */\n",
              "  background-color: var(--sklearn-color-fitted-level-0);\n",
              "}\n",
              "\n",
              "#sk-container-id-3 div.sk-toggleable__content pre {\n",
              "  margin: 0.2em;\n",
              "  border-radius: 0.25em;\n",
              "  color: var(--sklearn-color-text);\n",
              "  /* unfitted */\n",
              "  background-color: var(--sklearn-color-unfitted-level-0);\n",
              "}\n",
              "\n",
              "#sk-container-id-3 div.sk-toggleable__content.fitted pre {\n",
              "  /* unfitted */\n",
              "  background-color: var(--sklearn-color-fitted-level-0);\n",
              "}\n",
              "\n",
              "#sk-container-id-3 input.sk-toggleable__control:checked~div.sk-toggleable__content {\n",
              "  /* Expand drop-down */\n",
              "  max-height: 200px;\n",
              "  max-width: 100%;\n",
              "  overflow: auto;\n",
              "}\n",
              "\n",
              "#sk-container-id-3 input.sk-toggleable__control:checked~label.sk-toggleable__label-arrow:before {\n",
              "  content: \"▾\";\n",
              "}\n",
              "\n",
              "/* Pipeline/ColumnTransformer-specific style */\n",
              "\n",
              "#sk-container-id-3 div.sk-label input.sk-toggleable__control:checked~label.sk-toggleable__label {\n",
              "  color: var(--sklearn-color-text);\n",
              "  background-color: var(--sklearn-color-unfitted-level-2);\n",
              "}\n",
              "\n",
              "#sk-container-id-3 div.sk-label.fitted input.sk-toggleable__control:checked~label.sk-toggleable__label {\n",
              "  background-color: var(--sklearn-color-fitted-level-2);\n",
              "}\n",
              "\n",
              "/* Estimator-specific style */\n",
              "\n",
              "/* Colorize estimator box */\n",
              "#sk-container-id-3 div.sk-estimator input.sk-toggleable__control:checked~label.sk-toggleable__label {\n",
              "  /* unfitted */\n",
              "  background-color: var(--sklearn-color-unfitted-level-2);\n",
              "}\n",
              "\n",
              "#sk-container-id-3 div.sk-estimator.fitted input.sk-toggleable__control:checked~label.sk-toggleable__label {\n",
              "  /* fitted */\n",
              "  background-color: var(--sklearn-color-fitted-level-2);\n",
              "}\n",
              "\n",
              "#sk-container-id-3 div.sk-label label.sk-toggleable__label,\n",
              "#sk-container-id-3 div.sk-label label {\n",
              "  /* The background is the default theme color */\n",
              "  color: var(--sklearn-color-text-on-default-background);\n",
              "}\n",
              "\n",
              "/* On hover, darken the color of the background */\n",
              "#sk-container-id-3 div.sk-label:hover label.sk-toggleable__label {\n",
              "  color: var(--sklearn-color-text);\n",
              "  background-color: var(--sklearn-color-unfitted-level-2);\n",
              "}\n",
              "\n",
              "/* Label box, darken color on hover, fitted */\n",
              "#sk-container-id-3 div.sk-label.fitted:hover label.sk-toggleable__label.fitted {\n",
              "  color: var(--sklearn-color-text);\n",
              "  background-color: var(--sklearn-color-fitted-level-2);\n",
              "}\n",
              "\n",
              "/* Estimator label */\n",
              "\n",
              "#sk-container-id-3 div.sk-label label {\n",
              "  font-family: monospace;\n",
              "  font-weight: bold;\n",
              "  display: inline-block;\n",
              "  line-height: 1.2em;\n",
              "}\n",
              "\n",
              "#sk-container-id-3 div.sk-label-container {\n",
              "  text-align: center;\n",
              "}\n",
              "\n",
              "/* Estimator-specific */\n",
              "#sk-container-id-3 div.sk-estimator {\n",
              "  font-family: monospace;\n",
              "  border: 1px dotted var(--sklearn-color-border-box);\n",
              "  border-radius: 0.25em;\n",
              "  box-sizing: border-box;\n",
              "  margin-bottom: 0.5em;\n",
              "  /* unfitted */\n",
              "  background-color: var(--sklearn-color-unfitted-level-0);\n",
              "}\n",
              "\n",
              "#sk-container-id-3 div.sk-estimator.fitted {\n",
              "  /* fitted */\n",
              "  background-color: var(--sklearn-color-fitted-level-0);\n",
              "}\n",
              "\n",
              "/* on hover */\n",
              "#sk-container-id-3 div.sk-estimator:hover {\n",
              "  /* unfitted */\n",
              "  background-color: var(--sklearn-color-unfitted-level-2);\n",
              "}\n",
              "\n",
              "#sk-container-id-3 div.sk-estimator.fitted:hover {\n",
              "  /* fitted */\n",
              "  background-color: var(--sklearn-color-fitted-level-2);\n",
              "}\n",
              "\n",
              "/* Specification for estimator info (e.g. \"i\" and \"?\") */\n",
              "\n",
              "/* Common style for \"i\" and \"?\" */\n",
              "\n",
              ".sk-estimator-doc-link,\n",
              "a:link.sk-estimator-doc-link,\n",
              "a:visited.sk-estimator-doc-link {\n",
              "  float: right;\n",
              "  font-size: smaller;\n",
              "  line-height: 1em;\n",
              "  font-family: monospace;\n",
              "  background-color: var(--sklearn-color-background);\n",
              "  border-radius: 1em;\n",
              "  height: 1em;\n",
              "  width: 1em;\n",
              "  text-decoration: none !important;\n",
              "  margin-left: 0.5em;\n",
              "  text-align: center;\n",
              "  /* unfitted */\n",
              "  border: var(--sklearn-color-unfitted-level-1) 1pt solid;\n",
              "  color: var(--sklearn-color-unfitted-level-1);\n",
              "}\n",
              "\n",
              ".sk-estimator-doc-link.fitted,\n",
              "a:link.sk-estimator-doc-link.fitted,\n",
              "a:visited.sk-estimator-doc-link.fitted {\n",
              "  /* fitted */\n",
              "  border: var(--sklearn-color-fitted-level-1) 1pt solid;\n",
              "  color: var(--sklearn-color-fitted-level-1);\n",
              "}\n",
              "\n",
              "/* On hover */\n",
              "div.sk-estimator:hover .sk-estimator-doc-link:hover,\n",
              ".sk-estimator-doc-link:hover,\n",
              "div.sk-label-container:hover .sk-estimator-doc-link:hover,\n",
              ".sk-estimator-doc-link:hover {\n",
              "  /* unfitted */\n",
              "  background-color: var(--sklearn-color-unfitted-level-3);\n",
              "  color: var(--sklearn-color-background);\n",
              "  text-decoration: none;\n",
              "}\n",
              "\n",
              "div.sk-estimator.fitted:hover .sk-estimator-doc-link.fitted:hover,\n",
              ".sk-estimator-doc-link.fitted:hover,\n",
              "div.sk-label-container:hover .sk-estimator-doc-link.fitted:hover,\n",
              ".sk-estimator-doc-link.fitted:hover {\n",
              "  /* fitted */\n",
              "  background-color: var(--sklearn-color-fitted-level-3);\n",
              "  color: var(--sklearn-color-background);\n",
              "  text-decoration: none;\n",
              "}\n",
              "\n",
              "/* Span, style for the box shown on hovering the info icon */\n",
              ".sk-estimator-doc-link span {\n",
              "  display: none;\n",
              "  z-index: 9999;\n",
              "  position: relative;\n",
              "  font-weight: normal;\n",
              "  right: .2ex;\n",
              "  padding: .5ex;\n",
              "  margin: .5ex;\n",
              "  width: min-content;\n",
              "  min-width: 20ex;\n",
              "  max-width: 50ex;\n",
              "  color: var(--sklearn-color-text);\n",
              "  box-shadow: 2pt 2pt 4pt #999;\n",
              "  /* unfitted */\n",
              "  background: var(--sklearn-color-unfitted-level-0);\n",
              "  border: .5pt solid var(--sklearn-color-unfitted-level-3);\n",
              "}\n",
              "\n",
              ".sk-estimator-doc-link.fitted span {\n",
              "  /* fitted */\n",
              "  background: var(--sklearn-color-fitted-level-0);\n",
              "  border: var(--sklearn-color-fitted-level-3);\n",
              "}\n",
              "\n",
              ".sk-estimator-doc-link:hover span {\n",
              "  display: block;\n",
              "}\n",
              "\n",
              "/* \"?\"-specific style due to the `<a>` HTML tag */\n",
              "\n",
              "#sk-container-id-3 a.estimator_doc_link {\n",
              "  float: right;\n",
              "  font-size: 1rem;\n",
              "  line-height: 1em;\n",
              "  font-family: monospace;\n",
              "  background-color: var(--sklearn-color-background);\n",
              "  border-radius: 1rem;\n",
              "  height: 1rem;\n",
              "  width: 1rem;\n",
              "  text-decoration: none;\n",
              "  /* unfitted */\n",
              "  color: var(--sklearn-color-unfitted-level-1);\n",
              "  border: var(--sklearn-color-unfitted-level-1) 1pt solid;\n",
              "}\n",
              "\n",
              "#sk-container-id-3 a.estimator_doc_link.fitted {\n",
              "  /* fitted */\n",
              "  border: var(--sklearn-color-fitted-level-1) 1pt solid;\n",
              "  color: var(--sklearn-color-fitted-level-1);\n",
              "}\n",
              "\n",
              "/* On hover */\n",
              "#sk-container-id-3 a.estimator_doc_link:hover {\n",
              "  /* unfitted */\n",
              "  background-color: var(--sklearn-color-unfitted-level-3);\n",
              "  color: var(--sklearn-color-background);\n",
              "  text-decoration: none;\n",
              "}\n",
              "\n",
              "#sk-container-id-3 a.estimator_doc_link.fitted:hover {\n",
              "  /* fitted */\n",
              "  background-color: var(--sklearn-color-fitted-level-3);\n",
              "}\n",
              "</style><div id=\"sk-container-id-3\" class=\"sk-top-container\"><div class=\"sk-text-repr-fallback\"><pre>RandomForestClassifier(max_depth=10)</pre><b>In a Jupyter environment, please rerun this cell to show the HTML representation or trust the notebook. <br />On GitHub, the HTML representation is unable to render, please try loading this page with nbviewer.org.</b></div><div class=\"sk-container\" hidden><div class=\"sk-item\"><div class=\"sk-estimator fitted sk-toggleable\"><input class=\"sk-toggleable__control sk-hidden--visually\" id=\"sk-estimator-id-3\" type=\"checkbox\" checked><label for=\"sk-estimator-id-3\" class=\"sk-toggleable__label fitted sk-toggleable__label-arrow\"><div><div>RandomForestClassifier</div></div><div><a class=\"sk-estimator-doc-link fitted\" rel=\"noreferrer\" target=\"_blank\" href=\"https://scikit-learn.org/1.6/modules/generated/sklearn.ensemble.RandomForestClassifier.html\">?<span>Documentation for RandomForestClassifier</span></a><span class=\"sk-estimator-doc-link fitted\">i<span>Fitted</span></span></div></label><div class=\"sk-toggleable__content fitted\"><pre>RandomForestClassifier(max_depth=10)</pre></div> </div></div></div></div>"
            ]
          },
          "metadata": {},
          "execution_count": 23
        }
      ]
    },
    {
      "cell_type": "code",
      "source": [
        "print(f'Precision del modelo de entrenamiento es:{modelo_random_forest.score(x_train,y_train)}')\n",
        "print(f'Precision del modelo de validadcion es: {modelo_random_forest.score(x_val,y_val)}')"
      ],
      "metadata": {
        "id": "Se0yIoOxCdKm",
        "outputId": "a0f0d13c-e036-4679-d885-0ba7a756f703",
        "colab": {
          "base_uri": "https://localhost:8080/"
        }
      },
      "execution_count": 24,
      "outputs": [
        {
          "output_type": "stream",
          "name": "stdout",
          "text": [
            "Precision del modelo de entrenamiento es:0.9154471544715447\n",
            "Precision del modelo de validadcion es: 0.9128124727811167\n"
          ]
        }
      ]
    },
    {
      "cell_type": "markdown",
      "source": [
        "al observar el porcentaje de precision podemos observar que tuvo un pocentaje mejor que el del arbol de decision tanto en entrenamiento como en prueba"
      ],
      "metadata": {
        "id": "8YiLCu9wDDSZ"
      }
    },
    {
      "cell_type": "markdown",
      "source": [
        "Matriz de decision"
      ],
      "metadata": {
        "id": "DbuP5g_mDSEA"
      }
    },
    {
      "cell_type": "code",
      "source": [
        "y_previsto_forest=modelo_random_forest.predict(x_val)\n",
        "matriz_confucion_forest=confusion_matrix(y_val,y_previsto_forest)\n",
        "print(matriz_confucion_forest)"
      ],
      "metadata": {
        "id": "g8TxNHW4DVVW",
        "outputId": "43655382-2d1b-40db-f8be-04c4289e70b8",
        "colab": {
          "base_uri": "https://localhost:8080/"
        }
      },
      "execution_count": 31,
      "outputs": [
        {
          "output_type": "stream",
          "name": "stdout",
          "text": [
            "[[10477     2]\n",
            " [  999     3]]\n"
          ]
        }
      ]
    },
    {
      "cell_type": "code",
      "source": [
        "visualizacion_forest=ConfusionMatrixDisplay(confusion_matrix=matriz_confucion_forest,display_labels=['complido','moroso'] )\n",
        "visualizacion_forest.plot();"
      ],
      "metadata": {
        "id": "jd9kPS5DD6l1",
        "outputId": "036475e7-d63f-43c9-de6a-d0d212f9ad99",
        "colab": {
          "base_uri": "https://localhost:8080/",
          "height": 449
        }
      },
      "execution_count": 34,
      "outputs": [
        {
          "output_type": "display_data",
          "data": {
            "text/plain": [
              "<Figure size 640x480 with 2 Axes>"
            ],
            "image/png": "[encoded data removed]"
          },
          "metadata": {}
        }
      ]
    },
    {
      "cell_type": "markdown",
      "source": [
        "al ver la grafica de decision podemos observar que el modelo randomforest no logra detectar casi ningun cliente moroso como el modelo anterior aun teniendo un porcentaje mayor"
      ],
      "metadata": {
        "id": "2UtGmE_mFbLS"
      }
    },
    {
      "cell_type": "markdown",
      "source": [
        "## <font color='dark'>Métricas de evaluación</h1>"
      ],
      "metadata": {
        "id": "tPogL-24ntSH"
      }
    },
    {
      "cell_type": "markdown",
      "source": [
        "### Exactitud, precisión y recall (sensibilidad)."
      ],
      "metadata": {
        "id": "nP1WfyyR6XMl"
      }
    },
    {
      "cell_type": "markdown",
      "source": [
        "<a href=\"https://ibb.co/351SbY7t\"><img src=\"https://i.ibb.co/wZypqrRD/matriz-confusion.png\" alt=\"matriz-confusion\" border=\"0\"></a>"
      ],
      "metadata": {
        "id": "oE8N0NqoH6hy"
      }
    },
    {
      "cell_type": "markdown",
      "source": [
        "<a href=\"https://imgbb.com/\"><img src=\"https://i.ibb.co/6Jp6rKyC/Captura-de-tela-2025-03-22-120744.png\" alt=\"Captura-de-tela-2025-03-22-120744\" border=\"0\"></a>"
      ],
      "metadata": {
        "id": "k0ldCSgoZiPX"
      }
    },
    {
      "cell_type": "code",
      "source": [],
      "metadata": {
        "id": "IIEaf2fmPmq1"
      },
      "execution_count": null,
      "outputs": []
    },
    {
      "cell_type": "code",
      "source": [],
      "metadata": {
        "id": "QnGxEIrWPmbx"
      },
      "execution_count": null,
      "outputs": []
    },
    {
      "cell_type": "code",
      "source": [],
      "metadata": {
        "id": "7C7NoVZnPmX1"
      },
      "execution_count": null,
      "outputs": []
    },
    {
      "cell_type": "code",
      "source": [],
      "metadata": {
        "id": "u2SqICFJPmU-"
      },
      "execution_count": null,
      "outputs": []
    },
    {
      "cell_type": "markdown",
      "source": [
        "### Curva ROC"
      ],
      "metadata": {
        "id": "I8ELhexg2jNx"
      }
    },
    {
      "cell_type": "code",
      "source": [
        "from IPython.display import Image\n",
        "Image(url='https://raw.githubusercontent.com/dariyasydykova/open_projects/master/ROC_animation/animations/cutoff.gif')"
      ],
      "metadata": {
        "colab": {
          "base_uri": "https://localhost:8080/",
          "height": 420
        },
        "id": "PhUNE4Xm4MII",
        "outputId": "af2368d8-847d-459b-b11a-c079a4d4c433"
      },
      "execution_count": null,
      "outputs": [
        {
          "output_type": "execute_result",
          "data": {
            "text/html": [
              "<img src=\"https://raw.githubusercontent.com/dariyasydykova/open_projects/master/ROC_animation/animations/cutoff.gif\"/>"
            ],
            "text/plain": [
              "<IPython.core.display.Image object>"
            ]
          },
          "metadata": {},
          "execution_count": 20
        }
      ]
    },
    {
      "cell_type": "markdown",
      "source": [
        "Fuente: [paulvanderlaken.com](https://paulvanderlaken.com/2019/08/16/roc-auc-precision-and-recall-visually-explained/)\n",
        "\n",
        "\n"
      ],
      "metadata": {
        "id": "XK8_7Ruy32BT"
      }
    },
    {
      "cell_type": "code",
      "source": [],
      "metadata": {
        "id": "FHc-8FjePhM6"
      },
      "execution_count": null,
      "outputs": []
    },
    {
      "cell_type": "code",
      "source": [],
      "metadata": {
        "id": "V6Ua2rY3PhFt"
      },
      "execution_count": null,
      "outputs": []
    },
    {
      "cell_type": "code",
      "source": [],
      "metadata": {
        "id": "LJE-yyWMPg8R"
      },
      "execution_count": null,
      "outputs": []
    },
    {
      "cell_type": "code",
      "source": [],
      "metadata": {
        "id": "7mtvjPHsPi1o"
      },
      "execution_count": null,
      "outputs": []
    },
    {
      "cell_type": "markdown",
      "source": [
        "### Curva de  precisión x sensibilidad"
      ],
      "metadata": {
        "id": "IztSEZfh7QFe"
      }
    },
    {
      "cell_type": "code",
      "source": [
        "Image(url='https://paulvanderlaken.com/wp-content/uploads/2019/08/roc.gif')"
      ],
      "metadata": {
        "colab": {
          "base_uri": "https://localhost:8080/",
          "height": 420
        },
        "id": "EJzfjuxa3fxD",
        "outputId": "924ea149-4438-48f7-cec5-e2ebd55c5fc8"
      },
      "execution_count": null,
      "outputs": [
        {
          "output_type": "execute_result",
          "data": {
            "text/html": [
              "<img src=\"https://paulvanderlaken.com/wp-content/uploads/2019/08/roc.gif\"/>"
            ],
            "text/plain": [
              "<IPython.core.display.Image object>"
            ]
          },
          "metadata": {},
          "execution_count": 25
        }
      ]
    },
    {
      "cell_type": "markdown",
      "source": [
        "Fuente: [paulvanderlaken.com](https://paulvanderlaken.com/2019/08/16/roc-auc-precision-and-recall-visually-explained/)\n"
      ],
      "metadata": {
        "id": "bUoGCSUB4msC"
      }
    },
    {
      "cell_type": "code",
      "source": [],
      "metadata": {
        "id": "7t20ira6Pcds"
      },
      "execution_count": null,
      "outputs": []
    },
    {
      "cell_type": "code",
      "source": [],
      "metadata": {
        "id": "Drs3Z6RTPcTc"
      },
      "execution_count": null,
      "outputs": []
    },
    {
      "cell_type": "code",
      "source": [],
      "metadata": {
        "id": "DmhO5H5cPcOp"
      },
      "execution_count": null,
      "outputs": []
    },
    {
      "cell_type": "code",
      "source": [],
      "metadata": {
        "id": "SS08sHDkPeaG"
      },
      "execution_count": null,
      "outputs": []
    },
    {
      "cell_type": "markdown",
      "source": [
        "### Informe de métricas"
      ],
      "metadata": {
        "id": "Bm2E6GEJDJLH"
      }
    },
    {
      "cell_type": "code",
      "source": [],
      "metadata": {
        "id": "C85qunYhPZTJ"
      },
      "execution_count": null,
      "outputs": []
    },
    {
      "cell_type": "code",
      "source": [],
      "metadata": {
        "id": "pnN6QRlYPZQR"
      },
      "execution_count": null,
      "outputs": []
    },
    {
      "cell_type": "markdown",
      "source": [
        "## <font color='dark'> Validación cruzada</h1>"
      ],
      "metadata": {
        "id": "SuxCy_oZZQxE"
      }
    },
    {
      "cell_type": "markdown",
      "source": [
        "### Usando KFold"
      ],
      "metadata": {
        "id": "17q2T0iRnzSg"
      }
    },
    {
      "cell_type": "markdown",
      "source": [
        "La validación del modelo de clasificación a partir de la separación de los datos en conjuntos de entrenamiento y validación hace que el resultado dependa en gran medida de esta división. Puede suceder que, de forma aleatoria, el patrón de los datos de validación sea diferente al de los datos de entrenamiento, lo que podría llevar a obtener un resultado mucho mejor o mucho peor que la realidad simplemente por suerte o mala suerte.  \n",
        "\n",
        "Teniendo esto en cuenta, es posible utilizar la **validación cruzada**, una estrategia más consistente y ampliamente utilizada en proyectos de *machine learning*.  \n",
        "\n",
        "En la validación cruzada, en lugar de separar los datos en entrenamiento y validación una sola vez, se dividen en varias partes de igual tamaño. En cada una de estas divisiones, se usa una parte para validación y todas las demás para entrenamiento. Este proceso se repite hasta que todas las partes hayan sido utilizadas tanto para validación como para entrenamiento.  \n",
        "\n",
        "Se generará un modelo para cada una de estas divisiones y la evaluación del desempeño se realizará promediando la métrica de cada modelo. Esto elimina la dependencia de la separación de los datos, ya que hay una mayor variación en la selección de los mismos y se obtiene un valor medio.  \n",
        "\n",
        "Generalmente, se utilizan 5 o 10 partes. Un número mayor no suele ser necesario, ya que implica un procesamiento más costoso, y valores menores ya ayudan a mitigar el problema de la selección de los datos."
      ],
      "metadata": {
        "id": "zjfYnDWJ6C2A"
      }
    },
    {
      "cell_type": "markdown",
      "source": [
        "<a href=\"https://ibb.co/KcBtshJR\"><img src=\"https://i.ibb.co/nq4X1mFZ/train-y-validacion.png\" alt=\"train-y-validacion\" border=\"0\"></a>"
      ],
      "metadata": {
        "id": "oSboV-QNMG__"
      }
    },
    {
      "cell_type": "code",
      "source": [],
      "metadata": {
        "id": "TU8HYdzmPI7P"
      },
      "execution_count": null,
      "outputs": []
    },
    {
      "cell_type": "code",
      "source": [],
      "metadata": {
        "id": "McSadnzDPI4G"
      },
      "execution_count": null,
      "outputs": []
    },
    {
      "cell_type": "code",
      "source": [],
      "metadata": {
        "id": "o5oZ8-lhPIy_"
      },
      "execution_count": null,
      "outputs": []
    },
    {
      "cell_type": "markdown",
      "source": [
        "### Validación cruzada con sensibilidad"
      ],
      "metadata": {
        "id": "GAHrtLM2OCjO"
      }
    },
    {
      "cell_type": "code",
      "source": [],
      "metadata": {
        "id": "Ywfsoe3_PLYZ"
      },
      "execution_count": null,
      "outputs": []
    },
    {
      "cell_type": "code",
      "source": [],
      "metadata": {
        "id": "PV3m-6IxPLMf"
      },
      "execution_count": null,
      "outputs": []
    },
    {
      "cell_type": "code",
      "source": [],
      "metadata": {
        "id": "Y-gpgU7pPLJv"
      },
      "execution_count": null,
      "outputs": []
    },
    {
      "cell_type": "markdown",
      "source": [
        "### Estratificando los datos"
      ],
      "metadata": {
        "id": "-FAOYtNen4qJ"
      }
    },
    {
      "cell_type": "code",
      "source": [],
      "metadata": {
        "id": "G6bPA6vaPN1A"
      },
      "execution_count": null,
      "outputs": []
    },
    {
      "cell_type": "code",
      "source": [],
      "metadata": {
        "id": "HONIpY1BPNzd"
      },
      "execution_count": null,
      "outputs": []
    },
    {
      "cell_type": "code",
      "source": [],
      "metadata": {
        "id": "jCFRBhd_PNxT"
      },
      "execution_count": null,
      "outputs": []
    },
    {
      "cell_type": "markdown",
      "source": [
        "## <font color='dark'>Balanceo de los datos</h1>"
      ],
      "metadata": {
        "id": "yaVwNb1kn8sX"
      }
    },
    {
      "cell_type": "markdown",
      "source": [
        "### Oversampling"
      ],
      "metadata": {
        "id": "4eYKxWJd6g6w"
      }
    },
    {
      "cell_type": "markdown",
      "source": [
        "https://imbalanced-learn.org/stable/references/generated/imblearn.over_sampling.SMOTE.html#id1"
      ],
      "metadata": {
        "id": "N0MJ7hGUmL4l"
      }
    },
    {
      "cell_type": "code",
      "source": [],
      "metadata": {
        "id": "cO0Dx5xAO4B5"
      },
      "execution_count": null,
      "outputs": []
    },
    {
      "cell_type": "code",
      "source": [],
      "metadata": {
        "id": "h6DQqcttO3_c"
      },
      "execution_count": null,
      "outputs": []
    },
    {
      "cell_type": "code",
      "source": [],
      "metadata": {
        "id": "7Lp4GoMRO355"
      },
      "execution_count": null,
      "outputs": []
    },
    {
      "cell_type": "markdown",
      "source": [
        "### Pipeline para validación"
      ],
      "metadata": {
        "id": "fHSNXznm6ia-"
      }
    },
    {
      "cell_type": "code",
      "source": [],
      "metadata": {
        "id": "DaoAbR84O44S"
      },
      "execution_count": null,
      "outputs": []
    },
    {
      "cell_type": "code",
      "source": [],
      "metadata": {
        "id": "7UezUduWO41c"
      },
      "execution_count": null,
      "outputs": []
    },
    {
      "cell_type": "code",
      "source": [],
      "metadata": {
        "id": "b7Z-pe6wO4yN"
      },
      "execution_count": null,
      "outputs": []
    },
    {
      "cell_type": "markdown",
      "source": [
        "### Undersampling"
      ],
      "metadata": {
        "id": "66PlvwjX6kFv"
      }
    },
    {
      "cell_type": "markdown",
      "source": [
        "https://imbalanced-learn.org/stable/references/generated/imblearn.under_sampling.NearMiss.html"
      ],
      "metadata": {
        "id": "Fh6VZN5Fx7wl"
      }
    },
    {
      "cell_type": "code",
      "source": [],
      "metadata": {
        "id": "lUn59uqAO63N"
      },
      "execution_count": null,
      "outputs": []
    },
    {
      "cell_type": "code",
      "source": [],
      "metadata": {
        "id": "pOUKHwqRO6zb"
      },
      "execution_count": null,
      "outputs": []
    },
    {
      "cell_type": "code",
      "source": [],
      "metadata": {
        "id": "ykn9H4kFO6so"
      },
      "execution_count": null,
      "outputs": []
    },
    {
      "cell_type": "markdown",
      "source": [
        "### Probando el modelo"
      ],
      "metadata": {
        "id": "EP-44U0eHt-a"
      }
    },
    {
      "cell_type": "code",
      "source": [],
      "metadata": {
        "id": "XWhZlwOTO8eN"
      },
      "execution_count": null,
      "outputs": []
    },
    {
      "cell_type": "code",
      "source": [],
      "metadata": {
        "id": "gZHVqM6hO8bt"
      },
      "execution_count": null,
      "outputs": []
    },
    {
      "cell_type": "code",
      "source": [],
      "metadata": {
        "id": "QSrpOQpxO8WT"
      },
      "execution_count": null,
      "outputs": []
    },
    {
      "cell_type": "code",
      "metadata": {
        "id": "eb44321f"
      },
      "source": [
        "# Evaluate the model on the validation set\n",
        "accuracy = modelo.score(x_val, y_val)\n",
        "print(f'La exactitud del modelo en el conjunto de validación es: {accuracy}')"
      ],
      "execution_count": null,
      "outputs": []
    }
  ]
}