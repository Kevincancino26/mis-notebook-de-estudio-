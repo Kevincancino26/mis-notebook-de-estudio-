{
  "nbformat": 4,
  "nbformat_minor": 0,
  "metadata": {
    "colab": {
      "provenance": [],
      "include_colab_link": true
    },
    "kernelspec": {
      "name": "python3",
      "display_name": "Python 3"
    },
    "language_info": {
      "name": "python"
    }
  },
  "cells": [
    {
      "cell_type": "markdown",
      "metadata": {
        "id": "view-in-github",
        "colab_type": "text"
      },
      "source": [
        "<a href=\"https://colab.research.google.com/github/Kevincancino26/mis-notebook-de-estudio-/blob/main/Clasificacion_primeros_pasos(Clasificaci%C3%B3n%3A%20aprendiendo%20a%20clasificar%20datos%20con%20Machine%20Learning).ipynb\" target=\"_parent\"><img src=\"https://colab.research.google.com/assets/colab-badge.svg\" alt=\"Open In Colab\"/></a>"
      ]
    },
    {
      "cell_type": "markdown",
      "source": [
        "# **Clasificación: Primeros pasos**"
      ],
      "metadata": {
        "id": "MJ3tSbLsBPhe"
      }
    },
    {
      "cell_type": "markdown",
      "source": [
        "En este proyecto, analizaremos datos de una campaña de marketing para la adhesión a inversiones. El objetivo es utilizar la información de los datos para predecir si los clientes de un banco invertirán su dinero o no.  \n",
        "\n",
        "Esta predicción se realizará mediante **machine learning**, y este notebook contendrá los pasos para obtener un modelo capaz de hacer dichas predicciones, desde la **lectura**, **análisis exploratorio**, **separación** y **transformación** de los datos, hasta el **ajuste**, **evaluación** y **comparación** de modelos de clasificación."
      ],
      "metadata": {
        "id": "CYC5vst2FcaG"
      }
    },
    {
      "cell_type": "markdown",
      "source": [
        "# 1. Análisis exploratorio"
      ],
      "metadata": {
        "id": "dr9I9xCXoICN"
      }
    },
    {
      "cell_type": "markdown",
      "source": [
        "## Realizando la lectura de los datos"
      ],
      "metadata": {
        "id": "fwuPpdZOBTUn"
      }
    },
    {
      "cell_type": "markdown",
      "source": [
        "Podemos leer los datos utilizando la biblioteca `pandas`. Por esta razón, importaremos la biblioteca con el comando `import pandas as pd`.  \n",
        "\n",
        "Dado que el archivo de datos está en formato *csv*, realizaremos la lectura con la función [`read_csv()`](https://pandas.pydata.org/docs/reference/api/pandas.read_csv.html)."
      ],
      "metadata": {
        "id": "YzOu8ojHPemt"
      }
    },
    {
      "cell_type": "code",
      "source": [
        "import pandas as pd"
      ],
      "metadata": {
        "id": "qCu51gr8BNML"
      },
      "execution_count": 1,
      "outputs": []
    },
    {
      "cell_type": "code",
      "source": [
        "datos=pd.read_csv('/content/marketing_inversiones.csv')"
      ],
      "metadata": {
        "id": "_B6_HwqjBM_P"
      },
      "execution_count": 2,
      "outputs": []
    },
    {
      "cell_type": "code",
      "source": [
        "datos.head()"
      ],
      "metadata": {
        "id": "JHq2MlGdBM8l",
        "outputId": "31c1e3ce-2e74-491a-a3d2-a574a5382e48",
        "colab": {
          "base_uri": "https://localhost:8080/",
          "height": 206
        }
      },
      "execution_count": 3,
      "outputs": [
        {
          "output_type": "execute_result",
          "data": {
            "text/plain": [
              "   edad    estado_civil escolaridad default  saldo prestatario  \\\n",
              "0    45      casado (a)    superior      no    242          no   \n",
              "1    42      casado (a)  secundaria      no   1289          no   \n",
              "2    23     soltero (a)    superior      no    363          no   \n",
              "3    58  divorciado (a)    superior      no   1382          no   \n",
              "4    50      casado (a)  secundaria      no   3357          no   \n",
              "\n",
              "   ultimo_contacto  ct_contactos adherencia_inversion  \n",
              "0              587             1                   si  \n",
              "1              250             4                   si  \n",
              "2               16            18                   no  \n",
              "3              700             1                   si  \n",
              "4              239             4                   si  "
            ],
            "text/html": [
              "\n",
              "  <div id=\"df-dc7fa777-d16b-4f1b-8403-47ab90b9deee\" class=\"colab-df-container\">\n",
              "    <div>\n",
              "<style scoped>\n",
              "    .dataframe tbody tr th:only-of-type {\n",
              "        vertical-align: middle;\n",
              "    }\n",
              "\n",
              "    .dataframe tbody tr th {\n",
              "        vertical-align: top;\n",
              "    }\n",
              "\n",
              "    .dataframe thead th {\n",
              "        text-align: right;\n",
              "    }\n",
              "</style>\n",
              "<table border=\"1\" class=\"dataframe\">\n",
              "  <thead>\n",
              "    <tr style=\"text-align: right;\">\n",
              "      <th></th>\n",
              "      <th>edad</th>\n",
              "      <th>estado_civil</th>\n",
              "      <th>escolaridad</th>\n",
              "      <th>default</th>\n",
              "      <th>saldo</th>\n",
              "      <th>prestatario</th>\n",
              "      <th>ultimo_contacto</th>\n",
              "      <th>ct_contactos</th>\n",
              "      <th>adherencia_inversion</th>\n",
              "    </tr>\n",
              "  </thead>\n",
              "  <tbody>\n",
              "    <tr>\n",
              "      <th>0</th>\n",
              "      <td>45</td>\n",
              "      <td>casado (a)</td>\n",
              "      <td>superior</td>\n",
              "      <td>no</td>\n",
              "      <td>242</td>\n",
              "      <td>no</td>\n",
              "      <td>587</td>\n",
              "      <td>1</td>\n",
              "      <td>si</td>\n",
              "    </tr>\n",
              "    <tr>\n",
              "      <th>1</th>\n",
              "      <td>42</td>\n",
              "      <td>casado (a)</td>\n",
              "      <td>secundaria</td>\n",
              "      <td>no</td>\n",
              "      <td>1289</td>\n",
              "      <td>no</td>\n",
              "      <td>250</td>\n",
              "      <td>4</td>\n",
              "      <td>si</td>\n",
              "    </tr>\n",
              "    <tr>\n",
              "      <th>2</th>\n",
              "      <td>23</td>\n",
              "      <td>soltero (a)</td>\n",
              "      <td>superior</td>\n",
              "      <td>no</td>\n",
              "      <td>363</td>\n",
              "      <td>no</td>\n",
              "      <td>16</td>\n",
              "      <td>18</td>\n",
              "      <td>no</td>\n",
              "    </tr>\n",
              "    <tr>\n",
              "      <th>3</th>\n",
              "      <td>58</td>\n",
              "      <td>divorciado (a)</td>\n",
              "      <td>superior</td>\n",
              "      <td>no</td>\n",
              "      <td>1382</td>\n",
              "      <td>no</td>\n",
              "      <td>700</td>\n",
              "      <td>1</td>\n",
              "      <td>si</td>\n",
              "    </tr>\n",
              "    <tr>\n",
              "      <th>4</th>\n",
              "      <td>50</td>\n",
              "      <td>casado (a)</td>\n",
              "      <td>secundaria</td>\n",
              "      <td>no</td>\n",
              "      <td>3357</td>\n",
              "      <td>no</td>\n",
              "      <td>239</td>\n",
              "      <td>4</td>\n",
              "      <td>si</td>\n",
              "    </tr>\n",
              "  </tbody>\n",
              "</table>\n",
              "</div>\n",
              "    <div class=\"colab-df-buttons\">\n",
              "\n",
              "  <div class=\"colab-df-container\">\n",
              "    <button class=\"colab-df-convert\" onclick=\"convertToInteractive('df-dc7fa777-d16b-4f1b-8403-47ab90b9deee')\"\n",
              "            title=\"Convert this dataframe to an interactive table.\"\n",
              "            style=\"display:none;\">\n",
              "\n",
              "  <svg xmlns=\"http://www.w3.org/2000/svg\" height=\"24px\" viewBox=\"0 -960 960 960\">\n",
              "    <path d=\"M120-120v-720h720v720H120Zm60-500h600v-160H180v160Zm220 220h160v-160H400v160Zm0 220h160v-160H400v160ZM180-400h160v-160H180v160Zm440 0h160v-160H620v160ZM180-180h160v-160H180v160Zm440 0h160v-160H620v160Z\"/>\n",
              "  </svg>\n",
              "    </button>\n",
              "\n",
              "  <style>\n",
              "    .colab-df-container {\n",
              "      display:flex;\n",
              "      gap: 12px;\n",
              "    }\n",
              "\n",
              "    .colab-df-convert {\n",
              "      background-color: #E8F0FE;\n",
              "      border: none;\n",
              "      border-radius: 50%;\n",
              "      cursor: pointer;\n",
              "      display: none;\n",
              "      fill: #1967D2;\n",
              "      height: 32px;\n",
              "      padding: 0 0 0 0;\n",
              "      width: 32px;\n",
              "    }\n",
              "\n",
              "    .colab-df-convert:hover {\n",
              "      background-color: #E2EBFA;\n",
              "      box-shadow: 0px 1px 2px rgba(60, 64, 67, 0.3), 0px 1px 3px 1px rgba(60, 64, 67, 0.15);\n",
              "      fill: #174EA6;\n",
              "    }\n",
              "\n",
              "    .colab-df-buttons div {\n",
              "      margin-bottom: 4px;\n",
              "    }\n",
              "\n",
              "    [theme=dark] .colab-df-convert {\n",
              "      background-color: #3B4455;\n",
              "      fill: #D2E3FC;\n",
              "    }\n",
              "\n",
              "    [theme=dark] .colab-df-convert:hover {\n",
              "      background-color: #434B5C;\n",
              "      box-shadow: 0px 1px 3px 1px rgba(0, 0, 0, 0.15);\n",
              "      filter: drop-shadow(0px 1px 2px rgba(0, 0, 0, 0.3));\n",
              "      fill: #FFFFFF;\n",
              "    }\n",
              "  </style>\n",
              "\n",
              "    <script>\n",
              "      const buttonEl =\n",
              "        document.querySelector('#df-dc7fa777-d16b-4f1b-8403-47ab90b9deee button.colab-df-convert');\n",
              "      buttonEl.style.display =\n",
              "        google.colab.kernel.accessAllowed ? 'block' : 'none';\n",
              "\n",
              "      async function convertToInteractive(key) {\n",
              "        const element = document.querySelector('#df-dc7fa777-d16b-4f1b-8403-47ab90b9deee');\n",
              "        const dataTable =\n",
              "          await google.colab.kernel.invokeFunction('convertToInteractive',\n",
              "                                                    [key], {});\n",
              "        if (!dataTable) return;\n",
              "\n",
              "        const docLinkHtml = 'Like what you see? Visit the ' +\n",
              "          '<a target=\"_blank\" href=https://colab.research.google.com/notebooks/data_table.ipynb>data table notebook</a>'\n",
              "          + ' to learn more about interactive tables.';\n",
              "        element.innerHTML = '';\n",
              "        dataTable['output_type'] = 'display_data';\n",
              "        await google.colab.output.renderOutput(dataTable, element);\n",
              "        const docLink = document.createElement('div');\n",
              "        docLink.innerHTML = docLinkHtml;\n",
              "        element.appendChild(docLink);\n",
              "      }\n",
              "    </script>\n",
              "  </div>\n",
              "\n",
              "\n",
              "    <div id=\"df-9bd9c0ec-ecfd-4c84-850a-690be82be0c3\">\n",
              "      <button class=\"colab-df-quickchart\" onclick=\"quickchart('df-9bd9c0ec-ecfd-4c84-850a-690be82be0c3')\"\n",
              "                title=\"Suggest charts\"\n",
              "                style=\"display:none;\">\n",
              "\n",
              "<svg xmlns=\"http://www.w3.org/2000/svg\" height=\"24px\"viewBox=\"0 0 24 24\"\n",
              "     width=\"24px\">\n",
              "    <g>\n",
              "        <path d=\"M19 3H5c-1.1 0-2 .9-2 2v14c0 1.1.9 2 2 2h14c1.1 0 2-.9 2-2V5c0-1.1-.9-2-2-2zM9 17H7v-7h2v7zm4 0h-2V7h2v10zm4 0h-2v-4h2v4z\"/>\n",
              "    </g>\n",
              "</svg>\n",
              "      </button>\n",
              "\n",
              "<style>\n",
              "  .colab-df-quickchart {\n",
              "      --bg-color: #E8F0FE;\n",
              "      --fill-color: #1967D2;\n",
              "      --hover-bg-color: #E2EBFA;\n",
              "      --hover-fill-color: #174EA6;\n",
              "      --disabled-fill-color: #AAA;\n",
              "      --disabled-bg-color: #DDD;\n",
              "  }\n",
              "\n",
              "  [theme=dark] .colab-df-quickchart {\n",
              "      --bg-color: #3B4455;\n",
              "      --fill-color: #D2E3FC;\n",
              "      --hover-bg-color: #434B5C;\n",
              "      --hover-fill-color: #FFFFFF;\n",
              "      --disabled-bg-color: #3B4455;\n",
              "      --disabled-fill-color: #666;\n",
              "  }\n",
              "\n",
              "  .colab-df-quickchart {\n",
              "    background-color: var(--bg-color);\n",
              "    border: none;\n",
              "    border-radius: 50%;\n",
              "    cursor: pointer;\n",
              "    display: none;\n",
              "    fill: var(--fill-color);\n",
              "    height: 32px;\n",
              "    padding: 0;\n",
              "    width: 32px;\n",
              "  }\n",
              "\n",
              "  .colab-df-quickchart:hover {\n",
              "    background-color: var(--hover-bg-color);\n",
              "    box-shadow: 0 1px 2px rgba(60, 64, 67, 0.3), 0 1px 3px 1px rgba(60, 64, 67, 0.15);\n",
              "    fill: var(--button-hover-fill-color);\n",
              "  }\n",
              "\n",
              "  .colab-df-quickchart-complete:disabled,\n",
              "  .colab-df-quickchart-complete:disabled:hover {\n",
              "    background-color: var(--disabled-bg-color);\n",
              "    fill: var(--disabled-fill-color);\n",
              "    box-shadow: none;\n",
              "  }\n",
              "\n",
              "  .colab-df-spinner {\n",
              "    border: 2px solid var(--fill-color);\n",
              "    border-color: transparent;\n",
              "    border-bottom-color: var(--fill-color);\n",
              "    animation:\n",
              "      spin 1s steps(1) infinite;\n",
              "  }\n",
              "\n",
              "  @keyframes spin {\n",
              "    0% {\n",
              "      border-color: transparent;\n",
              "      border-bottom-color: var(--fill-color);\n",
              "      border-left-color: var(--fill-color);\n",
              "    }\n",
              "    20% {\n",
              "      border-color: transparent;\n",
              "      border-left-color: var(--fill-color);\n",
              "      border-top-color: var(--fill-color);\n",
              "    }\n",
              "    30% {\n",
              "      border-color: transparent;\n",
              "      border-left-color: var(--fill-color);\n",
              "      border-top-color: var(--fill-color);\n",
              "      border-right-color: var(--fill-color);\n",
              "    }\n",
              "    40% {\n",
              "      border-color: transparent;\n",
              "      border-right-color: var(--fill-color);\n",
              "      border-top-color: var(--fill-color);\n",
              "    }\n",
              "    60% {\n",
              "      border-color: transparent;\n",
              "      border-right-color: var(--fill-color);\n",
              "    }\n",
              "    80% {\n",
              "      border-color: transparent;\n",
              "      border-right-color: var(--fill-color);\n",
              "      border-bottom-color: var(--fill-color);\n",
              "    }\n",
              "    90% {\n",
              "      border-color: transparent;\n",
              "      border-bottom-color: var(--fill-color);\n",
              "    }\n",
              "  }\n",
              "</style>\n",
              "\n",
              "      <script>\n",
              "        async function quickchart(key) {\n",
              "          const quickchartButtonEl =\n",
              "            document.querySelector('#' + key + ' button');\n",
              "          quickchartButtonEl.disabled = true;  // To prevent multiple clicks.\n",
              "          quickchartButtonEl.classList.add('colab-df-spinner');\n",
              "          try {\n",
              "            const charts = await google.colab.kernel.invokeFunction(\n",
              "                'suggestCharts', [key], {});\n",
              "          } catch (error) {\n",
              "            console.error('Error during call to suggestCharts:', error);\n",
              "          }\n",
              "          quickchartButtonEl.classList.remove('colab-df-spinner');\n",
              "          quickchartButtonEl.classList.add('colab-df-quickchart-complete');\n",
              "        }\n",
              "        (() => {\n",
              "          let quickchartButtonEl =\n",
              "            document.querySelector('#df-9bd9c0ec-ecfd-4c84-850a-690be82be0c3 button');\n",
              "          quickchartButtonEl.style.display =\n",
              "            google.colab.kernel.accessAllowed ? 'block' : 'none';\n",
              "        })();\n",
              "      </script>\n",
              "    </div>\n",
              "\n",
              "    </div>\n",
              "  </div>\n"
            ],
            "application/vnd.google.colaboratory.intrinsic+json": {
              "type": "dataframe",
              "variable_name": "datos",
              "summary": "{\n  \"name\": \"datos\",\n  \"rows\": 1268,\n  \"fields\": [\n    {\n      \"column\": \"edad\",\n      \"properties\": {\n        \"dtype\": \"number\",\n        \"std\": 11,\n        \"min\": 19,\n        \"max\": 87,\n        \"num_unique_values\": 64,\n        \"samples\": [\n          70,\n          77,\n          45\n        ],\n        \"semantic_type\": \"\",\n        \"description\": \"\"\n      }\n    },\n    {\n      \"column\": \"estado_civil\",\n      \"properties\": {\n        \"dtype\": \"category\",\n        \"num_unique_values\": 3,\n        \"samples\": [\n          \"casado (a)\",\n          \"soltero (a)\",\n          \"divorciado (a)\"\n        ],\n        \"semantic_type\": \"\",\n        \"description\": \"\"\n      }\n    },\n    {\n      \"column\": \"escolaridad\",\n      \"properties\": {\n        \"dtype\": \"category\",\n        \"num_unique_values\": 3,\n        \"samples\": [\n          \"superior\",\n          \"secundaria\",\n          \"primaria\"\n        ],\n        \"semantic_type\": \"\",\n        \"description\": \"\"\n      }\n    },\n    {\n      \"column\": \"default\",\n      \"properties\": {\n        \"dtype\": \"category\",\n        \"num_unique_values\": 2,\n        \"samples\": [\n          \"si\",\n          \"no\"\n        ],\n        \"semantic_type\": \"\",\n        \"description\": \"\"\n      }\n    },\n    {\n      \"column\": \"saldo\",\n      \"properties\": {\n        \"dtype\": \"number\",\n        \"std\": 2690,\n        \"min\": -1206,\n        \"max\": 27069,\n        \"num_unique_values\": 946,\n        \"samples\": [\n          1148,\n          -247\n        ],\n        \"semantic_type\": \"\",\n        \"description\": \"\"\n      }\n    },\n    {\n      \"column\": \"prestatario\",\n      \"properties\": {\n        \"dtype\": \"category\",\n        \"num_unique_values\": 2,\n        \"samples\": [\n          \"si\",\n          \"no\"\n        ],\n        \"semantic_type\": \"\",\n        \"description\": \"\"\n      }\n    },\n    {\n      \"column\": \"ultimo_contacto\",\n      \"properties\": {\n        \"dtype\": \"number\",\n        \"std\": 347,\n        \"min\": 5,\n        \"max\": 3025,\n        \"num_unique_values\": 646,\n        \"samples\": [\n          1006,\n          1060\n        ],\n        \"semantic_type\": \"\",\n        \"description\": \"\"\n      }\n    },\n    {\n      \"column\": \"ct_contactos\",\n      \"properties\": {\n        \"dtype\": \"number\",\n        \"std\": 2,\n        \"min\": 1,\n        \"max\": 32,\n        \"num_unique_values\": 21,\n        \"samples\": [\n          1,\n          24\n        ],\n        \"semantic_type\": \"\",\n        \"description\": \"\"\n      }\n    },\n    {\n      \"column\": \"adherencia_inversion\",\n      \"properties\": {\n        \"dtype\": \"category\",\n        \"num_unique_values\": 2,\n        \"samples\": [\n          \"no\",\n          \"si\"\n        ],\n        \"semantic_type\": \"\",\n        \"description\": \"\"\n      }\n    }\n  ]\n}"
            }
          },
          "metadata": {},
          "execution_count": 3
        }
      ]
    },
    {
      "cell_type": "markdown",
      "source": [
        "Para crear modelos de clasificación, necesitamos utilizar datos de calidad, sin inconsistencias y sin datos faltantes. Verificaremos si existen datos nulos y el tipo de datos de cada columna en la base de datos utilizando el método [`info()`](https://pandas.pydata.org/docs/reference/api/pandas.DataFrame.info.html)."
      ],
      "metadata": {
        "id": "y5VuhIoQQC51"
      }
    },
    {
      "cell_type": "code",
      "source": [
        "datos.info()"
      ],
      "metadata": {
        "id": "C5GX4iFHBPaC",
        "colab": {
          "base_uri": "https://localhost:8080/"
        },
        "outputId": "52187c34-fc00-435e-936b-69574dc45ef8"
      },
      "execution_count": 4,
      "outputs": [
        {
          "output_type": "stream",
          "name": "stdout",
          "text": [
            "<class 'pandas.core.frame.DataFrame'>\n",
            "RangeIndex: 1268 entries, 0 to 1267\n",
            "Data columns (total 9 columns):\n",
            " #   Column                Non-Null Count  Dtype \n",
            "---  ------                --------------  ----- \n",
            " 0   edad                  1268 non-null   int64 \n",
            " 1   estado_civil          1268 non-null   object\n",
            " 2   escolaridad           1268 non-null   object\n",
            " 3   default               1268 non-null   object\n",
            " 4   saldo                 1268 non-null   int64 \n",
            " 5   prestatario           1268 non-null   object\n",
            " 6   ultimo_contacto       1268 non-null   int64 \n",
            " 7   ct_contactos          1268 non-null   int64 \n",
            " 8   adherencia_inversion  1268 non-null   object\n",
            "dtypes: int64(4), object(5)\n",
            "memory usage: 89.3+ KB\n"
          ]
        }
      ]
    },
    {
      "cell_type": "markdown",
      "source": [
        "## Explorando los datos"
      ],
      "metadata": {
        "id": "sgiS9acdmOQn"
      }
    },
    {
      "cell_type": "markdown",
      "source": [
        "Una etapa muy importante en proyectos de *machine learning* es la exploración y comprensión de los datos, conocida como **análisis exploratorio**. Podemos utilizar gráficos para verificar qué información contiene cada una de las columnas de la base de datos, así como identificar inconsistencias y patrones que puedan existir.  \n",
        "\n",
        "Exploraremos cada una de las columnas de la base de datos utilizando la biblioteca `plotly`. Comenzaremos con las variables categóricas y luego analizaremos las variables numéricas."
      ],
      "metadata": {
        "id": "rMyhhPIMQnWt"
      }
    },
    {
      "cell_type": "markdown",
      "source": [
        "para poder ver la distribucion de nuestross datos de acuerdo a nuesstras variables categoricas, podemos usasr un histograma dado que assi podemos de manera vizual ver esta distribucion"
      ],
      "metadata": {
        "id": "Ii-RyE2LiG-3"
      }
    },
    {
      "cell_type": "markdown",
      "source": [
        "### Variables categóricas"
      ],
      "metadata": {
        "id": "I6m3meBiMLk8"
      }
    },
    {
      "cell_type": "code",
      "source": [
        "import plotly.express as px"
      ],
      "metadata": {
        "id": "kBCrnevSBR0l"
      },
      "execution_count": 5,
      "outputs": []
    },
    {
      "cell_type": "code",
      "source": [
        "px.histogram(datos,x='adherencia_inversion',text_auto=True)#test_auto nos permite tener una caja de informacion para vizualissacion"
      ],
      "metadata": {
        "id": "ncsqGWGRBSAO",
        "colab": {
          "base_uri": "https://localhost:8080/",
          "height": 542
        },
        "outputId": "95a5d407-254f-49cc-b280-c7451930fed6"
      },
      "execution_count": 6,
      "outputs": [
        {
          "output_type": "display_data",
          "data": {
            "text/html": [
              "<html>\n",
              "<head><meta charset=\"utf-8\" /></head>\n",
              "<body>\n",
              "    <div>            <script src=\"https://cdnjs.cloudflare.com/ajax/libs/mathjax/2.7.5/MathJax.js?config=TeX-AMS-MML_SVG\"></script><script type=\"text/javascript\">if (window.MathJax && window.MathJax.Hub && window.MathJax.Hub.Config) {window.MathJax.Hub.Config({SVG: {font: \"STIX-Web\"}});}</script>                <script type=\"text/javascript\">window.PlotlyConfig = {MathJaxConfig: 'local'};</script>\n",
              "        <script charset=\"utf-8\" src=\"https://cdn.plot.ly/plotly-2.35.2.min.js\"></script>                <div id=\"b7bbed20-df55-4f2e-bedc-dceee630ee8b\" class=\"plotly-graph-div\" style=\"height:525px; width:100%;\"></div>            <script type=\"text/javascript\">                                    window.PLOTLYENV=window.PLOTLYENV || {};                                    if (document.getElementById(\"b7bbed20-df55-4f2e-bedc-dceee630ee8b\")) {                    Plotly.newPlot(                        \"b7bbed20-df55-4f2e-bedc-dceee630ee8b\",                        [{\"alignmentgroup\":\"True\",\"bingroup\":\"x\",\"hovertemplate\":\"adherencia_inversion=%{x}\\u003cbr\\u003ecount=%{y}\\u003cextra\\u003e\\u003c\\u002fextra\\u003e\",\"legendgroup\":\"\",\"marker\":{\"color\":\"#636efa\",\"pattern\":{\"shape\":\"\"}},\"name\":\"\",\"offsetgroup\":\"\",\"orientation\":\"v\",\"showlegend\":false,\"texttemplate\":\"%{value}\",\"x\":[\"si\",\"si\",\"no\",\"si\",\"si\",\"si\",\"no\",\"no\",\"no\",\"no\",\"si\",\"no\",\"si\",\"no\",\"no\",\"si\",\"no\",\"no\",\"no\",\"si\",\"no\",\"no\",\"no\",\"si\",\"no\",\"si\",\"no\",\"si\",\"si\",\"si\",\"si\",\"no\",\"no\",\"no\",\"no\",\"no\",\"no\",\"no\",\"no\",\"si\",\"no\",\"no\",\"no\",\"no\",\"no\",\"no\",\"si\",\"no\",\"si\",\"no\",\"si\",\"no\",\"no\",\"si\",\"si\",\"si\",\"no\",\"si\",\"no\",\"no\",\"no\",\"no\",\"no\",\"no\",\"no\",\"no\",\"no\",\"no\",\"no\",\"si\",\"no\",\"no\",\"no\",\"no\",\"si\",\"no\",\"si\",\"si\",\"no\",\"no\",\"si\",\"si\",\"no\",\"no\",\"no\",\"no\",\"si\",\"si\",\"si\",\"si\",\"si\",\"no\",\"si\",\"si\",\"si\",\"no\",\"no\",\"no\",\"no\",\"no\",\"no\",\"si\",\"si\",\"no\",\"si\",\"si\",\"no\",\"no\",\"si\",\"no\",\"no\",\"no\",\"no\",\"si\",\"no\",\"si\",\"no\",\"no\",\"no\",\"si\",\"si\",\"no\",\"no\",\"si\",\"si\",\"no\",\"no\",\"si\",\"no\",\"si\",\"no\",\"si\",\"si\",\"no\",\"no\",\"no\",\"si\",\"si\",\"no\",\"si\",\"si\",\"si\",\"si\",\"si\",\"no\",\"si\",\"si\",\"si\",\"si\",\"si\",\"no\",\"no\",\"no\",\"no\",\"no\",\"si\",\"no\",\"no\",\"no\",\"no\",\"no\",\"no\",\"no\",\"si\",\"no\",\"no\",\"no\",\"si\",\"si\",\"si\",\"no\",\"no\",\"no\",\"no\",\"no\",\"si\",\"si\",\"no\",\"no\",\"si\",\"no\",\"si\",\"no\",\"si\",\"si\",\"no\",\"no\",\"si\",\"si\",\"no\",\"no\",\"si\",\"si\",\"no\",\"no\",\"no\",\"no\",\"si\",\"no\",\"no\",\"si\",\"si\",\"no\",\"no\",\"no\",\"si\",\"si\",\"no\",\"si\",\"no\",\"si\",\"no\",\"si\",\"no\",\"no\",\"no\",\"si\",\"no\",\"no\",\"si\",\"no\",\"si\",\"si\",\"no\",\"no\",\"no\",\"si\",\"si\",\"si\",\"no\",\"no\",\"no\",\"no\",\"si\",\"no\",\"si\",\"si\",\"no\",\"no\",\"si\",\"si\",\"no\",\"no\",\"no\",\"no\",\"no\",\"no\",\"no\",\"no\",\"no\",\"no\",\"no\",\"no\",\"no\",\"no\",\"no\",\"no\",\"si\",\"no\",\"no\",\"si\",\"si\",\"no\",\"si\",\"no\",\"no\",\"si\",\"si\",\"si\",\"si\",\"si\",\"no\",\"si\",\"no\",\"no\",\"si\",\"si\",\"si\",\"si\",\"no\",\"no\",\"si\",\"no\",\"no\",\"no\",\"no\",\"no\",\"si\",\"no\",\"no\",\"no\",\"no\",\"si\",\"no\",\"no\",\"no\",\"no\",\"no\",\"no\",\"si\",\"si\",\"no\",\"no\",\"no\",\"no\",\"si\",\"no\",\"si\",\"no\",\"no\",\"no\",\"no\",\"si\",\"no\",\"no\",\"no\",\"si\",\"no\",\"si\",\"si\",\"si\",\"no\",\"no\",\"si\",\"no\",\"no\",\"no\",\"no\",\"no\",\"no\",\"no\",\"no\",\"si\",\"si\",\"no\",\"no\",\"no\",\"no\",\"si\",\"no\",\"no\",\"no\",\"no\",\"no\",\"si\",\"no\",\"no\",\"si\",\"si\",\"si\",\"no\",\"no\",\"no\",\"si\",\"no\",\"no\",\"si\",\"no\",\"no\",\"si\",\"si\",\"no\",\"no\",\"no\",\"no\",\"si\",\"no\",\"si\",\"si\",\"si\",\"no\",\"no\",\"si\",\"no\",\"si\",\"no\",\"no\",\"no\",\"no\",\"no\",\"no\",\"si\",\"si\",\"si\",\"si\",\"si\",\"no\",\"si\",\"no\",\"no\",\"no\",\"no\",\"no\",\"si\",\"no\",\"no\",\"si\",\"no\",\"no\",\"no\",\"si\",\"si\",\"si\",\"si\",\"si\",\"no\",\"no\",\"no\",\"si\",\"no\",\"si\",\"si\",\"no\",\"no\",\"no\",\"no\",\"si\",\"si\",\"no\",\"no\",\"no\",\"no\",\"si\",\"no\",\"no\",\"si\",\"si\",\"no\",\"no\",\"no\",\"si\",\"si\",\"si\",\"si\",\"si\",\"no\",\"si\",\"no\",\"no\",\"si\",\"no\",\"no\",\"no\",\"no\",\"no\",\"no\",\"no\",\"no\",\"no\",\"si\",\"no\",\"si\",\"no\",\"no\",\"si\",\"no\",\"no\",\"no\",\"no\",\"no\",\"si\",\"no\",\"no\",\"no\",\"si\",\"si\",\"si\",\"no\",\"si\",\"no\",\"no\",\"no\",\"si\",\"no\",\"si\",\"si\",\"no\",\"si\",\"si\",\"si\",\"no\",\"si\",\"no\",\"no\",\"si\",\"no\",\"si\",\"si\",\"no\",\"no\",\"no\",\"si\",\"no\",\"no\",\"si\",\"si\",\"si\",\"no\",\"no\",\"no\",\"si\",\"no\",\"no\",\"no\",\"no\",\"no\",\"no\",\"no\",\"si\",\"si\",\"no\",\"no\",\"no\",\"si\",\"no\",\"si\",\"no\",\"si\",\"no\",\"no\",\"no\",\"no\",\"si\",\"si\",\"si\",\"no\",\"no\",\"no\",\"si\",\"no\",\"no\",\"no\",\"no\",\"no\",\"si\",\"si\",\"si\",\"no\",\"si\",\"no\",\"si\",\"no\",\"no\",\"si\",\"si\",\"no\",\"si\",\"si\",\"no\",\"si\",\"no\",\"no\",\"no\",\"no\",\"si\",\"no\",\"no\",\"si\",\"si\",\"si\",\"no\",\"no\",\"no\",\"no\",\"no\",\"no\",\"si\",\"no\",\"no\",\"si\",\"no\",\"si\",\"no\",\"no\",\"no\",\"no\",\"no\",\"no\",\"no\",\"no\",\"no\",\"no\",\"no\",\"si\",\"no\",\"no\",\"si\",\"no\",\"si\",\"no\",\"no\",\"si\",\"no\",\"si\",\"si\",\"no\",\"no\",\"si\",\"no\",\"no\",\"si\",\"no\",\"no\",\"si\",\"si\",\"no\",\"si\",\"no\",\"si\",\"si\",\"no\",\"no\",\"si\",\"si\",\"no\",\"si\",\"si\",\"si\",\"si\",\"si\",\"no\",\"si\",\"no\",\"si\",\"si\",\"no\",\"no\",\"no\",\"no\",\"si\",\"no\",\"no\",\"no\",\"no\",\"si\",\"no\",\"no\",\"si\",\"no\",\"no\",\"no\",\"si\",\"no\",\"si\",\"no\",\"no\",\"no\",\"no\",\"si\",\"no\",\"si\",\"si\",\"si\",\"si\",\"no\",\"no\",\"no\",\"no\",\"no\",\"no\",\"si\",\"no\",\"si\",\"no\",\"no\",\"no\",\"no\",\"no\",\"no\",\"no\",\"si\",\"si\",\"no\",\"no\",\"no\",\"no\",\"si\",\"no\",\"no\",\"no\",\"no\",\"no\",\"no\",\"no\",\"si\",\"no\",\"si\",\"no\",\"no\",\"no\",\"si\",\"si\",\"no\",\"no\",\"si\",\"no\",\"no\",\"no\",\"no\",\"no\",\"no\",\"si\",\"si\",\"si\",\"no\",\"no\",\"no\",\"no\",\"si\",\"no\",\"si\",\"si\",\"si\",\"no\",\"no\",\"no\",\"no\",\"si\",\"si\",\"si\",\"no\",\"si\",\"si\",\"no\",\"no\",\"no\",\"no\",\"si\",\"no\",\"no\",\"no\",\"si\",\"no\",\"no\",\"si\",\"si\",\"si\",\"no\",\"no\",\"no\",\"no\",\"si\",\"no\",\"si\",\"no\",\"no\",\"si\",\"no\",\"si\",\"si\",\"si\",\"si\",\"no\",\"si\",\"no\",\"no\",\"si\",\"no\",\"no\",\"no\",\"no\",\"si\",\"no\",\"no\",\"no\",\"no\",\"no\",\"si\",\"si\",\"no\",\"si\",\"no\",\"no\",\"no\",\"no\",\"no\",\"si\",\"no\",\"si\",\"si\",\"no\",\"no\",\"si\",\"si\",\"si\",\"no\",\"no\",\"si\",\"no\",\"no\",\"no\",\"no\",\"no\",\"no\",\"si\",\"no\",\"no\",\"no\",\"si\",\"no\",\"no\",\"si\",\"si\",\"no\",\"si\",\"no\",\"si\",\"no\",\"si\",\"no\",\"si\",\"no\",\"si\",\"no\",\"si\",\"si\",\"si\",\"no\",\"no\",\"si\",\"no\",\"no\",\"no\",\"no\",\"no\",\"no\",\"no\",\"si\",\"si\",\"no\",\"si\",\"no\",\"no\",\"si\",\"no\",\"no\",\"si\",\"si\",\"no\",\"si\",\"no\",\"si\",\"no\",\"no\",\"no\",\"no\",\"si\",\"no\",\"no\",\"si\",\"si\",\"no\",\"no\",\"no\",\"no\",\"no\",\"no\",\"no\",\"si\",\"no\",\"no\",\"no\",\"si\",\"si\",\"no\",\"no\",\"no\",\"si\",\"si\",\"si\",\"no\",\"si\",\"si\",\"no\",\"no\",\"no\",\"si\",\"no\",\"no\",\"si\",\"si\",\"no\",\"no\",\"si\",\"no\",\"no\",\"no\",\"no\",\"no\",\"no\",\"si\",\"si\",\"si\",\"no\",\"no\",\"si\",\"si\",\"si\",\"no\",\"no\",\"no\",\"no\",\"no\",\"no\",\"no\",\"si\",\"no\",\"si\",\"si\",\"si\",\"si\",\"no\",\"no\",\"no\",\"si\",\"no\",\"no\",\"no\",\"si\",\"no\",\"no\",\"no\",\"no\",\"si\",\"no\",\"si\",\"si\",\"no\",\"si\",\"no\",\"no\",\"si\",\"no\",\"no\",\"si\",\"si\",\"no\",\"no\",\"no\",\"no\",\"si\",\"si\",\"no\",\"si\",\"si\",\"no\",\"si\",\"si\",\"si\",\"no\",\"no\",\"si\",\"si\",\"no\",\"no\",\"no\",\"si\",\"si\",\"si\",\"si\",\"si\",\"si\",\"no\",\"no\",\"no\",\"si\",\"no\",\"si\",\"si\",\"no\",\"no\",\"si\",\"no\",\"si\",\"si\",\"no\",\"si\",\"no\",\"si\",\"no\",\"no\",\"no\",\"no\",\"si\",\"si\",\"si\",\"si\",\"si\",\"no\",\"no\",\"si\",\"si\",\"no\",\"no\",\"no\",\"no\",\"no\",\"si\",\"no\",\"no\",\"si\",\"si\",\"no\",\"no\",\"no\",\"no\",\"no\",\"si\",\"no\",\"no\",\"no\",\"no\",\"no\",\"no\",\"no\",\"no\",\"si\",\"si\",\"si\",\"no\",\"si\",\"si\",\"no\",\"si\",\"si\",\"no\",\"no\",\"no\",\"si\",\"no\",\"no\",\"no\",\"no\",\"si\",\"si\",\"no\",\"no\",\"si\",\"si\",\"si\",\"si\",\"no\",\"si\",\"si\",\"si\",\"si\",\"si\",\"no\",\"si\",\"no\",\"si\",\"no\",\"no\",\"si\",\"no\",\"no\",\"no\",\"no\",\"si\",\"no\",\"si\",\"si\",\"no\",\"no\",\"si\",\"si\",\"si\",\"si\",\"no\",\"no\",\"si\",\"no\",\"no\",\"no\",\"no\",\"si\",\"si\",\"no\",\"si\",\"no\",\"si\",\"no\",\"no\",\"si\",\"si\",\"no\",\"no\",\"no\",\"no\",\"no\",\"no\",\"si\",\"no\",\"si\",\"no\",\"no\",\"si\",\"no\",\"no\",\"no\",\"si\",\"no\",\"si\",\"si\",\"no\",\"si\",\"no\",\"no\",\"no\",\"no\",\"no\",\"si\",\"si\",\"si\",\"no\",\"no\",\"si\",\"no\",\"no\",\"no\",\"si\",\"no\",\"no\",\"si\",\"si\",\"si\",\"no\",\"si\",\"no\",\"no\",\"no\",\"si\",\"no\",\"si\",\"no\",\"no\",\"si\",\"no\",\"no\",\"si\",\"no\",\"no\",\"si\",\"si\",\"si\",\"no\",\"no\",\"si\",\"si\",\"no\",\"si\",\"si\",\"si\",\"no\",\"no\",\"si\",\"no\",\"no\",\"no\",\"si\",\"no\",\"no\",\"si\",\"si\",\"si\",\"si\",\"no\",\"no\",\"si\",\"no\",\"si\",\"no\",\"no\",\"no\",\"no\",\"no\",\"no\",\"si\",\"si\",\"no\",\"si\",\"no\",\"no\",\"no\",\"si\",\"si\",\"no\",\"no\",\"no\",\"no\",\"no\",\"si\",\"si\",\"si\",\"no\",\"no\",\"no\",\"si\",\"no\",\"si\",\"no\",\"si\",\"no\",\"no\",\"no\",\"no\",\"no\",\"si\",\"no\",\"si\",\"si\",\"si\",\"no\",\"no\",\"si\",\"no\",\"si\",\"no\",\"si\",\"no\",\"si\",\"no\",\"no\",\"no\",\"no\",\"no\",\"no\",\"si\",\"no\",\"no\",\"si\",\"si\",\"no\",\"si\",\"no\",\"si\",\"no\",\"si\",\"no\",\"no\",\"si\",\"no\",\"si\",\"no\",\"no\",\"no\",\"no\",\"si\",\"no\",\"si\",\"si\",\"no\",\"si\",\"no\",\"si\",\"no\",\"si\",\"si\",\"no\",\"no\",\"si\",\"no\",\"no\",\"si\",\"si\",\"si\",\"si\",\"si\"],\"xaxis\":\"x\",\"yaxis\":\"y\",\"type\":\"histogram\"}],                        {\"template\":{\"data\":{\"histogram2dcontour\":[{\"type\":\"histogram2dcontour\",\"colorbar\":{\"outlinewidth\":0,\"ticks\":\"\"},\"colorscale\":[[0.0,\"#0d0887\"],[0.1111111111111111,\"#46039f\"],[0.2222222222222222,\"#7201a8\"],[0.3333333333333333,\"#9c179e\"],[0.4444444444444444,\"#bd3786\"],[0.5555555555555556,\"#d8576b\"],[0.6666666666666666,\"#ed7953\"],[0.7777777777777778,\"#fb9f3a\"],[0.8888888888888888,\"#fdca26\"],[1.0,\"#f0f921\"]]}],\"choropleth\":[{\"type\":\"choropleth\",\"colorbar\":{\"outlinewidth\":0,\"ticks\":\"\"}}],\"histogram2d\":[{\"type\":\"histogram2d\",\"colorbar\":{\"outlinewidth\":0,\"ticks\":\"\"},\"colorscale\":[[0.0,\"#0d0887\"],[0.1111111111111111,\"#46039f\"],[0.2222222222222222,\"#7201a8\"],[0.3333333333333333,\"#9c179e\"],[0.4444444444444444,\"#bd3786\"],[0.5555555555555556,\"#d8576b\"],[0.6666666666666666,\"#ed7953\"],[0.7777777777777778,\"#fb9f3a\"],[0.8888888888888888,\"#fdca26\"],[1.0,\"#f0f921\"]]}],\"heatmap\":[{\"type\":\"heatmap\",\"colorbar\":{\"outlinewidth\":0,\"ticks\":\"\"},\"colorscale\":[[0.0,\"#0d0887\"],[0.1111111111111111,\"#46039f\"],[0.2222222222222222,\"#7201a8\"],[0.3333333333333333,\"#9c179e\"],[0.4444444444444444,\"#bd3786\"],[0.5555555555555556,\"#d8576b\"],[0.6666666666666666,\"#ed7953\"],[0.7777777777777778,\"#fb9f3a\"],[0.8888888888888888,\"#fdca26\"],[1.0,\"#f0f921\"]]}],\"heatmapgl\":[{\"type\":\"heatmapgl\",\"colorbar\":{\"outlinewidth\":0,\"ticks\":\"\"},\"colorscale\":[[0.0,\"#0d0887\"],[0.1111111111111111,\"#46039f\"],[0.2222222222222222,\"#7201a8\"],[0.3333333333333333,\"#9c179e\"],[0.4444444444444444,\"#bd3786\"],[0.5555555555555556,\"#d8576b\"],[0.6666666666666666,\"#ed7953\"],[0.7777777777777778,\"#fb9f3a\"],[0.8888888888888888,\"#fdca26\"],[1.0,\"#f0f921\"]]}],\"contourcarpet\":[{\"type\":\"contourcarpet\",\"colorbar\":{\"outlinewidth\":0,\"ticks\":\"\"}}],\"contour\":[{\"type\":\"contour\",\"colorbar\":{\"outlinewidth\":0,\"ticks\":\"\"},\"colorscale\":[[0.0,\"#0d0887\"],[0.1111111111111111,\"#46039f\"],[0.2222222222222222,\"#7201a8\"],[0.3333333333333333,\"#9c179e\"],[0.4444444444444444,\"#bd3786\"],[0.5555555555555556,\"#d8576b\"],[0.6666666666666666,\"#ed7953\"],[0.7777777777777778,\"#fb9f3a\"],[0.8888888888888888,\"#fdca26\"],[1.0,\"#f0f921\"]]}],\"surface\":[{\"type\":\"surface\",\"colorbar\":{\"outlinewidth\":0,\"ticks\":\"\"},\"colorscale\":[[0.0,\"#0d0887\"],[0.1111111111111111,\"#46039f\"],[0.2222222222222222,\"#7201a8\"],[0.3333333333333333,\"#9c179e\"],[0.4444444444444444,\"#bd3786\"],[0.5555555555555556,\"#d8576b\"],[0.6666666666666666,\"#ed7953\"],[0.7777777777777778,\"#fb9f3a\"],[0.8888888888888888,\"#fdca26\"],[1.0,\"#f0f921\"]]}],\"mesh3d\":[{\"type\":\"mesh3d\",\"colorbar\":{\"outlinewidth\":0,\"ticks\":\"\"}}],\"scatter\":[{\"fillpattern\":{\"fillmode\":\"overlay\",\"size\":10,\"solidity\":0.2},\"type\":\"scatter\"}],\"parcoords\":[{\"type\":\"parcoords\",\"line\":{\"colorbar\":{\"outlinewidth\":0,\"ticks\":\"\"}}}],\"scatterpolargl\":[{\"type\":\"scatterpolargl\",\"marker\":{\"colorbar\":{\"outlinewidth\":0,\"ticks\":\"\"}}}],\"bar\":[{\"error_x\":{\"color\":\"#2a3f5f\"},\"error_y\":{\"color\":\"#2a3f5f\"},\"marker\":{\"line\":{\"color\":\"#E5ECF6\",\"width\":0.5},\"pattern\":{\"fillmode\":\"overlay\",\"size\":10,\"solidity\":0.2}},\"type\":\"bar\"}],\"scattergeo\":[{\"type\":\"scattergeo\",\"marker\":{\"colorbar\":{\"outlinewidth\":0,\"ticks\":\"\"}}}],\"scatterpolar\":[{\"type\":\"scatterpolar\",\"marker\":{\"colorbar\":{\"outlinewidth\":0,\"ticks\":\"\"}}}],\"histogram\":[{\"marker\":{\"pattern\":{\"fillmode\":\"overlay\",\"size\":10,\"solidity\":0.2}},\"type\":\"histogram\"}],\"scattergl\":[{\"type\":\"scattergl\",\"marker\":{\"colorbar\":{\"outlinewidth\":0,\"ticks\":\"\"}}}],\"scatter3d\":[{\"type\":\"scatter3d\",\"line\":{\"colorbar\":{\"outlinewidth\":0,\"ticks\":\"\"}},\"marker\":{\"colorbar\":{\"outlinewidth\":0,\"ticks\":\"\"}}}],\"scattermapbox\":[{\"type\":\"scattermapbox\",\"marker\":{\"colorbar\":{\"outlinewidth\":0,\"ticks\":\"\"}}}],\"scatterternary\":[{\"type\":\"scatterternary\",\"marker\":{\"colorbar\":{\"outlinewidth\":0,\"ticks\":\"\"}}}],\"scattercarpet\":[{\"type\":\"scattercarpet\",\"marker\":{\"colorbar\":{\"outlinewidth\":0,\"ticks\":\"\"}}}],\"carpet\":[{\"aaxis\":{\"endlinecolor\":\"#2a3f5f\",\"gridcolor\":\"white\",\"linecolor\":\"white\",\"minorgridcolor\":\"white\",\"startlinecolor\":\"#2a3f5f\"},\"baxis\":{\"endlinecolor\":\"#2a3f5f\",\"gridcolor\":\"white\",\"linecolor\":\"white\",\"minorgridcolor\":\"white\",\"startlinecolor\":\"#2a3f5f\"},\"type\":\"carpet\"}],\"table\":[{\"cells\":{\"fill\":{\"color\":\"#EBF0F8\"},\"line\":{\"color\":\"white\"}},\"header\":{\"fill\":{\"color\":\"#C8D4E3\"},\"line\":{\"color\":\"white\"}},\"type\":\"table\"}],\"barpolar\":[{\"marker\":{\"line\":{\"color\":\"#E5ECF6\",\"width\":0.5},\"pattern\":{\"fillmode\":\"overlay\",\"size\":10,\"solidity\":0.2}},\"type\":\"barpolar\"}],\"pie\":[{\"automargin\":true,\"type\":\"pie\"}]},\"layout\":{\"autotypenumbers\":\"strict\",\"colorway\":[\"#636efa\",\"#EF553B\",\"#00cc96\",\"#ab63fa\",\"#FFA15A\",\"#19d3f3\",\"#FF6692\",\"#B6E880\",\"#FF97FF\",\"#FECB52\"],\"font\":{\"color\":\"#2a3f5f\"},\"hovermode\":\"closest\",\"hoverlabel\":{\"align\":\"left\"},\"paper_bgcolor\":\"white\",\"plot_bgcolor\":\"#E5ECF6\",\"polar\":{\"bgcolor\":\"#E5ECF6\",\"angularaxis\":{\"gridcolor\":\"white\",\"linecolor\":\"white\",\"ticks\":\"\"},\"radialaxis\":{\"gridcolor\":\"white\",\"linecolor\":\"white\",\"ticks\":\"\"}},\"ternary\":{\"bgcolor\":\"#E5ECF6\",\"aaxis\":{\"gridcolor\":\"white\",\"linecolor\":\"white\",\"ticks\":\"\"},\"baxis\":{\"gridcolor\":\"white\",\"linecolor\":\"white\",\"ticks\":\"\"},\"caxis\":{\"gridcolor\":\"white\",\"linecolor\":\"white\",\"ticks\":\"\"}},\"coloraxis\":{\"colorbar\":{\"outlinewidth\":0,\"ticks\":\"\"}},\"colorscale\":{\"sequential\":[[0.0,\"#0d0887\"],[0.1111111111111111,\"#46039f\"],[0.2222222222222222,\"#7201a8\"],[0.3333333333333333,\"#9c179e\"],[0.4444444444444444,\"#bd3786\"],[0.5555555555555556,\"#d8576b\"],[0.6666666666666666,\"#ed7953\"],[0.7777777777777778,\"#fb9f3a\"],[0.8888888888888888,\"#fdca26\"],[1.0,\"#f0f921\"]],\"sequentialminus\":[[0.0,\"#0d0887\"],[0.1111111111111111,\"#46039f\"],[0.2222222222222222,\"#7201a8\"],[0.3333333333333333,\"#9c179e\"],[0.4444444444444444,\"#bd3786\"],[0.5555555555555556,\"#d8576b\"],[0.6666666666666666,\"#ed7953\"],[0.7777777777777778,\"#fb9f3a\"],[0.8888888888888888,\"#fdca26\"],[1.0,\"#f0f921\"]],\"diverging\":[[0,\"#8e0152\"],[0.1,\"#c51b7d\"],[0.2,\"#de77ae\"],[0.3,\"#f1b6da\"],[0.4,\"#fde0ef\"],[0.5,\"#f7f7f7\"],[0.6,\"#e6f5d0\"],[0.7,\"#b8e186\"],[0.8,\"#7fbc41\"],[0.9,\"#4d9221\"],[1,\"#276419\"]]},\"xaxis\":{\"gridcolor\":\"white\",\"linecolor\":\"white\",\"ticks\":\"\",\"title\":{\"standoff\":15},\"zerolinecolor\":\"white\",\"automargin\":true,\"zerolinewidth\":2},\"yaxis\":{\"gridcolor\":\"white\",\"linecolor\":\"white\",\"ticks\":\"\",\"title\":{\"standoff\":15},\"zerolinecolor\":\"white\",\"automargin\":true,\"zerolinewidth\":2},\"scene\":{\"xaxis\":{\"backgroundcolor\":\"#E5ECF6\",\"gridcolor\":\"white\",\"linecolor\":\"white\",\"showbackground\":true,\"ticks\":\"\",\"zerolinecolor\":\"white\",\"gridwidth\":2},\"yaxis\":{\"backgroundcolor\":\"#E5ECF6\",\"gridcolor\":\"white\",\"linecolor\":\"white\",\"showbackground\":true,\"ticks\":\"\",\"zerolinecolor\":\"white\",\"gridwidth\":2},\"zaxis\":{\"backgroundcolor\":\"#E5ECF6\",\"gridcolor\":\"white\",\"linecolor\":\"white\",\"showbackground\":true,\"ticks\":\"\",\"zerolinecolor\":\"white\",\"gridwidth\":2}},\"shapedefaults\":{\"line\":{\"color\":\"#2a3f5f\"}},\"annotationdefaults\":{\"arrowcolor\":\"#2a3f5f\",\"arrowhead\":0,\"arrowwidth\":1},\"geo\":{\"bgcolor\":\"white\",\"landcolor\":\"#E5ECF6\",\"subunitcolor\":\"white\",\"showland\":true,\"showlakes\":true,\"lakecolor\":\"white\"},\"title\":{\"x\":0.05},\"mapbox\":{\"style\":\"light\"}}},\"xaxis\":{\"anchor\":\"y\",\"domain\":[0.0,1.0],\"title\":{\"text\":\"adherencia_inversion\"}},\"yaxis\":{\"anchor\":\"x\",\"domain\":[0.0,1.0],\"title\":{\"text\":\"count\"}},\"legend\":{\"tracegroupgap\":0},\"margin\":{\"t\":60},\"barmode\":\"relative\"},                        {\"responsive\": true}                    ).then(function(){\n",
              "                            \n",
              "var gd = document.getElementById('b7bbed20-df55-4f2e-bedc-dceee630ee8b');\n",
              "var x = new MutationObserver(function (mutations, observer) {{\n",
              "        var display = window.getComputedStyle(gd).display;\n",
              "        if (!display || display === 'none') {{\n",
              "            console.log([gd, 'removed!']);\n",
              "            Plotly.purge(gd);\n",
              "            observer.disconnect();\n",
              "        }}\n",
              "}});\n",
              "\n",
              "// Listen for the removal of the full notebook cells\n",
              "var notebookContainer = gd.closest('#notebook-container');\n",
              "if (notebookContainer) {{\n",
              "    x.observe(notebookContainer, {childList: true});\n",
              "}}\n",
              "\n",
              "// Listen for the clearing of the current output cell\n",
              "var outputEl = gd.closest('.output');\n",
              "if (outputEl) {{\n",
              "    x.observe(outputEl, {childList: true});\n",
              "}}\n",
              "\n",
              "                        })                };                            </script>        </div>\n",
              "</body>\n",
              "</html>"
            ]
          },
          "metadata": {}
        }
      ]
    },
    {
      "cell_type": "markdown",
      "source": [
        "pero si queremos visualizar el comportamiento de cada una de nuestras variables categoricass con resspecto a nuestra variable respuesta"
      ],
      "metadata": {
        "id": "Jm1I5ivMiWJl"
      }
    },
    {
      "cell_type": "code",
      "source": [
        "px.histogram(datos,x='estado_civil',text_auto=True,color='adherencia_inversion',barmode='group')#con esto podemos ver el comportamiento de una variable dependiente y nuestra variable respuesta\n",
        "#de manera de un grafico de columnas agrupadas en un histograma"
      ],
      "metadata": {
        "id": "k1KsB0c1BVtL",
        "colab": {
          "base_uri": "https://localhost:8080/",
          "height": 542
        },
        "outputId": "b2f6ec37-7ec5-4d08-b3e1-3a948b33a612"
      },
      "execution_count": 7,
      "outputs": [
        {
          "output_type": "display_data",
          "data": {
            "text/html": [
              "<html>\n",
              "<head><meta charset=\"utf-8\" /></head>\n",
              "<body>\n",
              "    <div>            <script src=\"https://cdnjs.cloudflare.com/ajax/libs/mathjax/2.7.5/MathJax.js?config=TeX-AMS-MML_SVG\"></script><script type=\"text/javascript\">if (window.MathJax && window.MathJax.Hub && window.MathJax.Hub.Config) {window.MathJax.Hub.Config({SVG: {font: \"STIX-Web\"}});}</script>                <script type=\"text/javascript\">window.PlotlyConfig = {MathJaxConfig: 'local'};</script>\n",
              "        <script charset=\"utf-8\" src=\"https://cdn.plot.ly/plotly-2.35.2.min.js\"></script>                <div id=\"406996f4-69b8-450b-b6b0-97d22bb6b0a0\" class=\"plotly-graph-div\" style=\"height:525px; width:100%;\"></div>            <script type=\"text/javascript\">                                    window.PLOTLYENV=window.PLOTLYENV || {};                                    if (document.getElementById(\"406996f4-69b8-450b-b6b0-97d22bb6b0a0\")) {                    Plotly.newPlot(                        \"406996f4-69b8-450b-b6b0-97d22bb6b0a0\",                        [{\"alignmentgroup\":\"True\",\"bingroup\":\"x\",\"hovertemplate\":\"adherencia_inversion=si\\u003cbr\\u003eestado_civil=%{x}\\u003cbr\\u003ecount=%{y}\\u003cextra\\u003e\\u003c\\u002fextra\\u003e\",\"legendgroup\":\"si\",\"marker\":{\"color\":\"#636efa\",\"pattern\":{\"shape\":\"\"}},\"name\":\"si\",\"offsetgroup\":\"si\",\"orientation\":\"v\",\"showlegend\":true,\"texttemplate\":\"%{value}\",\"x\":[\"casado (a)\",\"casado (a)\",\"divorciado (a)\",\"casado (a)\",\"soltero (a)\",\"soltero (a)\",\"casado (a)\",\"divorciado (a)\",\"casado (a)\",\"divorciado (a)\",\"casado (a)\",\"soltero (a)\",\"soltero (a)\",\"casado (a)\",\"soltero (a)\",\"casado (a)\",\"casado (a)\",\"casado (a)\",\"casado (a)\",\"casado (a)\",\"casado (a)\",\"casado (a)\",\"casado (a)\",\"soltero (a)\",\"soltero (a)\",\"divorciado (a)\",\"divorciado (a)\",\"soltero (a)\",\"divorciado (a)\",\"soltero (a)\",\"soltero (a)\",\"soltero (a)\",\"soltero (a)\",\"soltero (a)\",\"casado (a)\",\"casado (a)\",\"casado (a)\",\"casado (a)\",\"casado (a)\",\"soltero (a)\",\"soltero (a)\",\"casado (a)\",\"soltero (a)\",\"casado (a)\",\"casado (a)\",\"casado (a)\",\"divorciado (a)\",\"casado (a)\",\"soltero (a)\",\"soltero (a)\",\"casado (a)\",\"casado (a)\",\"casado (a)\",\"casado (a)\",\"soltero (a)\",\"casado (a)\",\"divorciado (a)\",\"casado (a)\",\"divorciado (a)\",\"casado (a)\",\"soltero (a)\",\"casado (a)\",\"casado (a)\",\"divorciado (a)\",\"divorciado (a)\",\"soltero (a)\",\"casado (a)\",\"casado (a)\",\"casado (a)\",\"soltero (a)\",\"divorciado (a)\",\"soltero (a)\",\"casado (a)\",\"casado (a)\",\"casado (a)\",\"divorciado (a)\",\"divorciado (a)\",\"casado (a)\",\"soltero (a)\",\"casado (a)\",\"soltero (a)\",\"casado (a)\",\"casado (a)\",\"casado (a)\",\"casado (a)\",\"casado (a)\",\"divorciado (a)\",\"divorciado (a)\",\"casado (a)\",\"divorciado (a)\",\"casado (a)\",\"casado (a)\",\"casado (a)\",\"soltero (a)\",\"casado (a)\",\"casado (a)\",\"casado (a)\",\"soltero (a)\",\"soltero (a)\",\"soltero (a)\",\"casado (a)\",\"casado (a)\",\"divorciado (a)\",\"casado (a)\",\"soltero (a)\",\"casado (a)\",\"casado (a)\",\"soltero (a)\",\"divorciado (a)\",\"soltero (a)\",\"casado (a)\",\"soltero (a)\",\"casado (a)\",\"soltero (a)\",\"casado (a)\",\"soltero (a)\",\"soltero (a)\",\"casado (a)\",\"casado (a)\",\"casado (a)\",\"casado (a)\",\"soltero (a)\",\"divorciado (a)\",\"soltero (a)\",\"soltero (a)\",\"soltero (a)\",\"casado (a)\",\"soltero (a)\",\"soltero (a)\",\"soltero (a)\",\"soltero (a)\",\"casado (a)\",\"soltero (a)\",\"divorciado (a)\",\"casado (a)\",\"casado (a)\",\"casado (a)\",\"divorciado (a)\",\"casado (a)\",\"soltero (a)\",\"casado (a)\",\"casado (a)\",\"soltero (a)\",\"casado (a)\",\"soltero (a)\",\"casado (a)\",\"casado (a)\",\"soltero (a)\",\"casado (a)\",\"soltero (a)\",\"soltero (a)\",\"casado (a)\",\"soltero (a)\",\"casado (a)\",\"soltero (a)\",\"divorciado (a)\",\"soltero (a)\",\"soltero (a)\",\"soltero (a)\",\"casado (a)\",\"casado (a)\",\"casado (a)\",\"casado (a)\",\"soltero (a)\",\"casado (a)\",\"casado (a)\",\"casado (a)\",\"casado (a)\",\"casado (a)\",\"soltero (a)\",\"soltero (a)\",\"casado (a)\",\"casado (a)\",\"casado (a)\",\"soltero (a)\",\"casado (a)\",\"casado (a)\",\"divorciado (a)\",\"casado (a)\",\"casado (a)\",\"soltero (a)\",\"casado (a)\",\"divorciado (a)\",\"casado (a)\",\"casado (a)\",\"soltero (a)\",\"soltero (a)\",\"divorciado (a)\",\"casado (a)\",\"casado (a)\",\"casado (a)\",\"casado (a)\",\"divorciado (a)\",\"divorciado (a)\",\"soltero (a)\",\"soltero (a)\",\"casado (a)\",\"soltero (a)\",\"soltero (a)\",\"casado (a)\",\"casado (a)\",\"casado (a)\",\"casado (a)\",\"casado (a)\",\"soltero (a)\",\"soltero (a)\",\"divorciado (a)\",\"soltero (a)\",\"divorciado (a)\",\"casado (a)\",\"soltero (a)\",\"casado (a)\",\"divorciado (a)\",\"soltero (a)\",\"casado (a)\",\"casado (a)\",\"soltero (a)\",\"casado (a)\",\"casado (a)\",\"divorciado (a)\",\"casado (a)\",\"soltero (a)\",\"casado (a)\",\"casado (a)\",\"casado (a)\",\"divorciado (a)\",\"casado (a)\",\"soltero (a)\",\"casado (a)\",\"casado (a)\",\"casado (a)\",\"divorciado (a)\",\"casado (a)\",\"soltero (a)\",\"casado (a)\",\"casado (a)\",\"casado (a)\",\"casado (a)\",\"casado (a)\",\"casado (a)\",\"soltero (a)\",\"casado (a)\",\"casado (a)\",\"casado (a)\",\"soltero (a)\",\"casado (a)\",\"casado (a)\",\"casado (a)\",\"casado (a)\",\"divorciado (a)\",\"soltero (a)\",\"casado (a)\",\"casado (a)\",\"casado (a)\",\"divorciado (a)\",\"casado (a)\",\"divorciado (a)\",\"soltero (a)\",\"casado (a)\",\"soltero (a)\",\"soltero (a)\",\"casado (a)\",\"casado (a)\",\"casado (a)\",\"casado (a)\",\"soltero (a)\",\"soltero (a)\",\"casado (a)\",\"casado (a)\",\"casado (a)\",\"soltero (a)\",\"soltero (a)\",\"casado (a)\",\"casado (a)\",\"casado (a)\",\"soltero (a)\",\"casado (a)\",\"casado (a)\",\"casado (a)\",\"casado (a)\",\"divorciado (a)\",\"soltero (a)\",\"casado (a)\",\"divorciado (a)\",\"soltero (a)\",\"soltero (a)\",\"casado (a)\",\"casado (a)\",\"casado (a)\",\"casado (a)\",\"casado (a)\",\"soltero (a)\",\"soltero (a)\",\"casado (a)\",\"soltero (a)\",\"soltero (a)\",\"soltero (a)\",\"divorciado (a)\",\"soltero (a)\",\"casado (a)\",\"divorciado (a)\",\"casado (a)\",\"casado (a)\",\"casado (a)\",\"casado (a)\",\"casado (a)\",\"soltero (a)\",\"casado (a)\",\"casado (a)\",\"casado (a)\",\"casado (a)\",\"soltero (a)\",\"casado (a)\",\"soltero (a)\",\"soltero (a)\",\"divorciado (a)\",\"soltero (a)\",\"soltero (a)\",\"casado (a)\",\"casado (a)\",\"divorciado (a)\",\"casado (a)\",\"soltero (a)\",\"casado (a)\",\"divorciado (a)\",\"soltero (a)\",\"casado (a)\",\"casado (a)\",\"divorciado (a)\",\"casado (a)\",\"casado (a)\",\"casado (a)\",\"soltero (a)\",\"casado (a)\",\"soltero (a)\",\"soltero (a)\",\"soltero (a)\",\"casado (a)\",\"casado (a)\",\"soltero (a)\",\"soltero (a)\",\"casado (a)\",\"casado (a)\",\"soltero (a)\",\"soltero (a)\",\"soltero (a)\",\"casado (a)\",\"casado (a)\",\"casado (a)\",\"casado (a)\",\"divorciado (a)\",\"soltero (a)\",\"divorciado (a)\",\"casado (a)\",\"divorciado (a)\",\"casado (a)\",\"soltero (a)\",\"soltero (a)\",\"divorciado (a)\",\"casado (a)\",\"soltero (a)\",\"soltero (a)\",\"casado (a)\",\"casado (a)\",\"casado (a)\",\"divorciado (a)\",\"soltero (a)\",\"soltero (a)\",\"soltero (a)\",\"casado (a)\",\"soltero (a)\",\"casado (a)\",\"casado (a)\",\"casado (a)\",\"soltero (a)\",\"casado (a)\",\"casado (a)\",\"soltero (a)\",\"soltero (a)\",\"divorciado (a)\",\"soltero (a)\",\"divorciado (a)\",\"divorciado (a)\",\"casado (a)\",\"divorciado (a)\",\"casado (a)\",\"divorciado (a)\",\"divorciado (a)\",\"divorciado (a)\",\"soltero (a)\",\"divorciado (a)\",\"divorciado (a)\",\"soltero (a)\",\"soltero (a)\",\"soltero (a)\",\"casado (a)\",\"divorciado (a)\",\"soltero (a)\",\"casado (a)\",\"divorciado (a)\",\"soltero (a)\",\"soltero (a)\",\"casado (a)\",\"soltero (a)\",\"soltero (a)\",\"soltero (a)\",\"soltero (a)\",\"casado (a)\",\"casado (a)\",\"soltero (a)\",\"divorciado (a)\",\"soltero (a)\",\"casado (a)\",\"casado (a)\",\"casado (a)\",\"casado (a)\",\"soltero (a)\",\"divorciado (a)\",\"casado (a)\",\"casado (a)\",\"casado (a)\",\"soltero (a)\",\"casado (a)\",\"casado (a)\",\"soltero (a)\",\"soltero (a)\",\"casado (a)\",\"soltero (a)\",\"casado (a)\",\"casado (a)\",\"soltero (a)\",\"casado (a)\",\"divorciado (a)\",\"casado (a)\",\"divorciado (a)\",\"soltero (a)\",\"soltero (a)\",\"casado (a)\",\"casado (a)\",\"soltero (a)\",\"divorciado (a)\",\"casado (a)\",\"divorciado (a)\",\"casado (a)\",\"soltero (a)\",\"casado (a)\",\"soltero (a)\",\"divorciado (a)\",\"divorciado (a)\",\"casado (a)\",\"casado (a)\",\"soltero (a)\",\"soltero (a)\",\"casado (a)\",\"casado (a)\",\"casado (a)\",\"casado (a)\",\"divorciado (a)\",\"soltero (a)\",\"casado (a)\",\"soltero (a)\",\"casado (a)\",\"casado (a)\",\"divorciado (a)\",\"casado (a)\",\"casado (a)\",\"casado (a)\",\"soltero (a)\",\"casado (a)\",\"soltero (a)\",\"casado (a)\",\"casado (a)\",\"casado (a)\",\"soltero (a)\",\"divorciado (a)\",\"casado (a)\",\"casado (a)\",\"casado (a)\",\"casado (a)\",\"casado (a)\",\"casado (a)\",\"soltero (a)\",\"soltero (a)\",\"casado (a)\",\"casado (a)\",\"casado (a)\",\"soltero (a)\",\"casado (a)\",\"casado (a)\",\"casado (a)\",\"divorciado (a)\",\"casado (a)\",\"soltero (a)\",\"casado (a)\",\"casado (a)\",\"divorciado (a)\",\"casado (a)\",\"soltero (a)\",\"soltero (a)\",\"soltero (a)\",\"casado (a)\",\"soltero (a)\"],\"xaxis\":\"x\",\"yaxis\":\"y\",\"type\":\"histogram\"},{\"alignmentgroup\":\"True\",\"bingroup\":\"x\",\"hovertemplate\":\"adherencia_inversion=no\\u003cbr\\u003eestado_civil=%{x}\\u003cbr\\u003ecount=%{y}\\u003cextra\\u003e\\u003c\\u002fextra\\u003e\",\"legendgroup\":\"no\",\"marker\":{\"color\":\"#EF553B\",\"pattern\":{\"shape\":\"\"}},\"name\":\"no\",\"offsetgroup\":\"no\",\"orientation\":\"v\",\"showlegend\":true,\"texttemplate\":\"%{value}\",\"x\":[\"soltero (a)\",\"casado (a)\",\"casado (a)\",\"casado (a)\",\"divorciado (a)\",\"casado (a)\",\"casado (a)\",\"soltero (a)\",\"casado (a)\",\"casado (a)\",\"casado (a)\",\"divorciado (a)\",\"soltero (a)\",\"casado (a)\",\"casado (a)\",\"casado (a)\",\"casado (a)\",\"soltero (a)\",\"casado (a)\",\"casado (a)\",\"casado (a)\",\"casado (a)\",\"divorciado (a)\",\"divorciado (a)\",\"casado (a)\",\"casado (a)\",\"casado (a)\",\"casado (a)\",\"casado (a)\",\"divorciado (a)\",\"casado (a)\",\"casado (a)\",\"casado (a)\",\"soltero (a)\",\"casado (a)\",\"soltero (a)\",\"divorciado (a)\",\"soltero (a)\",\"casado (a)\",\"casado (a)\",\"casado (a)\",\"casado (a)\",\"divorciado (a)\",\"casado (a)\",\"casado (a)\",\"casado (a)\",\"casado (a)\",\"casado (a)\",\"casado (a)\",\"casado (a)\",\"soltero (a)\",\"casado (a)\",\"casado (a)\",\"casado (a)\",\"soltero (a)\",\"casado (a)\",\"casado (a)\",\"casado (a)\",\"divorciado (a)\",\"soltero (a)\",\"casado (a)\",\"casado (a)\",\"soltero (a)\",\"casado (a)\",\"casado (a)\",\"casado (a)\",\"soltero (a)\",\"casado (a)\",\"soltero (a)\",\"casado (a)\",\"casado (a)\",\"casado (a)\",\"soltero (a)\",\"casado (a)\",\"casado (a)\",\"soltero (a)\",\"casado (a)\",\"soltero (a)\",\"casado (a)\",\"casado (a)\",\"casado (a)\",\"casado (a)\",\"casado (a)\",\"casado (a)\",\"casado (a)\",\"casado (a)\",\"casado (a)\",\"casado (a)\",\"casado (a)\",\"divorciado (a)\",\"casado (a)\",\"casado (a)\",\"casado (a)\",\"casado (a)\",\"soltero (a)\",\"casado (a)\",\"casado (a)\",\"casado (a)\",\"casado (a)\",\"casado (a)\",\"casado (a)\",\"casado (a)\",\"casado (a)\",\"casado (a)\",\"casado (a)\",\"casado (a)\",\"casado (a)\",\"soltero (a)\",\"soltero (a)\",\"soltero (a)\",\"soltero (a)\",\"soltero (a)\",\"casado (a)\",\"casado (a)\",\"casado (a)\",\"casado (a)\",\"casado (a)\",\"casado (a)\",\"casado (a)\",\"casado (a)\",\"casado (a)\",\"divorciado (a)\",\"casado (a)\",\"casado (a)\",\"casado (a)\",\"casado (a)\",\"casado (a)\",\"soltero (a)\",\"casado (a)\",\"soltero (a)\",\"casado (a)\",\"casado (a)\",\"casado (a)\",\"casado (a)\",\"casado (a)\",\"casado (a)\",\"soltero (a)\",\"casado (a)\",\"casado (a)\",\"casado (a)\",\"soltero (a)\",\"divorciado (a)\",\"casado (a)\",\"soltero (a)\",\"divorciado (a)\",\"casado (a)\",\"soltero (a)\",\"casado (a)\",\"soltero (a)\",\"soltero (a)\",\"casado (a)\",\"soltero (a)\",\"divorciado (a)\",\"divorciado (a)\",\"casado (a)\",\"soltero (a)\",\"casado (a)\",\"soltero (a)\",\"soltero (a)\",\"casado (a)\",\"casado (a)\",\"casado (a)\",\"soltero (a)\",\"casado (a)\",\"soltero (a)\",\"casado (a)\",\"casado (a)\",\"casado (a)\",\"casado (a)\",\"divorciado (a)\",\"soltero (a)\",\"soltero (a)\",\"casado (a)\",\"casado (a)\",\"divorciado (a)\",\"casado (a)\",\"soltero (a)\",\"casado (a)\",\"soltero (a)\",\"divorciado (a)\",\"casado (a)\",\"soltero (a)\",\"soltero (a)\",\"casado (a)\",\"casado (a)\",\"casado (a)\",\"soltero (a)\",\"casado (a)\",\"soltero (a)\",\"divorciado (a)\",\"divorciado (a)\",\"casado (a)\",\"casado (a)\",\"soltero (a)\",\"casado (a)\",\"casado (a)\",\"casado (a)\",\"soltero (a)\",\"divorciado (a)\",\"divorciado (a)\",\"casado (a)\",\"soltero (a)\",\"casado (a)\",\"casado (a)\",\"soltero (a)\",\"casado (a)\",\"divorciado (a)\",\"soltero (a)\",\"casado (a)\",\"casado (a)\",\"casado (a)\",\"casado (a)\",\"casado (a)\",\"casado (a)\",\"casado (a)\",\"casado (a)\",\"soltero (a)\",\"soltero (a)\",\"soltero (a)\",\"soltero (a)\",\"soltero (a)\",\"divorciado (a)\",\"soltero (a)\",\"casado (a)\",\"divorciado (a)\",\"casado (a)\",\"casado (a)\",\"casado (a)\",\"soltero (a)\",\"casado (a)\",\"soltero (a)\",\"soltero (a)\",\"casado (a)\",\"divorciado (a)\",\"soltero (a)\",\"casado (a)\",\"casado (a)\",\"casado (a)\",\"soltero (a)\",\"soltero (a)\",\"casado (a)\",\"divorciado (a)\",\"divorciado (a)\",\"casado (a)\",\"casado (a)\",\"casado (a)\",\"casado (a)\",\"casado (a)\",\"casado (a)\",\"casado (a)\",\"soltero (a)\",\"soltero (a)\",\"casado (a)\",\"casado (a)\",\"casado (a)\",\"casado (a)\",\"casado (a)\",\"casado (a)\",\"divorciado (a)\",\"casado (a)\",\"casado (a)\",\"divorciado (a)\",\"soltero (a)\",\"soltero (a)\",\"casado (a)\",\"casado (a)\",\"soltero (a)\",\"soltero (a)\",\"casado (a)\",\"casado (a)\",\"casado (a)\",\"casado (a)\",\"soltero (a)\",\"casado (a)\",\"soltero (a)\",\"divorciado (a)\",\"soltero (a)\",\"casado (a)\",\"casado (a)\",\"casado (a)\",\"divorciado (a)\",\"casado (a)\",\"casado (a)\",\"casado (a)\",\"soltero (a)\",\"soltero (a)\",\"divorciado (a)\",\"casado (a)\",\"casado (a)\",\"soltero (a)\",\"casado (a)\",\"soltero (a)\",\"soltero (a)\",\"soltero (a)\",\"casado (a)\",\"casado (a)\",\"casado (a)\",\"soltero (a)\",\"soltero (a)\",\"casado (a)\",\"casado (a)\",\"soltero (a)\",\"divorciado (a)\",\"casado (a)\",\"casado (a)\",\"divorciado (a)\",\"soltero (a)\",\"soltero (a)\",\"soltero (a)\",\"casado (a)\",\"casado (a)\",\"casado (a)\",\"casado (a)\",\"casado (a)\",\"soltero (a)\",\"soltero (a)\",\"soltero (a)\",\"casado (a)\",\"soltero (a)\",\"casado (a)\",\"casado (a)\",\"soltero (a)\",\"soltero (a)\",\"soltero (a)\",\"casado (a)\",\"divorciado (a)\",\"divorciado (a)\",\"soltero (a)\",\"casado (a)\",\"casado (a)\",\"casado (a)\",\"casado (a)\",\"soltero (a)\",\"soltero (a)\",\"casado (a)\",\"soltero (a)\",\"casado (a)\",\"casado (a)\",\"soltero (a)\",\"casado (a)\",\"casado (a)\",\"casado (a)\",\"casado (a)\",\"casado (a)\",\"casado (a)\",\"casado (a)\",\"casado (a)\",\"casado (a)\",\"casado (a)\",\"soltero (a)\",\"casado (a)\",\"soltero (a)\",\"soltero (a)\",\"casado (a)\",\"soltero (a)\",\"casado (a)\",\"casado (a)\",\"casado (a)\",\"casado (a)\",\"divorciado (a)\",\"soltero (a)\",\"casado (a)\",\"soltero (a)\",\"casado (a)\",\"soltero (a)\",\"casado (a)\",\"casado (a)\",\"casado (a)\",\"casado (a)\",\"divorciado (a)\",\"soltero (a)\",\"casado (a)\",\"soltero (a)\",\"casado (a)\",\"soltero (a)\",\"casado (a)\",\"casado (a)\",\"casado (a)\",\"casado (a)\",\"casado (a)\",\"soltero (a)\",\"casado (a)\",\"casado (a)\",\"casado (a)\",\"soltero (a)\",\"divorciado (a)\",\"soltero (a)\",\"casado (a)\",\"casado (a)\",\"casado (a)\",\"soltero (a)\",\"casado (a)\",\"casado (a)\",\"soltero (a)\",\"casado (a)\",\"soltero (a)\",\"casado (a)\",\"casado (a)\",\"casado (a)\",\"casado (a)\",\"casado (a)\",\"soltero (a)\",\"casado (a)\",\"soltero (a)\",\"casado (a)\",\"casado (a)\",\"casado (a)\",\"divorciado (a)\",\"casado (a)\",\"casado (a)\",\"casado (a)\",\"divorciado (a)\",\"casado (a)\",\"casado (a)\",\"soltero (a)\",\"casado (a)\",\"soltero (a)\",\"casado (a)\",\"divorciado (a)\",\"casado (a)\",\"casado (a)\",\"casado (a)\",\"divorciado (a)\",\"casado (a)\",\"casado (a)\",\"casado (a)\",\"soltero (a)\",\"soltero (a)\",\"casado (a)\",\"soltero (a)\",\"casado (a)\",\"casado (a)\",\"soltero (a)\",\"casado (a)\",\"soltero (a)\",\"casado (a)\",\"casado (a)\",\"casado (a)\",\"casado (a)\",\"casado (a)\",\"casado (a)\",\"casado (a)\",\"casado (a)\",\"casado (a)\",\"soltero (a)\",\"divorciado (a)\",\"casado (a)\",\"soltero (a)\",\"divorciado (a)\",\"soltero (a)\",\"divorciado (a)\",\"casado (a)\",\"casado (a)\",\"casado (a)\",\"casado (a)\",\"divorciado (a)\",\"casado (a)\",\"soltero (a)\",\"divorciado (a)\",\"casado (a)\",\"soltero (a)\",\"casado (a)\",\"divorciado (a)\",\"casado (a)\",\"casado (a)\",\"casado (a)\",\"soltero (a)\",\"casado (a)\",\"soltero (a)\",\"soltero (a)\",\"casado (a)\",\"casado (a)\",\"divorciado (a)\",\"soltero (a)\",\"soltero (a)\",\"casado (a)\",\"soltero (a)\",\"soltero (a)\",\"divorciado (a)\",\"casado (a)\",\"divorciado (a)\",\"casado (a)\",\"soltero (a)\",\"casado (a)\",\"divorciado (a)\",\"casado (a)\",\"casado (a)\",\"casado (a)\",\"divorciado (a)\",\"casado (a)\",\"casado (a)\",\"divorciado (a)\",\"casado (a)\",\"casado (a)\",\"casado (a)\",\"soltero (a)\",\"casado (a)\",\"divorciado (a)\",\"casado (a)\",\"casado (a)\",\"casado (a)\",\"casado (a)\",\"casado (a)\",\"casado (a)\",\"soltero (a)\",\"casado (a)\",\"soltero (a)\",\"casado (a)\",\"soltero (a)\",\"soltero (a)\",\"soltero (a)\",\"casado (a)\",\"casado (a)\",\"casado (a)\",\"casado (a)\",\"casado (a)\",\"soltero (a)\",\"casado (a)\",\"casado (a)\",\"soltero (a)\",\"soltero (a)\",\"casado (a)\",\"casado (a)\",\"divorciado (a)\",\"casado (a)\",\"divorciado (a)\",\"casado (a)\",\"soltero (a)\",\"casado (a)\",\"divorciado (a)\",\"casado (a)\",\"casado (a)\",\"soltero (a)\",\"casado (a)\",\"casado (a)\",\"divorciado (a)\",\"soltero (a)\",\"divorciado (a)\",\"casado (a)\",\"soltero (a)\",\"soltero (a)\",\"casado (a)\",\"soltero (a)\",\"casado (a)\",\"divorciado (a)\",\"casado (a)\",\"casado (a)\",\"casado (a)\",\"casado (a)\",\"casado (a)\",\"casado (a)\",\"soltero (a)\",\"casado (a)\",\"casado (a)\",\"casado (a)\",\"soltero (a)\",\"casado (a)\",\"casado (a)\",\"casado (a)\",\"soltero (a)\",\"divorciado (a)\",\"soltero (a)\",\"casado (a)\",\"soltero (a)\",\"casado (a)\",\"soltero (a)\",\"casado (a)\",\"casado (a)\",\"casado (a)\",\"casado (a)\",\"divorciado (a)\",\"casado (a)\",\"casado (a)\",\"divorciado (a)\",\"casado (a)\",\"casado (a)\",\"casado (a)\",\"casado (a)\",\"casado (a)\",\"soltero (a)\",\"divorciado (a)\",\"casado (a)\",\"casado (a)\",\"casado (a)\",\"soltero (a)\",\"casado (a)\",\"casado (a)\",\"casado (a)\",\"casado (a)\",\"casado (a)\",\"soltero (a)\",\"soltero (a)\",\"soltero (a)\",\"casado (a)\",\"divorciado (a)\",\"casado (a)\",\"divorciado (a)\",\"casado (a)\",\"casado (a)\",\"soltero (a)\",\"divorciado (a)\",\"casado (a)\",\"soltero (a)\",\"casado (a)\",\"casado (a)\",\"soltero (a)\",\"casado (a)\",\"casado (a)\",\"casado (a)\",\"casado (a)\",\"divorciado (a)\",\"casado (a)\",\"casado (a)\",\"casado (a)\",\"soltero (a)\",\"divorciado (a)\",\"soltero (a)\",\"casado (a)\",\"casado (a)\",\"soltero (a)\",\"casado (a)\",\"casado (a)\",\"casado (a)\",\"casado (a)\",\"casado (a)\",\"casado (a)\",\"soltero (a)\",\"soltero (a)\",\"divorciado (a)\",\"divorciado (a)\",\"casado (a)\",\"casado (a)\",\"soltero (a)\",\"divorciado (a)\",\"casado (a)\",\"soltero (a)\",\"casado (a)\",\"casado (a)\",\"casado (a)\",\"soltero (a)\",\"casado (a)\",\"casado (a)\",\"soltero (a)\",\"casado (a)\",\"soltero (a)\",\"soltero (a)\",\"casado (a)\",\"casado (a)\",\"casado (a)\",\"casado (a)\",\"divorciado (a)\",\"divorciado (a)\",\"casado (a)\",\"casado (a)\",\"casado (a)\",\"soltero (a)\",\"casado (a)\",\"divorciado (a)\",\"divorciado (a)\",\"divorciado (a)\",\"casado (a)\",\"soltero (a)\",\"divorciado (a)\",\"soltero (a)\",\"casado (a)\",\"casado (a)\",\"soltero (a)\",\"casado (a)\",\"divorciado (a)\",\"casado (a)\",\"casado (a)\",\"casado (a)\",\"soltero (a)\",\"casado (a)\",\"casado (a)\",\"casado (a)\",\"casado (a)\",\"casado (a)\",\"casado (a)\",\"casado (a)\",\"casado (a)\",\"casado (a)\",\"soltero (a)\",\"casado (a)\",\"divorciado (a)\",\"soltero (a)\",\"casado (a)\",\"casado (a)\",\"casado (a)\",\"casado (a)\",\"soltero (a)\",\"casado (a)\",\"casado (a)\",\"soltero (a)\",\"soltero (a)\",\"soltero (a)\",\"casado (a)\",\"casado (a)\",\"casado (a)\",\"casado (a)\",\"soltero (a)\",\"casado (a)\",\"casado (a)\",\"soltero (a)\",\"casado (a)\",\"divorciado (a)\",\"soltero (a)\",\"divorciado (a)\",\"casado (a)\",\"soltero (a)\",\"casado (a)\",\"casado (a)\",\"casado (a)\",\"soltero (a)\",\"casado (a)\",\"soltero (a)\",\"casado (a)\",\"casado (a)\",\"casado (a)\",\"divorciado (a)\",\"casado (a)\",\"soltero (a)\",\"soltero (a)\",\"casado (a)\",\"casado (a)\",\"soltero (a)\",\"casado (a)\",\"casado (a)\",\"divorciado (a)\",\"casado (a)\",\"soltero (a)\",\"casado (a)\",\"soltero (a)\",\"casado (a)\",\"divorciado (a)\",\"casado (a)\",\"soltero (a)\",\"casado (a)\",\"casado (a)\",\"soltero (a)\",\"casado (a)\",\"soltero (a)\",\"casado (a)\",\"casado (a)\",\"casado (a)\",\"casado (a)\",\"casado (a)\",\"casado (a)\",\"soltero (a)\",\"casado (a)\",\"soltero (a)\",\"casado (a)\",\"casado (a)\",\"casado (a)\",\"soltero (a)\",\"casado (a)\",\"casado (a)\",\"soltero (a)\",\"casado (a)\",\"casado (a)\",\"soltero (a)\",\"casado (a)\",\"divorciado (a)\",\"soltero (a)\",\"casado (a)\",\"casado (a)\"],\"xaxis\":\"x\",\"yaxis\":\"y\",\"type\":\"histogram\"}],                        {\"template\":{\"data\":{\"histogram2dcontour\":[{\"type\":\"histogram2dcontour\",\"colorbar\":{\"outlinewidth\":0,\"ticks\":\"\"},\"colorscale\":[[0.0,\"#0d0887\"],[0.1111111111111111,\"#46039f\"],[0.2222222222222222,\"#7201a8\"],[0.3333333333333333,\"#9c179e\"],[0.4444444444444444,\"#bd3786\"],[0.5555555555555556,\"#d8576b\"],[0.6666666666666666,\"#ed7953\"],[0.7777777777777778,\"#fb9f3a\"],[0.8888888888888888,\"#fdca26\"],[1.0,\"#f0f921\"]]}],\"choropleth\":[{\"type\":\"choropleth\",\"colorbar\":{\"outlinewidth\":0,\"ticks\":\"\"}}],\"histogram2d\":[{\"type\":\"histogram2d\",\"colorbar\":{\"outlinewidth\":0,\"ticks\":\"\"},\"colorscale\":[[0.0,\"#0d0887\"],[0.1111111111111111,\"#46039f\"],[0.2222222222222222,\"#7201a8\"],[0.3333333333333333,\"#9c179e\"],[0.4444444444444444,\"#bd3786\"],[0.5555555555555556,\"#d8576b\"],[0.6666666666666666,\"#ed7953\"],[0.7777777777777778,\"#fb9f3a\"],[0.8888888888888888,\"#fdca26\"],[1.0,\"#f0f921\"]]}],\"heatmap\":[{\"type\":\"heatmap\",\"colorbar\":{\"outlinewidth\":0,\"ticks\":\"\"},\"colorscale\":[[0.0,\"#0d0887\"],[0.1111111111111111,\"#46039f\"],[0.2222222222222222,\"#7201a8\"],[0.3333333333333333,\"#9c179e\"],[0.4444444444444444,\"#bd3786\"],[0.5555555555555556,\"#d8576b\"],[0.6666666666666666,\"#ed7953\"],[0.7777777777777778,\"#fb9f3a\"],[0.8888888888888888,\"#fdca26\"],[1.0,\"#f0f921\"]]}],\"heatmapgl\":[{\"type\":\"heatmapgl\",\"colorbar\":{\"outlinewidth\":0,\"ticks\":\"\"},\"colorscale\":[[0.0,\"#0d0887\"],[0.1111111111111111,\"#46039f\"],[0.2222222222222222,\"#7201a8\"],[0.3333333333333333,\"#9c179e\"],[0.4444444444444444,\"#bd3786\"],[0.5555555555555556,\"#d8576b\"],[0.6666666666666666,\"#ed7953\"],[0.7777777777777778,\"#fb9f3a\"],[0.8888888888888888,\"#fdca26\"],[1.0,\"#f0f921\"]]}],\"contourcarpet\":[{\"type\":\"contourcarpet\",\"colorbar\":{\"outlinewidth\":0,\"ticks\":\"\"}}],\"contour\":[{\"type\":\"contour\",\"colorbar\":{\"outlinewidth\":0,\"ticks\":\"\"},\"colorscale\":[[0.0,\"#0d0887\"],[0.1111111111111111,\"#46039f\"],[0.2222222222222222,\"#7201a8\"],[0.3333333333333333,\"#9c179e\"],[0.4444444444444444,\"#bd3786\"],[0.5555555555555556,\"#d8576b\"],[0.6666666666666666,\"#ed7953\"],[0.7777777777777778,\"#fb9f3a\"],[0.8888888888888888,\"#fdca26\"],[1.0,\"#f0f921\"]]}],\"surface\":[{\"type\":\"surface\",\"colorbar\":{\"outlinewidth\":0,\"ticks\":\"\"},\"colorscale\":[[0.0,\"#0d0887\"],[0.1111111111111111,\"#46039f\"],[0.2222222222222222,\"#7201a8\"],[0.3333333333333333,\"#9c179e\"],[0.4444444444444444,\"#bd3786\"],[0.5555555555555556,\"#d8576b\"],[0.6666666666666666,\"#ed7953\"],[0.7777777777777778,\"#fb9f3a\"],[0.8888888888888888,\"#fdca26\"],[1.0,\"#f0f921\"]]}],\"mesh3d\":[{\"type\":\"mesh3d\",\"colorbar\":{\"outlinewidth\":0,\"ticks\":\"\"}}],\"scatter\":[{\"fillpattern\":{\"fillmode\":\"overlay\",\"size\":10,\"solidity\":0.2},\"type\":\"scatter\"}],\"parcoords\":[{\"type\":\"parcoords\",\"line\":{\"colorbar\":{\"outlinewidth\":0,\"ticks\":\"\"}}}],\"scatterpolargl\":[{\"type\":\"scatterpolargl\",\"marker\":{\"colorbar\":{\"outlinewidth\":0,\"ticks\":\"\"}}}],\"bar\":[{\"error_x\":{\"color\":\"#2a3f5f\"},\"error_y\":{\"color\":\"#2a3f5f\"},\"marker\":{\"line\":{\"color\":\"#E5ECF6\",\"width\":0.5},\"pattern\":{\"fillmode\":\"overlay\",\"size\":10,\"solidity\":0.2}},\"type\":\"bar\"}],\"scattergeo\":[{\"type\":\"scattergeo\",\"marker\":{\"colorbar\":{\"outlinewidth\":0,\"ticks\":\"\"}}}],\"scatterpolar\":[{\"type\":\"scatterpolar\",\"marker\":{\"colorbar\":{\"outlinewidth\":0,\"ticks\":\"\"}}}],\"histogram\":[{\"marker\":{\"pattern\":{\"fillmode\":\"overlay\",\"size\":10,\"solidity\":0.2}},\"type\":\"histogram\"}],\"scattergl\":[{\"type\":\"scattergl\",\"marker\":{\"colorbar\":{\"outlinewidth\":0,\"ticks\":\"\"}}}],\"scatter3d\":[{\"type\":\"scatter3d\",\"line\":{\"colorbar\":{\"outlinewidth\":0,\"ticks\":\"\"}},\"marker\":{\"colorbar\":{\"outlinewidth\":0,\"ticks\":\"\"}}}],\"scattermapbox\":[{\"type\":\"scattermapbox\",\"marker\":{\"colorbar\":{\"outlinewidth\":0,\"ticks\":\"\"}}}],\"scatterternary\":[{\"type\":\"scatterternary\",\"marker\":{\"colorbar\":{\"outlinewidth\":0,\"ticks\":\"\"}}}],\"scattercarpet\":[{\"type\":\"scattercarpet\",\"marker\":{\"colorbar\":{\"outlinewidth\":0,\"ticks\":\"\"}}}],\"carpet\":[{\"aaxis\":{\"endlinecolor\":\"#2a3f5f\",\"gridcolor\":\"white\",\"linecolor\":\"white\",\"minorgridcolor\":\"white\",\"startlinecolor\":\"#2a3f5f\"},\"baxis\":{\"endlinecolor\":\"#2a3f5f\",\"gridcolor\":\"white\",\"linecolor\":\"white\",\"minorgridcolor\":\"white\",\"startlinecolor\":\"#2a3f5f\"},\"type\":\"carpet\"}],\"table\":[{\"cells\":{\"fill\":{\"color\":\"#EBF0F8\"},\"line\":{\"color\":\"white\"}},\"header\":{\"fill\":{\"color\":\"#C8D4E3\"},\"line\":{\"color\":\"white\"}},\"type\":\"table\"}],\"barpolar\":[{\"marker\":{\"line\":{\"color\":\"#E5ECF6\",\"width\":0.5},\"pattern\":{\"fillmode\":\"overlay\",\"size\":10,\"solidity\":0.2}},\"type\":\"barpolar\"}],\"pie\":[{\"automargin\":true,\"type\":\"pie\"}]},\"layout\":{\"autotypenumbers\":\"strict\",\"colorway\":[\"#636efa\",\"#EF553B\",\"#00cc96\",\"#ab63fa\",\"#FFA15A\",\"#19d3f3\",\"#FF6692\",\"#B6E880\",\"#FF97FF\",\"#FECB52\"],\"font\":{\"color\":\"#2a3f5f\"},\"hovermode\":\"closest\",\"hoverlabel\":{\"align\":\"left\"},\"paper_bgcolor\":\"white\",\"plot_bgcolor\":\"#E5ECF6\",\"polar\":{\"bgcolor\":\"#E5ECF6\",\"angularaxis\":{\"gridcolor\":\"white\",\"linecolor\":\"white\",\"ticks\":\"\"},\"radialaxis\":{\"gridcolor\":\"white\",\"linecolor\":\"white\",\"ticks\":\"\"}},\"ternary\":{\"bgcolor\":\"#E5ECF6\",\"aaxis\":{\"gridcolor\":\"white\",\"linecolor\":\"white\",\"ticks\":\"\"},\"baxis\":{\"gridcolor\":\"white\",\"linecolor\":\"white\",\"ticks\":\"\"},\"caxis\":{\"gridcolor\":\"white\",\"linecolor\":\"white\",\"ticks\":\"\"}},\"coloraxis\":{\"colorbar\":{\"outlinewidth\":0,\"ticks\":\"\"}},\"colorscale\":{\"sequential\":[[0.0,\"#0d0887\"],[0.1111111111111111,\"#46039f\"],[0.2222222222222222,\"#7201a8\"],[0.3333333333333333,\"#9c179e\"],[0.4444444444444444,\"#bd3786\"],[0.5555555555555556,\"#d8576b\"],[0.6666666666666666,\"#ed7953\"],[0.7777777777777778,\"#fb9f3a\"],[0.8888888888888888,\"#fdca26\"],[1.0,\"#f0f921\"]],\"sequentialminus\":[[0.0,\"#0d0887\"],[0.1111111111111111,\"#46039f\"],[0.2222222222222222,\"#7201a8\"],[0.3333333333333333,\"#9c179e\"],[0.4444444444444444,\"#bd3786\"],[0.5555555555555556,\"#d8576b\"],[0.6666666666666666,\"#ed7953\"],[0.7777777777777778,\"#fb9f3a\"],[0.8888888888888888,\"#fdca26\"],[1.0,\"#f0f921\"]],\"diverging\":[[0,\"#8e0152\"],[0.1,\"#c51b7d\"],[0.2,\"#de77ae\"],[0.3,\"#f1b6da\"],[0.4,\"#fde0ef\"],[0.5,\"#f7f7f7\"],[0.6,\"#e6f5d0\"],[0.7,\"#b8e186\"],[0.8,\"#7fbc41\"],[0.9,\"#4d9221\"],[1,\"#276419\"]]},\"xaxis\":{\"gridcolor\":\"white\",\"linecolor\":\"white\",\"ticks\":\"\",\"title\":{\"standoff\":15},\"zerolinecolor\":\"white\",\"automargin\":true,\"zerolinewidth\":2},\"yaxis\":{\"gridcolor\":\"white\",\"linecolor\":\"white\",\"ticks\":\"\",\"title\":{\"standoff\":15},\"zerolinecolor\":\"white\",\"automargin\":true,\"zerolinewidth\":2},\"scene\":{\"xaxis\":{\"backgroundcolor\":\"#E5ECF6\",\"gridcolor\":\"white\",\"linecolor\":\"white\",\"showbackground\":true,\"ticks\":\"\",\"zerolinecolor\":\"white\",\"gridwidth\":2},\"yaxis\":{\"backgroundcolor\":\"#E5ECF6\",\"gridcolor\":\"white\",\"linecolor\":\"white\",\"showbackground\":true,\"ticks\":\"\",\"zerolinecolor\":\"white\",\"gridwidth\":2},\"zaxis\":{\"backgroundcolor\":\"#E5ECF6\",\"gridcolor\":\"white\",\"linecolor\":\"white\",\"showbackground\":true,\"ticks\":\"\",\"zerolinecolor\":\"white\",\"gridwidth\":2}},\"shapedefaults\":{\"line\":{\"color\":\"#2a3f5f\"}},\"annotationdefaults\":{\"arrowcolor\":\"#2a3f5f\",\"arrowhead\":0,\"arrowwidth\":1},\"geo\":{\"bgcolor\":\"white\",\"landcolor\":\"#E5ECF6\",\"subunitcolor\":\"white\",\"showland\":true,\"showlakes\":true,\"lakecolor\":\"white\"},\"title\":{\"x\":0.05},\"mapbox\":{\"style\":\"light\"}}},\"xaxis\":{\"anchor\":\"y\",\"domain\":[0.0,1.0],\"title\":{\"text\":\"estado_civil\"}},\"yaxis\":{\"anchor\":\"x\",\"domain\":[0.0,1.0],\"title\":{\"text\":\"count\"}},\"legend\":{\"title\":{\"text\":\"adherencia_inversion\"},\"tracegroupgap\":0},\"margin\":{\"t\":60},\"barmode\":\"group\"},                        {\"responsive\": true}                    ).then(function(){\n",
              "                            \n",
              "var gd = document.getElementById('406996f4-69b8-450b-b6b0-97d22bb6b0a0');\n",
              "var x = new MutationObserver(function (mutations, observer) {{\n",
              "        var display = window.getComputedStyle(gd).display;\n",
              "        if (!display || display === 'none') {{\n",
              "            console.log([gd, 'removed!']);\n",
              "            Plotly.purge(gd);\n",
              "            observer.disconnect();\n",
              "        }}\n",
              "}});\n",
              "\n",
              "// Listen for the removal of the full notebook cells\n",
              "var notebookContainer = gd.closest('#notebook-container');\n",
              "if (notebookContainer) {{\n",
              "    x.observe(notebookContainer, {childList: true});\n",
              "}}\n",
              "\n",
              "// Listen for the clearing of the current output cell\n",
              "var outputEl = gd.closest('.output');\n",
              "if (outputEl) {{\n",
              "    x.observe(outputEl, {childList: true});\n",
              "}}\n",
              "\n",
              "                        })                };                            </script>        </div>\n",
              "</body>\n",
              "</html>"
            ]
          },
          "metadata": {}
        }
      ]
    },
    {
      "cell_type": "markdown",
      "source": [
        "tenemoss un grafico donde vissualizamos cuales se agregaron a la inversion de nuesstros clientes y que estado civil tienen"
      ],
      "metadata": {
        "id": "BVRjMM9MjMIc"
      }
    },
    {
      "cell_type": "markdown",
      "source": [
        "con esto podemos tener una idea general de lo que passas con nuesstros datos. por ejemplo: si es casssado o soltero la mayoria no sse ingresaron a la inversion de acuerdo a sus diferencias, en los divorciados apenas y tuvimos un poco de clientes que se añadieron, de acuerdo a ciertos motivos"
      ],
      "metadata": {
        "id": "UApxv9f_jdEz"
      }
    },
    {
      "cell_type": "code",
      "source": [
        "px.histogram(datos,x='escolaridad',text_auto=True,color='adherencia_inversion',barmode='group')"
      ],
      "metadata": {
        "id": "zo-oTIRNBVgp",
        "colab": {
          "base_uri": "https://localhost:8080/",
          "height": 542
        },
        "outputId": "89e915f3-a219-4fd5-e2a7-0faede7c6b16"
      },
      "execution_count": 8,
      "outputs": [
        {
          "output_type": "display_data",
          "data": {
            "text/html": [
              "<html>\n",
              "<head><meta charset=\"utf-8\" /></head>\n",
              "<body>\n",
              "    <div>            <script src=\"https://cdnjs.cloudflare.com/ajax/libs/mathjax/2.7.5/MathJax.js?config=TeX-AMS-MML_SVG\"></script><script type=\"text/javascript\">if (window.MathJax && window.MathJax.Hub && window.MathJax.Hub.Config) {window.MathJax.Hub.Config({SVG: {font: \"STIX-Web\"}});}</script>                <script type=\"text/javascript\">window.PlotlyConfig = {MathJaxConfig: 'local'};</script>\n",
              "        <script charset=\"utf-8\" src=\"https://cdn.plot.ly/plotly-2.35.2.min.js\"></script>                <div id=\"8e7ffc62-6506-4d8d-8b4f-9c7d508a5fbc\" class=\"plotly-graph-div\" style=\"height:525px; width:100%;\"></div>            <script type=\"text/javascript\">                                    window.PLOTLYENV=window.PLOTLYENV || {};                                    if (document.getElementById(\"8e7ffc62-6506-4d8d-8b4f-9c7d508a5fbc\")) {                    Plotly.newPlot(                        \"8e7ffc62-6506-4d8d-8b4f-9c7d508a5fbc\",                        [{\"alignmentgroup\":\"True\",\"bingroup\":\"x\",\"hovertemplate\":\"adherencia_inversion=si\\u003cbr\\u003eescolaridad=%{x}\\u003cbr\\u003ecount=%{y}\\u003cextra\\u003e\\u003c\\u002fextra\\u003e\",\"legendgroup\":\"si\",\"marker\":{\"color\":\"#636efa\",\"pattern\":{\"shape\":\"\"}},\"name\":\"si\",\"offsetgroup\":\"si\",\"orientation\":\"v\",\"showlegend\":true,\"texttemplate\":\"%{value}\",\"x\":[\"superior\",\"secundaria\",\"superior\",\"secundaria\",\"secundaria\",\"superior\",\"secundaria\",\"secundaria\",\"secundaria\",\"superior\",\"superior\",\"superior\",\"secundaria\",\"secundaria\",\"secundaria\",\"superior\",\"superior\",\"secundaria\",\"secundaria\",\"secundaria\",\"secundaria\",\"secundaria\",\"superior\",\"superior\",\"superior\",\"superior\",\"superior\",\"superior\",\"superior\",\"secundaria\",\"superior\",\"superior\",\"secundaria\",\"primaria\",\"secundaria\",\"secundaria\",\"superior\",\"superior\",\"superior\",\"superior\",\"secundaria\",\"secundaria\",\"superior\",\"secundaria\",\"superior\",\"secundaria\",\"secundaria\",\"primaria\",\"secundaria\",\"secundaria\",\"secundaria\",\"superior\",\"secundaria\",\"superior\",\"superior\",\"superior\",\"primaria\",\"secundaria\",\"primaria\",\"superior\",\"superior\",\"secundaria\",\"superior\",\"secundaria\",\"secundaria\",\"secundaria\",\"secundaria\",\"secundaria\",\"superior\",\"superior\",\"primaria\",\"secundaria\",\"secundaria\",\"superior\",\"primaria\",\"superior\",\"secundaria\",\"primaria\",\"superior\",\"secundaria\",\"secundaria\",\"primaria\",\"secundaria\",\"primaria\",\"secundaria\",\"primaria\",\"primaria\",\"superior\",\"superior\",\"secundaria\",\"superior\",\"secundaria\",\"secundaria\",\"superior\",\"secundaria\",\"superior\",\"secundaria\",\"secundaria\",\"superior\",\"secundaria\",\"secundaria\",\"secundaria\",\"secundaria\",\"secundaria\",\"superior\",\"secundaria\",\"secundaria\",\"secundaria\",\"secundaria\",\"superior\",\"secundaria\",\"secundaria\",\"superior\",\"secundaria\",\"superior\",\"secundaria\",\"secundaria\",\"secundaria\",\"superior\",\"secundaria\",\"superior\",\"primaria\",\"secundaria\",\"superior\",\"secundaria\",\"secundaria\",\"primaria\",\"secundaria\",\"secundaria\",\"superior\",\"secundaria\",\"secundaria\",\"superior\",\"secundaria\",\"secundaria\",\"superior\",\"secundaria\",\"secundaria\",\"secundaria\",\"secundaria\",\"primaria\",\"primaria\",\"superior\",\"superior\",\"secundaria\",\"superior\",\"superior\",\"superior\",\"secundaria\",\"secundaria\",\"superior\",\"secundaria\",\"superior\",\"superior\",\"secundaria\",\"superior\",\"secundaria\",\"superior\",\"secundaria\",\"primaria\",\"secundaria\",\"superior\",\"secundaria\",\"secundaria\",\"primaria\",\"superior\",\"secundaria\",\"secundaria\",\"secundaria\",\"superior\",\"secundaria\",\"superior\",\"superior\",\"superior\",\"secundaria\",\"superior\",\"primaria\",\"superior\",\"secundaria\",\"secundaria\",\"secundaria\",\"superior\",\"secundaria\",\"superior\",\"superior\",\"primaria\",\"secundaria\",\"secundaria\",\"secundaria\",\"superior\",\"secundaria\",\"secundaria\",\"primaria\",\"primaria\",\"superior\",\"superior\",\"secundaria\",\"superior\",\"secundaria\",\"primaria\",\"primaria\",\"secundaria\",\"primaria\",\"superior\",\"primaria\",\"secundaria\",\"secundaria\",\"secundaria\",\"secundaria\",\"superior\",\"secundaria\",\"secundaria\",\"superior\",\"superior\",\"superior\",\"superior\",\"secundaria\",\"secundaria\",\"superior\",\"superior\",\"secundaria\",\"secundaria\",\"secundaria\",\"secundaria\",\"secundaria\",\"superior\",\"secundaria\",\"superior\",\"secundaria\",\"secundaria\",\"superior\",\"secundaria\",\"primaria\",\"secundaria\",\"primaria\",\"superior\",\"superior\",\"primaria\",\"primaria\",\"primaria\",\"superior\",\"superior\",\"superior\",\"secundaria\",\"secundaria\",\"secundaria\",\"secundaria\",\"secundaria\",\"secundaria\",\"secundaria\",\"secundaria\",\"secundaria\",\"superior\",\"primaria\",\"secundaria\",\"superior\",\"secundaria\",\"superior\",\"secundaria\",\"superior\",\"secundaria\",\"primaria\",\"primaria\",\"secundaria\",\"superior\",\"superior\",\"superior\",\"secundaria\",\"secundaria\",\"secundaria\",\"superior\",\"secundaria\",\"superior\",\"superior\",\"secundaria\",\"superior\",\"primaria\",\"secundaria\",\"secundaria\",\"secundaria\",\"secundaria\",\"superior\",\"superior\",\"secundaria\",\"secundaria\",\"secundaria\",\"primaria\",\"primaria\",\"secundaria\",\"superior\",\"superior\",\"primaria\",\"superior\",\"superior\",\"superior\",\"superior\",\"secundaria\",\"secundaria\",\"secundaria\",\"superior\",\"secundaria\",\"secundaria\",\"secundaria\",\"secundaria\",\"primaria\",\"secundaria\",\"superior\",\"secundaria\",\"secundaria\",\"secundaria\",\"superior\",\"secundaria\",\"secundaria\",\"primaria\",\"secundaria\",\"superior\",\"superior\",\"superior\",\"superior\",\"secundaria\",\"superior\",\"primaria\",\"secundaria\",\"primaria\",\"secundaria\",\"superior\",\"secundaria\",\"superior\",\"primaria\",\"secundaria\",\"superior\",\"secundaria\",\"secundaria\",\"superior\",\"superior\",\"superior\",\"secundaria\",\"secundaria\",\"superior\",\"secundaria\",\"superior\",\"secundaria\",\"superior\",\"secundaria\",\"secundaria\",\"primaria\",\"secundaria\",\"secundaria\",\"superior\",\"primaria\",\"secundaria\",\"primaria\",\"secundaria\",\"superior\",\"secundaria\",\"secundaria\",\"superior\",\"secundaria\",\"primaria\",\"superior\",\"secundaria\",\"secundaria\",\"secundaria\",\"secundaria\",\"secundaria\",\"primaria\",\"primaria\",\"superior\",\"secundaria\",\"secundaria\",\"superior\",\"superior\",\"superior\",\"superior\",\"secundaria\",\"secundaria\",\"primaria\",\"secundaria\",\"secundaria\",\"superior\",\"secundaria\",\"primaria\",\"superior\",\"primaria\",\"superior\",\"secundaria\",\"superior\",\"primaria\",\"secundaria\",\"secundaria\",\"primaria\",\"primaria\",\"superior\",\"secundaria\",\"secundaria\",\"superior\",\"secundaria\",\"secundaria\",\"superior\",\"superior\",\"secundaria\",\"secundaria\",\"superior\",\"superior\",\"superior\",\"superior\",\"secundaria\",\"primaria\",\"superior\",\"superior\",\"secundaria\",\"superior\",\"secundaria\",\"secundaria\",\"primaria\",\"superior\",\"superior\",\"secundaria\",\"secundaria\",\"primaria\",\"primaria\",\"superior\",\"superior\",\"superior\",\"superior\",\"superior\",\"secundaria\",\"secundaria\",\"superior\",\"secundaria\",\"secundaria\",\"superior\",\"secundaria\",\"superior\",\"superior\",\"superior\",\"superior\",\"secundaria\",\"primaria\",\"superior\",\"secundaria\",\"secundaria\",\"primaria\",\"superior\",\"secundaria\",\"secundaria\",\"superior\",\"secundaria\",\"superior\",\"superior\",\"secundaria\",\"secundaria\",\"superior\",\"secundaria\",\"superior\",\"superior\",\"superior\",\"superior\",\"secundaria\",\"secundaria\",\"superior\",\"secundaria\",\"primaria\",\"secundaria\",\"secundaria\",\"primaria\",\"superior\",\"secundaria\",\"secundaria\",\"secundaria\",\"secundaria\",\"secundaria\",\"secundaria\",\"secundaria\",\"secundaria\",\"secundaria\",\"secundaria\",\"primaria\",\"secundaria\",\"secundaria\",\"superior\",\"superior\",\"superior\",\"superior\",\"superior\",\"primaria\",\"superior\",\"superior\",\"superior\",\"secundaria\",\"secundaria\",\"secundaria\",\"secundaria\",\"superior\",\"secundaria\",\"superior\",\"superior\",\"superior\",\"superior\",\"superior\",\"superior\",\"superior\"],\"xaxis\":\"x\",\"yaxis\":\"y\",\"type\":\"histogram\"},{\"alignmentgroup\":\"True\",\"bingroup\":\"x\",\"hovertemplate\":\"adherencia_inversion=no\\u003cbr\\u003eescolaridad=%{x}\\u003cbr\\u003ecount=%{y}\\u003cextra\\u003e\\u003c\\u002fextra\\u003e\",\"legendgroup\":\"no\",\"marker\":{\"color\":\"#EF553B\",\"pattern\":{\"shape\":\"\"}},\"name\":\"no\",\"offsetgroup\":\"no\",\"orientation\":\"v\",\"showlegend\":true,\"texttemplate\":\"%{value}\",\"x\":[\"superior\",\"superior\",\"secundaria\",\"primaria\",\"secundaria\",\"primaria\",\"superior\",\"superior\",\"primaria\",\"secundaria\",\"secundaria\",\"secundaria\",\"secundaria\",\"secundaria\",\"secundaria\",\"primaria\",\"secundaria\",\"secundaria\",\"secundaria\",\"secundaria\",\"secundaria\",\"superior\",\"secundaria\",\"secundaria\",\"primaria\",\"superior\",\"superior\",\"superior\",\"superior\",\"superior\",\"superior\",\"secundaria\",\"superior\",\"secundaria\",\"secundaria\",\"primaria\",\"superior\",\"secundaria\",\"secundaria\",\"superior\",\"secundaria\",\"primaria\",\"primaria\",\"superior\",\"superior\",\"secundaria\",\"superior\",\"secundaria\",\"primaria\",\"secundaria\",\"superior\",\"superior\",\"secundaria\",\"superior\",\"secundaria\",\"secundaria\",\"primaria\",\"primaria\",\"secundaria\",\"superior\",\"secundaria\",\"primaria\",\"superior\",\"secundaria\",\"secundaria\",\"secundaria\",\"secundaria\",\"superior\",\"superior\",\"superior\",\"superior\",\"primaria\",\"superior\",\"secundaria\",\"secundaria\",\"secundaria\",\"primaria\",\"secundaria\",\"primaria\",\"secundaria\",\"superior\",\"secundaria\",\"secundaria\",\"superior\",\"secundaria\",\"secundaria\",\"primaria\",\"secundaria\",\"secundaria\",\"superior\",\"secundaria\",\"secundaria\",\"secundaria\",\"secundaria\",\"superior\",\"secundaria\",\"secundaria\",\"secundaria\",\"superior\",\"secundaria\",\"secundaria\",\"superior\",\"secundaria\",\"secundaria\",\"superior\",\"secundaria\",\"secundaria\",\"superior\",\"secundaria\",\"secundaria\",\"primaria\",\"superior\",\"secundaria\",\"secundaria\",\"secundaria\",\"secundaria\",\"secundaria\",\"primaria\",\"secundaria\",\"superior\",\"secundaria\",\"secundaria\",\"secundaria\",\"superior\",\"secundaria\",\"secundaria\",\"superior\",\"primaria\",\"secundaria\",\"secundaria\",\"secundaria\",\"secundaria\",\"secundaria\",\"secundaria\",\"secundaria\",\"secundaria\",\"superior\",\"secundaria\",\"secundaria\",\"primaria\",\"secundaria\",\"secundaria\",\"superior\",\"superior\",\"superior\",\"secundaria\",\"secundaria\",\"secundaria\",\"superior\",\"primaria\",\"superior\",\"primaria\",\"secundaria\",\"secundaria\",\"secundaria\",\"secundaria\",\"primaria\",\"secundaria\",\"secundaria\",\"primaria\",\"superior\",\"primaria\",\"primaria\",\"superior\",\"secundaria\",\"primaria\",\"secundaria\",\"secundaria\",\"superior\",\"secundaria\",\"primaria\",\"superior\",\"superior\",\"secundaria\",\"superior\",\"secundaria\",\"secundaria\",\"primaria\",\"secundaria\",\"primaria\",\"secundaria\",\"superior\",\"superior\",\"secundaria\",\"secundaria\",\"superior\",\"secundaria\",\"superior\",\"secundaria\",\"superior\",\"superior\",\"secundaria\",\"secundaria\",\"superior\",\"superior\",\"primaria\",\"secundaria\",\"superior\",\"secundaria\",\"secundaria\",\"primaria\",\"primaria\",\"secundaria\",\"secundaria\",\"secundaria\",\"primaria\",\"secundaria\",\"secundaria\",\"superior\",\"superior\",\"primaria\",\"secundaria\",\"secundaria\",\"secundaria\",\"superior\",\"primaria\",\"superior\",\"superior\",\"secundaria\",\"superior\",\"superior\",\"superior\",\"secundaria\",\"secundaria\",\"primaria\",\"superior\",\"secundaria\",\"secundaria\",\"primaria\",\"secundaria\",\"primaria\",\"superior\",\"secundaria\",\"secundaria\",\"secundaria\",\"secundaria\",\"secundaria\",\"secundaria\",\"secundaria\",\"secundaria\",\"secundaria\",\"secundaria\",\"secundaria\",\"secundaria\",\"secundaria\",\"superior\",\"primaria\",\"primaria\",\"superior\",\"secundaria\",\"secundaria\",\"superior\",\"secundaria\",\"primaria\",\"superior\",\"primaria\",\"superior\",\"secundaria\",\"superior\",\"primaria\",\"secundaria\",\"secundaria\",\"primaria\",\"superior\",\"secundaria\",\"secundaria\",\"primaria\",\"superior\",\"secundaria\",\"superior\",\"secundaria\",\"secundaria\",\"secundaria\",\"secundaria\",\"superior\",\"secundaria\",\"secundaria\",\"primaria\",\"superior\",\"secundaria\",\"superior\",\"secundaria\",\"secundaria\",\"superior\",\"superior\",\"superior\",\"superior\",\"superior\",\"secundaria\",\"secundaria\",\"secundaria\",\"secundaria\",\"secundaria\",\"secundaria\",\"secundaria\",\"secundaria\",\"primaria\",\"primaria\",\"secundaria\",\"secundaria\",\"superior\",\"secundaria\",\"superior\",\"secundaria\",\"secundaria\",\"superior\",\"superior\",\"secundaria\",\"secundaria\",\"secundaria\",\"secundaria\",\"secundaria\",\"secundaria\",\"secundaria\",\"superior\",\"secundaria\",\"superior\",\"primaria\",\"secundaria\",\"secundaria\",\"secundaria\",\"secundaria\",\"secundaria\",\"superior\",\"secundaria\",\"secundaria\",\"secundaria\",\"superior\",\"primaria\",\"superior\",\"secundaria\",\"superior\",\"superior\",\"secundaria\",\"superior\",\"superior\",\"superior\",\"secundaria\",\"secundaria\",\"primaria\",\"secundaria\",\"primaria\",\"secundaria\",\"primaria\",\"secundaria\",\"secundaria\",\"primaria\",\"primaria\",\"secundaria\",\"superior\",\"secundaria\",\"secundaria\",\"superior\",\"secundaria\",\"secundaria\",\"primaria\",\"primaria\",\"primaria\",\"secundaria\",\"secundaria\",\"superior\",\"secundaria\",\"primaria\",\"superior\",\"secundaria\",\"primaria\",\"primaria\",\"superior\",\"primaria\",\"secundaria\",\"secundaria\",\"secundaria\",\"secundaria\",\"primaria\",\"secundaria\",\"secundaria\",\"secundaria\",\"primaria\",\"secundaria\",\"superior\",\"secundaria\",\"secundaria\",\"secundaria\",\"secundaria\",\"secundaria\",\"secundaria\",\"superior\",\"secundaria\",\"secundaria\",\"secundaria\",\"superior\",\"secundaria\",\"secundaria\",\"secundaria\",\"primaria\",\"superior\",\"superior\",\"superior\",\"secundaria\",\"superior\",\"primaria\",\"secundaria\",\"secundaria\",\"superior\",\"superior\",\"secundaria\",\"superior\",\"superior\",\"secundaria\",\"secundaria\",\"primaria\",\"secundaria\",\"secundaria\",\"primaria\",\"secundaria\",\"secundaria\",\"superior\",\"primaria\",\"primaria\",\"superior\",\"secundaria\",\"secundaria\",\"secundaria\",\"superior\",\"secundaria\",\"superior\",\"secundaria\",\"superior\",\"primaria\",\"secundaria\",\"superior\",\"secundaria\",\"primaria\",\"secundaria\",\"superior\",\"superior\",\"secundaria\",\"secundaria\",\"superior\",\"primaria\",\"secundaria\",\"secundaria\",\"superior\",\"primaria\",\"secundaria\",\"superior\",\"secundaria\",\"superior\",\"superior\",\"superior\",\"superior\",\"primaria\",\"secundaria\",\"superior\",\"secundaria\",\"secundaria\",\"superior\",\"secundaria\",\"superior\",\"superior\",\"superior\",\"superior\",\"secundaria\",\"primaria\",\"secundaria\",\"secundaria\",\"superior\",\"primaria\",\"superior\",\"secundaria\",\"secundaria\",\"secundaria\",\"secundaria\",\"secundaria\",\"secundaria\",\"secundaria\",\"secundaria\",\"secundaria\",\"primaria\",\"primaria\",\"secundaria\",\"secundaria\",\"superior\",\"secundaria\",\"primaria\",\"secundaria\",\"primaria\",\"superior\",\"secundaria\",\"secundaria\",\"secundaria\",\"secundaria\",\"secundaria\",\"superior\",\"primaria\",\"secundaria\",\"secundaria\",\"secundaria\",\"secundaria\",\"secundaria\",\"secundaria\",\"superior\",\"superior\",\"secundaria\",\"secundaria\",\"superior\",\"superior\",\"secundaria\",\"secundaria\",\"secundaria\",\"secundaria\",\"secundaria\",\"secundaria\",\"primaria\",\"superior\",\"superior\",\"superior\",\"superior\",\"secundaria\",\"primaria\",\"primaria\",\"secundaria\",\"secundaria\",\"primaria\",\"secundaria\",\"secundaria\",\"superior\",\"secundaria\",\"secundaria\",\"secundaria\",\"superior\",\"superior\",\"superior\",\"secundaria\",\"secundaria\",\"secundaria\",\"secundaria\",\"primaria\",\"secundaria\",\"superior\",\"superior\",\"superior\",\"secundaria\",\"secundaria\",\"superior\",\"superior\",\"superior\",\"secundaria\",\"secundaria\",\"superior\",\"superior\",\"secundaria\",\"secundaria\",\"secundaria\",\"primaria\",\"primaria\",\"primaria\",\"secundaria\",\"secundaria\",\"secundaria\",\"secundaria\",\"secundaria\",\"secundaria\",\"superior\",\"secundaria\",\"superior\",\"primaria\",\"secundaria\",\"secundaria\",\"primaria\",\"primaria\",\"primaria\",\"secundaria\",\"secundaria\",\"secundaria\",\"superior\",\"primaria\",\"superior\",\"secundaria\",\"secundaria\",\"superior\",\"primaria\",\"superior\",\"primaria\",\"secundaria\",\"primaria\",\"superior\",\"primaria\",\"superior\",\"superior\",\"secundaria\",\"superior\",\"secundaria\",\"secundaria\",\"superior\",\"secundaria\",\"secundaria\",\"superior\",\"secundaria\",\"superior\",\"primaria\",\"superior\",\"secundaria\",\"primaria\",\"superior\",\"superior\",\"secundaria\",\"primaria\",\"primaria\",\"primaria\",\"secundaria\",\"secundaria\",\"secundaria\",\"primaria\",\"superior\",\"secundaria\",\"secundaria\",\"secundaria\",\"secundaria\",\"secundaria\",\"secundaria\",\"secundaria\",\"secundaria\",\"superior\",\"superior\",\"secundaria\",\"superior\",\"secundaria\",\"superior\",\"secundaria\",\"secundaria\",\"secundaria\",\"superior\",\"secundaria\",\"secundaria\",\"superior\",\"primaria\",\"secundaria\",\"secundaria\",\"superior\",\"secundaria\",\"secundaria\",\"secundaria\",\"superior\",\"secundaria\",\"secundaria\",\"primaria\",\"primaria\",\"primaria\",\"superior\",\"secundaria\",\"secundaria\",\"superior\",\"superior\",\"primaria\",\"secundaria\",\"secundaria\",\"secundaria\",\"secundaria\",\"secundaria\",\"secundaria\",\"primaria\",\"primaria\",\"superior\",\"secundaria\",\"secundaria\",\"secundaria\",\"superior\",\"superior\",\"secundaria\",\"superior\",\"primaria\",\"superior\",\"superior\",\"secundaria\",\"secundaria\",\"secundaria\",\"primaria\",\"secundaria\",\"secundaria\",\"secundaria\",\"primaria\",\"superior\",\"superior\",\"secundaria\",\"secundaria\",\"secundaria\",\"secundaria\",\"superior\",\"secundaria\",\"superior\",\"superior\",\"secundaria\",\"secundaria\",\"secundaria\",\"superior\",\"primaria\",\"secundaria\",\"secundaria\",\"primaria\",\"secundaria\",\"secundaria\",\"primaria\",\"superior\",\"secundaria\",\"secundaria\",\"superior\",\"secundaria\",\"primaria\",\"superior\",\"secundaria\",\"primaria\",\"superior\",\"superior\",\"secundaria\",\"superior\",\"primaria\",\"superior\",\"secundaria\",\"primaria\",\"secundaria\",\"secundaria\",\"superior\",\"primaria\",\"secundaria\",\"secundaria\",\"secundaria\",\"secundaria\",\"secundaria\",\"secundaria\",\"primaria\",\"secundaria\",\"secundaria\",\"secundaria\",\"secundaria\",\"secundaria\",\"superior\",\"secundaria\",\"secundaria\",\"superior\",\"superior\",\"secundaria\",\"superior\",\"primaria\",\"superior\",\"primaria\",\"superior\",\"secundaria\",\"secundaria\",\"secundaria\",\"secundaria\",\"secundaria\",\"primaria\",\"secundaria\",\"secundaria\",\"primaria\",\"secundaria\",\"superior\",\"superior\",\"superior\",\"secundaria\",\"secundaria\",\"secundaria\",\"secundaria\",\"secundaria\",\"secundaria\"],\"xaxis\":\"x\",\"yaxis\":\"y\",\"type\":\"histogram\"}],                        {\"template\":{\"data\":{\"histogram2dcontour\":[{\"type\":\"histogram2dcontour\",\"colorbar\":{\"outlinewidth\":0,\"ticks\":\"\"},\"colorscale\":[[0.0,\"#0d0887\"],[0.1111111111111111,\"#46039f\"],[0.2222222222222222,\"#7201a8\"],[0.3333333333333333,\"#9c179e\"],[0.4444444444444444,\"#bd3786\"],[0.5555555555555556,\"#d8576b\"],[0.6666666666666666,\"#ed7953\"],[0.7777777777777778,\"#fb9f3a\"],[0.8888888888888888,\"#fdca26\"],[1.0,\"#f0f921\"]]}],\"choropleth\":[{\"type\":\"choropleth\",\"colorbar\":{\"outlinewidth\":0,\"ticks\":\"\"}}],\"histogram2d\":[{\"type\":\"histogram2d\",\"colorbar\":{\"outlinewidth\":0,\"ticks\":\"\"},\"colorscale\":[[0.0,\"#0d0887\"],[0.1111111111111111,\"#46039f\"],[0.2222222222222222,\"#7201a8\"],[0.3333333333333333,\"#9c179e\"],[0.4444444444444444,\"#bd3786\"],[0.5555555555555556,\"#d8576b\"],[0.6666666666666666,\"#ed7953\"],[0.7777777777777778,\"#fb9f3a\"],[0.8888888888888888,\"#fdca26\"],[1.0,\"#f0f921\"]]}],\"heatmap\":[{\"type\":\"heatmap\",\"colorbar\":{\"outlinewidth\":0,\"ticks\":\"\"},\"colorscale\":[[0.0,\"#0d0887\"],[0.1111111111111111,\"#46039f\"],[0.2222222222222222,\"#7201a8\"],[0.3333333333333333,\"#9c179e\"],[0.4444444444444444,\"#bd3786\"],[0.5555555555555556,\"#d8576b\"],[0.6666666666666666,\"#ed7953\"],[0.7777777777777778,\"#fb9f3a\"],[0.8888888888888888,\"#fdca26\"],[1.0,\"#f0f921\"]]}],\"heatmapgl\":[{\"type\":\"heatmapgl\",\"colorbar\":{\"outlinewidth\":0,\"ticks\":\"\"},\"colorscale\":[[0.0,\"#0d0887\"],[0.1111111111111111,\"#46039f\"],[0.2222222222222222,\"#7201a8\"],[0.3333333333333333,\"#9c179e\"],[0.4444444444444444,\"#bd3786\"],[0.5555555555555556,\"#d8576b\"],[0.6666666666666666,\"#ed7953\"],[0.7777777777777778,\"#fb9f3a\"],[0.8888888888888888,\"#fdca26\"],[1.0,\"#f0f921\"]]}],\"contourcarpet\":[{\"type\":\"contourcarpet\",\"colorbar\":{\"outlinewidth\":0,\"ticks\":\"\"}}],\"contour\":[{\"type\":\"contour\",\"colorbar\":{\"outlinewidth\":0,\"ticks\":\"\"},\"colorscale\":[[0.0,\"#0d0887\"],[0.1111111111111111,\"#46039f\"],[0.2222222222222222,\"#7201a8\"],[0.3333333333333333,\"#9c179e\"],[0.4444444444444444,\"#bd3786\"],[0.5555555555555556,\"#d8576b\"],[0.6666666666666666,\"#ed7953\"],[0.7777777777777778,\"#fb9f3a\"],[0.8888888888888888,\"#fdca26\"],[1.0,\"#f0f921\"]]}],\"surface\":[{\"type\":\"surface\",\"colorbar\":{\"outlinewidth\":0,\"ticks\":\"\"},\"colorscale\":[[0.0,\"#0d0887\"],[0.1111111111111111,\"#46039f\"],[0.2222222222222222,\"#7201a8\"],[0.3333333333333333,\"#9c179e\"],[0.4444444444444444,\"#bd3786\"],[0.5555555555555556,\"#d8576b\"],[0.6666666666666666,\"#ed7953\"],[0.7777777777777778,\"#fb9f3a\"],[0.8888888888888888,\"#fdca26\"],[1.0,\"#f0f921\"]]}],\"mesh3d\":[{\"type\":\"mesh3d\",\"colorbar\":{\"outlinewidth\":0,\"ticks\":\"\"}}],\"scatter\":[{\"fillpattern\":{\"fillmode\":\"overlay\",\"size\":10,\"solidity\":0.2},\"type\":\"scatter\"}],\"parcoords\":[{\"type\":\"parcoords\",\"line\":{\"colorbar\":{\"outlinewidth\":0,\"ticks\":\"\"}}}],\"scatterpolargl\":[{\"type\":\"scatterpolargl\",\"marker\":{\"colorbar\":{\"outlinewidth\":0,\"ticks\":\"\"}}}],\"bar\":[{\"error_x\":{\"color\":\"#2a3f5f\"},\"error_y\":{\"color\":\"#2a3f5f\"},\"marker\":{\"line\":{\"color\":\"#E5ECF6\",\"width\":0.5},\"pattern\":{\"fillmode\":\"overlay\",\"size\":10,\"solidity\":0.2}},\"type\":\"bar\"}],\"scattergeo\":[{\"type\":\"scattergeo\",\"marker\":{\"colorbar\":{\"outlinewidth\":0,\"ticks\":\"\"}}}],\"scatterpolar\":[{\"type\":\"scatterpolar\",\"marker\":{\"colorbar\":{\"outlinewidth\":0,\"ticks\":\"\"}}}],\"histogram\":[{\"marker\":{\"pattern\":{\"fillmode\":\"overlay\",\"size\":10,\"solidity\":0.2}},\"type\":\"histogram\"}],\"scattergl\":[{\"type\":\"scattergl\",\"marker\":{\"colorbar\":{\"outlinewidth\":0,\"ticks\":\"\"}}}],\"scatter3d\":[{\"type\":\"scatter3d\",\"line\":{\"colorbar\":{\"outlinewidth\":0,\"ticks\":\"\"}},\"marker\":{\"colorbar\":{\"outlinewidth\":0,\"ticks\":\"\"}}}],\"scattermapbox\":[{\"type\":\"scattermapbox\",\"marker\":{\"colorbar\":{\"outlinewidth\":0,\"ticks\":\"\"}}}],\"scatterternary\":[{\"type\":\"scatterternary\",\"marker\":{\"colorbar\":{\"outlinewidth\":0,\"ticks\":\"\"}}}],\"scattercarpet\":[{\"type\":\"scattercarpet\",\"marker\":{\"colorbar\":{\"outlinewidth\":0,\"ticks\":\"\"}}}],\"carpet\":[{\"aaxis\":{\"endlinecolor\":\"#2a3f5f\",\"gridcolor\":\"white\",\"linecolor\":\"white\",\"minorgridcolor\":\"white\",\"startlinecolor\":\"#2a3f5f\"},\"baxis\":{\"endlinecolor\":\"#2a3f5f\",\"gridcolor\":\"white\",\"linecolor\":\"white\",\"minorgridcolor\":\"white\",\"startlinecolor\":\"#2a3f5f\"},\"type\":\"carpet\"}],\"table\":[{\"cells\":{\"fill\":{\"color\":\"#EBF0F8\"},\"line\":{\"color\":\"white\"}},\"header\":{\"fill\":{\"color\":\"#C8D4E3\"},\"line\":{\"color\":\"white\"}},\"type\":\"table\"}],\"barpolar\":[{\"marker\":{\"line\":{\"color\":\"#E5ECF6\",\"width\":0.5},\"pattern\":{\"fillmode\":\"overlay\",\"size\":10,\"solidity\":0.2}},\"type\":\"barpolar\"}],\"pie\":[{\"automargin\":true,\"type\":\"pie\"}]},\"layout\":{\"autotypenumbers\":\"strict\",\"colorway\":[\"#636efa\",\"#EF553B\",\"#00cc96\",\"#ab63fa\",\"#FFA15A\",\"#19d3f3\",\"#FF6692\",\"#B6E880\",\"#FF97FF\",\"#FECB52\"],\"font\":{\"color\":\"#2a3f5f\"},\"hovermode\":\"closest\",\"hoverlabel\":{\"align\":\"left\"},\"paper_bgcolor\":\"white\",\"plot_bgcolor\":\"#E5ECF6\",\"polar\":{\"bgcolor\":\"#E5ECF6\",\"angularaxis\":{\"gridcolor\":\"white\",\"linecolor\":\"white\",\"ticks\":\"\"},\"radialaxis\":{\"gridcolor\":\"white\",\"linecolor\":\"white\",\"ticks\":\"\"}},\"ternary\":{\"bgcolor\":\"#E5ECF6\",\"aaxis\":{\"gridcolor\":\"white\",\"linecolor\":\"white\",\"ticks\":\"\"},\"baxis\":{\"gridcolor\":\"white\",\"linecolor\":\"white\",\"ticks\":\"\"},\"caxis\":{\"gridcolor\":\"white\",\"linecolor\":\"white\",\"ticks\":\"\"}},\"coloraxis\":{\"colorbar\":{\"outlinewidth\":0,\"ticks\":\"\"}},\"colorscale\":{\"sequential\":[[0.0,\"#0d0887\"],[0.1111111111111111,\"#46039f\"],[0.2222222222222222,\"#7201a8\"],[0.3333333333333333,\"#9c179e\"],[0.4444444444444444,\"#bd3786\"],[0.5555555555555556,\"#d8576b\"],[0.6666666666666666,\"#ed7953\"],[0.7777777777777778,\"#fb9f3a\"],[0.8888888888888888,\"#fdca26\"],[1.0,\"#f0f921\"]],\"sequentialminus\":[[0.0,\"#0d0887\"],[0.1111111111111111,\"#46039f\"],[0.2222222222222222,\"#7201a8\"],[0.3333333333333333,\"#9c179e\"],[0.4444444444444444,\"#bd3786\"],[0.5555555555555556,\"#d8576b\"],[0.6666666666666666,\"#ed7953\"],[0.7777777777777778,\"#fb9f3a\"],[0.8888888888888888,\"#fdca26\"],[1.0,\"#f0f921\"]],\"diverging\":[[0,\"#8e0152\"],[0.1,\"#c51b7d\"],[0.2,\"#de77ae\"],[0.3,\"#f1b6da\"],[0.4,\"#fde0ef\"],[0.5,\"#f7f7f7\"],[0.6,\"#e6f5d0\"],[0.7,\"#b8e186\"],[0.8,\"#7fbc41\"],[0.9,\"#4d9221\"],[1,\"#276419\"]]},\"xaxis\":{\"gridcolor\":\"white\",\"linecolor\":\"white\",\"ticks\":\"\",\"title\":{\"standoff\":15},\"zerolinecolor\":\"white\",\"automargin\":true,\"zerolinewidth\":2},\"yaxis\":{\"gridcolor\":\"white\",\"linecolor\":\"white\",\"ticks\":\"\",\"title\":{\"standoff\":15},\"zerolinecolor\":\"white\",\"automargin\":true,\"zerolinewidth\":2},\"scene\":{\"xaxis\":{\"backgroundcolor\":\"#E5ECF6\",\"gridcolor\":\"white\",\"linecolor\":\"white\",\"showbackground\":true,\"ticks\":\"\",\"zerolinecolor\":\"white\",\"gridwidth\":2},\"yaxis\":{\"backgroundcolor\":\"#E5ECF6\",\"gridcolor\":\"white\",\"linecolor\":\"white\",\"showbackground\":true,\"ticks\":\"\",\"zerolinecolor\":\"white\",\"gridwidth\":2},\"zaxis\":{\"backgroundcolor\":\"#E5ECF6\",\"gridcolor\":\"white\",\"linecolor\":\"white\",\"showbackground\":true,\"ticks\":\"\",\"zerolinecolor\":\"white\",\"gridwidth\":2}},\"shapedefaults\":{\"line\":{\"color\":\"#2a3f5f\"}},\"annotationdefaults\":{\"arrowcolor\":\"#2a3f5f\",\"arrowhead\":0,\"arrowwidth\":1},\"geo\":{\"bgcolor\":\"white\",\"landcolor\":\"#E5ECF6\",\"subunitcolor\":\"white\",\"showland\":true,\"showlakes\":true,\"lakecolor\":\"white\"},\"title\":{\"x\":0.05},\"mapbox\":{\"style\":\"light\"}}},\"xaxis\":{\"anchor\":\"y\",\"domain\":[0.0,1.0],\"title\":{\"text\":\"escolaridad\"}},\"yaxis\":{\"anchor\":\"x\",\"domain\":[0.0,1.0],\"title\":{\"text\":\"count\"}},\"legend\":{\"title\":{\"text\":\"adherencia_inversion\"},\"tracegroupgap\":0},\"margin\":{\"t\":60},\"barmode\":\"group\"},                        {\"responsive\": true}                    ).then(function(){\n",
              "                            \n",
              "var gd = document.getElementById('8e7ffc62-6506-4d8d-8b4f-9c7d508a5fbc');\n",
              "var x = new MutationObserver(function (mutations, observer) {{\n",
              "        var display = window.getComputedStyle(gd).display;\n",
              "        if (!display || display === 'none') {{\n",
              "            console.log([gd, 'removed!']);\n",
              "            Plotly.purge(gd);\n",
              "            observer.disconnect();\n",
              "        }}\n",
              "}});\n",
              "\n",
              "// Listen for the removal of the full notebook cells\n",
              "var notebookContainer = gd.closest('#notebook-container');\n",
              "if (notebookContainer) {{\n",
              "    x.observe(notebookContainer, {childList: true});\n",
              "}}\n",
              "\n",
              "// Listen for the clearing of the current output cell\n",
              "var outputEl = gd.closest('.output');\n",
              "if (outputEl) {{\n",
              "    x.observe(outputEl, {childList: true});\n",
              "}}\n",
              "\n",
              "                        })                };                            </script>        </div>\n",
              "</body>\n",
              "</html>"
            ]
          },
          "metadata": {}
        }
      ]
    },
    {
      "cell_type": "markdown",
      "source": [
        "lo que vemos es que tenemos mas estudios superiores añadidos con respecto a los otros grupos, esto puede ser un patron con respecto a la diferencia de grado entre los clientes"
      ],
      "metadata": {
        "id": "Kkio1jSVj8kX"
      }
    },
    {
      "cell_type": "markdown",
      "source": [
        "lo que queremos con esto es hacer que la maquina aprenda y nos de su analisis o opinion de los datos asi como nosotrs lo hacemos al analisar la grafica"
      ],
      "metadata": {
        "id": "fd0qsB_1kOUU"
      }
    },
    {
      "cell_type": "code",
      "source": [
        "px.histogram(datos,x='default',text_auto=True,color='adherencia_inversion',barmode='group')"
      ],
      "metadata": {
        "colab": {
          "base_uri": "https://localhost:8080/",
          "height": 542
        },
        "id": "Sh2UVGHAkV5R",
        "outputId": "272d14d4-dcf3-4658-d6c7-3456cd491a18"
      },
      "execution_count": 9,
      "outputs": [
        {
          "output_type": "display_data",
          "data": {
            "text/html": [
              "<html>\n",
              "<head><meta charset=\"utf-8\" /></head>\n",
              "<body>\n",
              "    <div>            <script src=\"https://cdnjs.cloudflare.com/ajax/libs/mathjax/2.7.5/MathJax.js?config=TeX-AMS-MML_SVG\"></script><script type=\"text/javascript\">if (window.MathJax && window.MathJax.Hub && window.MathJax.Hub.Config) {window.MathJax.Hub.Config({SVG: {font: \"STIX-Web\"}});}</script>                <script type=\"text/javascript\">window.PlotlyConfig = {MathJaxConfig: 'local'};</script>\n",
              "        <script charset=\"utf-8\" src=\"https://cdn.plot.ly/plotly-2.35.2.min.js\"></script>                <div id=\"1889eea0-99d4-4c0d-9c57-c2cc52f7323f\" class=\"plotly-graph-div\" style=\"height:525px; width:100%;\"></div>            <script type=\"text/javascript\">                                    window.PLOTLYENV=window.PLOTLYENV || {};                                    if (document.getElementById(\"1889eea0-99d4-4c0d-9c57-c2cc52f7323f\")) {                    Plotly.newPlot(                        \"1889eea0-99d4-4c0d-9c57-c2cc52f7323f\",                        [{\"alignmentgroup\":\"True\",\"bingroup\":\"x\",\"hovertemplate\":\"adherencia_inversion=si\\u003cbr\\u003edefault=%{x}\\u003cbr\\u003ecount=%{y}\\u003cextra\\u003e\\u003c\\u002fextra\\u003e\",\"legendgroup\":\"si\",\"marker\":{\"color\":\"#636efa\",\"pattern\":{\"shape\":\"\"}},\"name\":\"si\",\"offsetgroup\":\"si\",\"orientation\":\"v\",\"showlegend\":true,\"texttemplate\":\"%{value}\",\"x\":[\"no\",\"no\",\"no\",\"no\",\"no\",\"no\",\"no\",\"no\",\"no\",\"no\",\"no\",\"no\",\"no\",\"no\",\"no\",\"no\",\"no\",\"no\",\"no\",\"no\",\"no\",\"no\",\"no\",\"no\",\"no\",\"no\",\"no\",\"no\",\"no\",\"no\",\"no\",\"no\",\"no\",\"no\",\"no\",\"no\",\"no\",\"no\",\"no\",\"no\",\"no\",\"no\",\"no\",\"no\",\"no\",\"si\",\"no\",\"no\",\"no\",\"no\",\"no\",\"no\",\"no\",\"no\",\"no\",\"no\",\"no\",\"no\",\"no\",\"no\",\"no\",\"no\",\"no\",\"no\",\"no\",\"no\",\"no\",\"no\",\"no\",\"no\",\"no\",\"no\",\"no\",\"no\",\"no\",\"no\",\"no\",\"no\",\"no\",\"no\",\"no\",\"no\",\"no\",\"no\",\"no\",\"no\",\"no\",\"no\",\"no\",\"no\",\"no\",\"no\",\"no\",\"no\",\"no\",\"no\",\"no\",\"no\",\"no\",\"no\",\"no\",\"no\",\"no\",\"no\",\"no\",\"no\",\"no\",\"no\",\"no\",\"no\",\"no\",\"no\",\"no\",\"no\",\"no\",\"no\",\"no\",\"no\",\"no\",\"no\",\"no\",\"no\",\"no\",\"no\",\"no\",\"no\",\"no\",\"no\",\"no\",\"no\",\"no\",\"no\",\"no\",\"no\",\"no\",\"no\",\"no\",\"no\",\"no\",\"no\",\"no\",\"no\",\"no\",\"no\",\"no\",\"no\",\"no\",\"no\",\"no\",\"no\",\"no\",\"no\",\"no\",\"no\",\"no\",\"no\",\"no\",\"no\",\"si\",\"no\",\"no\",\"no\",\"no\",\"no\",\"no\",\"no\",\"no\",\"no\",\"si\",\"no\",\"no\",\"no\",\"no\",\"no\",\"no\",\"no\",\"no\",\"no\",\"no\",\"no\",\"no\",\"no\",\"no\",\"no\",\"no\",\"no\",\"no\",\"no\",\"no\",\"no\",\"no\",\"no\",\"no\",\"no\",\"no\",\"no\",\"no\",\"no\",\"no\",\"no\",\"no\",\"no\",\"no\",\"no\",\"no\",\"no\",\"no\",\"no\",\"no\",\"no\",\"si\",\"no\",\"no\",\"no\",\"no\",\"no\",\"no\",\"no\",\"no\",\"no\",\"no\",\"no\",\"no\",\"no\",\"no\",\"no\",\"no\",\"no\",\"no\",\"no\",\"no\",\"no\",\"no\",\"no\",\"no\",\"no\",\"no\",\"no\",\"no\",\"no\",\"no\",\"no\",\"no\",\"no\",\"no\",\"no\",\"no\",\"no\",\"no\",\"no\",\"no\",\"no\",\"no\",\"no\",\"no\",\"no\",\"no\",\"no\",\"no\",\"no\",\"no\",\"no\",\"no\",\"no\",\"no\",\"no\",\"no\",\"no\",\"no\",\"no\",\"no\",\"no\",\"no\",\"no\",\"no\",\"no\",\"no\",\"no\",\"no\",\"no\",\"no\",\"no\",\"no\",\"no\",\"no\",\"no\",\"no\",\"no\",\"no\",\"no\",\"no\",\"no\",\"no\",\"no\",\"no\",\"no\",\"no\",\"no\",\"no\",\"no\",\"no\",\"no\",\"no\",\"no\",\"no\",\"no\",\"no\",\"no\",\"no\",\"no\",\"no\",\"no\",\"no\",\"no\",\"no\",\"no\",\"no\",\"no\",\"no\",\"no\",\"no\",\"no\",\"no\",\"no\",\"no\",\"no\",\"no\",\"no\",\"no\",\"no\",\"no\",\"no\",\"no\",\"no\",\"no\",\"no\",\"no\",\"no\",\"no\",\"no\",\"no\",\"no\",\"no\",\"no\",\"no\",\"no\",\"no\",\"no\",\"no\",\"no\",\"no\",\"no\",\"no\",\"no\",\"no\",\"no\",\"no\",\"no\",\"no\",\"no\",\"no\",\"no\",\"no\",\"no\",\"no\",\"no\",\"no\",\"no\",\"no\",\"no\",\"no\",\"no\",\"no\",\"no\",\"no\",\"no\",\"no\",\"no\",\"no\",\"no\",\"no\",\"no\",\"no\",\"no\",\"no\",\"no\",\"no\",\"si\",\"no\",\"no\",\"no\",\"no\",\"no\",\"no\",\"no\",\"no\",\"no\",\"no\",\"no\",\"no\",\"no\",\"si\",\"no\",\"no\",\"no\",\"no\",\"no\",\"no\",\"no\",\"no\",\"no\",\"no\",\"no\",\"no\",\"no\",\"no\",\"no\",\"no\",\"no\",\"no\",\"no\",\"no\",\"no\",\"no\",\"no\",\"no\",\"no\",\"no\",\"no\",\"no\",\"no\",\"no\",\"no\",\"no\",\"no\",\"no\",\"no\",\"no\",\"no\",\"no\",\"no\",\"no\",\"no\",\"no\",\"no\",\"no\",\"no\",\"no\",\"si\",\"no\",\"no\",\"no\",\"no\",\"no\",\"no\",\"no\",\"no\",\"no\",\"no\",\"no\",\"no\",\"no\",\"no\",\"no\",\"no\",\"no\",\"no\",\"no\",\"no\",\"no\",\"no\",\"no\",\"no\",\"no\",\"no\",\"no\",\"si\",\"no\",\"no\",\"no\",\"no\",\"no\",\"no\",\"no\",\"no\",\"no\",\"no\",\"no\",\"no\",\"no\",\"no\",\"no\",\"no\",\"no\",\"no\",\"no\",\"no\",\"no\",\"no\",\"no\",\"no\",\"no\"],\"xaxis\":\"x\",\"yaxis\":\"y\",\"type\":\"histogram\"},{\"alignmentgroup\":\"True\",\"bingroup\":\"x\",\"hovertemplate\":\"adherencia_inversion=no\\u003cbr\\u003edefault=%{x}\\u003cbr\\u003ecount=%{y}\\u003cextra\\u003e\\u003c\\u002fextra\\u003e\",\"legendgroup\":\"no\",\"marker\":{\"color\":\"#EF553B\",\"pattern\":{\"shape\":\"\"}},\"name\":\"no\",\"offsetgroup\":\"no\",\"orientation\":\"v\",\"showlegend\":true,\"texttemplate\":\"%{value}\",\"x\":[\"no\",\"no\",\"no\",\"no\",\"no\",\"no\",\"no\",\"no\",\"no\",\"no\",\"no\",\"no\",\"no\",\"no\",\"no\",\"no\",\"no\",\"no\",\"no\",\"no\",\"no\",\"no\",\"no\",\"si\",\"no\",\"no\",\"no\",\"no\",\"no\",\"no\",\"no\",\"no\",\"no\",\"no\",\"no\",\"no\",\"no\",\"no\",\"no\",\"no\",\"no\",\"no\",\"no\",\"no\",\"no\",\"no\",\"no\",\"no\",\"no\",\"no\",\"no\",\"no\",\"no\",\"no\",\"no\",\"no\",\"si\",\"no\",\"no\",\"no\",\"no\",\"no\",\"no\",\"no\",\"no\",\"no\",\"no\",\"no\",\"no\",\"no\",\"no\",\"no\",\"no\",\"no\",\"no\",\"no\",\"no\",\"no\",\"no\",\"no\",\"no\",\"no\",\"no\",\"no\",\"no\",\"no\",\"no\",\"no\",\"no\",\"no\",\"no\",\"no\",\"no\",\"no\",\"no\",\"no\",\"no\",\"no\",\"no\",\"no\",\"no\",\"no\",\"no\",\"no\",\"no\",\"no\",\"no\",\"no\",\"no\",\"no\",\"no\",\"si\",\"no\",\"no\",\"si\",\"no\",\"no\",\"no\",\"no\",\"no\",\"no\",\"no\",\"no\",\"no\",\"no\",\"no\",\"no\",\"no\",\"no\",\"no\",\"no\",\"no\",\"no\",\"no\",\"no\",\"no\",\"no\",\"no\",\"no\",\"no\",\"no\",\"no\",\"no\",\"no\",\"no\",\"no\",\"no\",\"no\",\"no\",\"no\",\"no\",\"no\",\"no\",\"no\",\"no\",\"no\",\"no\",\"no\",\"no\",\"no\",\"no\",\"no\",\"no\",\"no\",\"si\",\"no\",\"no\",\"no\",\"no\",\"no\",\"no\",\"no\",\"no\",\"no\",\"no\",\"no\",\"no\",\"no\",\"no\",\"no\",\"no\",\"no\",\"no\",\"no\",\"no\",\"no\",\"no\",\"no\",\"no\",\"no\",\"no\",\"no\",\"no\",\"no\",\"no\",\"no\",\"no\",\"no\",\"no\",\"no\",\"no\",\"no\",\"no\",\"no\",\"no\",\"no\",\"no\",\"no\",\"no\",\"no\",\"no\",\"no\",\"no\",\"no\",\"no\",\"no\",\"no\",\"no\",\"no\",\"no\",\"no\",\"no\",\"no\",\"no\",\"no\",\"no\",\"no\",\"no\",\"no\",\"no\",\"no\",\"no\",\"no\",\"no\",\"no\",\"no\",\"no\",\"no\",\"no\",\"no\",\"no\",\"no\",\"no\",\"no\",\"no\",\"no\",\"no\",\"no\",\"no\",\"no\",\"no\",\"no\",\"no\",\"no\",\"no\",\"no\",\"no\",\"no\",\"no\",\"no\",\"no\",\"no\",\"no\",\"no\",\"no\",\"no\",\"no\",\"no\",\"no\",\"no\",\"no\",\"no\",\"no\",\"no\",\"no\",\"no\",\"no\",\"no\",\"no\",\"no\",\"no\",\"no\",\"no\",\"no\",\"no\",\"no\",\"no\",\"no\",\"no\",\"no\",\"no\",\"no\",\"no\",\"no\",\"no\",\"no\",\"no\",\"no\",\"no\",\"no\",\"no\",\"no\",\"no\",\"no\",\"no\",\"si\",\"no\",\"si\",\"no\",\"no\",\"no\",\"no\",\"no\",\"no\",\"no\",\"no\",\"no\",\"no\",\"no\",\"no\",\"no\",\"no\",\"no\",\"no\",\"no\",\"no\",\"si\",\"no\",\"no\",\"no\",\"no\",\"no\",\"no\",\"no\",\"no\",\"no\",\"no\",\"no\",\"no\",\"no\",\"no\",\"no\",\"no\",\"no\",\"no\",\"no\",\"no\",\"no\",\"no\",\"no\",\"no\",\"no\",\"no\",\"no\",\"no\",\"no\",\"no\",\"no\",\"no\",\"no\",\"no\",\"no\",\"no\",\"no\",\"si\",\"no\",\"no\",\"no\",\"no\",\"no\",\"no\",\"no\",\"no\",\"no\",\"no\",\"no\",\"no\",\"no\",\"no\",\"no\",\"no\",\"no\",\"no\",\"no\",\"no\",\"no\",\"no\",\"no\",\"no\",\"no\",\"no\",\"no\",\"no\",\"no\",\"no\",\"no\",\"no\",\"no\",\"no\",\"no\",\"no\",\"no\",\"no\",\"no\",\"no\",\"no\",\"no\",\"no\",\"no\",\"no\",\"no\",\"no\",\"no\",\"no\",\"no\",\"no\",\"no\",\"no\",\"no\",\"no\",\"no\",\"no\",\"no\",\"no\",\"no\",\"no\",\"no\",\"no\",\"no\",\"no\",\"no\",\"no\",\"no\",\"no\",\"no\",\"no\",\"no\",\"no\",\"no\",\"no\",\"no\",\"no\",\"no\",\"no\",\"no\",\"no\",\"no\",\"no\",\"si\",\"no\",\"no\",\"no\",\"no\",\"no\",\"no\",\"no\",\"no\",\"no\",\"no\",\"no\",\"no\",\"no\",\"no\",\"no\",\"no\",\"no\",\"no\",\"no\",\"no\",\"no\",\"no\",\"no\",\"no\",\"no\",\"no\",\"no\",\"no\",\"no\",\"no\",\"no\",\"no\",\"no\",\"no\",\"no\",\"no\",\"no\",\"no\",\"no\",\"no\",\"no\",\"no\",\"no\",\"no\",\"no\",\"no\",\"no\",\"no\",\"no\",\"no\",\"no\",\"no\",\"no\",\"no\",\"no\",\"no\",\"no\",\"no\",\"no\",\"no\",\"no\",\"no\",\"no\",\"no\",\"no\",\"no\",\"no\",\"no\",\"no\",\"no\",\"no\",\"no\",\"no\",\"no\",\"no\",\"no\",\"no\",\"no\",\"no\",\"no\",\"no\",\"no\",\"no\",\"no\",\"no\",\"no\",\"no\",\"no\",\"no\",\"no\",\"no\",\"no\",\"no\",\"no\",\"no\",\"no\",\"no\",\"no\",\"no\",\"no\",\"no\",\"no\",\"no\",\"no\",\"no\",\"no\",\"no\",\"no\",\"no\",\"no\",\"no\",\"no\",\"no\",\"no\",\"no\",\"no\",\"no\",\"no\",\"no\",\"no\",\"no\",\"no\",\"no\",\"no\",\"si\",\"no\",\"no\",\"no\",\"no\",\"no\",\"no\",\"no\",\"no\",\"no\",\"no\",\"no\",\"si\",\"no\",\"no\",\"no\",\"no\",\"no\",\"no\",\"no\",\"no\",\"no\",\"no\",\"no\",\"no\",\"no\",\"no\",\"no\",\"no\",\"no\",\"no\",\"no\",\"no\",\"no\",\"no\",\"no\",\"no\",\"no\",\"no\",\"no\",\"no\",\"no\",\"no\",\"no\",\"no\",\"no\",\"no\",\"no\",\"no\",\"no\",\"no\",\"no\",\"no\",\"no\",\"no\",\"no\",\"no\",\"no\",\"no\",\"no\",\"no\",\"no\",\"no\",\"no\",\"no\",\"no\",\"no\",\"no\",\"no\",\"no\",\"no\",\"no\",\"no\",\"no\",\"no\",\"no\",\"no\",\"no\",\"no\",\"no\",\"no\",\"no\",\"no\",\"no\",\"no\",\"no\",\"no\",\"no\",\"no\",\"no\",\"no\",\"no\",\"no\",\"no\",\"no\",\"no\",\"no\",\"no\",\"no\",\"no\",\"no\",\"no\",\"no\",\"no\",\"no\",\"no\",\"no\",\"no\",\"no\",\"no\",\"no\",\"no\",\"no\",\"no\",\"no\",\"no\",\"no\",\"si\",\"no\",\"si\",\"no\",\"no\",\"no\",\"no\",\"no\",\"no\",\"no\",\"no\",\"no\",\"no\",\"no\",\"no\",\"no\",\"no\",\"no\",\"no\",\"no\",\"no\",\"no\",\"no\",\"no\",\"no\",\"no\",\"no\",\"no\",\"no\",\"no\",\"no\",\"no\",\"no\",\"no\",\"no\",\"no\",\"no\",\"no\",\"no\",\"no\",\"no\",\"no\",\"no\",\"no\",\"no\",\"no\",\"si\",\"no\",\"no\",\"no\",\"no\",\"no\",\"no\",\"no\",\"no\",\"no\",\"no\",\"no\",\"no\",\"no\",\"no\",\"no\",\"no\",\"no\",\"no\",\"no\",\"no\",\"no\",\"no\",\"no\",\"no\",\"no\",\"no\",\"no\",\"no\",\"no\"],\"xaxis\":\"x\",\"yaxis\":\"y\",\"type\":\"histogram\"}],                        {\"template\":{\"data\":{\"histogram2dcontour\":[{\"type\":\"histogram2dcontour\",\"colorbar\":{\"outlinewidth\":0,\"ticks\":\"\"},\"colorscale\":[[0.0,\"#0d0887\"],[0.1111111111111111,\"#46039f\"],[0.2222222222222222,\"#7201a8\"],[0.3333333333333333,\"#9c179e\"],[0.4444444444444444,\"#bd3786\"],[0.5555555555555556,\"#d8576b\"],[0.6666666666666666,\"#ed7953\"],[0.7777777777777778,\"#fb9f3a\"],[0.8888888888888888,\"#fdca26\"],[1.0,\"#f0f921\"]]}],\"choropleth\":[{\"type\":\"choropleth\",\"colorbar\":{\"outlinewidth\":0,\"ticks\":\"\"}}],\"histogram2d\":[{\"type\":\"histogram2d\",\"colorbar\":{\"outlinewidth\":0,\"ticks\":\"\"},\"colorscale\":[[0.0,\"#0d0887\"],[0.1111111111111111,\"#46039f\"],[0.2222222222222222,\"#7201a8\"],[0.3333333333333333,\"#9c179e\"],[0.4444444444444444,\"#bd3786\"],[0.5555555555555556,\"#d8576b\"],[0.6666666666666666,\"#ed7953\"],[0.7777777777777778,\"#fb9f3a\"],[0.8888888888888888,\"#fdca26\"],[1.0,\"#f0f921\"]]}],\"heatmap\":[{\"type\":\"heatmap\",\"colorbar\":{\"outlinewidth\":0,\"ticks\":\"\"},\"colorscale\":[[0.0,\"#0d0887\"],[0.1111111111111111,\"#46039f\"],[0.2222222222222222,\"#7201a8\"],[0.3333333333333333,\"#9c179e\"],[0.4444444444444444,\"#bd3786\"],[0.5555555555555556,\"#d8576b\"],[0.6666666666666666,\"#ed7953\"],[0.7777777777777778,\"#fb9f3a\"],[0.8888888888888888,\"#fdca26\"],[1.0,\"#f0f921\"]]}],\"heatmapgl\":[{\"type\":\"heatmapgl\",\"colorbar\":{\"outlinewidth\":0,\"ticks\":\"\"},\"colorscale\":[[0.0,\"#0d0887\"],[0.1111111111111111,\"#46039f\"],[0.2222222222222222,\"#7201a8\"],[0.3333333333333333,\"#9c179e\"],[0.4444444444444444,\"#bd3786\"],[0.5555555555555556,\"#d8576b\"],[0.6666666666666666,\"#ed7953\"],[0.7777777777777778,\"#fb9f3a\"],[0.8888888888888888,\"#fdca26\"],[1.0,\"#f0f921\"]]}],\"contourcarpet\":[{\"type\":\"contourcarpet\",\"colorbar\":{\"outlinewidth\":0,\"ticks\":\"\"}}],\"contour\":[{\"type\":\"contour\",\"colorbar\":{\"outlinewidth\":0,\"ticks\":\"\"},\"colorscale\":[[0.0,\"#0d0887\"],[0.1111111111111111,\"#46039f\"],[0.2222222222222222,\"#7201a8\"],[0.3333333333333333,\"#9c179e\"],[0.4444444444444444,\"#bd3786\"],[0.5555555555555556,\"#d8576b\"],[0.6666666666666666,\"#ed7953\"],[0.7777777777777778,\"#fb9f3a\"],[0.8888888888888888,\"#fdca26\"],[1.0,\"#f0f921\"]]}],\"surface\":[{\"type\":\"surface\",\"colorbar\":{\"outlinewidth\":0,\"ticks\":\"\"},\"colorscale\":[[0.0,\"#0d0887\"],[0.1111111111111111,\"#46039f\"],[0.2222222222222222,\"#7201a8\"],[0.3333333333333333,\"#9c179e\"],[0.4444444444444444,\"#bd3786\"],[0.5555555555555556,\"#d8576b\"],[0.6666666666666666,\"#ed7953\"],[0.7777777777777778,\"#fb9f3a\"],[0.8888888888888888,\"#fdca26\"],[1.0,\"#f0f921\"]]}],\"mesh3d\":[{\"type\":\"mesh3d\",\"colorbar\":{\"outlinewidth\":0,\"ticks\":\"\"}}],\"scatter\":[{\"fillpattern\":{\"fillmode\":\"overlay\",\"size\":10,\"solidity\":0.2},\"type\":\"scatter\"}],\"parcoords\":[{\"type\":\"parcoords\",\"line\":{\"colorbar\":{\"outlinewidth\":0,\"ticks\":\"\"}}}],\"scatterpolargl\":[{\"type\":\"scatterpolargl\",\"marker\":{\"colorbar\":{\"outlinewidth\":0,\"ticks\":\"\"}}}],\"bar\":[{\"error_x\":{\"color\":\"#2a3f5f\"},\"error_y\":{\"color\":\"#2a3f5f\"},\"marker\":{\"line\":{\"color\":\"#E5ECF6\",\"width\":0.5},\"pattern\":{\"fillmode\":\"overlay\",\"size\":10,\"solidity\":0.2}},\"type\":\"bar\"}],\"scattergeo\":[{\"type\":\"scattergeo\",\"marker\":{\"colorbar\":{\"outlinewidth\":0,\"ticks\":\"\"}}}],\"scatterpolar\":[{\"type\":\"scatterpolar\",\"marker\":{\"colorbar\":{\"outlinewidth\":0,\"ticks\":\"\"}}}],\"histogram\":[{\"marker\":{\"pattern\":{\"fillmode\":\"overlay\",\"size\":10,\"solidity\":0.2}},\"type\":\"histogram\"}],\"scattergl\":[{\"type\":\"scattergl\",\"marker\":{\"colorbar\":{\"outlinewidth\":0,\"ticks\":\"\"}}}],\"scatter3d\":[{\"type\":\"scatter3d\",\"line\":{\"colorbar\":{\"outlinewidth\":0,\"ticks\":\"\"}},\"marker\":{\"colorbar\":{\"outlinewidth\":0,\"ticks\":\"\"}}}],\"scattermapbox\":[{\"type\":\"scattermapbox\",\"marker\":{\"colorbar\":{\"outlinewidth\":0,\"ticks\":\"\"}}}],\"scatterternary\":[{\"type\":\"scatterternary\",\"marker\":{\"colorbar\":{\"outlinewidth\":0,\"ticks\":\"\"}}}],\"scattercarpet\":[{\"type\":\"scattercarpet\",\"marker\":{\"colorbar\":{\"outlinewidth\":0,\"ticks\":\"\"}}}],\"carpet\":[{\"aaxis\":{\"endlinecolor\":\"#2a3f5f\",\"gridcolor\":\"white\",\"linecolor\":\"white\",\"minorgridcolor\":\"white\",\"startlinecolor\":\"#2a3f5f\"},\"baxis\":{\"endlinecolor\":\"#2a3f5f\",\"gridcolor\":\"white\",\"linecolor\":\"white\",\"minorgridcolor\":\"white\",\"startlinecolor\":\"#2a3f5f\"},\"type\":\"carpet\"}],\"table\":[{\"cells\":{\"fill\":{\"color\":\"#EBF0F8\"},\"line\":{\"color\":\"white\"}},\"header\":{\"fill\":{\"color\":\"#C8D4E3\"},\"line\":{\"color\":\"white\"}},\"type\":\"table\"}],\"barpolar\":[{\"marker\":{\"line\":{\"color\":\"#E5ECF6\",\"width\":0.5},\"pattern\":{\"fillmode\":\"overlay\",\"size\":10,\"solidity\":0.2}},\"type\":\"barpolar\"}],\"pie\":[{\"automargin\":true,\"type\":\"pie\"}]},\"layout\":{\"autotypenumbers\":\"strict\",\"colorway\":[\"#636efa\",\"#EF553B\",\"#00cc96\",\"#ab63fa\",\"#FFA15A\",\"#19d3f3\",\"#FF6692\",\"#B6E880\",\"#FF97FF\",\"#FECB52\"],\"font\":{\"color\":\"#2a3f5f\"},\"hovermode\":\"closest\",\"hoverlabel\":{\"align\":\"left\"},\"paper_bgcolor\":\"white\",\"plot_bgcolor\":\"#E5ECF6\",\"polar\":{\"bgcolor\":\"#E5ECF6\",\"angularaxis\":{\"gridcolor\":\"white\",\"linecolor\":\"white\",\"ticks\":\"\"},\"radialaxis\":{\"gridcolor\":\"white\",\"linecolor\":\"white\",\"ticks\":\"\"}},\"ternary\":{\"bgcolor\":\"#E5ECF6\",\"aaxis\":{\"gridcolor\":\"white\",\"linecolor\":\"white\",\"ticks\":\"\"},\"baxis\":{\"gridcolor\":\"white\",\"linecolor\":\"white\",\"ticks\":\"\"},\"caxis\":{\"gridcolor\":\"white\",\"linecolor\":\"white\",\"ticks\":\"\"}},\"coloraxis\":{\"colorbar\":{\"outlinewidth\":0,\"ticks\":\"\"}},\"colorscale\":{\"sequential\":[[0.0,\"#0d0887\"],[0.1111111111111111,\"#46039f\"],[0.2222222222222222,\"#7201a8\"],[0.3333333333333333,\"#9c179e\"],[0.4444444444444444,\"#bd3786\"],[0.5555555555555556,\"#d8576b\"],[0.6666666666666666,\"#ed7953\"],[0.7777777777777778,\"#fb9f3a\"],[0.8888888888888888,\"#fdca26\"],[1.0,\"#f0f921\"]],\"sequentialminus\":[[0.0,\"#0d0887\"],[0.1111111111111111,\"#46039f\"],[0.2222222222222222,\"#7201a8\"],[0.3333333333333333,\"#9c179e\"],[0.4444444444444444,\"#bd3786\"],[0.5555555555555556,\"#d8576b\"],[0.6666666666666666,\"#ed7953\"],[0.7777777777777778,\"#fb9f3a\"],[0.8888888888888888,\"#fdca26\"],[1.0,\"#f0f921\"]],\"diverging\":[[0,\"#8e0152\"],[0.1,\"#c51b7d\"],[0.2,\"#de77ae\"],[0.3,\"#f1b6da\"],[0.4,\"#fde0ef\"],[0.5,\"#f7f7f7\"],[0.6,\"#e6f5d0\"],[0.7,\"#b8e186\"],[0.8,\"#7fbc41\"],[0.9,\"#4d9221\"],[1,\"#276419\"]]},\"xaxis\":{\"gridcolor\":\"white\",\"linecolor\":\"white\",\"ticks\":\"\",\"title\":{\"standoff\":15},\"zerolinecolor\":\"white\",\"automargin\":true,\"zerolinewidth\":2},\"yaxis\":{\"gridcolor\":\"white\",\"linecolor\":\"white\",\"ticks\":\"\",\"title\":{\"standoff\":15},\"zerolinecolor\":\"white\",\"automargin\":true,\"zerolinewidth\":2},\"scene\":{\"xaxis\":{\"backgroundcolor\":\"#E5ECF6\",\"gridcolor\":\"white\",\"linecolor\":\"white\",\"showbackground\":true,\"ticks\":\"\",\"zerolinecolor\":\"white\",\"gridwidth\":2},\"yaxis\":{\"backgroundcolor\":\"#E5ECF6\",\"gridcolor\":\"white\",\"linecolor\":\"white\",\"showbackground\":true,\"ticks\":\"\",\"zerolinecolor\":\"white\",\"gridwidth\":2},\"zaxis\":{\"backgroundcolor\":\"#E5ECF6\",\"gridcolor\":\"white\",\"linecolor\":\"white\",\"showbackground\":true,\"ticks\":\"\",\"zerolinecolor\":\"white\",\"gridwidth\":2}},\"shapedefaults\":{\"line\":{\"color\":\"#2a3f5f\"}},\"annotationdefaults\":{\"arrowcolor\":\"#2a3f5f\",\"arrowhead\":0,\"arrowwidth\":1},\"geo\":{\"bgcolor\":\"white\",\"landcolor\":\"#E5ECF6\",\"subunitcolor\":\"white\",\"showland\":true,\"showlakes\":true,\"lakecolor\":\"white\"},\"title\":{\"x\":0.05},\"mapbox\":{\"style\":\"light\"}}},\"xaxis\":{\"anchor\":\"y\",\"domain\":[0.0,1.0],\"title\":{\"text\":\"default\"}},\"yaxis\":{\"anchor\":\"x\",\"domain\":[0.0,1.0],\"title\":{\"text\":\"count\"}},\"legend\":{\"title\":{\"text\":\"adherencia_inversion\"},\"tracegroupgap\":0},\"margin\":{\"t\":60},\"barmode\":\"group\"},                        {\"responsive\": true}                    ).then(function(){\n",
              "                            \n",
              "var gd = document.getElementById('1889eea0-99d4-4c0d-9c57-c2cc52f7323f');\n",
              "var x = new MutationObserver(function (mutations, observer) {{\n",
              "        var display = window.getComputedStyle(gd).display;\n",
              "        if (!display || display === 'none') {{\n",
              "            console.log([gd, 'removed!']);\n",
              "            Plotly.purge(gd);\n",
              "            observer.disconnect();\n",
              "        }}\n",
              "}});\n",
              "\n",
              "// Listen for the removal of the full notebook cells\n",
              "var notebookContainer = gd.closest('#notebook-container');\n",
              "if (notebookContainer) {{\n",
              "    x.observe(notebookContainer, {childList: true});\n",
              "}}\n",
              "\n",
              "// Listen for the clearing of the current output cell\n",
              "var outputEl = gd.closest('.output');\n",
              "if (outputEl) {{\n",
              "    x.observe(outputEl, {childList: true});\n",
              "}}\n",
              "\n",
              "                        })                };                            </script>        </div>\n",
              "</body>\n",
              "</html>"
            ]
          },
          "metadata": {}
        }
      ]
    },
    {
      "cell_type": "code",
      "source": [
        "px.histogram(datos,x='prestatario',text_auto=True,color='adherencia_inversion',barmode='group')"
      ],
      "metadata": {
        "colab": {
          "base_uri": "https://localhost:8080/",
          "height": 542
        },
        "id": "K-IVAZqcktlu",
        "outputId": "6269531e-d83c-46b2-b95b-bbe35d621212"
      },
      "execution_count": 10,
      "outputs": [
        {
          "output_type": "display_data",
          "data": {
            "text/html": [
              "<html>\n",
              "<head><meta charset=\"utf-8\" /></head>\n",
              "<body>\n",
              "    <div>            <script src=\"https://cdnjs.cloudflare.com/ajax/libs/mathjax/2.7.5/MathJax.js?config=TeX-AMS-MML_SVG\"></script><script type=\"text/javascript\">if (window.MathJax && window.MathJax.Hub && window.MathJax.Hub.Config) {window.MathJax.Hub.Config({SVG: {font: \"STIX-Web\"}});}</script>                <script type=\"text/javascript\">window.PlotlyConfig = {MathJaxConfig: 'local'};</script>\n",
              "        <script charset=\"utf-8\" src=\"https://cdn.plot.ly/plotly-2.35.2.min.js\"></script>                <div id=\"1a3c4efc-d2f5-4f96-8b72-b128ac70d227\" class=\"plotly-graph-div\" style=\"height:525px; width:100%;\"></div>            <script type=\"text/javascript\">                                    window.PLOTLYENV=window.PLOTLYENV || {};                                    if (document.getElementById(\"1a3c4efc-d2f5-4f96-8b72-b128ac70d227\")) {                    Plotly.newPlot(                        \"1a3c4efc-d2f5-4f96-8b72-b128ac70d227\",                        [{\"alignmentgroup\":\"True\",\"bingroup\":\"x\",\"hovertemplate\":\"adherencia_inversion=si\\u003cbr\\u003eprestatario=%{x}\\u003cbr\\u003ecount=%{y}\\u003cextra\\u003e\\u003c\\u002fextra\\u003e\",\"legendgroup\":\"si\",\"marker\":{\"color\":\"#636efa\",\"pattern\":{\"shape\":\"\"}},\"name\":\"si\",\"offsetgroup\":\"si\",\"orientation\":\"v\",\"showlegend\":true,\"texttemplate\":\"%{value}\",\"x\":[\"no\",\"no\",\"no\",\"no\",\"si\",\"no\",\"si\",\"no\",\"no\",\"no\",\"no\",\"no\",\"no\",\"no\",\"no\",\"no\",\"no\",\"si\",\"no\",\"no\",\"no\",\"no\",\"no\",\"no\",\"no\",\"no\",\"no\",\"no\",\"si\",\"no\",\"no\",\"no\",\"no\",\"no\",\"no\",\"no\",\"no\",\"no\",\"no\",\"no\",\"no\",\"no\",\"si\",\"no\",\"no\",\"no\",\"no\",\"no\",\"no\",\"no\",\"no\",\"no\",\"no\",\"no\",\"no\",\"no\",\"no\",\"no\",\"no\",\"si\",\"no\",\"no\",\"no\",\"no\",\"no\",\"no\",\"no\",\"no\",\"no\",\"no\",\"no\",\"si\",\"no\",\"no\",\"no\",\"no\",\"si\",\"no\",\"no\",\"no\",\"no\",\"no\",\"no\",\"no\",\"no\",\"no\",\"no\",\"no\",\"no\",\"no\",\"no\",\"no\",\"no\",\"no\",\"no\",\"no\",\"no\",\"no\",\"no\",\"no\",\"si\",\"no\",\"no\",\"no\",\"no\",\"no\",\"no\",\"no\",\"no\",\"no\",\"no\",\"no\",\"no\",\"no\",\"no\",\"no\",\"no\",\"no\",\"no\",\"no\",\"no\",\"no\",\"no\",\"no\",\"no\",\"no\",\"si\",\"no\",\"no\",\"no\",\"no\",\"no\",\"no\",\"no\",\"no\",\"si\",\"no\",\"no\",\"no\",\"no\",\"no\",\"no\",\"no\",\"no\",\"no\",\"no\",\"no\",\"si\",\"no\",\"no\",\"no\",\"no\",\"no\",\"no\",\"no\",\"no\",\"no\",\"no\",\"si\",\"no\",\"no\",\"no\",\"no\",\"no\",\"no\",\"no\",\"no\",\"no\",\"si\",\"no\",\"no\",\"si\",\"no\",\"si\",\"no\",\"no\",\"no\",\"no\",\"no\",\"no\",\"no\",\"no\",\"no\",\"no\",\"no\",\"no\",\"no\",\"no\",\"no\",\"no\",\"no\",\"no\",\"no\",\"no\",\"no\",\"no\",\"no\",\"no\",\"no\",\"no\",\"no\",\"no\",\"no\",\"no\",\"no\",\"no\",\"no\",\"no\",\"no\",\"no\",\"no\",\"no\",\"no\",\"no\",\"no\",\"no\",\"no\",\"si\",\"no\",\"no\",\"no\",\"no\",\"no\",\"no\",\"no\",\"no\",\"no\",\"no\",\"no\",\"no\",\"no\",\"si\",\"no\",\"no\",\"no\",\"no\",\"no\",\"no\",\"no\",\"no\",\"no\",\"no\",\"no\",\"no\",\"no\",\"no\",\"no\",\"no\",\"no\",\"no\",\"si\",\"no\",\"no\",\"si\",\"no\",\"no\",\"no\",\"no\",\"no\",\"no\",\"no\",\"no\",\"no\",\"no\",\"no\",\"no\",\"no\",\"si\",\"no\",\"no\",\"no\",\"no\",\"si\",\"si\",\"no\",\"no\",\"no\",\"no\",\"no\",\"no\",\"no\",\"no\",\"no\",\"no\",\"no\",\"no\",\"no\",\"no\",\"no\",\"no\",\"no\",\"no\",\"no\",\"no\",\"no\",\"no\",\"no\",\"no\",\"no\",\"no\",\"si\",\"no\",\"no\",\"no\",\"no\",\"no\",\"no\",\"no\",\"no\",\"no\",\"no\",\"si\",\"no\",\"no\",\"no\",\"no\",\"no\",\"no\",\"no\",\"no\",\"no\",\"no\",\"no\",\"no\",\"no\",\"no\",\"si\",\"no\",\"si\",\"no\",\"no\",\"no\",\"no\",\"si\",\"no\",\"no\",\"si\",\"no\",\"no\",\"no\",\"no\",\"no\",\"no\",\"no\",\"no\",\"no\",\"no\",\"no\",\"no\",\"no\",\"no\",\"no\",\"no\",\"no\",\"no\",\"no\",\"no\",\"no\",\"no\",\"no\",\"si\",\"no\",\"no\",\"si\",\"si\",\"no\",\"no\",\"no\",\"no\",\"no\",\"no\",\"no\",\"no\",\"no\",\"si\",\"no\",\"no\",\"no\",\"no\",\"no\",\"no\",\"no\",\"no\",\"no\",\"no\",\"no\",\"no\",\"no\",\"si\",\"no\",\"no\",\"no\",\"no\",\"no\",\"no\",\"no\",\"no\",\"no\",\"no\",\"no\",\"no\",\"no\",\"no\",\"no\",\"no\",\"no\",\"no\",\"si\",\"no\",\"no\",\"no\",\"no\",\"no\",\"no\",\"no\",\"si\",\"no\",\"no\",\"si\",\"no\",\"no\",\"no\",\"si\",\"no\",\"no\",\"no\",\"no\",\"no\",\"no\",\"no\",\"no\",\"no\",\"no\",\"no\",\"no\",\"no\",\"no\",\"no\",\"no\",\"no\",\"si\",\"no\",\"no\",\"no\",\"no\",\"no\",\"no\",\"no\",\"no\",\"no\",\"no\",\"no\",\"no\",\"no\",\"no\",\"no\",\"no\",\"no\",\"si\",\"no\",\"no\",\"no\",\"no\",\"no\",\"no\",\"no\",\"no\",\"no\",\"no\",\"no\",\"si\",\"no\",\"no\",\"no\",\"no\",\"no\",\"no\",\"no\",\"no\",\"no\",\"no\",\"no\",\"no\",\"no\",\"no\",\"no\",\"no\",\"no\",\"no\",\"no\",\"no\",\"si\",\"no\",\"no\",\"no\",\"no\",\"no\",\"no\",\"no\",\"si\",\"no\",\"no\"],\"xaxis\":\"x\",\"yaxis\":\"y\",\"type\":\"histogram\"},{\"alignmentgroup\":\"True\",\"bingroup\":\"x\",\"hovertemplate\":\"adherencia_inversion=no\\u003cbr\\u003eprestatario=%{x}\\u003cbr\\u003ecount=%{y}\\u003cextra\\u003e\\u003c\\u002fextra\\u003e\",\"legendgroup\":\"no\",\"marker\":{\"color\":\"#EF553B\",\"pattern\":{\"shape\":\"\"}},\"name\":\"no\",\"offsetgroup\":\"no\",\"orientation\":\"v\",\"showlegend\":true,\"texttemplate\":\"%{value}\",\"x\":[\"no\",\"no\",\"no\",\"no\",\"no\",\"no\",\"no\",\"no\",\"no\",\"no\",\"no\",\"no\",\"no\",\"no\",\"no\",\"no\",\"si\",\"si\",\"no\",\"no\",\"no\",\"no\",\"no\",\"no\",\"si\",\"no\",\"no\",\"no\",\"no\",\"no\",\"no\",\"si\",\"si\",\"no\",\"no\",\"no\",\"no\",\"no\",\"si\",\"no\",\"no\",\"no\",\"no\",\"no\",\"no\",\"no\",\"no\",\"no\",\"no\",\"si\",\"no\",\"no\",\"no\",\"si\",\"no\",\"si\",\"si\",\"no\",\"no\",\"si\",\"no\",\"no\",\"no\",\"no\",\"no\",\"si\",\"no\",\"no\",\"si\",\"si\",\"si\",\"no\",\"no\",\"no\",\"no\",\"no\",\"no\",\"no\",\"si\",\"no\",\"no\",\"no\",\"no\",\"no\",\"si\",\"no\",\"no\",\"no\",\"no\",\"no\",\"no\",\"no\",\"no\",\"no\",\"si\",\"no\",\"no\",\"no\",\"no\",\"no\",\"no\",\"no\",\"no\",\"no\",\"no\",\"no\",\"no\",\"no\",\"no\",\"no\",\"no\",\"no\",\"si\",\"no\",\"si\",\"no\",\"si\",\"no\",\"no\",\"no\",\"no\",\"no\",\"no\",\"no\",\"no\",\"no\",\"no\",\"no\",\"no\",\"si\",\"no\",\"si\",\"si\",\"no\",\"no\",\"no\",\"no\",\"si\",\"no\",\"no\",\"no\",\"no\",\"si\",\"no\",\"no\",\"no\",\"no\",\"no\",\"no\",\"no\",\"no\",\"no\",\"no\",\"no\",\"si\",\"no\",\"no\",\"no\",\"no\",\"no\",\"no\",\"no\",\"si\",\"no\",\"no\",\"no\",\"no\",\"no\",\"no\",\"no\",\"si\",\"no\",\"no\",\"no\",\"no\",\"no\",\"no\",\"no\",\"no\",\"no\",\"no\",\"no\",\"no\",\"no\",\"no\",\"no\",\"no\",\"no\",\"no\",\"no\",\"no\",\"no\",\"no\",\"no\",\"no\",\"no\",\"no\",\"no\",\"si\",\"no\",\"no\",\"si\",\"no\",\"si\",\"no\",\"no\",\"no\",\"no\",\"si\",\"no\",\"no\",\"si\",\"si\",\"no\",\"no\",\"no\",\"no\",\"no\",\"no\",\"no\",\"si\",\"no\",\"no\",\"no\",\"no\",\"no\",\"no\",\"no\",\"no\",\"no\",\"no\",\"no\",\"no\",\"si\",\"no\",\"no\",\"no\",\"no\",\"no\",\"no\",\"no\",\"no\",\"no\",\"no\",\"no\",\"no\",\"no\",\"si\",\"no\",\"no\",\"no\",\"no\",\"si\",\"no\",\"no\",\"no\",\"no\",\"no\",\"no\",\"no\",\"si\",\"no\",\"no\",\"no\",\"no\",\"no\",\"no\",\"no\",\"no\",\"no\",\"no\",\"no\",\"no\",\"no\",\"no\",\"no\",\"no\",\"no\",\"si\",\"no\",\"no\",\"no\",\"no\",\"no\",\"no\",\"no\",\"no\",\"no\",\"si\",\"no\",\"si\",\"no\",\"si\",\"si\",\"si\",\"no\",\"no\",\"no\",\"no\",\"no\",\"no\",\"no\",\"no\",\"si\",\"no\",\"si\",\"no\",\"no\",\"no\",\"no\",\"no\",\"no\",\"no\",\"no\",\"no\",\"no\",\"no\",\"no\",\"si\",\"no\",\"no\",\"si\",\"si\",\"no\",\"no\",\"no\",\"si\",\"no\",\"si\",\"no\",\"no\",\"no\",\"no\",\"no\",\"no\",\"no\",\"no\",\"no\",\"no\",\"no\",\"no\",\"no\",\"no\",\"si\",\"si\",\"si\",\"no\",\"no\",\"no\",\"no\",\"no\",\"no\",\"si\",\"no\",\"no\",\"si\",\"no\",\"si\",\"no\",\"no\",\"no\",\"no\",\"no\",\"no\",\"no\",\"no\",\"no\",\"no\",\"no\",\"si\",\"si\",\"no\",\"no\",\"no\",\"no\",\"no\",\"no\",\"no\",\"no\",\"si\",\"no\",\"no\",\"no\",\"no\",\"no\",\"si\",\"no\",\"si\",\"si\",\"no\",\"no\",\"no\",\"no\",\"si\",\"si\",\"no\",\"no\",\"no\",\"no\",\"no\",\"no\",\"no\",\"no\",\"no\",\"no\",\"no\",\"no\",\"no\",\"no\",\"no\",\"no\",\"si\",\"no\",\"no\",\"si\",\"no\",\"no\",\"no\",\"no\",\"no\",\"no\",\"no\",\"no\",\"no\",\"si\",\"no\",\"no\",\"no\",\"no\",\"no\",\"no\",\"no\",\"no\",\"no\",\"no\",\"si\",\"no\",\"no\",\"no\",\"no\",\"no\",\"no\",\"no\",\"no\",\"no\",\"no\",\"no\",\"no\",\"no\",\"no\",\"no\",\"no\",\"no\",\"no\",\"si\",\"no\",\"no\",\"si\",\"si\",\"no\",\"no\",\"no\",\"no\",\"no\",\"no\",\"no\",\"no\",\"si\",\"si\",\"no\",\"no\",\"no\",\"no\",\"si\",\"no\",\"si\",\"no\",\"si\",\"no\",\"si\",\"no\",\"si\",\"si\",\"no\",\"no\",\"no\",\"no\",\"no\",\"no\",\"si\",\"no\",\"si\",\"no\",\"si\",\"no\",\"no\",\"no\",\"no\",\"no\",\"no\",\"no\",\"no\",\"si\",\"no\",\"no\",\"no\",\"no\",\"no\",\"no\",\"no\",\"no\",\"si\",\"si\",\"no\",\"no\",\"no\",\"no\",\"no\",\"no\",\"no\",\"no\",\"no\",\"si\",\"no\",\"si\",\"no\",\"no\",\"si\",\"si\",\"no\",\"si\",\"no\",\"no\",\"no\",\"no\",\"no\",\"no\",\"no\",\"no\",\"no\",\"no\",\"no\",\"no\",\"no\",\"no\",\"no\",\"no\",\"no\",\"no\",\"no\",\"no\",\"no\",\"no\",\"si\",\"no\",\"si\",\"no\",\"no\",\"no\",\"si\",\"no\",\"no\",\"no\",\"no\",\"no\",\"no\",\"no\",\"si\",\"no\",\"no\",\"no\",\"no\",\"no\",\"no\",\"no\",\"no\",\"si\",\"si\",\"si\",\"no\",\"no\",\"no\",\"no\",\"no\",\"no\",\"no\",\"no\",\"no\",\"no\",\"no\",\"no\",\"no\",\"no\",\"no\",\"no\",\"no\",\"no\",\"no\",\"no\",\"no\",\"no\",\"no\",\"no\",\"si\",\"si\",\"no\",\"no\",\"no\",\"no\",\"no\",\"si\",\"no\",\"si\",\"no\",\"no\",\"si\",\"si\",\"no\",\"no\",\"no\",\"no\",\"no\",\"no\",\"no\",\"si\",\"si\",\"si\",\"no\",\"no\",\"no\",\"si\",\"no\",\"no\",\"no\",\"no\",\"no\",\"si\",\"no\",\"no\",\"no\",\"no\",\"no\",\"si\",\"no\",\"no\",\"no\",\"no\",\"no\",\"no\",\"no\",\"no\",\"no\",\"si\",\"no\",\"no\",\"no\",\"no\",\"no\",\"no\",\"no\",\"no\",\"no\",\"no\",\"no\",\"no\",\"no\",\"no\",\"no\",\"no\",\"no\",\"no\",\"no\",\"no\",\"no\",\"no\",\"no\",\"no\",\"no\",\"no\",\"no\",\"no\",\"no\",\"no\",\"no\",\"no\",\"si\",\"no\",\"no\",\"no\",\"no\",\"no\",\"no\",\"no\",\"no\",\"no\",\"no\",\"no\",\"no\",\"no\",\"si\",\"no\",\"no\",\"si\",\"no\",\"no\",\"no\",\"no\",\"no\",\"no\",\"no\",\"no\",\"no\",\"no\",\"no\",\"si\",\"no\",\"no\",\"no\",\"si\",\"no\",\"si\",\"no\",\"si\",\"no\",\"no\",\"no\",\"no\",\"no\",\"no\",\"no\",\"no\",\"si\",\"no\",\"si\",\"si\",\"no\",\"no\",\"no\",\"no\",\"no\",\"no\",\"no\",\"no\",\"no\",\"no\",\"no\",\"no\",\"no\",\"no\",\"no\",\"no\",\"no\",\"si\",\"si\",\"no\",\"no\",\"no\",\"no\",\"no\",\"no\",\"no\",\"no\",\"no\",\"no\",\"si\",\"si\"],\"xaxis\":\"x\",\"yaxis\":\"y\",\"type\":\"histogram\"}],                        {\"template\":{\"data\":{\"histogram2dcontour\":[{\"type\":\"histogram2dcontour\",\"colorbar\":{\"outlinewidth\":0,\"ticks\":\"\"},\"colorscale\":[[0.0,\"#0d0887\"],[0.1111111111111111,\"#46039f\"],[0.2222222222222222,\"#7201a8\"],[0.3333333333333333,\"#9c179e\"],[0.4444444444444444,\"#bd3786\"],[0.5555555555555556,\"#d8576b\"],[0.6666666666666666,\"#ed7953\"],[0.7777777777777778,\"#fb9f3a\"],[0.8888888888888888,\"#fdca26\"],[1.0,\"#f0f921\"]]}],\"choropleth\":[{\"type\":\"choropleth\",\"colorbar\":{\"outlinewidth\":0,\"ticks\":\"\"}}],\"histogram2d\":[{\"type\":\"histogram2d\",\"colorbar\":{\"outlinewidth\":0,\"ticks\":\"\"},\"colorscale\":[[0.0,\"#0d0887\"],[0.1111111111111111,\"#46039f\"],[0.2222222222222222,\"#7201a8\"],[0.3333333333333333,\"#9c179e\"],[0.4444444444444444,\"#bd3786\"],[0.5555555555555556,\"#d8576b\"],[0.6666666666666666,\"#ed7953\"],[0.7777777777777778,\"#fb9f3a\"],[0.8888888888888888,\"#fdca26\"],[1.0,\"#f0f921\"]]}],\"heatmap\":[{\"type\":\"heatmap\",\"colorbar\":{\"outlinewidth\":0,\"ticks\":\"\"},\"colorscale\":[[0.0,\"#0d0887\"],[0.1111111111111111,\"#46039f\"],[0.2222222222222222,\"#7201a8\"],[0.3333333333333333,\"#9c179e\"],[0.4444444444444444,\"#bd3786\"],[0.5555555555555556,\"#d8576b\"],[0.6666666666666666,\"#ed7953\"],[0.7777777777777778,\"#fb9f3a\"],[0.8888888888888888,\"#fdca26\"],[1.0,\"#f0f921\"]]}],\"heatmapgl\":[{\"type\":\"heatmapgl\",\"colorbar\":{\"outlinewidth\":0,\"ticks\":\"\"},\"colorscale\":[[0.0,\"#0d0887\"],[0.1111111111111111,\"#46039f\"],[0.2222222222222222,\"#7201a8\"],[0.3333333333333333,\"#9c179e\"],[0.4444444444444444,\"#bd3786\"],[0.5555555555555556,\"#d8576b\"],[0.6666666666666666,\"#ed7953\"],[0.7777777777777778,\"#fb9f3a\"],[0.8888888888888888,\"#fdca26\"],[1.0,\"#f0f921\"]]}],\"contourcarpet\":[{\"type\":\"contourcarpet\",\"colorbar\":{\"outlinewidth\":0,\"ticks\":\"\"}}],\"contour\":[{\"type\":\"contour\",\"colorbar\":{\"outlinewidth\":0,\"ticks\":\"\"},\"colorscale\":[[0.0,\"#0d0887\"],[0.1111111111111111,\"#46039f\"],[0.2222222222222222,\"#7201a8\"],[0.3333333333333333,\"#9c179e\"],[0.4444444444444444,\"#bd3786\"],[0.5555555555555556,\"#d8576b\"],[0.6666666666666666,\"#ed7953\"],[0.7777777777777778,\"#fb9f3a\"],[0.8888888888888888,\"#fdca26\"],[1.0,\"#f0f921\"]]}],\"surface\":[{\"type\":\"surface\",\"colorbar\":{\"outlinewidth\":0,\"ticks\":\"\"},\"colorscale\":[[0.0,\"#0d0887\"],[0.1111111111111111,\"#46039f\"],[0.2222222222222222,\"#7201a8\"],[0.3333333333333333,\"#9c179e\"],[0.4444444444444444,\"#bd3786\"],[0.5555555555555556,\"#d8576b\"],[0.6666666666666666,\"#ed7953\"],[0.7777777777777778,\"#fb9f3a\"],[0.8888888888888888,\"#fdca26\"],[1.0,\"#f0f921\"]]}],\"mesh3d\":[{\"type\":\"mesh3d\",\"colorbar\":{\"outlinewidth\":0,\"ticks\":\"\"}}],\"scatter\":[{\"fillpattern\":{\"fillmode\":\"overlay\",\"size\":10,\"solidity\":0.2},\"type\":\"scatter\"}],\"parcoords\":[{\"type\":\"parcoords\",\"line\":{\"colorbar\":{\"outlinewidth\":0,\"ticks\":\"\"}}}],\"scatterpolargl\":[{\"type\":\"scatterpolargl\",\"marker\":{\"colorbar\":{\"outlinewidth\":0,\"ticks\":\"\"}}}],\"bar\":[{\"error_x\":{\"color\":\"#2a3f5f\"},\"error_y\":{\"color\":\"#2a3f5f\"},\"marker\":{\"line\":{\"color\":\"#E5ECF6\",\"width\":0.5},\"pattern\":{\"fillmode\":\"overlay\",\"size\":10,\"solidity\":0.2}},\"type\":\"bar\"}],\"scattergeo\":[{\"type\":\"scattergeo\",\"marker\":{\"colorbar\":{\"outlinewidth\":0,\"ticks\":\"\"}}}],\"scatterpolar\":[{\"type\":\"scatterpolar\",\"marker\":{\"colorbar\":{\"outlinewidth\":0,\"ticks\":\"\"}}}],\"histogram\":[{\"marker\":{\"pattern\":{\"fillmode\":\"overlay\",\"size\":10,\"solidity\":0.2}},\"type\":\"histogram\"}],\"scattergl\":[{\"type\":\"scattergl\",\"marker\":{\"colorbar\":{\"outlinewidth\":0,\"ticks\":\"\"}}}],\"scatter3d\":[{\"type\":\"scatter3d\",\"line\":{\"colorbar\":{\"outlinewidth\":0,\"ticks\":\"\"}},\"marker\":{\"colorbar\":{\"outlinewidth\":0,\"ticks\":\"\"}}}],\"scattermapbox\":[{\"type\":\"scattermapbox\",\"marker\":{\"colorbar\":{\"outlinewidth\":0,\"ticks\":\"\"}}}],\"scatterternary\":[{\"type\":\"scatterternary\",\"marker\":{\"colorbar\":{\"outlinewidth\":0,\"ticks\":\"\"}}}],\"scattercarpet\":[{\"type\":\"scattercarpet\",\"marker\":{\"colorbar\":{\"outlinewidth\":0,\"ticks\":\"\"}}}],\"carpet\":[{\"aaxis\":{\"endlinecolor\":\"#2a3f5f\",\"gridcolor\":\"white\",\"linecolor\":\"white\",\"minorgridcolor\":\"white\",\"startlinecolor\":\"#2a3f5f\"},\"baxis\":{\"endlinecolor\":\"#2a3f5f\",\"gridcolor\":\"white\",\"linecolor\":\"white\",\"minorgridcolor\":\"white\",\"startlinecolor\":\"#2a3f5f\"},\"type\":\"carpet\"}],\"table\":[{\"cells\":{\"fill\":{\"color\":\"#EBF0F8\"},\"line\":{\"color\":\"white\"}},\"header\":{\"fill\":{\"color\":\"#C8D4E3\"},\"line\":{\"color\":\"white\"}},\"type\":\"table\"}],\"barpolar\":[{\"marker\":{\"line\":{\"color\":\"#E5ECF6\",\"width\":0.5},\"pattern\":{\"fillmode\":\"overlay\",\"size\":10,\"solidity\":0.2}},\"type\":\"barpolar\"}],\"pie\":[{\"automargin\":true,\"type\":\"pie\"}]},\"layout\":{\"autotypenumbers\":\"strict\",\"colorway\":[\"#636efa\",\"#EF553B\",\"#00cc96\",\"#ab63fa\",\"#FFA15A\",\"#19d3f3\",\"#FF6692\",\"#B6E880\",\"#FF97FF\",\"#FECB52\"],\"font\":{\"color\":\"#2a3f5f\"},\"hovermode\":\"closest\",\"hoverlabel\":{\"align\":\"left\"},\"paper_bgcolor\":\"white\",\"plot_bgcolor\":\"#E5ECF6\",\"polar\":{\"bgcolor\":\"#E5ECF6\",\"angularaxis\":{\"gridcolor\":\"white\",\"linecolor\":\"white\",\"ticks\":\"\"},\"radialaxis\":{\"gridcolor\":\"white\",\"linecolor\":\"white\",\"ticks\":\"\"}},\"ternary\":{\"bgcolor\":\"#E5ECF6\",\"aaxis\":{\"gridcolor\":\"white\",\"linecolor\":\"white\",\"ticks\":\"\"},\"baxis\":{\"gridcolor\":\"white\",\"linecolor\":\"white\",\"ticks\":\"\"},\"caxis\":{\"gridcolor\":\"white\",\"linecolor\":\"white\",\"ticks\":\"\"}},\"coloraxis\":{\"colorbar\":{\"outlinewidth\":0,\"ticks\":\"\"}},\"colorscale\":{\"sequential\":[[0.0,\"#0d0887\"],[0.1111111111111111,\"#46039f\"],[0.2222222222222222,\"#7201a8\"],[0.3333333333333333,\"#9c179e\"],[0.4444444444444444,\"#bd3786\"],[0.5555555555555556,\"#d8576b\"],[0.6666666666666666,\"#ed7953\"],[0.7777777777777778,\"#fb9f3a\"],[0.8888888888888888,\"#fdca26\"],[1.0,\"#f0f921\"]],\"sequentialminus\":[[0.0,\"#0d0887\"],[0.1111111111111111,\"#46039f\"],[0.2222222222222222,\"#7201a8\"],[0.3333333333333333,\"#9c179e\"],[0.4444444444444444,\"#bd3786\"],[0.5555555555555556,\"#d8576b\"],[0.6666666666666666,\"#ed7953\"],[0.7777777777777778,\"#fb9f3a\"],[0.8888888888888888,\"#fdca26\"],[1.0,\"#f0f921\"]],\"diverging\":[[0,\"#8e0152\"],[0.1,\"#c51b7d\"],[0.2,\"#de77ae\"],[0.3,\"#f1b6da\"],[0.4,\"#fde0ef\"],[0.5,\"#f7f7f7\"],[0.6,\"#e6f5d0\"],[0.7,\"#b8e186\"],[0.8,\"#7fbc41\"],[0.9,\"#4d9221\"],[1,\"#276419\"]]},\"xaxis\":{\"gridcolor\":\"white\",\"linecolor\":\"white\",\"ticks\":\"\",\"title\":{\"standoff\":15},\"zerolinecolor\":\"white\",\"automargin\":true,\"zerolinewidth\":2},\"yaxis\":{\"gridcolor\":\"white\",\"linecolor\":\"white\",\"ticks\":\"\",\"title\":{\"standoff\":15},\"zerolinecolor\":\"white\",\"automargin\":true,\"zerolinewidth\":2},\"scene\":{\"xaxis\":{\"backgroundcolor\":\"#E5ECF6\",\"gridcolor\":\"white\",\"linecolor\":\"white\",\"showbackground\":true,\"ticks\":\"\",\"zerolinecolor\":\"white\",\"gridwidth\":2},\"yaxis\":{\"backgroundcolor\":\"#E5ECF6\",\"gridcolor\":\"white\",\"linecolor\":\"white\",\"showbackground\":true,\"ticks\":\"\",\"zerolinecolor\":\"white\",\"gridwidth\":2},\"zaxis\":{\"backgroundcolor\":\"#E5ECF6\",\"gridcolor\":\"white\",\"linecolor\":\"white\",\"showbackground\":true,\"ticks\":\"\",\"zerolinecolor\":\"white\",\"gridwidth\":2}},\"shapedefaults\":{\"line\":{\"color\":\"#2a3f5f\"}},\"annotationdefaults\":{\"arrowcolor\":\"#2a3f5f\",\"arrowhead\":0,\"arrowwidth\":1},\"geo\":{\"bgcolor\":\"white\",\"landcolor\":\"#E5ECF6\",\"subunitcolor\":\"white\",\"showland\":true,\"showlakes\":true,\"lakecolor\":\"white\"},\"title\":{\"x\":0.05},\"mapbox\":{\"style\":\"light\"}}},\"xaxis\":{\"anchor\":\"y\",\"domain\":[0.0,1.0],\"title\":{\"text\":\"prestatario\"}},\"yaxis\":{\"anchor\":\"x\",\"domain\":[0.0,1.0],\"title\":{\"text\":\"count\"}},\"legend\":{\"title\":{\"text\":\"adherencia_inversion\"},\"tracegroupgap\":0},\"margin\":{\"t\":60},\"barmode\":\"group\"},                        {\"responsive\": true}                    ).then(function(){\n",
              "                            \n",
              "var gd = document.getElementById('1a3c4efc-d2f5-4f96-8b72-b128ac70d227');\n",
              "var x = new MutationObserver(function (mutations, observer) {{\n",
              "        var display = window.getComputedStyle(gd).display;\n",
              "        if (!display || display === 'none') {{\n",
              "            console.log([gd, 'removed!']);\n",
              "            Plotly.purge(gd);\n",
              "            observer.disconnect();\n",
              "        }}\n",
              "}});\n",
              "\n",
              "// Listen for the removal of the full notebook cells\n",
              "var notebookContainer = gd.closest('#notebook-container');\n",
              "if (notebookContainer) {{\n",
              "    x.observe(notebookContainer, {childList: true});\n",
              "}}\n",
              "\n",
              "// Listen for the clearing of the current output cell\n",
              "var outputEl = gd.closest('.output');\n",
              "if (outputEl) {{\n",
              "    x.observe(outputEl, {childList: true});\n",
              "}}\n",
              "\n",
              "                        })                };                            </script>        </div>\n",
              "</body>\n",
              "</html>"
            ]
          },
          "metadata": {}
        }
      ]
    },
    {
      "cell_type": "markdown",
      "source": [
        "con esto podemos ver un analisis de las variables categorias y sacar un estimado de comportamiento de los datos"
      ],
      "metadata": {
        "id": "64QInlWXlTG3"
      }
    },
    {
      "cell_type": "markdown",
      "source": [
        "### Variables numéricas"
      ],
      "metadata": {
        "id": "k9-qL8BEMH23"
      }
    },
    {
      "cell_type": "markdown",
      "source": [
        "compracion de variables nuemricass con nuesstra variable"
      ],
      "metadata": {
        "id": "AJ-7pTLWwjeQ"
      }
    },
    {
      "cell_type": "code",
      "source": [
        "px.box(datos,x='edad',color='adherencia_inversion')"
      ],
      "metadata": {
        "id": "VepkUB3FBXA6",
        "colab": {
          "base_uri": "https://localhost:8080/",
          "height": 542
        },
        "outputId": "329dcc1e-984a-4cec-8484-8e6bf962a3fc"
      },
      "execution_count": 11,
      "outputs": [
        {
          "output_type": "display_data",
          "data": {
            "text/html": [
              "<html>\n",
              "<head><meta charset=\"utf-8\" /></head>\n",
              "<body>\n",
              "    <div>            <script src=\"https://cdnjs.cloudflare.com/ajax/libs/mathjax/2.7.5/MathJax.js?config=TeX-AMS-MML_SVG\"></script><script type=\"text/javascript\">if (window.MathJax && window.MathJax.Hub && window.MathJax.Hub.Config) {window.MathJax.Hub.Config({SVG: {font: \"STIX-Web\"}});}</script>                <script type=\"text/javascript\">window.PlotlyConfig = {MathJaxConfig: 'local'};</script>\n",
              "        <script charset=\"utf-8\" src=\"https://cdn.plot.ly/plotly-2.35.2.min.js\"></script>                <div id=\"c1f3e0a5-2b8a-41c5-9766-321713af91e8\" class=\"plotly-graph-div\" style=\"height:525px; width:100%;\"></div>            <script type=\"text/javascript\">                                    window.PLOTLYENV=window.PLOTLYENV || {};                                    if (document.getElementById(\"c1f3e0a5-2b8a-41c5-9766-321713af91e8\")) {                    Plotly.newPlot(                        \"c1f3e0a5-2b8a-41c5-9766-321713af91e8\",                        [{\"alignmentgroup\":\"True\",\"hovertemplate\":\"adherencia_inversion=si\\u003cbr\\u003eedad=%{x}\\u003cextra\\u003e\\u003c\\u002fextra\\u003e\",\"legendgroup\":\"si\",\"marker\":{\"color\":\"#636efa\"},\"name\":\"si\",\"notched\":false,\"offsetgroup\":\"si\",\"orientation\":\"h\",\"showlegend\":true,\"x\":[45,42,58,50,24,34,33,33,80,46,30,47,30,47,32,71,31,30,52,51,34,59,35,22,28,60,43,35,54,32,49,43,20,49,48,49,49,32,38,31,27,32,34,33,34,32,68,60,32,21,33,39,54,42,45,31,83,34,47,48,29,33,31,58,37,28,49,57,34,30,78,29,59,48,49,75,46,79,28,43,26,66,61,72,53,58,52,62,37,55,33,35,40,25,49,37,74,35,33,39,47,34,51,46,36,43,61,31,55,30,49,32,36,34,49,38,45,53,52,43,61,31,59,30,35,38,53,47,22,35,27,63,28,47,27,29,46,44,32,38,71,73,41,38,25,46,77,30,48,25,32,53,51,37,28,49,19,50,41,80,52,31,46,28,41,27,46,44,41,28,44,57,43,30,37,36,58,54,32,44,24,55,53,35,34,31,32,59,33,30,46,52,45,55,32,33,56,34,43,32,41,42,53,54,23,32,75,37,39,36,36,53,35,32,49,77,41,45,67,46,48,27,54,63,27,32,48,27,33,49,41,35,87,32,53,31,30,56,49,36,28,36,33,32,44,49,35,61,36,46,42,47,48,60,46,66,55,30,34,40,40,59,50,39,37,47,43,38,38,35,25,25,31,50,47,29,59,46,75,37,63,32,34,48,27,33,55,60,46,33,30,45,23,59,44,29,28,34,29,34,50,43,47,71,34,28,32,53,49,33,64,25,60,22,32,34,31,29,31,51,61,83,29,44,38,29,46,44,41,43,39,59,37,40,38,44,42,45,54,28,36,59,59,36,26,26,35,64,38,59,42,60,51,62,27,34,26,53,36,37,30,32,40,43,27,45,19,25,44,38,27,37,35,41,28,56,36,29,33,55,28,84,32,73,77,52,62,56,41,41,31,56,39,40,28,36,42,31,25,35,59,30,53,32,38,34,26,50,38,38,34,69,47,35,39,34,38,29,54,55,48,34,25,52,40,36,24,33,34,68,27,47,39,36,41,34,35,57,32,28,55,41,35,60,28,35,27,74,39,34,56,26,29,33,37,42,61,50,29,36,32,31,53,45,37,53,40,27,36,34,31,55,61,45,45,49,55,41,47,42,37,32,25,38,39,79,26,33,47,24,53,40,30,38,32,37,36,52,35,30,42,29],\"x0\":\" \",\"xaxis\":\"x\",\"y0\":\" \",\"yaxis\":\"y\",\"type\":\"box\"},{\"alignmentgroup\":\"True\",\"hovertemplate\":\"adherencia_inversion=no\\u003cbr\\u003eedad=%{x}\\u003cextra\\u003e\\u003c\\u002fextra\\u003e\",\"legendgroup\":\"no\",\"marker\":{\"color\":\"#EF553B\"},\"name\":\"no\",\"notched\":false,\"offsetgroup\":\"no\",\"orientation\":\"h\",\"showlegend\":true,\"x\":[23,53,30,39,30,39,34,38,48,39,53,38,24,44,53,41,27,58,51,47,34,40,44,55,38,38,54,43,31,36,33,38,57,31,34,29,38,41,34,37,50,55,45,35,49,36,41,48,49,55,34,57,38,40,45,61,57,76,33,32,34,37,34,31,47,31,35,31,35,40,38,49,40,34,50,40,43,39,45,26,42,33,75,30,32,59,38,52,36,50,27,45,40,48,36,49,36,39,33,30,32,29,36,41,38,36,42,30,31,30,27,37,34,59,35,42,28,55,50,33,32,53,60,34,54,42,36,33,67,34,70,35,34,61,47,40,28,33,52,43,30,59,39,32,42,57,33,37,44,45,41,26,51,46,45,46,41,29,41,59,34,30,42,33,30,39,59,39,33,42,52,33,36,40,45,60,36,53,34,49,43,46,39,41,44,41,27,31,25,32,56,30,29,31,37,58,57,33,51,42,54,28,35,46,26,59,50,36,52,32,53,52,41,40,34,49,34,28,32,34,36,56,42,29,45,37,46,40,42,34,55,33,51,42,30,50,41,32,32,53,36,33,33,58,49,43,80,55,30,27,36,35,36,32,39,50,36,52,37,47,39,41,23,36,58,52,23,34,47,50,38,31,40,40,48,39,34,41,55,59,40,28,36,41,27,33,47,44,31,28,34,31,31,34,33,37,58,37,28,34,34,25,35,39,58,26,32,31,31,45,37,83,51,52,29,30,35,30,26,45,41,22,41,33,41,34,33,29,49,51,40,42,31,31,31,46,34,38,27,56,33,37,30,42,52,49,47,46,51,42,59,27,60,38,28,31,38,55,58,53,30,49,25,46,28,49,43,56,38,33,32,27,29,59,28,32,44,63,51,44,38,40,33,36,35,56,32,35,57,31,39,57,44,38,60,38,37,34,49,40,46,29,31,23,48,38,33,42,48,48,45,39,34,59,40,31,33,57,58,36,50,34,45,36,53,36,28,30,33,43,38,32,30,45,30,53,43,49,35,36,45,30,40,40,34,36,42,52,42,28,39,41,46,40,33,54,51,33,56,43,29,43,58,29,57,54,42,34,31,30,31,47,44,30,33,57,37,36,51,43,59,54,32,45,37,69,43,31,58,56,34,47,31,39,38,46,57,27,58,26,58,37,41,49,37,43,34,53,33,36,26,41,37,33,36,38,33,48,33,27,33,33,33,59,33,36,46,26,40,46,26,39,36,39,39,35,31,45,48,47,33,41,31,50,55,37,36,36,60,32,35,32,39,50,52,35,35,43,55,26,31,30,38,48,43,35,37,58,41,49,49,49,53,48,28,36,42,36,37,28,42,69,45,46,40,48,52,52,32,32,31,34,32,56,34,39,44,39,42,30,54,38,35,30,32,36,40,41,31,58,55,39,38,34,42,35,29,54,48,32,46,51,56,35,42,46,58,44,54,53,41,42,25,70,56,35,38,50,30,30,39,36,34,53,27,42,51,57,59,39,38,45,41,45,52,38,40,29,35,43,34,41,76,30,32,39,38,59,47,44,52,51,32,33,56,35,59,58,28,56,42,58,32,33,55,33,48,61,49,36,51,30,27,33,28,34,45,50,54,56,25,47,51,28,33,39,36,37,35,26,41,40,36,35,31,30,47,47,56,33,31,30,30,51,37,34,54,41,35,49,37,49,58,31,42,33,51,36,57,34,42,30,43,42,34,46,33,27,46,31,66,57,38,45,28,33,35,32,58,34,26,37,40,26,38,56],\"x0\":\" \",\"xaxis\":\"x\",\"y0\":\" \",\"yaxis\":\"y\",\"type\":\"box\"}],                        {\"template\":{\"data\":{\"histogram2dcontour\":[{\"type\":\"histogram2dcontour\",\"colorbar\":{\"outlinewidth\":0,\"ticks\":\"\"},\"colorscale\":[[0.0,\"#0d0887\"],[0.1111111111111111,\"#46039f\"],[0.2222222222222222,\"#7201a8\"],[0.3333333333333333,\"#9c179e\"],[0.4444444444444444,\"#bd3786\"],[0.5555555555555556,\"#d8576b\"],[0.6666666666666666,\"#ed7953\"],[0.7777777777777778,\"#fb9f3a\"],[0.8888888888888888,\"#fdca26\"],[1.0,\"#f0f921\"]]}],\"choropleth\":[{\"type\":\"choropleth\",\"colorbar\":{\"outlinewidth\":0,\"ticks\":\"\"}}],\"histogram2d\":[{\"type\":\"histogram2d\",\"colorbar\":{\"outlinewidth\":0,\"ticks\":\"\"},\"colorscale\":[[0.0,\"#0d0887\"],[0.1111111111111111,\"#46039f\"],[0.2222222222222222,\"#7201a8\"],[0.3333333333333333,\"#9c179e\"],[0.4444444444444444,\"#bd3786\"],[0.5555555555555556,\"#d8576b\"],[0.6666666666666666,\"#ed7953\"],[0.7777777777777778,\"#fb9f3a\"],[0.8888888888888888,\"#fdca26\"],[1.0,\"#f0f921\"]]}],\"heatmap\":[{\"type\":\"heatmap\",\"colorbar\":{\"outlinewidth\":0,\"ticks\":\"\"},\"colorscale\":[[0.0,\"#0d0887\"],[0.1111111111111111,\"#46039f\"],[0.2222222222222222,\"#7201a8\"],[0.3333333333333333,\"#9c179e\"],[0.4444444444444444,\"#bd3786\"],[0.5555555555555556,\"#d8576b\"],[0.6666666666666666,\"#ed7953\"],[0.7777777777777778,\"#fb9f3a\"],[0.8888888888888888,\"#fdca26\"],[1.0,\"#f0f921\"]]}],\"heatmapgl\":[{\"type\":\"heatmapgl\",\"colorbar\":{\"outlinewidth\":0,\"ticks\":\"\"},\"colorscale\":[[0.0,\"#0d0887\"],[0.1111111111111111,\"#46039f\"],[0.2222222222222222,\"#7201a8\"],[0.3333333333333333,\"#9c179e\"],[0.4444444444444444,\"#bd3786\"],[0.5555555555555556,\"#d8576b\"],[0.6666666666666666,\"#ed7953\"],[0.7777777777777778,\"#fb9f3a\"],[0.8888888888888888,\"#fdca26\"],[1.0,\"#f0f921\"]]}],\"contourcarpet\":[{\"type\":\"contourcarpet\",\"colorbar\":{\"outlinewidth\":0,\"ticks\":\"\"}}],\"contour\":[{\"type\":\"contour\",\"colorbar\":{\"outlinewidth\":0,\"ticks\":\"\"},\"colorscale\":[[0.0,\"#0d0887\"],[0.1111111111111111,\"#46039f\"],[0.2222222222222222,\"#7201a8\"],[0.3333333333333333,\"#9c179e\"],[0.4444444444444444,\"#bd3786\"],[0.5555555555555556,\"#d8576b\"],[0.6666666666666666,\"#ed7953\"],[0.7777777777777778,\"#fb9f3a\"],[0.8888888888888888,\"#fdca26\"],[1.0,\"#f0f921\"]]}],\"surface\":[{\"type\":\"surface\",\"colorbar\":{\"outlinewidth\":0,\"ticks\":\"\"},\"colorscale\":[[0.0,\"#0d0887\"],[0.1111111111111111,\"#46039f\"],[0.2222222222222222,\"#7201a8\"],[0.3333333333333333,\"#9c179e\"],[0.4444444444444444,\"#bd3786\"],[0.5555555555555556,\"#d8576b\"],[0.6666666666666666,\"#ed7953\"],[0.7777777777777778,\"#fb9f3a\"],[0.8888888888888888,\"#fdca26\"],[1.0,\"#f0f921\"]]}],\"mesh3d\":[{\"type\":\"mesh3d\",\"colorbar\":{\"outlinewidth\":0,\"ticks\":\"\"}}],\"scatter\":[{\"fillpattern\":{\"fillmode\":\"overlay\",\"size\":10,\"solidity\":0.2},\"type\":\"scatter\"}],\"parcoords\":[{\"type\":\"parcoords\",\"line\":{\"colorbar\":{\"outlinewidth\":0,\"ticks\":\"\"}}}],\"scatterpolargl\":[{\"type\":\"scatterpolargl\",\"marker\":{\"colorbar\":{\"outlinewidth\":0,\"ticks\":\"\"}}}],\"bar\":[{\"error_x\":{\"color\":\"#2a3f5f\"},\"error_y\":{\"color\":\"#2a3f5f\"},\"marker\":{\"line\":{\"color\":\"#E5ECF6\",\"width\":0.5},\"pattern\":{\"fillmode\":\"overlay\",\"size\":10,\"solidity\":0.2}},\"type\":\"bar\"}],\"scattergeo\":[{\"type\":\"scattergeo\",\"marker\":{\"colorbar\":{\"outlinewidth\":0,\"ticks\":\"\"}}}],\"scatterpolar\":[{\"type\":\"scatterpolar\",\"marker\":{\"colorbar\":{\"outlinewidth\":0,\"ticks\":\"\"}}}],\"histogram\":[{\"marker\":{\"pattern\":{\"fillmode\":\"overlay\",\"size\":10,\"solidity\":0.2}},\"type\":\"histogram\"}],\"scattergl\":[{\"type\":\"scattergl\",\"marker\":{\"colorbar\":{\"outlinewidth\":0,\"ticks\":\"\"}}}],\"scatter3d\":[{\"type\":\"scatter3d\",\"line\":{\"colorbar\":{\"outlinewidth\":0,\"ticks\":\"\"}},\"marker\":{\"colorbar\":{\"outlinewidth\":0,\"ticks\":\"\"}}}],\"scattermapbox\":[{\"type\":\"scattermapbox\",\"marker\":{\"colorbar\":{\"outlinewidth\":0,\"ticks\":\"\"}}}],\"scatterternary\":[{\"type\":\"scatterternary\",\"marker\":{\"colorbar\":{\"outlinewidth\":0,\"ticks\":\"\"}}}],\"scattercarpet\":[{\"type\":\"scattercarpet\",\"marker\":{\"colorbar\":{\"outlinewidth\":0,\"ticks\":\"\"}}}],\"carpet\":[{\"aaxis\":{\"endlinecolor\":\"#2a3f5f\",\"gridcolor\":\"white\",\"linecolor\":\"white\",\"minorgridcolor\":\"white\",\"startlinecolor\":\"#2a3f5f\"},\"baxis\":{\"endlinecolor\":\"#2a3f5f\",\"gridcolor\":\"white\",\"linecolor\":\"white\",\"minorgridcolor\":\"white\",\"startlinecolor\":\"#2a3f5f\"},\"type\":\"carpet\"}],\"table\":[{\"cells\":{\"fill\":{\"color\":\"#EBF0F8\"},\"line\":{\"color\":\"white\"}},\"header\":{\"fill\":{\"color\":\"#C8D4E3\"},\"line\":{\"color\":\"white\"}},\"type\":\"table\"}],\"barpolar\":[{\"marker\":{\"line\":{\"color\":\"#E5ECF6\",\"width\":0.5},\"pattern\":{\"fillmode\":\"overlay\",\"size\":10,\"solidity\":0.2}},\"type\":\"barpolar\"}],\"pie\":[{\"automargin\":true,\"type\":\"pie\"}]},\"layout\":{\"autotypenumbers\":\"strict\",\"colorway\":[\"#636efa\",\"#EF553B\",\"#00cc96\",\"#ab63fa\",\"#FFA15A\",\"#19d3f3\",\"#FF6692\",\"#B6E880\",\"#FF97FF\",\"#FECB52\"],\"font\":{\"color\":\"#2a3f5f\"},\"hovermode\":\"closest\",\"hoverlabel\":{\"align\":\"left\"},\"paper_bgcolor\":\"white\",\"plot_bgcolor\":\"#E5ECF6\",\"polar\":{\"bgcolor\":\"#E5ECF6\",\"angularaxis\":{\"gridcolor\":\"white\",\"linecolor\":\"white\",\"ticks\":\"\"},\"radialaxis\":{\"gridcolor\":\"white\",\"linecolor\":\"white\",\"ticks\":\"\"}},\"ternary\":{\"bgcolor\":\"#E5ECF6\",\"aaxis\":{\"gridcolor\":\"white\",\"linecolor\":\"white\",\"ticks\":\"\"},\"baxis\":{\"gridcolor\":\"white\",\"linecolor\":\"white\",\"ticks\":\"\"},\"caxis\":{\"gridcolor\":\"white\",\"linecolor\":\"white\",\"ticks\":\"\"}},\"coloraxis\":{\"colorbar\":{\"outlinewidth\":0,\"ticks\":\"\"}},\"colorscale\":{\"sequential\":[[0.0,\"#0d0887\"],[0.1111111111111111,\"#46039f\"],[0.2222222222222222,\"#7201a8\"],[0.3333333333333333,\"#9c179e\"],[0.4444444444444444,\"#bd3786\"],[0.5555555555555556,\"#d8576b\"],[0.6666666666666666,\"#ed7953\"],[0.7777777777777778,\"#fb9f3a\"],[0.8888888888888888,\"#fdca26\"],[1.0,\"#f0f921\"]],\"sequentialminus\":[[0.0,\"#0d0887\"],[0.1111111111111111,\"#46039f\"],[0.2222222222222222,\"#7201a8\"],[0.3333333333333333,\"#9c179e\"],[0.4444444444444444,\"#bd3786\"],[0.5555555555555556,\"#d8576b\"],[0.6666666666666666,\"#ed7953\"],[0.7777777777777778,\"#fb9f3a\"],[0.8888888888888888,\"#fdca26\"],[1.0,\"#f0f921\"]],\"diverging\":[[0,\"#8e0152\"],[0.1,\"#c51b7d\"],[0.2,\"#de77ae\"],[0.3,\"#f1b6da\"],[0.4,\"#fde0ef\"],[0.5,\"#f7f7f7\"],[0.6,\"#e6f5d0\"],[0.7,\"#b8e186\"],[0.8,\"#7fbc41\"],[0.9,\"#4d9221\"],[1,\"#276419\"]]},\"xaxis\":{\"gridcolor\":\"white\",\"linecolor\":\"white\",\"ticks\":\"\",\"title\":{\"standoff\":15},\"zerolinecolor\":\"white\",\"automargin\":true,\"zerolinewidth\":2},\"yaxis\":{\"gridcolor\":\"white\",\"linecolor\":\"white\",\"ticks\":\"\",\"title\":{\"standoff\":15},\"zerolinecolor\":\"white\",\"automargin\":true,\"zerolinewidth\":2},\"scene\":{\"xaxis\":{\"backgroundcolor\":\"#E5ECF6\",\"gridcolor\":\"white\",\"linecolor\":\"white\",\"showbackground\":true,\"ticks\":\"\",\"zerolinecolor\":\"white\",\"gridwidth\":2},\"yaxis\":{\"backgroundcolor\":\"#E5ECF6\",\"gridcolor\":\"white\",\"linecolor\":\"white\",\"showbackground\":true,\"ticks\":\"\",\"zerolinecolor\":\"white\",\"gridwidth\":2},\"zaxis\":{\"backgroundcolor\":\"#E5ECF6\",\"gridcolor\":\"white\",\"linecolor\":\"white\",\"showbackground\":true,\"ticks\":\"\",\"zerolinecolor\":\"white\",\"gridwidth\":2}},\"shapedefaults\":{\"line\":{\"color\":\"#2a3f5f\"}},\"annotationdefaults\":{\"arrowcolor\":\"#2a3f5f\",\"arrowhead\":0,\"arrowwidth\":1},\"geo\":{\"bgcolor\":\"white\",\"landcolor\":\"#E5ECF6\",\"subunitcolor\":\"white\",\"showland\":true,\"showlakes\":true,\"lakecolor\":\"white\"},\"title\":{\"x\":0.05},\"mapbox\":{\"style\":\"light\"}}},\"xaxis\":{\"anchor\":\"y\",\"domain\":[0.0,1.0],\"title\":{\"text\":\"edad\"}},\"yaxis\":{\"anchor\":\"x\",\"domain\":[0.0,1.0]},\"legend\":{\"title\":{\"text\":\"adherencia_inversion\"},\"tracegroupgap\":0},\"margin\":{\"t\":60},\"boxmode\":\"group\"},                        {\"responsive\": true}                    ).then(function(){\n",
              "                            \n",
              "var gd = document.getElementById('c1f3e0a5-2b8a-41c5-9766-321713af91e8');\n",
              "var x = new MutationObserver(function (mutations, observer) {{\n",
              "        var display = window.getComputedStyle(gd).display;\n",
              "        if (!display || display === 'none') {{\n",
              "            console.log([gd, 'removed!']);\n",
              "            Plotly.purge(gd);\n",
              "            observer.disconnect();\n",
              "        }}\n",
              "}});\n",
              "\n",
              "// Listen for the removal of the full notebook cells\n",
              "var notebookContainer = gd.closest('#notebook-container');\n",
              "if (notebookContainer) {{\n",
              "    x.observe(notebookContainer, {childList: true});\n",
              "}}\n",
              "\n",
              "// Listen for the clearing of the current output cell\n",
              "var outputEl = gd.closest('.output');\n",
              "if (outputEl) {{\n",
              "    x.observe(outputEl, {childList: true});\n",
              "}}\n",
              "\n",
              "                        })                };                            </script>        </div>\n",
              "</body>\n",
              "</html>"
            ]
          },
          "metadata": {}
        }
      ]
    },
    {
      "cell_type": "markdown",
      "source": [
        "nos permite identificar patrones desde los datos de estadisticca descriptiva y ver loss valores atipicos para que nuestro maquina nose detenga por los datos atipicos dado que loss podemos quitar"
      ],
      "metadata": {
        "id": "jI7djRA-ybDV"
      }
    },
    {
      "cell_type": "code",
      "source": [
        "px.box(datos,x='saldo',color='adherencia_inversion')"
      ],
      "metadata": {
        "id": "RKDBY1UDBXXf",
        "colab": {
          "base_uri": "https://localhost:8080/",
          "height": 542
        },
        "outputId": "e25c4dcb-d7cc-49ac-ac42-aa82397163b4"
      },
      "execution_count": 12,
      "outputs": [
        {
          "output_type": "display_data",
          "data": {
            "text/html": [
              "<html>\n",
              "<head><meta charset=\"utf-8\" /></head>\n",
              "<body>\n",
              "    <div>            <script src=\"https://cdnjs.cloudflare.com/ajax/libs/mathjax/2.7.5/MathJax.js?config=TeX-AMS-MML_SVG\"></script><script type=\"text/javascript\">if (window.MathJax && window.MathJax.Hub && window.MathJax.Hub.Config) {window.MathJax.Hub.Config({SVG: {font: \"STIX-Web\"}});}</script>                <script type=\"text/javascript\">window.PlotlyConfig = {MathJaxConfig: 'local'};</script>\n",
              "        <script charset=\"utf-8\" src=\"https://cdn.plot.ly/plotly-2.35.2.min.js\"></script>                <div id=\"a5a9194f-9834-43a9-b4e1-b896b8952c8a\" class=\"plotly-graph-div\" style=\"height:525px; width:100%;\"></div>            <script type=\"text/javascript\">                                    window.PLOTLYENV=window.PLOTLYENV || {};                                    if (document.getElementById(\"a5a9194f-9834-43a9-b4e1-b896b8952c8a\")) {                    Plotly.newPlot(                        \"a5a9194f-9834-43a9-b4e1-b896b8952c8a\",                        [{\"alignmentgroup\":\"True\",\"hovertemplate\":\"adherencia_inversion=si\\u003cbr\\u003esaldo=%{x}\\u003cextra\\u003e\\u003c\\u002fextra\\u003e\",\"legendgroup\":\"si\",\"marker\":{\"color\":\"#636efa\"},\"name\":\"si\",\"notched\":false,\"offsetgroup\":\"si\",\"orientation\":\"h\",\"showlegend\":true,\"x\":[242,1289,1382,3357,174,5086,139,2411,8304,624,102,4402,2145,1167,118,14220,156,-393,335,117,1337,259,1265,691,0,366,388,470,2171,230,151,1696,502,2146,480,687,3726,2431,3436,3283,213,1905,18,0,606,-53,4189,65,678,2488,3935,1047,2206,372,2048,4148,1097,247,126,1167,1445,478,325,462,0,198,2039,1044,3050,305,229,-20,2308,1147,889,3810,-90,8556,442,2160,255,206,985,763,1796,565,-191,6,238,3450,79,152,1451,760,3608,1315,921,0,3143,7066,405,2374,1679,548,2944,3285,4608,2544,1613,302,-454,811,1133,215,523,2543,410,25,-970,132,997,26965,1026,201,0,2253,104,3696,2488,2658,-195,3904,1562,225,897,199,668,14,2089,-242,4657,796,1646,1988,331,273,0,2,817,8,311,94,297,5106,227,755,302,1200,-386,0,195,636,22,171,39,802,368,205,720,4579,244,0,1429,1942,-242,495,1013,0,38,2776,822,-375,765,7050,197,406,2881,5845,386,944,70,657,844,976,0,61,-1206,462,3403,228,5310,4945,306,8295,4,620,1341,2442,902,3057,12,459,1354,2,1235,7802,75,5346,701,1297,4415,158,0,474,0,874,568,3733,133,197,231,3636,230,152,27,1331,569,3391,3371,1177,80,9,1412,759,7138,320,724,1191,4438,-824,1080,1219,1808,362,2232,1948,538,424,0,0,3,0,4108,607,5355,3727,1304,593,226,4508,808,304,1224,3463,3676,2325,4198,4,3771,480,1490,41,703,4099,489,-416,3334,493,57,273,1221,1893,1129,2013,5063,572,153,479,1070,3301,-54,136,1230,2850,2929,2788,4665,665,823,95,846,505,3735,3472,133,674,12569,437,2603,95,6610,425,113,4758,70,455,556,1058,664,104,2763,0,3665,-17,25,2734,-247,204,876,1633,490,1,9676,1511,668,-887,978,1574,2812,1727,936,11262,9228,1859,451,1076,294,2398,-308,393,-522,0,1836,699,710,-311,103,343,1679,6728,5291,3913,8,326,517,1044,1925,908,2085,9756,4745,639,883,279,4659,2087,0,1238,6046,1020,459,694,426,100,168,495,257,747,10,0,351,239,15,2536,623,5462,1347,341,170,0,-251,2144,1996,2971,2303,69,104,84,-315,2587,7195,2646,-242,2557,1361,197,556,697,1539,19317,54,0,687,2987,5037,925,145,2887,415,0,1580,1066,1792,4256,-46,0,703,4079,3,0,45,622,1026,661,4089,1205,6016,13,482,480,5514,92,732,59,1978,980,0,3792,1049,16,1766,602,2917,0,0,1623,-308,-306,1233,994,0,1625,2506,1199,763,429,170,1064,2306,4500,0,-839,315,3234,889,66,925,83,5958,-477,2187,19],\"x0\":\" \",\"xaxis\":\"x\",\"y0\":\" \",\"yaxis\":\"y\",\"type\":\"box\"},{\"alignmentgroup\":\"True\",\"hovertemplate\":\"adherencia_inversion=no\\u003cbr\\u003esaldo=%{x}\\u003cextra\\u003e\\u003c\\u002fextra\\u003e\",\"legendgroup\":\"no\",\"marker\":{\"color\":\"#EF553B\"},\"name\":\"no\",\"notched\":false,\"offsetgroup\":\"no\",\"orientation\":\"h\",\"showlegend\":true,\"x\":[363,4446,946,879,-94,7685,1116,0,559,0,70,157,-46,10888,719,7735,-247,1640,2662,2246,475,1584,0,-404,168,12877,98,13342,8312,119,3696,497,27069,40,1831,950,1513,1680,61,0,579,2275,0,8,87,3064,771,340,1032,1467,84,320,-673,-495,0,313,195,2590,106,1100,-228,403,415,1660,302,0,1810,0,62,194,2278,937,226,1553,0,10378,8167,102,180,-759,0,3470,6053,0,950,204,-363,-888,-461,201,7,827,0,302,678,2201,63,1439,641,1743,4,451,465,77,432,2394,-921,2,1086,3107,1209,0,1897,92,0,292,225,298,7317,640,1005,751,-396,436,653,508,6,92,16353,4943,2815,1067,470,5207,0,260,-328,0,431,2567,4,879,691,2185,7190,1469,22,1053,900,999,-29,3342,1069,7378,128,834,8,103,231,748,1657,1317,1322,263,4,1506,5314,260,150,1811,217,1240,1109,1012,220,89,1482,2581,475,198,17555,334,0,4900,304,171,619,2395,913,267,2959,975,0,1494,1698,781,158,316,2323,2974,541,0,13658,451,209,0,1111,1855,54,3939,4143,196,8238,1100,899,365,171,0,0,-292,442,442,30,228,757,489,390,61,1628,250,1187,2155,143,1533,178,732,552,1148,6402,5715,1409,474,0,502,1568,422,6483,229,0,2171,0,71,146,795,894,395,0,-9,168,2642,285,174,8627,1531,14412,108,8627,586,1121,52,3732,24,-1,93,-551,1022,943,204,979,9976,502,655,80,72,1,23,2515,22,-230,459,103,775,203,1386,-163,430,435,851,389,5320,180,1790,321,1045,111,-402,1831,25,4888,315,4153,0,1840,1117,828,102,633,1787,-32,295,-217,333,879,0,-256,44,10,14,305,-3,51,12223,614,360,22546,1410,1611,435,671,828,4902,3242,371,0,2347,0,145,2558,2237,525,2381,842,0,279,28,355,0,284,116,4554,6164,280,-221,-3,-298,1019,-93,21664,290,1897,604,186,-194,0,56,401,27,1084,-379,3463,578,9374,215,1746,35,212,705,786,0,500,5803,295,310,258,252,0,2685,902,1114,542,2904,417,388,736,-471,-278,75,-166,2294,1738,7353,399,50,46,462,191,1410,1238,2538,167,283,351,809,222,105,1327,378,2186,324,34,126,736,79,68,1372,71,520,171,949,177,115,125,-117,2805,0,0,179,1623,2,356,1315,4,1427,3571,181,1327,5108,-56,-59,1188,4210,192,314,200,11494,-630,-411,351,462,75,631,2,0,648,5235,82,3561,398,602,-98,2921,2225,569,-839,260,745,7343,5191,-123,2146,1671,136,472,278,0,324,16063,76,225,115,413,410,176,321,1050,291,6766,459,706,475,443,0,140,925,0,0,-53,0,6699,-179,1,359,804,133,137,1594,2262,856,-378,435,454,562,613,266,-540,69,1588,3854,10655,0,621,6563,609,1011,1983,0,605,1328,1025,62,118,493,406,60,1141,1147,0,3060,1011,236,202,20,0,2330,667,44,37,590,2993,902,15,-384,225,20,8,16430,-679,9269,427,2700,0,579,265,222,1670,-583,3163,1054,2349,5878,-219,4348,249,344,262,0,-329,0,130,4213,4382,950,5731,-518,273,553,-396,1172,25,0,61,4722,0,1666,10907,275,3672,0,1355,473,271,1415,16873,1145,157,0,331,5045,1295,-905,2125,0,1420,6850,1270,2988,506,669,11,261,0,2357,79,451,468,382,377,5799,2814,722,595,1269,4824,1529,592,4366,2,330,308,738,0,0,86,329,0,5731,-196,593,477,1071,0,42,3616,595,345,2,163,65,-97,238,3052,23,474,148,138,238,117,967,443,42,-55,931,-584,894,1532,0,-322,181,1480,306,-350,480,5050,0,0,83,40,490,0,1216,1602,33,-381,0,0,3516,881,286,2190,636,79,334,901,40,176,1076,865,429,221,4667,6969,1916,2223,5,47,1844,-55,300,0,318,1932,180,1574,-97,8,-35,1465,872,1790,660,10177,0,1147,784,16,212,5304,2343,1831,297,203,64,6,1064,-762,205],\"x0\":\" \",\"xaxis\":\"x\",\"y0\":\" \",\"yaxis\":\"y\",\"type\":\"box\"}],                        {\"template\":{\"data\":{\"histogram2dcontour\":[{\"type\":\"histogram2dcontour\",\"colorbar\":{\"outlinewidth\":0,\"ticks\":\"\"},\"colorscale\":[[0.0,\"#0d0887\"],[0.1111111111111111,\"#46039f\"],[0.2222222222222222,\"#7201a8\"],[0.3333333333333333,\"#9c179e\"],[0.4444444444444444,\"#bd3786\"],[0.5555555555555556,\"#d8576b\"],[0.6666666666666666,\"#ed7953\"],[0.7777777777777778,\"#fb9f3a\"],[0.8888888888888888,\"#fdca26\"],[1.0,\"#f0f921\"]]}],\"choropleth\":[{\"type\":\"choropleth\",\"colorbar\":{\"outlinewidth\":0,\"ticks\":\"\"}}],\"histogram2d\":[{\"type\":\"histogram2d\",\"colorbar\":{\"outlinewidth\":0,\"ticks\":\"\"},\"colorscale\":[[0.0,\"#0d0887\"],[0.1111111111111111,\"#46039f\"],[0.2222222222222222,\"#7201a8\"],[0.3333333333333333,\"#9c179e\"],[0.4444444444444444,\"#bd3786\"],[0.5555555555555556,\"#d8576b\"],[0.6666666666666666,\"#ed7953\"],[0.7777777777777778,\"#fb9f3a\"],[0.8888888888888888,\"#fdca26\"],[1.0,\"#f0f921\"]]}],\"heatmap\":[{\"type\":\"heatmap\",\"colorbar\":{\"outlinewidth\":0,\"ticks\":\"\"},\"colorscale\":[[0.0,\"#0d0887\"],[0.1111111111111111,\"#46039f\"],[0.2222222222222222,\"#7201a8\"],[0.3333333333333333,\"#9c179e\"],[0.4444444444444444,\"#bd3786\"],[0.5555555555555556,\"#d8576b\"],[0.6666666666666666,\"#ed7953\"],[0.7777777777777778,\"#fb9f3a\"],[0.8888888888888888,\"#fdca26\"],[1.0,\"#f0f921\"]]}],\"heatmapgl\":[{\"type\":\"heatmapgl\",\"colorbar\":{\"outlinewidth\":0,\"ticks\":\"\"},\"colorscale\":[[0.0,\"#0d0887\"],[0.1111111111111111,\"#46039f\"],[0.2222222222222222,\"#7201a8\"],[0.3333333333333333,\"#9c179e\"],[0.4444444444444444,\"#bd3786\"],[0.5555555555555556,\"#d8576b\"],[0.6666666666666666,\"#ed7953\"],[0.7777777777777778,\"#fb9f3a\"],[0.8888888888888888,\"#fdca26\"],[1.0,\"#f0f921\"]]}],\"contourcarpet\":[{\"type\":\"contourcarpet\",\"colorbar\":{\"outlinewidth\":0,\"ticks\":\"\"}}],\"contour\":[{\"type\":\"contour\",\"colorbar\":{\"outlinewidth\":0,\"ticks\":\"\"},\"colorscale\":[[0.0,\"#0d0887\"],[0.1111111111111111,\"#46039f\"],[0.2222222222222222,\"#7201a8\"],[0.3333333333333333,\"#9c179e\"],[0.4444444444444444,\"#bd3786\"],[0.5555555555555556,\"#d8576b\"],[0.6666666666666666,\"#ed7953\"],[0.7777777777777778,\"#fb9f3a\"],[0.8888888888888888,\"#fdca26\"],[1.0,\"#f0f921\"]]}],\"surface\":[{\"type\":\"surface\",\"colorbar\":{\"outlinewidth\":0,\"ticks\":\"\"},\"colorscale\":[[0.0,\"#0d0887\"],[0.1111111111111111,\"#46039f\"],[0.2222222222222222,\"#7201a8\"],[0.3333333333333333,\"#9c179e\"],[0.4444444444444444,\"#bd3786\"],[0.5555555555555556,\"#d8576b\"],[0.6666666666666666,\"#ed7953\"],[0.7777777777777778,\"#fb9f3a\"],[0.8888888888888888,\"#fdca26\"],[1.0,\"#f0f921\"]]}],\"mesh3d\":[{\"type\":\"mesh3d\",\"colorbar\":{\"outlinewidth\":0,\"ticks\":\"\"}}],\"scatter\":[{\"fillpattern\":{\"fillmode\":\"overlay\",\"size\":10,\"solidity\":0.2},\"type\":\"scatter\"}],\"parcoords\":[{\"type\":\"parcoords\",\"line\":{\"colorbar\":{\"outlinewidth\":0,\"ticks\":\"\"}}}],\"scatterpolargl\":[{\"type\":\"scatterpolargl\",\"marker\":{\"colorbar\":{\"outlinewidth\":0,\"ticks\":\"\"}}}],\"bar\":[{\"error_x\":{\"color\":\"#2a3f5f\"},\"error_y\":{\"color\":\"#2a3f5f\"},\"marker\":{\"line\":{\"color\":\"#E5ECF6\",\"width\":0.5},\"pattern\":{\"fillmode\":\"overlay\",\"size\":10,\"solidity\":0.2}},\"type\":\"bar\"}],\"scattergeo\":[{\"type\":\"scattergeo\",\"marker\":{\"colorbar\":{\"outlinewidth\":0,\"ticks\":\"\"}}}],\"scatterpolar\":[{\"type\":\"scatterpolar\",\"marker\":{\"colorbar\":{\"outlinewidth\":0,\"ticks\":\"\"}}}],\"histogram\":[{\"marker\":{\"pattern\":{\"fillmode\":\"overlay\",\"size\":10,\"solidity\":0.2}},\"type\":\"histogram\"}],\"scattergl\":[{\"type\":\"scattergl\",\"marker\":{\"colorbar\":{\"outlinewidth\":0,\"ticks\":\"\"}}}],\"scatter3d\":[{\"type\":\"scatter3d\",\"line\":{\"colorbar\":{\"outlinewidth\":0,\"ticks\":\"\"}},\"marker\":{\"colorbar\":{\"outlinewidth\":0,\"ticks\":\"\"}}}],\"scattermapbox\":[{\"type\":\"scattermapbox\",\"marker\":{\"colorbar\":{\"outlinewidth\":0,\"ticks\":\"\"}}}],\"scatterternary\":[{\"type\":\"scatterternary\",\"marker\":{\"colorbar\":{\"outlinewidth\":0,\"ticks\":\"\"}}}],\"scattercarpet\":[{\"type\":\"scattercarpet\",\"marker\":{\"colorbar\":{\"outlinewidth\":0,\"ticks\":\"\"}}}],\"carpet\":[{\"aaxis\":{\"endlinecolor\":\"#2a3f5f\",\"gridcolor\":\"white\",\"linecolor\":\"white\",\"minorgridcolor\":\"white\",\"startlinecolor\":\"#2a3f5f\"},\"baxis\":{\"endlinecolor\":\"#2a3f5f\",\"gridcolor\":\"white\",\"linecolor\":\"white\",\"minorgridcolor\":\"white\",\"startlinecolor\":\"#2a3f5f\"},\"type\":\"carpet\"}],\"table\":[{\"cells\":{\"fill\":{\"color\":\"#EBF0F8\"},\"line\":{\"color\":\"white\"}},\"header\":{\"fill\":{\"color\":\"#C8D4E3\"},\"line\":{\"color\":\"white\"}},\"type\":\"table\"}],\"barpolar\":[{\"marker\":{\"line\":{\"color\":\"#E5ECF6\",\"width\":0.5},\"pattern\":{\"fillmode\":\"overlay\",\"size\":10,\"solidity\":0.2}},\"type\":\"barpolar\"}],\"pie\":[{\"automargin\":true,\"type\":\"pie\"}]},\"layout\":{\"autotypenumbers\":\"strict\",\"colorway\":[\"#636efa\",\"#EF553B\",\"#00cc96\",\"#ab63fa\",\"#FFA15A\",\"#19d3f3\",\"#FF6692\",\"#B6E880\",\"#FF97FF\",\"#FECB52\"],\"font\":{\"color\":\"#2a3f5f\"},\"hovermode\":\"closest\",\"hoverlabel\":{\"align\":\"left\"},\"paper_bgcolor\":\"white\",\"plot_bgcolor\":\"#E5ECF6\",\"polar\":{\"bgcolor\":\"#E5ECF6\",\"angularaxis\":{\"gridcolor\":\"white\",\"linecolor\":\"white\",\"ticks\":\"\"},\"radialaxis\":{\"gridcolor\":\"white\",\"linecolor\":\"white\",\"ticks\":\"\"}},\"ternary\":{\"bgcolor\":\"#E5ECF6\",\"aaxis\":{\"gridcolor\":\"white\",\"linecolor\":\"white\",\"ticks\":\"\"},\"baxis\":{\"gridcolor\":\"white\",\"linecolor\":\"white\",\"ticks\":\"\"},\"caxis\":{\"gridcolor\":\"white\",\"linecolor\":\"white\",\"ticks\":\"\"}},\"coloraxis\":{\"colorbar\":{\"outlinewidth\":0,\"ticks\":\"\"}},\"colorscale\":{\"sequential\":[[0.0,\"#0d0887\"],[0.1111111111111111,\"#46039f\"],[0.2222222222222222,\"#7201a8\"],[0.3333333333333333,\"#9c179e\"],[0.4444444444444444,\"#bd3786\"],[0.5555555555555556,\"#d8576b\"],[0.6666666666666666,\"#ed7953\"],[0.7777777777777778,\"#fb9f3a\"],[0.8888888888888888,\"#fdca26\"],[1.0,\"#f0f921\"]],\"sequentialminus\":[[0.0,\"#0d0887\"],[0.1111111111111111,\"#46039f\"],[0.2222222222222222,\"#7201a8\"],[0.3333333333333333,\"#9c179e\"],[0.4444444444444444,\"#bd3786\"],[0.5555555555555556,\"#d8576b\"],[0.6666666666666666,\"#ed7953\"],[0.7777777777777778,\"#fb9f3a\"],[0.8888888888888888,\"#fdca26\"],[1.0,\"#f0f921\"]],\"diverging\":[[0,\"#8e0152\"],[0.1,\"#c51b7d\"],[0.2,\"#de77ae\"],[0.3,\"#f1b6da\"],[0.4,\"#fde0ef\"],[0.5,\"#f7f7f7\"],[0.6,\"#e6f5d0\"],[0.7,\"#b8e186\"],[0.8,\"#7fbc41\"],[0.9,\"#4d9221\"],[1,\"#276419\"]]},\"xaxis\":{\"gridcolor\":\"white\",\"linecolor\":\"white\",\"ticks\":\"\",\"title\":{\"standoff\":15},\"zerolinecolor\":\"white\",\"automargin\":true,\"zerolinewidth\":2},\"yaxis\":{\"gridcolor\":\"white\",\"linecolor\":\"white\",\"ticks\":\"\",\"title\":{\"standoff\":15},\"zerolinecolor\":\"white\",\"automargin\":true,\"zerolinewidth\":2},\"scene\":{\"xaxis\":{\"backgroundcolor\":\"#E5ECF6\",\"gridcolor\":\"white\",\"linecolor\":\"white\",\"showbackground\":true,\"ticks\":\"\",\"zerolinecolor\":\"white\",\"gridwidth\":2},\"yaxis\":{\"backgroundcolor\":\"#E5ECF6\",\"gridcolor\":\"white\",\"linecolor\":\"white\",\"showbackground\":true,\"ticks\":\"\",\"zerolinecolor\":\"white\",\"gridwidth\":2},\"zaxis\":{\"backgroundcolor\":\"#E5ECF6\",\"gridcolor\":\"white\",\"linecolor\":\"white\",\"showbackground\":true,\"ticks\":\"\",\"zerolinecolor\":\"white\",\"gridwidth\":2}},\"shapedefaults\":{\"line\":{\"color\":\"#2a3f5f\"}},\"annotationdefaults\":{\"arrowcolor\":\"#2a3f5f\",\"arrowhead\":0,\"arrowwidth\":1},\"geo\":{\"bgcolor\":\"white\",\"landcolor\":\"#E5ECF6\",\"subunitcolor\":\"white\",\"showland\":true,\"showlakes\":true,\"lakecolor\":\"white\"},\"title\":{\"x\":0.05},\"mapbox\":{\"style\":\"light\"}}},\"xaxis\":{\"anchor\":\"y\",\"domain\":[0.0,1.0],\"title\":{\"text\":\"saldo\"}},\"yaxis\":{\"anchor\":\"x\",\"domain\":[0.0,1.0]},\"legend\":{\"title\":{\"text\":\"adherencia_inversion\"},\"tracegroupgap\":0},\"margin\":{\"t\":60},\"boxmode\":\"group\"},                        {\"responsive\": true}                    ).then(function(){\n",
              "                            \n",
              "var gd = document.getElementById('a5a9194f-9834-43a9-b4e1-b896b8952c8a');\n",
              "var x = new MutationObserver(function (mutations, observer) {{\n",
              "        var display = window.getComputedStyle(gd).display;\n",
              "        if (!display || display === 'none') {{\n",
              "            console.log([gd, 'removed!']);\n",
              "            Plotly.purge(gd);\n",
              "            observer.disconnect();\n",
              "        }}\n",
              "}});\n",
              "\n",
              "// Listen for the removal of the full notebook cells\n",
              "var notebookContainer = gd.closest('#notebook-container');\n",
              "if (notebookContainer) {{\n",
              "    x.observe(notebookContainer, {childList: true});\n",
              "}}\n",
              "\n",
              "// Listen for the clearing of the current output cell\n",
              "var outputEl = gd.closest('.output');\n",
              "if (outputEl) {{\n",
              "    x.observe(outputEl, {childList: true});\n",
              "}}\n",
              "\n",
              "                        })                };                            </script>        </div>\n",
              "</body>\n",
              "</html>"
            ]
          },
          "metadata": {}
        }
      ]
    },
    {
      "cell_type": "code",
      "source": [
        "px.box(datos,x='ultimo_contacto',color='adherencia_inversion')"
      ],
      "metadata": {
        "id": "pLTneC3XBW9T",
        "colab": {
          "base_uri": "https://localhost:8080/",
          "height": 542
        },
        "outputId": "e33cc75a-742f-425e-b718-5c85a3559891"
      },
      "execution_count": 13,
      "outputs": [
        {
          "output_type": "display_data",
          "data": {
            "text/html": [
              "<html>\n",
              "<head><meta charset=\"utf-8\" /></head>\n",
              "<body>\n",
              "    <div>            <script src=\"https://cdnjs.cloudflare.com/ajax/libs/mathjax/2.7.5/MathJax.js?config=TeX-AMS-MML_SVG\"></script><script type=\"text/javascript\">if (window.MathJax && window.MathJax.Hub && window.MathJax.Hub.Config) {window.MathJax.Hub.Config({SVG: {font: \"STIX-Web\"}});}</script>                <script type=\"text/javascript\">window.PlotlyConfig = {MathJaxConfig: 'local'};</script>\n",
              "        <script charset=\"utf-8\" src=\"https://cdn.plot.ly/plotly-2.35.2.min.js\"></script>                <div id=\"0db43146-90f3-4c23-a2f0-836c8c05ca4a\" class=\"plotly-graph-div\" style=\"height:525px; width:100%;\"></div>            <script type=\"text/javascript\">                                    window.PLOTLYENV=window.PLOTLYENV || {};                                    if (document.getElementById(\"0db43146-90f3-4c23-a2f0-836c8c05ca4a\")) {                    Plotly.newPlot(                        \"0db43146-90f3-4c23-a2f0-836c8c05ca4a\",                        [{\"alignmentgroup\":\"True\",\"hovertemplate\":\"adherencia_inversion=si\\u003cbr\\u003eultimo_contacto=%{x}\\u003cextra\\u003e\\u003c\\u002fextra\\u003e\",\"legendgroup\":\"si\",\"marker\":{\"color\":\"#636efa\"},\"name\":\"si\",\"notched\":false,\"offsetgroup\":\"si\",\"orientation\":\"h\",\"showlegend\":true,\"x\":[587,250,700,239,487,213,732,130,712,336,470,805,727,968,1275,397,657,435,411,467,330,415,326,338,767,593,2087,743,1034,442,97,257,261,1516,830,772,875,646,663,258,378,709,359,1448,97,648,897,1028,1579,258,765,554,104,654,310,316,181,401,2456,264,328,475,1139,495,146,128,451,585,469,633,97,574,815,389,388,262,270,326,474,261,457,479,998,384,295,876,755,216,185,169,249,563,314,223,231,224,394,1073,421,667,994,161,417,1181,882,1721,212,252,296,528,558,563,293,350,152,223,891,528,489,574,106,654,669,325,1174,937,701,250,449,768,391,250,659,1126,397,1689,1263,167,132,1173,93,427,261,164,170,910,847,1031,517,107,757,493,415,244,278,1212,205,904,477,639,220,352,388,93,549,569,293,289,651,409,1735,648,1015,436,1149,157,206,618,744,701,184,814,959,222,78,736,356,1060,253,251,229,398,1018,345,550,836,382,1877,707,1017,984,311,388,207,395,1234,415,91,691,2769,587,558,736,100,354,421,479,187,254,716,1032,650,161,423,1608,1282,378,198,218,223,352,808,144,158,230,297,976,243,269,330,676,386,480,317,809,1971,287,214,446,429,951,697,245,816,121,216,353,298,154,228,998,493,526,454,466,993,501,1484,762,854,267,226,1441,96,567,125,309,268,185,344,506,686,342,397,356,767,632,671,796,803,279,1259,806,222,418,314,1124,515,30,485,698,363,412,185,518,369,860,371,780,335,671,386,190,332,171,587,344,504,280,1309,481,883,328,712,255,403,646,188,955,635,526,812,664,474,232,897,519,224,269,275,207,159,234,270,576,827,1370,301,830,500,931,323,655,245,652,152,87,317,725,567,670,594,750,1258,653,1030,104,377,718,232,192,124,93,788,681,353,904,1663,501,103,360,353,798,399,161,267,227,1558,300,882,623,144,1029,221,347,213,955,543,857,171,1063,412,921,958,297,430,280,670,442,260,641,417,761,429,775,120,606,1101,2029,328,609,142,600,134,1473,260,460,860,441,249,543,508,869,307,252,709,799,819,777,294,1007,109,630,239,199,524,590,343,488,262,1467,1451,226,968,289,376,670,76,1097,213,319,688,759,873,404,352,147,279,224,990,166,324,215,1472,264,1081,781,500,91,149,268,796,485,178,877,1006,129,562,239,733,80,1018,1407,578,185,1164,321,1223,215,1532,525,110],\"x0\":\" \",\"xaxis\":\"x\",\"y0\":\" \",\"yaxis\":\"y\",\"type\":\"box\"},{\"alignmentgroup\":\"True\",\"hovertemplate\":\"adherencia_inversion=no\\u003cbr\\u003eultimo_contacto=%{x}\\u003cextra\\u003e\\u003c\\u002fextra\\u003e\",\"legendgroup\":\"no\",\"marker\":{\"color\":\"#EF553B\"},\"name\":\"no\",\"notched\":false,\"offsetgroup\":\"no\",\"orientation\":\"h\",\"showlegend\":true,\"x\":[16,429,1065,102,41,493,53,71,1231,793,611,299,23,163,230,220,344,72,148,330,559,661,264,502,212,118,420,465,43,127,305,88,174,123,203,135,330,76,21,129,83,139,211,55,165,240,106,255,41,277,231,76,364,303,768,42,185,68,175,67,187,318,123,342,89,79,65,298,67,189,244,66,176,200,86,523,114,272,62,191,118,285,865,209,219,286,340,135,254,248,98,319,297,208,85,233,56,73,347,192,145,451,160,56,10,184,115,102,410,1516,283,108,441,139,105,222,866,144,172,318,215,343,443,28,352,70,246,127,223,117,125,179,217,336,676,52,318,83,73,109,443,228,517,354,375,364,76,405,322,182,41,329,247,466,275,196,155,314,76,184,566,395,178,119,84,299,200,146,151,150,193,505,328,410,89,156,177,99,538,205,14,36,561,121,129,209,16,218,113,128,325,256,83,275,95,74,73,126,151,187,237,380,220,389,319,3025,50,75,103,209,200,116,124,660,377,59,191,479,181,181,102,77,98,12,103,205,208,112,119,193,193,295,627,86,747,736,463,121,158,287,235,400,224,197,206,110,123,175,127,130,85,836,284,131,491,419,60,123,227,310,209,367,169,81,297,543,281,489,454,22,379,631,173,134,168,20,96,111,123,57,267,606,251,764,65,216,40,265,715,83,956,361,177,185,502,154,122,151,15,114,298,224,189,290,58,127,86,381,475,103,35,140,312,365,215,614,128,79,14,92,313,129,60,236,147,118,167,87,834,91,50,36,72,592,8,93,490,193,332,214,110,233,124,209,603,71,157,107,619,127,173,273,151,110,220,61,179,252,580,8,152,162,250,205,559,285,402,214,283,197,95,136,127,207,66,294,485,201,261,210,112,7,543,99,152,27,20,322,104,19,83,151,200,587,123,39,187,159,283,1816,277,90,730,119,668,143,204,85,251,349,536,133,89,78,272,40,8,274,307,57,226,467,155,317,74,174,346,366,217,29,164,700,317,254,240,86,15,19,245,63,209,238,770,173,163,81,96,21,380,76,1337,74,32,222,265,115,272,119,127,140,119,203,67,322,198,173,78,326,147,123,248,89,389,287,67,140,98,77,347,112,251,73,348,68,446,595,217,187,131,594,160,70,907,60,29,293,352,236,122,46,104,337,42,135,586,150,210,317,329,141,84,107,490,884,147,206,617,176,425,54,257,210,266,206,305,250,44,95,541,192,28,303,86,102,29,461,14,10,5,58,217,136,1126,340,123,115,204,82,388,166,358,289,253,151,22,29,90,253,112,8,146,404,82,15,228,310,24,133,24,210,550,25,304,145,196,197,159,107,371,337,131,230,14,71,161,25,56,273,134,159,66,373,258,221,371,53,171,46,285,142,193,210,164,244,97,106,127,153,169,535,113,483,1473,30,74,144,1210,1366,134,624,134,151,223,82,650,239,82,20,179,213,285,82,124,252,80,179,122,88,157,233,502,228,104,125,109,294,143,97,81,141,245,549,168,160,122,188,197,88,77,585,172,239,192,122,80,175,60,64,973,143,197,51,165,22,605,653,464,162,79,808,32,91,90,717,205,45,635,180,27,102,281,1183,411,509,253,191,225,599,108,212,95,211,75,205,44,69,359,73,340,472,142,70,30,669,71,447,143,557,90,211,235,389,601,79,147,70,71,244,150,130,412,281,1139,101,141,241,119,287,197,133,192,203,167,216,169,304,98,1130,214,115,272,97,249,34,119,260,340,226,1531,63,104,239,140,113,408,442],\"x0\":\" \",\"xaxis\":\"x\",\"y0\":\" \",\"yaxis\":\"y\",\"type\":\"box\"}],                        {\"template\":{\"data\":{\"histogram2dcontour\":[{\"type\":\"histogram2dcontour\",\"colorbar\":{\"outlinewidth\":0,\"ticks\":\"\"},\"colorscale\":[[0.0,\"#0d0887\"],[0.1111111111111111,\"#46039f\"],[0.2222222222222222,\"#7201a8\"],[0.3333333333333333,\"#9c179e\"],[0.4444444444444444,\"#bd3786\"],[0.5555555555555556,\"#d8576b\"],[0.6666666666666666,\"#ed7953\"],[0.7777777777777778,\"#fb9f3a\"],[0.8888888888888888,\"#fdca26\"],[1.0,\"#f0f921\"]]}],\"choropleth\":[{\"type\":\"choropleth\",\"colorbar\":{\"outlinewidth\":0,\"ticks\":\"\"}}],\"histogram2d\":[{\"type\":\"histogram2d\",\"colorbar\":{\"outlinewidth\":0,\"ticks\":\"\"},\"colorscale\":[[0.0,\"#0d0887\"],[0.1111111111111111,\"#46039f\"],[0.2222222222222222,\"#7201a8\"],[0.3333333333333333,\"#9c179e\"],[0.4444444444444444,\"#bd3786\"],[0.5555555555555556,\"#d8576b\"],[0.6666666666666666,\"#ed7953\"],[0.7777777777777778,\"#fb9f3a\"],[0.8888888888888888,\"#fdca26\"],[1.0,\"#f0f921\"]]}],\"heatmap\":[{\"type\":\"heatmap\",\"colorbar\":{\"outlinewidth\":0,\"ticks\":\"\"},\"colorscale\":[[0.0,\"#0d0887\"],[0.1111111111111111,\"#46039f\"],[0.2222222222222222,\"#7201a8\"],[0.3333333333333333,\"#9c179e\"],[0.4444444444444444,\"#bd3786\"],[0.5555555555555556,\"#d8576b\"],[0.6666666666666666,\"#ed7953\"],[0.7777777777777778,\"#fb9f3a\"],[0.8888888888888888,\"#fdca26\"],[1.0,\"#f0f921\"]]}],\"heatmapgl\":[{\"type\":\"heatmapgl\",\"colorbar\":{\"outlinewidth\":0,\"ticks\":\"\"},\"colorscale\":[[0.0,\"#0d0887\"],[0.1111111111111111,\"#46039f\"],[0.2222222222222222,\"#7201a8\"],[0.3333333333333333,\"#9c179e\"],[0.4444444444444444,\"#bd3786\"],[0.5555555555555556,\"#d8576b\"],[0.6666666666666666,\"#ed7953\"],[0.7777777777777778,\"#fb9f3a\"],[0.8888888888888888,\"#fdca26\"],[1.0,\"#f0f921\"]]}],\"contourcarpet\":[{\"type\":\"contourcarpet\",\"colorbar\":{\"outlinewidth\":0,\"ticks\":\"\"}}],\"contour\":[{\"type\":\"contour\",\"colorbar\":{\"outlinewidth\":0,\"ticks\":\"\"},\"colorscale\":[[0.0,\"#0d0887\"],[0.1111111111111111,\"#46039f\"],[0.2222222222222222,\"#7201a8\"],[0.3333333333333333,\"#9c179e\"],[0.4444444444444444,\"#bd3786\"],[0.5555555555555556,\"#d8576b\"],[0.6666666666666666,\"#ed7953\"],[0.7777777777777778,\"#fb9f3a\"],[0.8888888888888888,\"#fdca26\"],[1.0,\"#f0f921\"]]}],\"surface\":[{\"type\":\"surface\",\"colorbar\":{\"outlinewidth\":0,\"ticks\":\"\"},\"colorscale\":[[0.0,\"#0d0887\"],[0.1111111111111111,\"#46039f\"],[0.2222222222222222,\"#7201a8\"],[0.3333333333333333,\"#9c179e\"],[0.4444444444444444,\"#bd3786\"],[0.5555555555555556,\"#d8576b\"],[0.6666666666666666,\"#ed7953\"],[0.7777777777777778,\"#fb9f3a\"],[0.8888888888888888,\"#fdca26\"],[1.0,\"#f0f921\"]]}],\"mesh3d\":[{\"type\":\"mesh3d\",\"colorbar\":{\"outlinewidth\":0,\"ticks\":\"\"}}],\"scatter\":[{\"fillpattern\":{\"fillmode\":\"overlay\",\"size\":10,\"solidity\":0.2},\"type\":\"scatter\"}],\"parcoords\":[{\"type\":\"parcoords\",\"line\":{\"colorbar\":{\"outlinewidth\":0,\"ticks\":\"\"}}}],\"scatterpolargl\":[{\"type\":\"scatterpolargl\",\"marker\":{\"colorbar\":{\"outlinewidth\":0,\"ticks\":\"\"}}}],\"bar\":[{\"error_x\":{\"color\":\"#2a3f5f\"},\"error_y\":{\"color\":\"#2a3f5f\"},\"marker\":{\"line\":{\"color\":\"#E5ECF6\",\"width\":0.5},\"pattern\":{\"fillmode\":\"overlay\",\"size\":10,\"solidity\":0.2}},\"type\":\"bar\"}],\"scattergeo\":[{\"type\":\"scattergeo\",\"marker\":{\"colorbar\":{\"outlinewidth\":0,\"ticks\":\"\"}}}],\"scatterpolar\":[{\"type\":\"scatterpolar\",\"marker\":{\"colorbar\":{\"outlinewidth\":0,\"ticks\":\"\"}}}],\"histogram\":[{\"marker\":{\"pattern\":{\"fillmode\":\"overlay\",\"size\":10,\"solidity\":0.2}},\"type\":\"histogram\"}],\"scattergl\":[{\"type\":\"scattergl\",\"marker\":{\"colorbar\":{\"outlinewidth\":0,\"ticks\":\"\"}}}],\"scatter3d\":[{\"type\":\"scatter3d\",\"line\":{\"colorbar\":{\"outlinewidth\":0,\"ticks\":\"\"}},\"marker\":{\"colorbar\":{\"outlinewidth\":0,\"ticks\":\"\"}}}],\"scattermapbox\":[{\"type\":\"scattermapbox\",\"marker\":{\"colorbar\":{\"outlinewidth\":0,\"ticks\":\"\"}}}],\"scatterternary\":[{\"type\":\"scatterternary\",\"marker\":{\"colorbar\":{\"outlinewidth\":0,\"ticks\":\"\"}}}],\"scattercarpet\":[{\"type\":\"scattercarpet\",\"marker\":{\"colorbar\":{\"outlinewidth\":0,\"ticks\":\"\"}}}],\"carpet\":[{\"aaxis\":{\"endlinecolor\":\"#2a3f5f\",\"gridcolor\":\"white\",\"linecolor\":\"white\",\"minorgridcolor\":\"white\",\"startlinecolor\":\"#2a3f5f\"},\"baxis\":{\"endlinecolor\":\"#2a3f5f\",\"gridcolor\":\"white\",\"linecolor\":\"white\",\"minorgridcolor\":\"white\",\"startlinecolor\":\"#2a3f5f\"},\"type\":\"carpet\"}],\"table\":[{\"cells\":{\"fill\":{\"color\":\"#EBF0F8\"},\"line\":{\"color\":\"white\"}},\"header\":{\"fill\":{\"color\":\"#C8D4E3\"},\"line\":{\"color\":\"white\"}},\"type\":\"table\"}],\"barpolar\":[{\"marker\":{\"line\":{\"color\":\"#E5ECF6\",\"width\":0.5},\"pattern\":{\"fillmode\":\"overlay\",\"size\":10,\"solidity\":0.2}},\"type\":\"barpolar\"}],\"pie\":[{\"automargin\":true,\"type\":\"pie\"}]},\"layout\":{\"autotypenumbers\":\"strict\",\"colorway\":[\"#636efa\",\"#EF553B\",\"#00cc96\",\"#ab63fa\",\"#FFA15A\",\"#19d3f3\",\"#FF6692\",\"#B6E880\",\"#FF97FF\",\"#FECB52\"],\"font\":{\"color\":\"#2a3f5f\"},\"hovermode\":\"closest\",\"hoverlabel\":{\"align\":\"left\"},\"paper_bgcolor\":\"white\",\"plot_bgcolor\":\"#E5ECF6\",\"polar\":{\"bgcolor\":\"#E5ECF6\",\"angularaxis\":{\"gridcolor\":\"white\",\"linecolor\":\"white\",\"ticks\":\"\"},\"radialaxis\":{\"gridcolor\":\"white\",\"linecolor\":\"white\",\"ticks\":\"\"}},\"ternary\":{\"bgcolor\":\"#E5ECF6\",\"aaxis\":{\"gridcolor\":\"white\",\"linecolor\":\"white\",\"ticks\":\"\"},\"baxis\":{\"gridcolor\":\"white\",\"linecolor\":\"white\",\"ticks\":\"\"},\"caxis\":{\"gridcolor\":\"white\",\"linecolor\":\"white\",\"ticks\":\"\"}},\"coloraxis\":{\"colorbar\":{\"outlinewidth\":0,\"ticks\":\"\"}},\"colorscale\":{\"sequential\":[[0.0,\"#0d0887\"],[0.1111111111111111,\"#46039f\"],[0.2222222222222222,\"#7201a8\"],[0.3333333333333333,\"#9c179e\"],[0.4444444444444444,\"#bd3786\"],[0.5555555555555556,\"#d8576b\"],[0.6666666666666666,\"#ed7953\"],[0.7777777777777778,\"#fb9f3a\"],[0.8888888888888888,\"#fdca26\"],[1.0,\"#f0f921\"]],\"sequentialminus\":[[0.0,\"#0d0887\"],[0.1111111111111111,\"#46039f\"],[0.2222222222222222,\"#7201a8\"],[0.3333333333333333,\"#9c179e\"],[0.4444444444444444,\"#bd3786\"],[0.5555555555555556,\"#d8576b\"],[0.6666666666666666,\"#ed7953\"],[0.7777777777777778,\"#fb9f3a\"],[0.8888888888888888,\"#fdca26\"],[1.0,\"#f0f921\"]],\"diverging\":[[0,\"#8e0152\"],[0.1,\"#c51b7d\"],[0.2,\"#de77ae\"],[0.3,\"#f1b6da\"],[0.4,\"#fde0ef\"],[0.5,\"#f7f7f7\"],[0.6,\"#e6f5d0\"],[0.7,\"#b8e186\"],[0.8,\"#7fbc41\"],[0.9,\"#4d9221\"],[1,\"#276419\"]]},\"xaxis\":{\"gridcolor\":\"white\",\"linecolor\":\"white\",\"ticks\":\"\",\"title\":{\"standoff\":15},\"zerolinecolor\":\"white\",\"automargin\":true,\"zerolinewidth\":2},\"yaxis\":{\"gridcolor\":\"white\",\"linecolor\":\"white\",\"ticks\":\"\",\"title\":{\"standoff\":15},\"zerolinecolor\":\"white\",\"automargin\":true,\"zerolinewidth\":2},\"scene\":{\"xaxis\":{\"backgroundcolor\":\"#E5ECF6\",\"gridcolor\":\"white\",\"linecolor\":\"white\",\"showbackground\":true,\"ticks\":\"\",\"zerolinecolor\":\"white\",\"gridwidth\":2},\"yaxis\":{\"backgroundcolor\":\"#E5ECF6\",\"gridcolor\":\"white\",\"linecolor\":\"white\",\"showbackground\":true,\"ticks\":\"\",\"zerolinecolor\":\"white\",\"gridwidth\":2},\"zaxis\":{\"backgroundcolor\":\"#E5ECF6\",\"gridcolor\":\"white\",\"linecolor\":\"white\",\"showbackground\":true,\"ticks\":\"\",\"zerolinecolor\":\"white\",\"gridwidth\":2}},\"shapedefaults\":{\"line\":{\"color\":\"#2a3f5f\"}},\"annotationdefaults\":{\"arrowcolor\":\"#2a3f5f\",\"arrowhead\":0,\"arrowwidth\":1},\"geo\":{\"bgcolor\":\"white\",\"landcolor\":\"#E5ECF6\",\"subunitcolor\":\"white\",\"showland\":true,\"showlakes\":true,\"lakecolor\":\"white\"},\"title\":{\"x\":0.05},\"mapbox\":{\"style\":\"light\"}}},\"xaxis\":{\"anchor\":\"y\",\"domain\":[0.0,1.0],\"title\":{\"text\":\"ultimo_contacto\"}},\"yaxis\":{\"anchor\":\"x\",\"domain\":[0.0,1.0]},\"legend\":{\"title\":{\"text\":\"adherencia_inversion\"},\"tracegroupgap\":0},\"margin\":{\"t\":60},\"boxmode\":\"group\"},                        {\"responsive\": true}                    ).then(function(){\n",
              "                            \n",
              "var gd = document.getElementById('0db43146-90f3-4c23-a2f0-836c8c05ca4a');\n",
              "var x = new MutationObserver(function (mutations, observer) {{\n",
              "        var display = window.getComputedStyle(gd).display;\n",
              "        if (!display || display === 'none') {{\n",
              "            console.log([gd, 'removed!']);\n",
              "            Plotly.purge(gd);\n",
              "            observer.disconnect();\n",
              "        }}\n",
              "}});\n",
              "\n",
              "// Listen for the removal of the full notebook cells\n",
              "var notebookContainer = gd.closest('#notebook-container');\n",
              "if (notebookContainer) {{\n",
              "    x.observe(notebookContainer, {childList: true});\n",
              "}}\n",
              "\n",
              "// Listen for the clearing of the current output cell\n",
              "var outputEl = gd.closest('.output');\n",
              "if (outputEl) {{\n",
              "    x.observe(outputEl, {childList: true});\n",
              "}}\n",
              "\n",
              "                        })                };                            </script>        </div>\n",
              "</body>\n",
              "</html>"
            ]
          },
          "metadata": {}
        }
      ]
    },
    {
      "cell_type": "code",
      "source": [
        "px.box(datos,x='ct_contactos',color='adherencia_inversion')"
      ],
      "metadata": {
        "id": "ZjAzrJWjBW6m",
        "colab": {
          "base_uri": "https://localhost:8080/",
          "height": 542
        },
        "outputId": "5edec3b9-8c37-4806-f8d5-109cc24c826d"
      },
      "execution_count": 14,
      "outputs": [
        {
          "output_type": "display_data",
          "data": {
            "text/html": [
              "<html>\n",
              "<head><meta charset=\"utf-8\" /></head>\n",
              "<body>\n",
              "    <div>            <script src=\"https://cdnjs.cloudflare.com/ajax/libs/mathjax/2.7.5/MathJax.js?config=TeX-AMS-MML_SVG\"></script><script type=\"text/javascript\">if (window.MathJax && window.MathJax.Hub && window.MathJax.Hub.Config) {window.MathJax.Hub.Config({SVG: {font: \"STIX-Web\"}});}</script>                <script type=\"text/javascript\">window.PlotlyConfig = {MathJaxConfig: 'local'};</script>\n",
              "        <script charset=\"utf-8\" src=\"https://cdn.plot.ly/plotly-2.35.2.min.js\"></script>                <div id=\"331d6e51-c562-4489-9742-7b0b8375a608\" class=\"plotly-graph-div\" style=\"height:525px; width:100%;\"></div>            <script type=\"text/javascript\">                                    window.PLOTLYENV=window.PLOTLYENV || {};                                    if (document.getElementById(\"331d6e51-c562-4489-9742-7b0b8375a608\")) {                    Plotly.newPlot(                        \"331d6e51-c562-4489-9742-7b0b8375a608\",                        [{\"alignmentgroup\":\"True\",\"hovertemplate\":\"adherencia_inversion=si\\u003cbr\\u003ect_contactos=%{x}\\u003cextra\\u003e\\u003c\\u002fextra\\u003e\",\"legendgroup\":\"si\",\"marker\":{\"color\":\"#636efa\"},\"name\":\"si\",\"notched\":false,\"offsetgroup\":\"si\",\"orientation\":\"h\",\"showlegend\":true,\"x\":[1,4,1,4,1,4,2,1,1,2,7,1,2,1,1,1,7,1,1,2,2,1,5,1,5,1,2,13,1,1,3,1,1,2,1,1,2,5,4,1,1,2,1,7,1,1,2,2,1,6,1,1,1,2,1,3,1,2,2,1,2,2,2,1,4,2,1,1,1,1,1,1,1,1,1,1,1,2,3,1,1,1,6,2,1,1,1,1,1,1,2,1,1,3,1,1,2,1,2,3,2,1,1,4,8,2,1,1,1,3,1,1,1,3,2,1,4,2,1,1,1,2,1,2,1,3,1,2,2,2,1,2,4,4,1,4,2,1,1,3,5,1,1,2,4,2,1,8,1,2,2,1,4,1,1,4,1,3,1,1,1,4,6,1,2,1,1,1,1,2,4,1,1,2,6,3,1,1,1,1,1,2,3,3,3,1,1,2,1,2,2,2,3,1,4,3,2,3,2,6,1,2,3,1,2,3,7,3,2,4,2,1,2,2,3,1,9,1,2,3,3,2,1,1,13,6,2,1,1,1,2,2,1,2,3,1,12,1,2,1,2,4,1,5,2,4,2,4,1,3,3,4,1,6,1,1,2,4,1,2,1,2,2,2,4,6,2,24,3,1,2,2,2,1,1,1,1,1,1,2,1,5,1,2,4,2,4,4,1,1,4,6,1,4,2,1,2,1,1,2,2,7,1,1,2,2,2,2,4,1,1,2,1,1,1,2,1,1,4,4,2,1,2,6,3,1,3,3,5,3,2,1,3,1,2,4,1,2,3,1,8,2,2,1,3,2,3,3,1,4,1,1,4,3,1,1,1,1,1,3,2,4,2,2,1,1,2,1,1,1,2,1,3,1,1,2,2,1,2,2,1,3,1,3,1,1,2,1,6,1,1,1,1,1,3,3,2,2,4,1,5,1,2,6,4,1,6,4,1,3,1,1,2,4,3,3,3,2,1,2,2,1,4,5,1,1,2,2,1,1,2,1,1,1,9,1,2,10,4,2,1,3,6,3,1,1,3,3,1,1,1,2,1,1,2,2,3,1,3,1,1,1,2,8,1,1,1,2,4,1,2,3,1,1,1,2,1,1,1,1,2,1,1,1,7,2,1,1,4,2,2,2,1,2,1,2,3,6,1,2,3,2],\"x0\":\" \",\"xaxis\":\"x\",\"y0\":\" \",\"yaxis\":\"y\",\"type\":\"box\"},{\"alignmentgroup\":\"True\",\"hovertemplate\":\"adherencia_inversion=no\\u003cbr\\u003ect_contactos=%{x}\\u003cextra\\u003e\\u003c\\u002fextra\\u003e\",\"legendgroup\":\"no\",\"marker\":{\"color\":\"#EF553B\"},\"name\":\"no\",\"notched\":false,\"offsetgroup\":\"no\",\"orientation\":\"h\",\"showlegend\":true,\"x\":[18,1,1,2,2,3,5,1,2,2,2,5,1,1,1,1,2,6,2,1,1,1,5,3,3,3,4,1,13,8,1,5,3,2,2,3,1,2,1,4,4,9,2,4,1,3,8,2,5,2,1,2,1,2,2,1,4,12,3,1,3,2,1,1,3,3,2,1,1,2,1,1,2,2,4,3,2,2,2,1,6,2,2,2,4,2,2,1,2,1,2,5,1,3,3,3,8,6,2,4,2,1,1,1,2,2,2,1,1,2,1,1,1,2,3,3,2,3,1,1,1,4,1,1,1,1,1,1,2,2,2,6,1,1,1,1,2,12,17,1,2,1,1,2,2,1,2,3,2,2,2,4,2,1,2,2,2,1,2,1,2,2,1,2,3,2,3,1,2,1,6,2,2,1,4,2,2,1,8,3,14,6,4,2,2,1,5,1,4,1,1,2,6,12,2,2,1,3,10,5,3,4,2,4,2,2,1,1,1,2,3,1,4,2,3,2,1,1,2,6,3,3,1,8,1,5,2,3,1,6,2,1,1,1,5,7,1,1,1,2,2,2,8,2,6,1,1,3,1,1,6,12,2,3,1,2,1,1,1,2,1,2,1,3,1,12,1,2,6,8,2,1,1,2,2,3,4,7,1,2,4,2,3,3,2,3,3,2,1,13,2,1,1,6,2,4,6,1,7,6,3,1,1,13,2,2,2,1,4,1,16,10,3,1,3,2,3,1,6,1,1,1,4,10,2,1,5,1,10,9,1,1,4,4,6,1,2,2,2,1,1,1,2,2,3,7,6,1,1,2,2,1,1,5,2,6,2,4,3,6,11,3,1,2,7,5,2,8,1,1,3,2,1,2,1,2,1,1,1,3,2,8,12,1,1,1,4,1,2,18,3,11,1,2,2,2,2,1,1,1,2,1,2,1,7,2,4,4,11,1,2,2,2,2,1,1,1,1,6,1,3,1,2,1,2,2,1,1,2,1,2,3,1,1,2,1,13,3,2,5,4,2,2,6,2,4,1,17,1,2,4,5,3,3,2,2,1,5,6,2,1,2,2,2,1,1,5,11,1,1,4,1,5,1,3,1,1,2,1,2,1,2,1,1,2,1,4,2,2,1,1,1,2,3,32,6,3,1,6,3,5,2,1,3,3,2,5,6,1,3,3,1,1,3,2,1,2,15,1,2,1,1,1,1,12,3,14,5,1,3,18,2,2,2,1,3,1,3,3,3,1,8,1,2,1,1,1,4,8,1,2,2,5,8,5,1,6,2,2,2,1,6,4,1,3,2,2,1,12,2,7,1,1,3,1,3,1,2,3,4,2,1,3,2,2,7,6,1,5,2,2,8,1,1,1,1,1,2,1,4,4,2,2,6,3,2,1,1,5,2,3,1,6,1,3,5,1,1,2,5,4,3,1,2,1,2,3,6,10,1,3,12,2,3,2,1,1,1,1,1,1,2,1,1,1,1,4,1,3,1,3,2,7,1,2,2,5,2,2,4,1,1,1,16,2,2,1,2,1,3,1,2,2,2,1,3,1,1,1,1,1,6,3,1,1,5,1,1,6,4,2,1,2,2,1,2,2,2,1,1,3,2,7,6,8,6,3,1,3,2,1,3,29,6,1,4,1,7,2,11,11,2,1,1,2,2,1,1,1,2,1,3,2,7,1,3,6,1,2,2,32,1,3,4,4,3,4,3,5,1,4,1,5,1,4,2,1,1,1,4,1,4,1,1,2,2],\"x0\":\" \",\"xaxis\":\"x\",\"y0\":\" \",\"yaxis\":\"y\",\"type\":\"box\"}],                        {\"template\":{\"data\":{\"histogram2dcontour\":[{\"type\":\"histogram2dcontour\",\"colorbar\":{\"outlinewidth\":0,\"ticks\":\"\"},\"colorscale\":[[0.0,\"#0d0887\"],[0.1111111111111111,\"#46039f\"],[0.2222222222222222,\"#7201a8\"],[0.3333333333333333,\"#9c179e\"],[0.4444444444444444,\"#bd3786\"],[0.5555555555555556,\"#d8576b\"],[0.6666666666666666,\"#ed7953\"],[0.7777777777777778,\"#fb9f3a\"],[0.8888888888888888,\"#fdca26\"],[1.0,\"#f0f921\"]]}],\"choropleth\":[{\"type\":\"choropleth\",\"colorbar\":{\"outlinewidth\":0,\"ticks\":\"\"}}],\"histogram2d\":[{\"type\":\"histogram2d\",\"colorbar\":{\"outlinewidth\":0,\"ticks\":\"\"},\"colorscale\":[[0.0,\"#0d0887\"],[0.1111111111111111,\"#46039f\"],[0.2222222222222222,\"#7201a8\"],[0.3333333333333333,\"#9c179e\"],[0.4444444444444444,\"#bd3786\"],[0.5555555555555556,\"#d8576b\"],[0.6666666666666666,\"#ed7953\"],[0.7777777777777778,\"#fb9f3a\"],[0.8888888888888888,\"#fdca26\"],[1.0,\"#f0f921\"]]}],\"heatmap\":[{\"type\":\"heatmap\",\"colorbar\":{\"outlinewidth\":0,\"ticks\":\"\"},\"colorscale\":[[0.0,\"#0d0887\"],[0.1111111111111111,\"#46039f\"],[0.2222222222222222,\"#7201a8\"],[0.3333333333333333,\"#9c179e\"],[0.4444444444444444,\"#bd3786\"],[0.5555555555555556,\"#d8576b\"],[0.6666666666666666,\"#ed7953\"],[0.7777777777777778,\"#fb9f3a\"],[0.8888888888888888,\"#fdca26\"],[1.0,\"#f0f921\"]]}],\"heatmapgl\":[{\"type\":\"heatmapgl\",\"colorbar\":{\"outlinewidth\":0,\"ticks\":\"\"},\"colorscale\":[[0.0,\"#0d0887\"],[0.1111111111111111,\"#46039f\"],[0.2222222222222222,\"#7201a8\"],[0.3333333333333333,\"#9c179e\"],[0.4444444444444444,\"#bd3786\"],[0.5555555555555556,\"#d8576b\"],[0.6666666666666666,\"#ed7953\"],[0.7777777777777778,\"#fb9f3a\"],[0.8888888888888888,\"#fdca26\"],[1.0,\"#f0f921\"]]}],\"contourcarpet\":[{\"type\":\"contourcarpet\",\"colorbar\":{\"outlinewidth\":0,\"ticks\":\"\"}}],\"contour\":[{\"type\":\"contour\",\"colorbar\":{\"outlinewidth\":0,\"ticks\":\"\"},\"colorscale\":[[0.0,\"#0d0887\"],[0.1111111111111111,\"#46039f\"],[0.2222222222222222,\"#7201a8\"],[0.3333333333333333,\"#9c179e\"],[0.4444444444444444,\"#bd3786\"],[0.5555555555555556,\"#d8576b\"],[0.6666666666666666,\"#ed7953\"],[0.7777777777777778,\"#fb9f3a\"],[0.8888888888888888,\"#fdca26\"],[1.0,\"#f0f921\"]]}],\"surface\":[{\"type\":\"surface\",\"colorbar\":{\"outlinewidth\":0,\"ticks\":\"\"},\"colorscale\":[[0.0,\"#0d0887\"],[0.1111111111111111,\"#46039f\"],[0.2222222222222222,\"#7201a8\"],[0.3333333333333333,\"#9c179e\"],[0.4444444444444444,\"#bd3786\"],[0.5555555555555556,\"#d8576b\"],[0.6666666666666666,\"#ed7953\"],[0.7777777777777778,\"#fb9f3a\"],[0.8888888888888888,\"#fdca26\"],[1.0,\"#f0f921\"]]}],\"mesh3d\":[{\"type\":\"mesh3d\",\"colorbar\":{\"outlinewidth\":0,\"ticks\":\"\"}}],\"scatter\":[{\"fillpattern\":{\"fillmode\":\"overlay\",\"size\":10,\"solidity\":0.2},\"type\":\"scatter\"}],\"parcoords\":[{\"type\":\"parcoords\",\"line\":{\"colorbar\":{\"outlinewidth\":0,\"ticks\":\"\"}}}],\"scatterpolargl\":[{\"type\":\"scatterpolargl\",\"marker\":{\"colorbar\":{\"outlinewidth\":0,\"ticks\":\"\"}}}],\"bar\":[{\"error_x\":{\"color\":\"#2a3f5f\"},\"error_y\":{\"color\":\"#2a3f5f\"},\"marker\":{\"line\":{\"color\":\"#E5ECF6\",\"width\":0.5},\"pattern\":{\"fillmode\":\"overlay\",\"size\":10,\"solidity\":0.2}},\"type\":\"bar\"}],\"scattergeo\":[{\"type\":\"scattergeo\",\"marker\":{\"colorbar\":{\"outlinewidth\":0,\"ticks\":\"\"}}}],\"scatterpolar\":[{\"type\":\"scatterpolar\",\"marker\":{\"colorbar\":{\"outlinewidth\":0,\"ticks\":\"\"}}}],\"histogram\":[{\"marker\":{\"pattern\":{\"fillmode\":\"overlay\",\"size\":10,\"solidity\":0.2}},\"type\":\"histogram\"}],\"scattergl\":[{\"type\":\"scattergl\",\"marker\":{\"colorbar\":{\"outlinewidth\":0,\"ticks\":\"\"}}}],\"scatter3d\":[{\"type\":\"scatter3d\",\"line\":{\"colorbar\":{\"outlinewidth\":0,\"ticks\":\"\"}},\"marker\":{\"colorbar\":{\"outlinewidth\":0,\"ticks\":\"\"}}}],\"scattermapbox\":[{\"type\":\"scattermapbox\",\"marker\":{\"colorbar\":{\"outlinewidth\":0,\"ticks\":\"\"}}}],\"scatterternary\":[{\"type\":\"scatterternary\",\"marker\":{\"colorbar\":{\"outlinewidth\":0,\"ticks\":\"\"}}}],\"scattercarpet\":[{\"type\":\"scattercarpet\",\"marker\":{\"colorbar\":{\"outlinewidth\":0,\"ticks\":\"\"}}}],\"carpet\":[{\"aaxis\":{\"endlinecolor\":\"#2a3f5f\",\"gridcolor\":\"white\",\"linecolor\":\"white\",\"minorgridcolor\":\"white\",\"startlinecolor\":\"#2a3f5f\"},\"baxis\":{\"endlinecolor\":\"#2a3f5f\",\"gridcolor\":\"white\",\"linecolor\":\"white\",\"minorgridcolor\":\"white\",\"startlinecolor\":\"#2a3f5f\"},\"type\":\"carpet\"}],\"table\":[{\"cells\":{\"fill\":{\"color\":\"#EBF0F8\"},\"line\":{\"color\":\"white\"}},\"header\":{\"fill\":{\"color\":\"#C8D4E3\"},\"line\":{\"color\":\"white\"}},\"type\":\"table\"}],\"barpolar\":[{\"marker\":{\"line\":{\"color\":\"#E5ECF6\",\"width\":0.5},\"pattern\":{\"fillmode\":\"overlay\",\"size\":10,\"solidity\":0.2}},\"type\":\"barpolar\"}],\"pie\":[{\"automargin\":true,\"type\":\"pie\"}]},\"layout\":{\"autotypenumbers\":\"strict\",\"colorway\":[\"#636efa\",\"#EF553B\",\"#00cc96\",\"#ab63fa\",\"#FFA15A\",\"#19d3f3\",\"#FF6692\",\"#B6E880\",\"#FF97FF\",\"#FECB52\"],\"font\":{\"color\":\"#2a3f5f\"},\"hovermode\":\"closest\",\"hoverlabel\":{\"align\":\"left\"},\"paper_bgcolor\":\"white\",\"plot_bgcolor\":\"#E5ECF6\",\"polar\":{\"bgcolor\":\"#E5ECF6\",\"angularaxis\":{\"gridcolor\":\"white\",\"linecolor\":\"white\",\"ticks\":\"\"},\"radialaxis\":{\"gridcolor\":\"white\",\"linecolor\":\"white\",\"ticks\":\"\"}},\"ternary\":{\"bgcolor\":\"#E5ECF6\",\"aaxis\":{\"gridcolor\":\"white\",\"linecolor\":\"white\",\"ticks\":\"\"},\"baxis\":{\"gridcolor\":\"white\",\"linecolor\":\"white\",\"ticks\":\"\"},\"caxis\":{\"gridcolor\":\"white\",\"linecolor\":\"white\",\"ticks\":\"\"}},\"coloraxis\":{\"colorbar\":{\"outlinewidth\":0,\"ticks\":\"\"}},\"colorscale\":{\"sequential\":[[0.0,\"#0d0887\"],[0.1111111111111111,\"#46039f\"],[0.2222222222222222,\"#7201a8\"],[0.3333333333333333,\"#9c179e\"],[0.4444444444444444,\"#bd3786\"],[0.5555555555555556,\"#d8576b\"],[0.6666666666666666,\"#ed7953\"],[0.7777777777777778,\"#fb9f3a\"],[0.8888888888888888,\"#fdca26\"],[1.0,\"#f0f921\"]],\"sequentialminus\":[[0.0,\"#0d0887\"],[0.1111111111111111,\"#46039f\"],[0.2222222222222222,\"#7201a8\"],[0.3333333333333333,\"#9c179e\"],[0.4444444444444444,\"#bd3786\"],[0.5555555555555556,\"#d8576b\"],[0.6666666666666666,\"#ed7953\"],[0.7777777777777778,\"#fb9f3a\"],[0.8888888888888888,\"#fdca26\"],[1.0,\"#f0f921\"]],\"diverging\":[[0,\"#8e0152\"],[0.1,\"#c51b7d\"],[0.2,\"#de77ae\"],[0.3,\"#f1b6da\"],[0.4,\"#fde0ef\"],[0.5,\"#f7f7f7\"],[0.6,\"#e6f5d0\"],[0.7,\"#b8e186\"],[0.8,\"#7fbc41\"],[0.9,\"#4d9221\"],[1,\"#276419\"]]},\"xaxis\":{\"gridcolor\":\"white\",\"linecolor\":\"white\",\"ticks\":\"\",\"title\":{\"standoff\":15},\"zerolinecolor\":\"white\",\"automargin\":true,\"zerolinewidth\":2},\"yaxis\":{\"gridcolor\":\"white\",\"linecolor\":\"white\",\"ticks\":\"\",\"title\":{\"standoff\":15},\"zerolinecolor\":\"white\",\"automargin\":true,\"zerolinewidth\":2},\"scene\":{\"xaxis\":{\"backgroundcolor\":\"#E5ECF6\",\"gridcolor\":\"white\",\"linecolor\":\"white\",\"showbackground\":true,\"ticks\":\"\",\"zerolinecolor\":\"white\",\"gridwidth\":2},\"yaxis\":{\"backgroundcolor\":\"#E5ECF6\",\"gridcolor\":\"white\",\"linecolor\":\"white\",\"showbackground\":true,\"ticks\":\"\",\"zerolinecolor\":\"white\",\"gridwidth\":2},\"zaxis\":{\"backgroundcolor\":\"#E5ECF6\",\"gridcolor\":\"white\",\"linecolor\":\"white\",\"showbackground\":true,\"ticks\":\"\",\"zerolinecolor\":\"white\",\"gridwidth\":2}},\"shapedefaults\":{\"line\":{\"color\":\"#2a3f5f\"}},\"annotationdefaults\":{\"arrowcolor\":\"#2a3f5f\",\"arrowhead\":0,\"arrowwidth\":1},\"geo\":{\"bgcolor\":\"white\",\"landcolor\":\"#E5ECF6\",\"subunitcolor\":\"white\",\"showland\":true,\"showlakes\":true,\"lakecolor\":\"white\"},\"title\":{\"x\":0.05},\"mapbox\":{\"style\":\"light\"}}},\"xaxis\":{\"anchor\":\"y\",\"domain\":[0.0,1.0],\"title\":{\"text\":\"ct_contactos\"}},\"yaxis\":{\"anchor\":\"x\",\"domain\":[0.0,1.0]},\"legend\":{\"title\":{\"text\":\"adherencia_inversion\"},\"tracegroupgap\":0},\"margin\":{\"t\":60},\"boxmode\":\"group\"},                        {\"responsive\": true}                    ).then(function(){\n",
              "                            \n",
              "var gd = document.getElementById('331d6e51-c562-4489-9742-7b0b8375a608');\n",
              "var x = new MutationObserver(function (mutations, observer) {{\n",
              "        var display = window.getComputedStyle(gd).display;\n",
              "        if (!display || display === 'none') {{\n",
              "            console.log([gd, 'removed!']);\n",
              "            Plotly.purge(gd);\n",
              "            observer.disconnect();\n",
              "        }}\n",
              "}});\n",
              "\n",
              "// Listen for the removal of the full notebook cells\n",
              "var notebookContainer = gd.closest('#notebook-container');\n",
              "if (notebookContainer) {{\n",
              "    x.observe(notebookContainer, {childList: true});\n",
              "}}\n",
              "\n",
              "// Listen for the clearing of the current output cell\n",
              "var outputEl = gd.closest('.output');\n",
              "if (outputEl) {{\n",
              "    x.observe(outputEl, {childList: true});\n",
              "}}\n",
              "\n",
              "                        })                };                            </script>        </div>\n",
              "</body>\n",
              "</html>"
            ]
          },
          "metadata": {}
        }
      ]
    },
    {
      "cell_type": "markdown",
      "source": [
        "#### ¿qué es Machine Learning?"
      ],
      "metadata": {
        "id": "Ku-0xwr4VMUo"
      }
    },
    {
      "cell_type": "markdown",
      "source": [
        "El Inteligencia Artificial (IA) se ha destacado como una de las áreas de mayor crecimiento y visibilidad en los últimos años. Es un campo de estudio amplio que abarca diversas áreas del conocimiento, tanto prácticas como teóricas, incluyendo la ciencia de la computación, la ciencia cognitiva, la filosofía de la mente y el Machine Learning (Aprendizaje Automático).\n",
        "\n",
        "El Machine Learning (ML), como una subárea de la inteligencia artificial, se concentra en el desarrollo de algoritmos que son utilizados en la computadora para realizar tareas sin la necesidad de programar explícitamente las reglas que se utilizarán. Estos algoritmos basan sus decisiones a partir de datos con el objetivo de comprender e identificar el patrón existente en esos datos, para luego utilizar ese conocimiento en la realización de predicciones.\n",
        "\n",
        "Cómo funciona el Machine Learning\n",
        "El funcionamiento del Machine Learning tiene 3 etapas principales:\n",
        "\n",
        "1 - Recolección de datos\n",
        "\n",
        "La primera etapa de un proyecto de ML es la extracción o recolección de datos. Los datos son esenciales y pueden considerarse la materia prima de los algoritmos. La cantidad y calidad de estos datos tienen un impacto muy grande en el aprendizaje de los modelos. Con pocos datos, el modelo puede no tener información suficiente para aprender. Con datos de poca calidad, el modelo puede no ser capaz de diferenciar bien el patrón de los datos o comprender el patrón de manera diferente a lo que ocurre con los datos del mundo real.\n",
        "\n",
        "2 - Entrenamiento de los modelos\n",
        "\n",
        "Después de recolectar datos y asegurar que tienen calidad, se llega a la etapa de entrenar los modelos. El entrenamiento consiste en que el algoritmo busque el patrón presente en los datos y construya una regla para tomar decisiones posteriormente en nuevos datos.\n",
        "\n",
        "3 - Evaluación\n",
        "\n",
        "Con el modelo entrenado, se llega a la etapa de evaluar el desempeño del modelo, para identificar si realmente aprendió el patrón de los datos y si es capaz de aplicar de forma satisfactoria la regla generada por el algoritmo en datos nuevos, que no fueron utilizados durante el momento del entrenamiento.\n",
        "\n",
        "A pesar de ser las etapas principales, estas no son las únicas tareas presentes en proyectos de Machine Learning. Cada proyecto tiene sus propias características, ya sea por el formato y naturaleza de los datos, el tipo de aplicación o los desafíos encontrados a lo largo del proceso."
      ],
      "metadata": {
        "id": "TfeMgKnKVNzd"
      }
    },
    {
      "cell_type": "markdown",
      "source": [
        "####¿qué es clasificación?"
      ],
      "metadata": {
        "id": "imTaSLUIVTdy"
      }
    },
    {
      "cell_type": "markdown",
      "source": [
        "Dentro del área de Machine Learning, existen diferentes tipos de aprendizaje: el supervisado, semi supervisado, no supervisado y por refuerzo. La tarea de clasificación es solo una entre las tareas realizadas por los algoritmos, que forma parte del aprendizaje supervisado. Con el organigrama a continuación, observa los flujos que se establecen en estas relaciones."
      ],
      "metadata": {
        "id": "dDATA7Q0VYjQ"
      }
    },
    {
      "cell_type": "markdown",
      "source": [
        "![image.png](data:image/png;base64,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)"
      ],
      "metadata": {
        "id": "h3aVsYSHVa80"
      }
    },
    {
      "cell_type": "markdown",
      "source": [
        "Imagina un grupo de jóvenes que está aprendiendo a identificar diferentes estilos musicales. Tienen un mentor que posee una colección de canciones en su dispositivo de audio, cada una debidamente etiquetada con el género musical correspondiente, pero los jóvenes no pueden distinguir los géneros musicales por sí mismos. Al principio, el mentor comienza a reproducir varias canciones y, al mismo tiempo, dice cuál es el género de cada una de ellas. Ellos escuchan con atención y, a lo largo del tiempo, comienzan a asociar las características musicales, como el ritmo, la instrumentación y los vocales, a los diferentes géneros.\n",
        "\n",
        "En este ejemplo, los jóvenes se basan en algunas características como ritmos rápidos y vocales enérgicos que encajan en el género pop, mientras que las canciones con guitarras distorsionadas y vocales más intensos se dirigen al género rock. Con base en este proceso, los jóvenes logran identificar el género de nuevas canciones que no fueron previamente etiquetadas por el mentor, pero usando las reglas que aprendieron, fueron capaces de etiquetar y nombrar los nuevos elementos.\n",
        "\n",
        "El aprendizaje supervisado en Machine Learning sigue este mismo razonamiento. Utiliza conjuntos de datos etiquetados, es decir, bases de datos con registros históricos que contienen la respuesta correcta en cada uno de los registros. Para entonces, a partir de esta respuesta y de las características de los datos, el algoritmo puede trazar una regla para llegar a la respuesta que podrá ser utilizada posteriormente en nuevos datos, con el fin de hacer una predicción.\n",
        "\n",
        "La característica principal de la clasificación se da por el tipo de dato presente en la respuesta, que debe ser del tipo categórica. Un dato del tipo categórico es aquel que tiene diferentes clases o categorías. Como ejemplos de aplicaciones de clasificación con Machine Learning, tenemos:\n",
        "\n",
        "* Filtrado de correos electrónicos spam\n",
        "* Diagnósticos médicos\n",
        "* Análisis textual de sentimientos\n",
        "* Detección de fraudes bancarios"
      ],
      "metadata": {
        "id": "xxZcEHInVfuh"
      }
    },
    {
      "cell_type": "markdown",
      "source": [
        "#### tipos de variables"
      ],
      "metadata": {
        "id": "7clMZoTvVsL8"
      }
    },
    {
      "cell_type": "markdown",
      "source": [
        "En una base de datos utilizada en proyectos de Machine Learning, podemos llamar a las columnas variables. Este concepto, proveniente de la estadística, representa una característica de interés que se mide en cada elemento de una muestra o población. El nombre indica que el valor varía de elemento a elemento, pudiendo tener valores numéricos o no numéricos.\n",
        "\n",
        "Las variables se dividen de la siguiente forma:\n",
        "\n",
        "* Variables cuantitativas o numéricas\n",
        "Son características que pueden ser medidas a partir de valores numéricos que tienen sentido y se dividen entre variables discretas y continuas.\n",
        "\n",
        "* Variables discretas: características medidas solo por un número finito o contable de valores. Solo tiene sentido para valores enteros. Por ejemplo: número de hijos, número de ventas.\n",
        "* Variables continuas: características medidas que asumen valores en una escala continua (en la recta real), en la que tienen sentido valores fraccionarios. Ejemplo: peso, tiempo, altura.\n",
        "* Variables cualitativas o categóricas\n",
        "Son características que no poseen valores cuantitativos y se definen por varias categorías o clases. Se dividen en nominales y ordinales.\n",
        "\n",
        "* Variables nominales: no existe ordenación entre las categorías. Ejemplo: sexo biológico, país, churn.\n",
        "* Variables ordinales: existe una ordenación entre las categorías. Ejemplo: escolaridad, mes.\n",
        "\n",
        "Atención: Un punto importante a tratar es que no siempre una variable representada por números es cuantitativa.\n",
        "\n",
        "\n",
        "Por eso, es esencial tener una postura crítica y evaluar la información detrás del dato, y no solo fijarse en la forma en que está disponible. Por ejemplo, una información de ID de registro puede ser un número, sin embargo, su función está en categorizar un elemento. De la misma forma, una información de escolaridad puede estar representada con los valores 1, 2 y 3, y aun así no los transforma en una variable numérica. Esta información no puede ser utilizada para hacer sumas y calcular promedios, por ejemplo."
      ],
      "metadata": {
        "id": "VwL7bSPnVuKb"
      }
    },
    {
      "cell_type": "markdown",
      "source": [
        "### ¿Qué aprendimos?"
      ],
      "metadata": {
        "id": "ja9kk5loWKS7"
      }
    },
    {
      "cell_type": "markdown",
      "source": [
        "En esta clase, aprendiste a:\n",
        "\n",
        "* Identificar la variable objetivo en un conjunto de datos;\n",
        "* Verificar la presencia de datos nulos e inconsistentes;\n",
        "* Realizar el análisis exploratorio de datos utilizando gráficos."
      ],
      "metadata": {
        "id": "Bx5RYAzkWMOF"
      }
    },
    {
      "cell_type": "markdown",
      "source": [
        "# 2. Tranformación de los datos"
      ],
      "metadata": {
        "id": "NGNspq7WoGrH"
      }
    },
    {
      "cell_type": "markdown",
      "source": [
        "## Variables explicativas y variable de respuesta"
      ],
      "metadata": {
        "id": "EZIgFOVLmg5v"
      }
    },
    {
      "cell_type": "markdown",
      "source": [
        "Para realizar la predicción de los valores con un modelo de aprendizaje automático, necesitamos separar la variable objetivo de las variables explicativas. La variable **y** representa lo que queremos predecir, mientras que **x** incluye todas las variables que se utilizarán para explicar el comportamiento de **y**."
      ],
      "metadata": {
        "id": "Ji18mcM3In44"
      }
    },
    {
      "cell_type": "code",
      "source": [
        "datos"
      ],
      "metadata": {
        "id": "cAo4uhHRA9Jb",
        "colab": {
          "base_uri": "https://localhost:8080/",
          "height": 423
        },
        "outputId": "91d65143-bd3f-45b2-bd0e-9a4d5415e46b"
      },
      "execution_count": 15,
      "outputs": [
        {
          "output_type": "execute_result",
          "data": {
            "text/plain": [
              "      edad    estado_civil escolaridad default  saldo prestatario  \\\n",
              "0       45      casado (a)    superior      no    242          no   \n",
              "1       42      casado (a)  secundaria      no   1289          no   \n",
              "2       23     soltero (a)    superior      no    363          no   \n",
              "3       58  divorciado (a)    superior      no   1382          no   \n",
              "4       50      casado (a)  secundaria      no   3357          no   \n",
              "...    ...             ...         ...     ...    ...         ...   \n",
              "1263    52     soltero (a)    superior      no     83          no   \n",
              "1264    35     soltero (a)    superior      no   5958          no   \n",
              "1265    30     soltero (a)    superior      no   -477          si   \n",
              "1266    42      casado (a)    superior      no   2187          no   \n",
              "1267    29     soltero (a)    superior      no     19          no   \n",
              "\n",
              "      ultimo_contacto  ct_contactos adherencia_inversion  \n",
              "0                 587             1                   si  \n",
              "1                 250             4                   si  \n",
              "2                  16            18                   no  \n",
              "3                 700             1                   si  \n",
              "4                 239             4                   si  \n",
              "...               ...           ...                  ...  \n",
              "1263             1223             6                   si  \n",
              "1264              215             1                   si  \n",
              "1265             1532             2                   si  \n",
              "1266              525             3                   si  \n",
              "1267              110             2                   si  \n",
              "\n",
              "[1268 rows x 9 columns]"
            ],
            "text/html": [
              "\n",
              "  <div id=\"df-8f4aacbf-003f-44a7-9171-f8fc0a749c43\" class=\"colab-df-container\">\n",
              "    <div>\n",
              "<style scoped>\n",
              "    .dataframe tbody tr th:only-of-type {\n",
              "        vertical-align: middle;\n",
              "    }\n",
              "\n",
              "    .dataframe tbody tr th {\n",
              "        vertical-align: top;\n",
              "    }\n",
              "\n",
              "    .dataframe thead th {\n",
              "        text-align: right;\n",
              "    }\n",
              "</style>\n",
              "<table border=\"1\" class=\"dataframe\">\n",
              "  <thead>\n",
              "    <tr style=\"text-align: right;\">\n",
              "      <th></th>\n",
              "      <th>edad</th>\n",
              "      <th>estado_civil</th>\n",
              "      <th>escolaridad</th>\n",
              "      <th>default</th>\n",
              "      <th>saldo</th>\n",
              "      <th>prestatario</th>\n",
              "      <th>ultimo_contacto</th>\n",
              "      <th>ct_contactos</th>\n",
              "      <th>adherencia_inversion</th>\n",
              "    </tr>\n",
              "  </thead>\n",
              "  <tbody>\n",
              "    <tr>\n",
              "      <th>0</th>\n",
              "      <td>45</td>\n",
              "      <td>casado (a)</td>\n",
              "      <td>superior</td>\n",
              "      <td>no</td>\n",
              "      <td>242</td>\n",
              "      <td>no</td>\n",
              "      <td>587</td>\n",
              "      <td>1</td>\n",
              "      <td>si</td>\n",
              "    </tr>\n",
              "    <tr>\n",
              "      <th>1</th>\n",
              "      <td>42</td>\n",
              "      <td>casado (a)</td>\n",
              "      <td>secundaria</td>\n",
              "      <td>no</td>\n",
              "      <td>1289</td>\n",
              "      <td>no</td>\n",
              "      <td>250</td>\n",
              "      <td>4</td>\n",
              "      <td>si</td>\n",
              "    </tr>\n",
              "    <tr>\n",
              "      <th>2</th>\n",
              "      <td>23</td>\n",
              "      <td>soltero (a)</td>\n",
              "      <td>superior</td>\n",
              "      <td>no</td>\n",
              "      <td>363</td>\n",
              "      <td>no</td>\n",
              "      <td>16</td>\n",
              "      <td>18</td>\n",
              "      <td>no</td>\n",
              "    </tr>\n",
              "    <tr>\n",
              "      <th>3</th>\n",
              "      <td>58</td>\n",
              "      <td>divorciado (a)</td>\n",
              "      <td>superior</td>\n",
              "      <td>no</td>\n",
              "      <td>1382</td>\n",
              "      <td>no</td>\n",
              "      <td>700</td>\n",
              "      <td>1</td>\n",
              "      <td>si</td>\n",
              "    </tr>\n",
              "    <tr>\n",
              "      <th>4</th>\n",
              "      <td>50</td>\n",
              "      <td>casado (a)</td>\n",
              "      <td>secundaria</td>\n",
              "      <td>no</td>\n",
              "      <td>3357</td>\n",
              "      <td>no</td>\n",
              "      <td>239</td>\n",
              "      <td>4</td>\n",
              "      <td>si</td>\n",
              "    </tr>\n",
              "    <tr>\n",
              "      <th>...</th>\n",
              "      <td>...</td>\n",
              "      <td>...</td>\n",
              "      <td>...</td>\n",
              "      <td>...</td>\n",
              "      <td>...</td>\n",
              "      <td>...</td>\n",
              "      <td>...</td>\n",
              "      <td>...</td>\n",
              "      <td>...</td>\n",
              "    </tr>\n",
              "    <tr>\n",
              "      <th>1263</th>\n",
              "      <td>52</td>\n",
              "      <td>soltero (a)</td>\n",
              "      <td>superior</td>\n",
              "      <td>no</td>\n",
              "      <td>83</td>\n",
              "      <td>no</td>\n",
              "      <td>1223</td>\n",
              "      <td>6</td>\n",
              "      <td>si</td>\n",
              "    </tr>\n",
              "    <tr>\n",
              "      <th>1264</th>\n",
              "      <td>35</td>\n",
              "      <td>soltero (a)</td>\n",
              "      <td>superior</td>\n",
              "      <td>no</td>\n",
              "      <td>5958</td>\n",
              "      <td>no</td>\n",
              "      <td>215</td>\n",
              "      <td>1</td>\n",
              "      <td>si</td>\n",
              "    </tr>\n",
              "    <tr>\n",
              "      <th>1265</th>\n",
              "      <td>30</td>\n",
              "      <td>soltero (a)</td>\n",
              "      <td>superior</td>\n",
              "      <td>no</td>\n",
              "      <td>-477</td>\n",
              "      <td>si</td>\n",
              "      <td>1532</td>\n",
              "      <td>2</td>\n",
              "      <td>si</td>\n",
              "    </tr>\n",
              "    <tr>\n",
              "      <th>1266</th>\n",
              "      <td>42</td>\n",
              "      <td>casado (a)</td>\n",
              "      <td>superior</td>\n",
              "      <td>no</td>\n",
              "      <td>2187</td>\n",
              "      <td>no</td>\n",
              "      <td>525</td>\n",
              "      <td>3</td>\n",
              "      <td>si</td>\n",
              "    </tr>\n",
              "    <tr>\n",
              "      <th>1267</th>\n",
              "      <td>29</td>\n",
              "      <td>soltero (a)</td>\n",
              "      <td>superior</td>\n",
              "      <td>no</td>\n",
              "      <td>19</td>\n",
              "      <td>no</td>\n",
              "      <td>110</td>\n",
              "      <td>2</td>\n",
              "      <td>si</td>\n",
              "    </tr>\n",
              "  </tbody>\n",
              "</table>\n",
              "<p>1268 rows × 9 columns</p>\n",
              "</div>\n",
              "    <div class=\"colab-df-buttons\">\n",
              "\n",
              "  <div class=\"colab-df-container\">\n",
              "    <button class=\"colab-df-convert\" onclick=\"convertToInteractive('df-8f4aacbf-003f-44a7-9171-f8fc0a749c43')\"\n",
              "            title=\"Convert this dataframe to an interactive table.\"\n",
              "            style=\"display:none;\">\n",
              "\n",
              "  <svg xmlns=\"http://www.w3.org/2000/svg\" height=\"24px\" viewBox=\"0 -960 960 960\">\n",
              "    <path d=\"M120-120v-720h720v720H120Zm60-500h600v-160H180v160Zm220 220h160v-160H400v160Zm0 220h160v-160H400v160ZM180-400h160v-160H180v160Zm440 0h160v-160H620v160ZM180-180h160v-160H180v160Zm440 0h160v-160H620v160Z\"/>\n",
              "  </svg>\n",
              "    </button>\n",
              "\n",
              "  <style>\n",
              "    .colab-df-container {\n",
              "      display:flex;\n",
              "      gap: 12px;\n",
              "    }\n",
              "\n",
              "    .colab-df-convert {\n",
              "      background-color: #E8F0FE;\n",
              "      border: none;\n",
              "      border-radius: 50%;\n",
              "      cursor: pointer;\n",
              "      display: none;\n",
              "      fill: #1967D2;\n",
              "      height: 32px;\n",
              "      padding: 0 0 0 0;\n",
              "      width: 32px;\n",
              "    }\n",
              "\n",
              "    .colab-df-convert:hover {\n",
              "      background-color: #E2EBFA;\n",
              "      box-shadow: 0px 1px 2px rgba(60, 64, 67, 0.3), 0px 1px 3px 1px rgba(60, 64, 67, 0.15);\n",
              "      fill: #174EA6;\n",
              "    }\n",
              "\n",
              "    .colab-df-buttons div {\n",
              "      margin-bottom: 4px;\n",
              "    }\n",
              "\n",
              "    [theme=dark] .colab-df-convert {\n",
              "      background-color: #3B4455;\n",
              "      fill: #D2E3FC;\n",
              "    }\n",
              "\n",
              "    [theme=dark] .colab-df-convert:hover {\n",
              "      background-color: #434B5C;\n",
              "      box-shadow: 0px 1px 3px 1px rgba(0, 0, 0, 0.15);\n",
              "      filter: drop-shadow(0px 1px 2px rgba(0, 0, 0, 0.3));\n",
              "      fill: #FFFFFF;\n",
              "    }\n",
              "  </style>\n",
              "\n",
              "    <script>\n",
              "      const buttonEl =\n",
              "        document.querySelector('#df-8f4aacbf-003f-44a7-9171-f8fc0a749c43 button.colab-df-convert');\n",
              "      buttonEl.style.display =\n",
              "        google.colab.kernel.accessAllowed ? 'block' : 'none';\n",
              "\n",
              "      async function convertToInteractive(key) {\n",
              "        const element = document.querySelector('#df-8f4aacbf-003f-44a7-9171-f8fc0a749c43');\n",
              "        const dataTable =\n",
              "          await google.colab.kernel.invokeFunction('convertToInteractive',\n",
              "                                                    [key], {});\n",
              "        if (!dataTable) return;\n",
              "\n",
              "        const docLinkHtml = 'Like what you see? Visit the ' +\n",
              "          '<a target=\"_blank\" href=https://colab.research.google.com/notebooks/data_table.ipynb>data table notebook</a>'\n",
              "          + ' to learn more about interactive tables.';\n",
              "        element.innerHTML = '';\n",
              "        dataTable['output_type'] = 'display_data';\n",
              "        await google.colab.output.renderOutput(dataTable, element);\n",
              "        const docLink = document.createElement('div');\n",
              "        docLink.innerHTML = docLinkHtml;\n",
              "        element.appendChild(docLink);\n",
              "      }\n",
              "    </script>\n",
              "  </div>\n",
              "\n",
              "\n",
              "    <div id=\"df-e985fbe3-9e62-4bb7-ba85-1ed1d93cbf61\">\n",
              "      <button class=\"colab-df-quickchart\" onclick=\"quickchart('df-e985fbe3-9e62-4bb7-ba85-1ed1d93cbf61')\"\n",
              "                title=\"Suggest charts\"\n",
              "                style=\"display:none;\">\n",
              "\n",
              "<svg xmlns=\"http://www.w3.org/2000/svg\" height=\"24px\"viewBox=\"0 0 24 24\"\n",
              "     width=\"24px\">\n",
              "    <g>\n",
              "        <path d=\"M19 3H5c-1.1 0-2 .9-2 2v14c0 1.1.9 2 2 2h14c1.1 0 2-.9 2-2V5c0-1.1-.9-2-2-2zM9 17H7v-7h2v7zm4 0h-2V7h2v10zm4 0h-2v-4h2v4z\"/>\n",
              "    </g>\n",
              "</svg>\n",
              "      </button>\n",
              "\n",
              "<style>\n",
              "  .colab-df-quickchart {\n",
              "      --bg-color: #E8F0FE;\n",
              "      --fill-color: #1967D2;\n",
              "      --hover-bg-color: #E2EBFA;\n",
              "      --hover-fill-color: #174EA6;\n",
              "      --disabled-fill-color: #AAA;\n",
              "      --disabled-bg-color: #DDD;\n",
              "  }\n",
              "\n",
              "  [theme=dark] .colab-df-quickchart {\n",
              "      --bg-color: #3B4455;\n",
              "      --fill-color: #D2E3FC;\n",
              "      --hover-bg-color: #434B5C;\n",
              "      --hover-fill-color: #FFFFFF;\n",
              "      --disabled-bg-color: #3B4455;\n",
              "      --disabled-fill-color: #666;\n",
              "  }\n",
              "\n",
              "  .colab-df-quickchart {\n",
              "    background-color: var(--bg-color);\n",
              "    border: none;\n",
              "    border-radius: 50%;\n",
              "    cursor: pointer;\n",
              "    display: none;\n",
              "    fill: var(--fill-color);\n",
              "    height: 32px;\n",
              "    padding: 0;\n",
              "    width: 32px;\n",
              "  }\n",
              "\n",
              "  .colab-df-quickchart:hover {\n",
              "    background-color: var(--hover-bg-color);\n",
              "    box-shadow: 0 1px 2px rgba(60, 64, 67, 0.3), 0 1px 3px 1px rgba(60, 64, 67, 0.15);\n",
              "    fill: var(--button-hover-fill-color);\n",
              "  }\n",
              "\n",
              "  .colab-df-quickchart-complete:disabled,\n",
              "  .colab-df-quickchart-complete:disabled:hover {\n",
              "    background-color: var(--disabled-bg-color);\n",
              "    fill: var(--disabled-fill-color);\n",
              "    box-shadow: none;\n",
              "  }\n",
              "\n",
              "  .colab-df-spinner {\n",
              "    border: 2px solid var(--fill-color);\n",
              "    border-color: transparent;\n",
              "    border-bottom-color: var(--fill-color);\n",
              "    animation:\n",
              "      spin 1s steps(1) infinite;\n",
              "  }\n",
              "\n",
              "  @keyframes spin {\n",
              "    0% {\n",
              "      border-color: transparent;\n",
              "      border-bottom-color: var(--fill-color);\n",
              "      border-left-color: var(--fill-color);\n",
              "    }\n",
              "    20% {\n",
              "      border-color: transparent;\n",
              "      border-left-color: var(--fill-color);\n",
              "      border-top-color: var(--fill-color);\n",
              "    }\n",
              "    30% {\n",
              "      border-color: transparent;\n",
              "      border-left-color: var(--fill-color);\n",
              "      border-top-color: var(--fill-color);\n",
              "      border-right-color: var(--fill-color);\n",
              "    }\n",
              "    40% {\n",
              "      border-color: transparent;\n",
              "      border-right-color: var(--fill-color);\n",
              "      border-top-color: var(--fill-color);\n",
              "    }\n",
              "    60% {\n",
              "      border-color: transparent;\n",
              "      border-right-color: var(--fill-color);\n",
              "    }\n",
              "    80% {\n",
              "      border-color: transparent;\n",
              "      border-right-color: var(--fill-color);\n",
              "      border-bottom-color: var(--fill-color);\n",
              "    }\n",
              "    90% {\n",
              "      border-color: transparent;\n",
              "      border-bottom-color: var(--fill-color);\n",
              "    }\n",
              "  }\n",
              "</style>\n",
              "\n",
              "      <script>\n",
              "        async function quickchart(key) {\n",
              "          const quickchartButtonEl =\n",
              "            document.querySelector('#' + key + ' button');\n",
              "          quickchartButtonEl.disabled = true;  // To prevent multiple clicks.\n",
              "          quickchartButtonEl.classList.add('colab-df-spinner');\n",
              "          try {\n",
              "            const charts = await google.colab.kernel.invokeFunction(\n",
              "                'suggestCharts', [key], {});\n",
              "          } catch (error) {\n",
              "            console.error('Error during call to suggestCharts:', error);\n",
              "          }\n",
              "          quickchartButtonEl.classList.remove('colab-df-spinner');\n",
              "          quickchartButtonEl.classList.add('colab-df-quickchart-complete');\n",
              "        }\n",
              "        (() => {\n",
              "          let quickchartButtonEl =\n",
              "            document.querySelector('#df-e985fbe3-9e62-4bb7-ba85-1ed1d93cbf61 button');\n",
              "          quickchartButtonEl.style.display =\n",
              "            google.colab.kernel.accessAllowed ? 'block' : 'none';\n",
              "        })();\n",
              "      </script>\n",
              "    </div>\n",
              "\n",
              "  <div id=\"id_d96f71fd-caaa-47c0-8844-2035f06e033e\">\n",
              "    <style>\n",
              "      .colab-df-generate {\n",
              "        background-color: #E8F0FE;\n",
              "        border: none;\n",
              "        border-radius: 50%;\n",
              "        cursor: pointer;\n",
              "        display: none;\n",
              "        fill: #1967D2;\n",
              "        height: 32px;\n",
              "        padding: 0 0 0 0;\n",
              "        width: 32px;\n",
              "      }\n",
              "\n",
              "      .colab-df-generate:hover {\n",
              "        background-color: #E2EBFA;\n",
              "        box-shadow: 0px 1px 2px rgba(60, 64, 67, 0.3), 0px 1px 3px 1px rgba(60, 64, 67, 0.15);\n",
              "        fill: #174EA6;\n",
              "      }\n",
              "\n",
              "      [theme=dark] .colab-df-generate {\n",
              "        background-color: #3B4455;\n",
              "        fill: #D2E3FC;\n",
              "      }\n",
              "\n",
              "      [theme=dark] .colab-df-generate:hover {\n",
              "        background-color: #434B5C;\n",
              "        box-shadow: 0px 1px 3px 1px rgba(0, 0, 0, 0.15);\n",
              "        filter: drop-shadow(0px 1px 2px rgba(0, 0, 0, 0.3));\n",
              "        fill: #FFFFFF;\n",
              "      }\n",
              "    </style>\n",
              "    <button class=\"colab-df-generate\" onclick=\"generateWithVariable('datos')\"\n",
              "            title=\"Generate code using this dataframe.\"\n",
              "            style=\"display:none;\">\n",
              "\n",
              "  <svg xmlns=\"http://www.w3.org/2000/svg\" height=\"24px\"viewBox=\"0 0 24 24\"\n",
              "       width=\"24px\">\n",
              "    <path d=\"M7,19H8.4L18.45,9,17,7.55,7,17.6ZM5,21V16.75L18.45,3.32a2,2,0,0,1,2.83,0l1.4,1.43a1.91,1.91,0,0,1,.58,1.4,1.91,1.91,0,0,1-.58,1.4L9.25,21ZM18.45,9,17,7.55Zm-12,3A5.31,5.31,0,0,0,4.9,8.1,5.31,5.31,0,0,0,1,6.5,5.31,5.31,0,0,0,4.9,4.9,5.31,5.31,0,0,0,6.5,1,5.31,5.31,0,0,0,8.1,4.9,5.31,5.31,0,0,0,12,6.5,5.46,5.46,0,0,0,6.5,12Z\"/>\n",
              "  </svg>\n",
              "    </button>\n",
              "    <script>\n",
              "      (() => {\n",
              "      const buttonEl =\n",
              "        document.querySelector('#id_d96f71fd-caaa-47c0-8844-2035f06e033e button.colab-df-generate');\n",
              "      buttonEl.style.display =\n",
              "        google.colab.kernel.accessAllowed ? 'block' : 'none';\n",
              "\n",
              "      buttonEl.onclick = () => {\n",
              "        google.colab.notebook.generateWithVariable('datos');\n",
              "      }\n",
              "      })();\n",
              "    </script>\n",
              "  </div>\n",
              "\n",
              "    </div>\n",
              "  </div>\n"
            ],
            "application/vnd.google.colaboratory.intrinsic+json": {
              "type": "dataframe",
              "variable_name": "datos",
              "summary": "{\n  \"name\": \"datos\",\n  \"rows\": 1268,\n  \"fields\": [\n    {\n      \"column\": \"edad\",\n      \"properties\": {\n        \"dtype\": \"number\",\n        \"std\": 11,\n        \"min\": 19,\n        \"max\": 87,\n        \"num_unique_values\": 64,\n        \"samples\": [\n          70,\n          77,\n          45\n        ],\n        \"semantic_type\": \"\",\n        \"description\": \"\"\n      }\n    },\n    {\n      \"column\": \"estado_civil\",\n      \"properties\": {\n        \"dtype\": \"category\",\n        \"num_unique_values\": 3,\n        \"samples\": [\n          \"casado (a)\",\n          \"soltero (a)\",\n          \"divorciado (a)\"\n        ],\n        \"semantic_type\": \"\",\n        \"description\": \"\"\n      }\n    },\n    {\n      \"column\": \"escolaridad\",\n      \"properties\": {\n        \"dtype\": \"category\",\n        \"num_unique_values\": 3,\n        \"samples\": [\n          \"superior\",\n          \"secundaria\",\n          \"primaria\"\n        ],\n        \"semantic_type\": \"\",\n        \"description\": \"\"\n      }\n    },\n    {\n      \"column\": \"default\",\n      \"properties\": {\n        \"dtype\": \"category\",\n        \"num_unique_values\": 2,\n        \"samples\": [\n          \"si\",\n          \"no\"\n        ],\n        \"semantic_type\": \"\",\n        \"description\": \"\"\n      }\n    },\n    {\n      \"column\": \"saldo\",\n      \"properties\": {\n        \"dtype\": \"number\",\n        \"std\": 2690,\n        \"min\": -1206,\n        \"max\": 27069,\n        \"num_unique_values\": 946,\n        \"samples\": [\n          1148,\n          -247\n        ],\n        \"semantic_type\": \"\",\n        \"description\": \"\"\n      }\n    },\n    {\n      \"column\": \"prestatario\",\n      \"properties\": {\n        \"dtype\": \"category\",\n        \"num_unique_values\": 2,\n        \"samples\": [\n          \"si\",\n          \"no\"\n        ],\n        \"semantic_type\": \"\",\n        \"description\": \"\"\n      }\n    },\n    {\n      \"column\": \"ultimo_contacto\",\n      \"properties\": {\n        \"dtype\": \"number\",\n        \"std\": 347,\n        \"min\": 5,\n        \"max\": 3025,\n        \"num_unique_values\": 646,\n        \"samples\": [\n          1006,\n          1060\n        ],\n        \"semantic_type\": \"\",\n        \"description\": \"\"\n      }\n    },\n    {\n      \"column\": \"ct_contactos\",\n      \"properties\": {\n        \"dtype\": \"number\",\n        \"std\": 2,\n        \"min\": 1,\n        \"max\": 32,\n        \"num_unique_values\": 21,\n        \"samples\": [\n          1,\n          24\n        ],\n        \"semantic_type\": \"\",\n        \"description\": \"\"\n      }\n    },\n    {\n      \"column\": \"adherencia_inversion\",\n      \"properties\": {\n        \"dtype\": \"category\",\n        \"num_unique_values\": 2,\n        \"samples\": [\n          \"no\",\n          \"si\"\n        ],\n        \"semantic_type\": \"\",\n        \"description\": \"\"\n      }\n    }\n  ]\n}"
            }
          },
          "metadata": {},
          "execution_count": 15
        }
      ]
    },
    {
      "cell_type": "markdown",
      "source": [
        "con esto separamos las variables explicativas y la varibale respuesta"
      ],
      "metadata": {
        "id": "HqL0VOnuZRv9"
      }
    },
    {
      "cell_type": "code",
      "source": [
        "X=datos.drop('adherencia_inversion',axis=1)\n",
        "y=datos['adherencia_inversion']"
      ],
      "metadata": {
        "id": "hRAqFK0NA845"
      },
      "execution_count": 16,
      "outputs": []
    },
    {
      "cell_type": "code",
      "source": [
        "X.head()"
      ],
      "metadata": {
        "id": "it_i0dxpA82F",
        "colab": {
          "base_uri": "https://localhost:8080/",
          "height": 206
        },
        "outputId": "7ddbdd71-1498-4f1d-b06d-4c96ec62b9e1"
      },
      "execution_count": 17,
      "outputs": [
        {
          "output_type": "execute_result",
          "data": {
            "text/plain": [
              "   edad    estado_civil escolaridad default  saldo prestatario  \\\n",
              "0    45      casado (a)    superior      no    242          no   \n",
              "1    42      casado (a)  secundaria      no   1289          no   \n",
              "2    23     soltero (a)    superior      no    363          no   \n",
              "3    58  divorciado (a)    superior      no   1382          no   \n",
              "4    50      casado (a)  secundaria      no   3357          no   \n",
              "\n",
              "   ultimo_contacto  ct_contactos  \n",
              "0              587             1  \n",
              "1              250             4  \n",
              "2               16            18  \n",
              "3              700             1  \n",
              "4              239             4  "
            ],
            "text/html": [
              "\n",
              "  <div id=\"df-fbeeb00b-e92c-416c-b666-3e0f09fae91d\" class=\"colab-df-container\">\n",
              "    <div>\n",
              "<style scoped>\n",
              "    .dataframe tbody tr th:only-of-type {\n",
              "        vertical-align: middle;\n",
              "    }\n",
              "\n",
              "    .dataframe tbody tr th {\n",
              "        vertical-align: top;\n",
              "    }\n",
              "\n",
              "    .dataframe thead th {\n",
              "        text-align: right;\n",
              "    }\n",
              "</style>\n",
              "<table border=\"1\" class=\"dataframe\">\n",
              "  <thead>\n",
              "    <tr style=\"text-align: right;\">\n",
              "      <th></th>\n",
              "      <th>edad</th>\n",
              "      <th>estado_civil</th>\n",
              "      <th>escolaridad</th>\n",
              "      <th>default</th>\n",
              "      <th>saldo</th>\n",
              "      <th>prestatario</th>\n",
              "      <th>ultimo_contacto</th>\n",
              "      <th>ct_contactos</th>\n",
              "    </tr>\n",
              "  </thead>\n",
              "  <tbody>\n",
              "    <tr>\n",
              "      <th>0</th>\n",
              "      <td>45</td>\n",
              "      <td>casado (a)</td>\n",
              "      <td>superior</td>\n",
              "      <td>no</td>\n",
              "      <td>242</td>\n",
              "      <td>no</td>\n",
              "      <td>587</td>\n",
              "      <td>1</td>\n",
              "    </tr>\n",
              "    <tr>\n",
              "      <th>1</th>\n",
              "      <td>42</td>\n",
              "      <td>casado (a)</td>\n",
              "      <td>secundaria</td>\n",
              "      <td>no</td>\n",
              "      <td>1289</td>\n",
              "      <td>no</td>\n",
              "      <td>250</td>\n",
              "      <td>4</td>\n",
              "    </tr>\n",
              "    <tr>\n",
              "      <th>2</th>\n",
              "      <td>23</td>\n",
              "      <td>soltero (a)</td>\n",
              "      <td>superior</td>\n",
              "      <td>no</td>\n",
              "      <td>363</td>\n",
              "      <td>no</td>\n",
              "      <td>16</td>\n",
              "      <td>18</td>\n",
              "    </tr>\n",
              "    <tr>\n",
              "      <th>3</th>\n",
              "      <td>58</td>\n",
              "      <td>divorciado (a)</td>\n",
              "      <td>superior</td>\n",
              "      <td>no</td>\n",
              "      <td>1382</td>\n",
              "      <td>no</td>\n",
              "      <td>700</td>\n",
              "      <td>1</td>\n",
              "    </tr>\n",
              "    <tr>\n",
              "      <th>4</th>\n",
              "      <td>50</td>\n",
              "      <td>casado (a)</td>\n",
              "      <td>secundaria</td>\n",
              "      <td>no</td>\n",
              "      <td>3357</td>\n",
              "      <td>no</td>\n",
              "      <td>239</td>\n",
              "      <td>4</td>\n",
              "    </tr>\n",
              "  </tbody>\n",
              "</table>\n",
              "</div>\n",
              "    <div class=\"colab-df-buttons\">\n",
              "\n",
              "  <div class=\"colab-df-container\">\n",
              "    <button class=\"colab-df-convert\" onclick=\"convertToInteractive('df-fbeeb00b-e92c-416c-b666-3e0f09fae91d')\"\n",
              "            title=\"Convert this dataframe to an interactive table.\"\n",
              "            style=\"display:none;\">\n",
              "\n",
              "  <svg xmlns=\"http://www.w3.org/2000/svg\" height=\"24px\" viewBox=\"0 -960 960 960\">\n",
              "    <path d=\"M120-120v-720h720v720H120Zm60-500h600v-160H180v160Zm220 220h160v-160H400v160Zm0 220h160v-160H400v160ZM180-400h160v-160H180v160Zm440 0h160v-160H620v160ZM180-180h160v-160H180v160Zm440 0h160v-160H620v160Z\"/>\n",
              "  </svg>\n",
              "    </button>\n",
              "\n",
              "  <style>\n",
              "    .colab-df-container {\n",
              "      display:flex;\n",
              "      gap: 12px;\n",
              "    }\n",
              "\n",
              "    .colab-df-convert {\n",
              "      background-color: #E8F0FE;\n",
              "      border: none;\n",
              "      border-radius: 50%;\n",
              "      cursor: pointer;\n",
              "      display: none;\n",
              "      fill: #1967D2;\n",
              "      height: 32px;\n",
              "      padding: 0 0 0 0;\n",
              "      width: 32px;\n",
              "    }\n",
              "\n",
              "    .colab-df-convert:hover {\n",
              "      background-color: #E2EBFA;\n",
              "      box-shadow: 0px 1px 2px rgba(60, 64, 67, 0.3), 0px 1px 3px 1px rgba(60, 64, 67, 0.15);\n",
              "      fill: #174EA6;\n",
              "    }\n",
              "\n",
              "    .colab-df-buttons div {\n",
              "      margin-bottom: 4px;\n",
              "    }\n",
              "\n",
              "    [theme=dark] .colab-df-convert {\n",
              "      background-color: #3B4455;\n",
              "      fill: #D2E3FC;\n",
              "    }\n",
              "\n",
              "    [theme=dark] .colab-df-convert:hover {\n",
              "      background-color: #434B5C;\n",
              "      box-shadow: 0px 1px 3px 1px rgba(0, 0, 0, 0.15);\n",
              "      filter: drop-shadow(0px 1px 2px rgba(0, 0, 0, 0.3));\n",
              "      fill: #FFFFFF;\n",
              "    }\n",
              "  </style>\n",
              "\n",
              "    <script>\n",
              "      const buttonEl =\n",
              "        document.querySelector('#df-fbeeb00b-e92c-416c-b666-3e0f09fae91d button.colab-df-convert');\n",
              "      buttonEl.style.display =\n",
              "        google.colab.kernel.accessAllowed ? 'block' : 'none';\n",
              "\n",
              "      async function convertToInteractive(key) {\n",
              "        const element = document.querySelector('#df-fbeeb00b-e92c-416c-b666-3e0f09fae91d');\n",
              "        const dataTable =\n",
              "          await google.colab.kernel.invokeFunction('convertToInteractive',\n",
              "                                                    [key], {});\n",
              "        if (!dataTable) return;\n",
              "\n",
              "        const docLinkHtml = 'Like what you see? Visit the ' +\n",
              "          '<a target=\"_blank\" href=https://colab.research.google.com/notebooks/data_table.ipynb>data table notebook</a>'\n",
              "          + ' to learn more about interactive tables.';\n",
              "        element.innerHTML = '';\n",
              "        dataTable['output_type'] = 'display_data';\n",
              "        await google.colab.output.renderOutput(dataTable, element);\n",
              "        const docLink = document.createElement('div');\n",
              "        docLink.innerHTML = docLinkHtml;\n",
              "        element.appendChild(docLink);\n",
              "      }\n",
              "    </script>\n",
              "  </div>\n",
              "\n",
              "\n",
              "    <div id=\"df-8c085be0-b3fd-4f16-9058-8b0c8a442cfb\">\n",
              "      <button class=\"colab-df-quickchart\" onclick=\"quickchart('df-8c085be0-b3fd-4f16-9058-8b0c8a442cfb')\"\n",
              "                title=\"Suggest charts\"\n",
              "                style=\"display:none;\">\n",
              "\n",
              "<svg xmlns=\"http://www.w3.org/2000/svg\" height=\"24px\"viewBox=\"0 0 24 24\"\n",
              "     width=\"24px\">\n",
              "    <g>\n",
              "        <path d=\"M19 3H5c-1.1 0-2 .9-2 2v14c0 1.1.9 2 2 2h14c1.1 0 2-.9 2-2V5c0-1.1-.9-2-2-2zM9 17H7v-7h2v7zm4 0h-2V7h2v10zm4 0h-2v-4h2v4z\"/>\n",
              "    </g>\n",
              "</svg>\n",
              "      </button>\n",
              "\n",
              "<style>\n",
              "  .colab-df-quickchart {\n",
              "      --bg-color: #E8F0FE;\n",
              "      --fill-color: #1967D2;\n",
              "      --hover-bg-color: #E2EBFA;\n",
              "      --hover-fill-color: #174EA6;\n",
              "      --disabled-fill-color: #AAA;\n",
              "      --disabled-bg-color: #DDD;\n",
              "  }\n",
              "\n",
              "  [theme=dark] .colab-df-quickchart {\n",
              "      --bg-color: #3B4455;\n",
              "      --fill-color: #D2E3FC;\n",
              "      --hover-bg-color: #434B5C;\n",
              "      --hover-fill-color: #FFFFFF;\n",
              "      --disabled-bg-color: #3B4455;\n",
              "      --disabled-fill-color: #666;\n",
              "  }\n",
              "\n",
              "  .colab-df-quickchart {\n",
              "    background-color: var(--bg-color);\n",
              "    border: none;\n",
              "    border-radius: 50%;\n",
              "    cursor: pointer;\n",
              "    display: none;\n",
              "    fill: var(--fill-color);\n",
              "    height: 32px;\n",
              "    padding: 0;\n",
              "    width: 32px;\n",
              "  }\n",
              "\n",
              "  .colab-df-quickchart:hover {\n",
              "    background-color: var(--hover-bg-color);\n",
              "    box-shadow: 0 1px 2px rgba(60, 64, 67, 0.3), 0 1px 3px 1px rgba(60, 64, 67, 0.15);\n",
              "    fill: var(--button-hover-fill-color);\n",
              "  }\n",
              "\n",
              "  .colab-df-quickchart-complete:disabled,\n",
              "  .colab-df-quickchart-complete:disabled:hover {\n",
              "    background-color: var(--disabled-bg-color);\n",
              "    fill: var(--disabled-fill-color);\n",
              "    box-shadow: none;\n",
              "  }\n",
              "\n",
              "  .colab-df-spinner {\n",
              "    border: 2px solid var(--fill-color);\n",
              "    border-color: transparent;\n",
              "    border-bottom-color: var(--fill-color);\n",
              "    animation:\n",
              "      spin 1s steps(1) infinite;\n",
              "  }\n",
              "\n",
              "  @keyframes spin {\n",
              "    0% {\n",
              "      border-color: transparent;\n",
              "      border-bottom-color: var(--fill-color);\n",
              "      border-left-color: var(--fill-color);\n",
              "    }\n",
              "    20% {\n",
              "      border-color: transparent;\n",
              "      border-left-color: var(--fill-color);\n",
              "      border-top-color: var(--fill-color);\n",
              "    }\n",
              "    30% {\n",
              "      border-color: transparent;\n",
              "      border-left-color: var(--fill-color);\n",
              "      border-top-color: var(--fill-color);\n",
              "      border-right-color: var(--fill-color);\n",
              "    }\n",
              "    40% {\n",
              "      border-color: transparent;\n",
              "      border-right-color: var(--fill-color);\n",
              "      border-top-color: var(--fill-color);\n",
              "    }\n",
              "    60% {\n",
              "      border-color: transparent;\n",
              "      border-right-color: var(--fill-color);\n",
              "    }\n",
              "    80% {\n",
              "      border-color: transparent;\n",
              "      border-right-color: var(--fill-color);\n",
              "      border-bottom-color: var(--fill-color);\n",
              "    }\n",
              "    90% {\n",
              "      border-color: transparent;\n",
              "      border-bottom-color: var(--fill-color);\n",
              "    }\n",
              "  }\n",
              "</style>\n",
              "\n",
              "      <script>\n",
              "        async function quickchart(key) {\n",
              "          const quickchartButtonEl =\n",
              "            document.querySelector('#' + key + ' button');\n",
              "          quickchartButtonEl.disabled = true;  // To prevent multiple clicks.\n",
              "          quickchartButtonEl.classList.add('colab-df-spinner');\n",
              "          try {\n",
              "            const charts = await google.colab.kernel.invokeFunction(\n",
              "                'suggestCharts', [key], {});\n",
              "          } catch (error) {\n",
              "            console.error('Error during call to suggestCharts:', error);\n",
              "          }\n",
              "          quickchartButtonEl.classList.remove('colab-df-spinner');\n",
              "          quickchartButtonEl.classList.add('colab-df-quickchart-complete');\n",
              "        }\n",
              "        (() => {\n",
              "          let quickchartButtonEl =\n",
              "            document.querySelector('#df-8c085be0-b3fd-4f16-9058-8b0c8a442cfb button');\n",
              "          quickchartButtonEl.style.display =\n",
              "            google.colab.kernel.accessAllowed ? 'block' : 'none';\n",
              "        })();\n",
              "      </script>\n",
              "    </div>\n",
              "\n",
              "    </div>\n",
              "  </div>\n"
            ],
            "application/vnd.google.colaboratory.intrinsic+json": {
              "type": "dataframe",
              "variable_name": "X",
              "summary": "{\n  \"name\": \"X\",\n  \"rows\": 1268,\n  \"fields\": [\n    {\n      \"column\": \"edad\",\n      \"properties\": {\n        \"dtype\": \"number\",\n        \"std\": 11,\n        \"min\": 19,\n        \"max\": 87,\n        \"num_unique_values\": 64,\n        \"samples\": [\n          70,\n          77,\n          45\n        ],\n        \"semantic_type\": \"\",\n        \"description\": \"\"\n      }\n    },\n    {\n      \"column\": \"estado_civil\",\n      \"properties\": {\n        \"dtype\": \"category\",\n        \"num_unique_values\": 3,\n        \"samples\": [\n          \"casado (a)\",\n          \"soltero (a)\",\n          \"divorciado (a)\"\n        ],\n        \"semantic_type\": \"\",\n        \"description\": \"\"\n      }\n    },\n    {\n      \"column\": \"escolaridad\",\n      \"properties\": {\n        \"dtype\": \"category\",\n        \"num_unique_values\": 3,\n        \"samples\": [\n          \"superior\",\n          \"secundaria\",\n          \"primaria\"\n        ],\n        \"semantic_type\": \"\",\n        \"description\": \"\"\n      }\n    },\n    {\n      \"column\": \"default\",\n      \"properties\": {\n        \"dtype\": \"category\",\n        \"num_unique_values\": 2,\n        \"samples\": [\n          \"si\",\n          \"no\"\n        ],\n        \"semantic_type\": \"\",\n        \"description\": \"\"\n      }\n    },\n    {\n      \"column\": \"saldo\",\n      \"properties\": {\n        \"dtype\": \"number\",\n        \"std\": 2690,\n        \"min\": -1206,\n        \"max\": 27069,\n        \"num_unique_values\": 946,\n        \"samples\": [\n          1148,\n          -247\n        ],\n        \"semantic_type\": \"\",\n        \"description\": \"\"\n      }\n    },\n    {\n      \"column\": \"prestatario\",\n      \"properties\": {\n        \"dtype\": \"category\",\n        \"num_unique_values\": 2,\n        \"samples\": [\n          \"si\",\n          \"no\"\n        ],\n        \"semantic_type\": \"\",\n        \"description\": \"\"\n      }\n    },\n    {\n      \"column\": \"ultimo_contacto\",\n      \"properties\": {\n        \"dtype\": \"number\",\n        \"std\": 347,\n        \"min\": 5,\n        \"max\": 3025,\n        \"num_unique_values\": 646,\n        \"samples\": [\n          1006,\n          1060\n        ],\n        \"semantic_type\": \"\",\n        \"description\": \"\"\n      }\n    },\n    {\n      \"column\": \"ct_contactos\",\n      \"properties\": {\n        \"dtype\": \"number\",\n        \"std\": 2,\n        \"min\": 1,\n        \"max\": 32,\n        \"num_unique_values\": 21,\n        \"samples\": [\n          1,\n          24\n        ],\n        \"semantic_type\": \"\",\n        \"description\": \"\"\n      }\n    }\n  ]\n}"
            }
          },
          "metadata": {},
          "execution_count": 17
        }
      ]
    },
    {
      "cell_type": "code",
      "source": [
        "y.head()"
      ],
      "metadata": {
        "id": "RYamYUlpA8zi",
        "colab": {
          "base_uri": "https://localhost:8080/",
          "height": 241
        },
        "outputId": "439ad438-eafd-44bd-ff29-06d73386224f"
      },
      "execution_count": 18,
      "outputs": [
        {
          "output_type": "execute_result",
          "data": {
            "text/plain": [
              "0    si\n",
              "1    si\n",
              "2    no\n",
              "3    si\n",
              "4    si\n",
              "Name: adherencia_inversion, dtype: object"
            ],
            "text/html": [
              "<div>\n",
              "<style scoped>\n",
              "    .dataframe tbody tr th:only-of-type {\n",
              "        vertical-align: middle;\n",
              "    }\n",
              "\n",
              "    .dataframe tbody tr th {\n",
              "        vertical-align: top;\n",
              "    }\n",
              "\n",
              "    .dataframe thead th {\n",
              "        text-align: right;\n",
              "    }\n",
              "</style>\n",
              "<table border=\"1\" class=\"dataframe\">\n",
              "  <thead>\n",
              "    <tr style=\"text-align: right;\">\n",
              "      <th></th>\n",
              "      <th>adherencia_inversion</th>\n",
              "    </tr>\n",
              "  </thead>\n",
              "  <tbody>\n",
              "    <tr>\n",
              "      <th>0</th>\n",
              "      <td>si</td>\n",
              "    </tr>\n",
              "    <tr>\n",
              "      <th>1</th>\n",
              "      <td>si</td>\n",
              "    </tr>\n",
              "    <tr>\n",
              "      <th>2</th>\n",
              "      <td>no</td>\n",
              "    </tr>\n",
              "    <tr>\n",
              "      <th>3</th>\n",
              "      <td>si</td>\n",
              "    </tr>\n",
              "    <tr>\n",
              "      <th>4</th>\n",
              "      <td>si</td>\n",
              "    </tr>\n",
              "  </tbody>\n",
              "</table>\n",
              "</div><br><label><b>dtype:</b> object</label>"
            ]
          },
          "metadata": {},
          "execution_count": 18
        }
      ]
    },
    {
      "cell_type": "markdown",
      "source": [
        "## Transformando las variables explicativas"
      ],
      "metadata": {
        "id": "lAwB5Nv6n6S0"
      }
    },
    {
      "cell_type": "markdown",
      "source": [
        "Los algoritmos de aprendizaje automático no comprenden datos en formato de texto, por lo que debemos transformar los datos a un formato numérico para que el algoritmo pueda interpretar la información. Esta transformación debe realizarse de manera que no altere la información original del conjunto de datos, por lo que no basta con simplemente cambiar los valores a números aleatorios."
      ],
      "metadata": {
        "id": "twG9GNHPKIky"
      }
    },
    {
      "cell_type": "markdown",
      "source": [
        "![image.png](data:image/png;base64,iVBORw0KGgoAAAANSUhEUgAAAoUAAAErCAYAAACo1/nXAAAgAElEQVR4Aeyd519T2fr2z59ypvfe7L333sexIb33LoIKAoIISEeKiL33LvYu9t67jm3mzDm/58X1fK6FwcBAEsdk751wv9ifQAg72VfuvdZ33W39q7jmHuQQDcQGxAbEBsQGxAbEBsQGWrYN/EsMoGUbgHz/8v2LDYgNiA2IDYgNiA3QBgQKxVMqnmKxAbEBsQGxAbEBsQGxAYFCWR3J6khsQGxAbEBsQGxAbEBsQDyFsjKSlZHYgNiA2IDYgNiA2IDYgISPZWUkKyOxAbEBsQGxAbEBsQGxAdqA5BTK6khWR2IDYgNiA2IDYgNiA2IDAoWyOpLVkdiA2IDYgNiA2IDYgNiAeAplZSQrI7EBsQGxAbEBsQGxAbEBCR/LykhWRmIDYgNiA2IDYgNiA2IDtAHJKZTVkayOxAbEBsQGxAbEBsQGxAYECmV1JKsjsQGxAbEBsQGxAbEBsQHxFMrKSFZGYgNiA2IDYgNiA2IDYgMSPpaVkayMxAbEBsQGxAbEBsQGxAZoA5JTKKsjWR2JDYgNiA2IDYgNiA2IDQgUyupIVkdiA2IDYgNiA2IDYgNiA+IplJWRrIzEBsQGxAbEBsQGxAbEBiR8LCsjWRmJDYgNNLSBsv33UXngARYelEM0EBsQG9DfBjgeaTVOS06hrI40MzatjFrepyHkiB5vp8eaU0+w5cxTbK59gk1y/E0D6rLtzFPsPP/73/4mer2xmW1nn2LHud+x5fSb50SfhlpsOV2n0dbTT8WWmhlrqNG2s79rNk8LFAoUamZsAidvByeilz56nbr5CscvPceuE4+x7egjORppsPP4Yxy7+AxX7vyB7cdEn+Zs5MTl5zh34yX2nHoiNtTIhkya7a19ivM3X2H/maeiUTMa7Tv9FFfu/6nZPC1QKFCombEJ5OgDOaL72+l+5NoLLK+5h3nLryFjyRU5GmmQveIalu68C07oWcuuij6N9KHNZC69gpU197DlyCPkr74uGjWhEXUqXncDmw49ROmGm6JRMxqVbryJk9dfaDZPCxQKFGpmbAInbwcnopc+egkUWgZhgULL+ggUWtfHtNgSKLSulUChQJpAmtiA2ICONiBQaHmiEii0rI9AoXV9BApt10igUMfJQDwz+nhmRHfR3Ug2IFBoecISKLSsj0ChdX0ECm3XSKBQoFC8RGIDYgM62oBAoeUJS6DQsj4Chdb1ESi0XSOBQh0nAyN5K+SziPdMbEAfGxAotDxhCRRa1keg0Lo+AoW2ayRQKFAoXiKxAbEBHW1AoNDyhCVQaFkfgULr+ggU2q6RQKGOk4F4ZvTxzIjuoruRbECg0PKEJVBoWR+jQuGcxZeRtuiiOuZUXzJECxipPrZuSwKFAoXiJRIbEBvQ0QaMBIWpVReQUHgMkdn7EJN7ADMWnNJ9MtcTCtMXXURSyUlEztvb5BGVsx9x+YeVTmlVF3TTyih9CgmCKZXnEJ9/GCFzdsJ31kZ1BKdvR1zeIaRUngVfY/Lcaf2oFxTOWXwJSaUnEZW9r6Edvb7PEoqOIbn8DNINAM8ChTpOBkbyVshnEe+Z2IA+NmAkKOTEPSa4HJ3HJKP3pEy4T1uF9MX6enn0hMKZZbVwT1iNTqNnNXl0Gzcb/aZmY3zEIgSlbcf04hPKM6Y17BgBCgk004uPw2fmBgzynI9Wg+PxTc9QfNsrFL8MilU6eSauxbTCo9ALoPWCwtkLz8MraS26jE1pYEe8z3pOmINhfkWYOm0VIuftA21OT8+qQKFAoXiJxAbEBnS0AaNAIT04PjPXo83Qafh3qyn4uIMXuv2aipnlp3Xz7BCu9IRCQs7IwFKlBzV5r7UbPmjngQ9fHx+0dVfPvd9mKr7rE45hfsWIzj2guV5GgEJ6u0YFleGbniF1OrX1wMcdvdVBvajdp519MdSnANE5+3XxiukFhfSQcuFAe6m3o7buypb4HO3n006+6DhyBiZELUZi8XHdPKoChTpOBuKZ0cczI7qL7kayAaNAIb0ZowLL8GW3gPqJ68cB0Qifu0dzyDH3tBkFCgk1n3X2Q4eRM9Bx1Ez12GpQHL7qHqQgkZM9oaf/1BwwDG9+DY7+WW8o5PWODalUWlCHTzr5oO2w6RjiW4ShvkXoMCIJH3f0UWD4WRc/5Y1mWN7RujQ+v1Gg8JOO3qDtUJdfBsbii26BeP/1AuPzLv4Y4V+iwsl6hNoFCgUKxUskNiA2oKMNGAUK4wsOo9fEjHpvBif3L7sH4tfwKs0nb/PJ3ChQ+FF7L/SeNBfJFWcU9M2uPKfyDRk27jM5C5909FEw/UO/SIRm7NJUM72hMCB1K9oOT1TQR6gZ4JFbH0pPW3QBSaUnMNgrD5918ce/W7uh/YhE+KVs1txbaBQo7DhqBsIyd6v8S3oF/VM2Kxv6uIN3HTh39oNb/ErMXnhOUzvifSdQqONkYCRvhXwW8Z6JDehjA0aBQu8Z69FqcJwKZTHcxzApQ8jdx6drPjEZFQr7TJ7XIB+Onhx6yZhH13ZogoJCeg4ZAjS/Bkf/rCcU8vqH+BSBMEhvKvPmWFBh7uXiz1E5+9BmWIJadPC1Y0MrFRQ5Whvz8xsFCpmjyuIlfjZqQy89fx/kmafuP4aTWw2ORUzuQc3BWaBQoFC8RGIDYgM62oARoJCtQ0YElOLLboHK4/XzgBj8PDAG77Weih/6RmLmglpNIcd8IjeSp7AxFJo+Z3jWHgXP9K5+0S0AY0IqNNVLTyiMzz+CLmNSFOwxvD4yoBT0Dpq0MT3yuQEe8/F1j2AVhmdYmRW5pr9r8WhEKDRdN+E6KH07fuwfrRYXXJhNjlmGWeVnNNVIoFDHyUA8M/p4ZkR30d1INmAEKGTFI0PHH7X3xLe9w1ReHKtq6bH4omuAaiuiV7sMo0MhdWHrFZOnkIUWHgmrNZ3I9YTCkDk70HpIvAKZ7/uGY1Lssmavna2OvGdsgHvCGoRn1SgPmQmKtHg0MhTy+lmsM8A9R2nJBUZft3nqOS20Mb2HQKFAoXiJxAbEBnS0ASNAYdjc3Wg7LEF5BtuPSFJQwxAoc5wYQu4/NbtJ749pInHko3Gg0BM9J2SoSZoersTiE4iZfxAMuxOo6SUjVHceM0u1XXGkJo3PrScUeiauwY/9IhXIsA2N14z1zUIhAZoeMYZL6Z3OWGy9mXLja32X340OhbPKT2NizJJ6KOS9GJt3qFk930WL5v5XoFDHycBI3gr5LOI9ExvQxwb0hkJO1GyXwX5yDFkRAGPnH0TA7C34vm+E8hZ+3ydcNWg2zxNrblKx9/NGgUJ6TakH9Rngnqu8qYRBtvBhRS2PruNmw3vGugb5dPbWo6nz6QmFk2KW4rveYQpkWHHsl7xJU4hpSo/mnjM6FBKWWYBDLyGPH/tHIWJejab2JFAoUCheIrEBsQEdbUBvKGQ1LRvosqcc8+HGhS1UO0+w316P39LV5EQPGPOdmsoVa24CttfzRoFC00Td3ONX3QMxyCtPc88OddYTCidGLVEpB9SlDgo3CxQuaegBbdyn0LzQxPw+ofeUO8GYbIypHAzPK69qo3Oa/589fxYo1HEyEM+MPp4Z0V10N5IN6A2F9ETUFZW4qepjhkPpEWQfOfaee78Nm+u6Y4hPARjesucEZMu5jAKF77WZqgpxOoxMAluK8GDPQnoKv+oRBLasYRiVRSZaF+YIFDaEsObsyuieQlOxiQkKv+sbrtobpVdf1Oy+EygUKBQvkdiA2ICONqAnFBL+fg1bqGDn363c0GXcbPglb1bblXFP3ylxy8FGu2w1wh07uEWZ1iFko0AhvaU9JsypzylUeYUlJxCZvVc1G+aWbtTpm14hamu85sDEEc/rCYWskP2uj4SPLX2vtnoK2ZeQ7Y1MUPjL4Li/tfex9D72+JtAoY6TgZG8FfJZxHsmNqCPDegJhcxh6jIuRXm5CDTMYeo9MRMDPearo+dvc+qbMjOnLihtm+a7dRgHCr3QXEsatmUx9ZirKzZJ1syzQxDQEwrpWf6pf5QCGVYhe8/c0Oy1MwyaWnUeqa8LTbReYBjdU8guAGwWb4JCeqO5H7k9YM/WcwgUChSKl0hsQGxARxvQCwo5IdPz932fCOXhUhNRazf1MwHRdJgmKD6ODFigeW85Z4BCwjWrtelVpU4svLB1ErbH6/SEwtDMXSqETnthDtzE6CXNXnvE3D2qfQ9Bku1pGC61x/Xbeg6jQyHvR+6OY7rnBnrkKa+9rddnj9cJFOo4GYhnRh/PjOguuhvJBvSCQlYdE2Q+6+yrJiG2nvm8a4Dah5V7sZoO7j5hmqTYtiY276CmE7lzQOE5/BaxSHlcGYb/rne4phrpCYXsrddtfBo+bOepWvIM8c5vsjAiueIsek+eq3Y+oTd1qG8hZpZpm6NqZCik95SV25938VP3G7dN9JmxQfNdXwQKBQrFSyQ2IDagow3oBYX00nQZm6za0NDLwzYrfrM2IWTOLrNjJzymr8GH7T3VRPVVj+DXVcjaJb4bHQrpcQ3J2Iluv6Yq7yrhqOOomS0GChkSHhW0QBXb0I7YWy84fcffrp/P/TIwpq4hercAjI+obhIe7eHtau4cRoVCVvWzup97QisPfZupqr1RQoH2ObwChTpOBkbyVshnEe+Z2IA+NqAHFBJkmL/EfXo5CbFydkrsclVdnFZ1Qe3vy0eCI0Na3BOZr6M38bfIatWzsLmJ197PGwcKPdF9fBq4pR1DnzwYOnWLW4Fuv87GJ5186sC5ezDYpsXeOlg6n56eQn4utk3pMqZugfFpJ190/y0dAanbVOgzsfi4Ah5CM71ftKMuY2er1istNaew3fDp8Ehco2woMG2b2ge63fBE5Wll7i57hvqnbFG5l5a+d0f8TaBQoFC8RGIDYgM62oAeUEjY8521SU1CDA2zwCQobXuTlcXJ5WcwIqBE7W3LCZ09DdnD0BETUlPnNAoUch9o9nFsPWSayqFjK5rWg+PBxt6EnX+3dlNbArJIZ3rxcc30oWZ6Q2FyxVlMnbYK3NGENkIw5EKi89hkdB2bop7/tJOP8hL+MigOUxNWY1aFtnv6UiejeAqZsvHTgGhlR78MisXXPYOVN55hddqUW/wKsH+o1tBMjQQKdZwMxDOjj2dGdBfdjWQDekDhrLLTr6tl3ZV3q/ekuWrLtqagjKEthv5MIWRCUEDKFjAnsanX2/s5o0ChKa+ywWNrN6ULw+rsWTgqqFx5f7SezPWGQn7niSUnMTl2OTqMSFJQSDik1+uDtu4KmLnjC8Pqk+OWY3rxCU1sp7EtGgUKzW2IPUCpDWGZCwq2pNGjH6hJK4FCgULxEokNiA3oaAN6QGFK5Tk1gQ/2zsdgr3xVEUpQNE0M5o8EHP5tqG8RBnnlY7h/CSLn7UX6IteHQnpr/GdvUTuVcLeSxgf1G+5fjN8iFyNg9lZMLzqui3fHCFBIO0kqPaXCniMDF6j9oOkp7DI2BVx0jA4qU1ryNemLtbEdczvmz3pBIfMumWrABvCNbYgFN2NDK+GZuFZtL8m0jcafW8vfBQp1nAyM5K2QzyLeM7EBfWxADyjkBJ5ccVZ5JOiVYEsVa96tWeVn6l/P8LO119trItPTU8hr5LVSo+YOhte11KMpXY0AhabPRQ8ytYqZf1DtxhGauVtt/cfntPIumz5L40e9oJCfw6RLYzviwoNNq/XWxqSVQKFAoXiJxAbEBnS0AT2g0DQBOMOjnlDoDPrwMxoJCo2smZ5QaGRdzD9bi4HC0r33IIfralCi46QuHjZ9PGyuortAoeV9awUKLesjUGhdHxP0CBRa16pFQGHZ/vtYeuQhVh57gOVH5XA1DVYdf4jKA/chYChw5oygKFBoeaISKLSsj0ChdX0ECm3XqEVA4frap7hw5xlu33uIqzduy+FiGjx68hw7zz9B+f77EgYVj6nT2YBAoeUJS6DQsj4Chdb1ESi0XaMWAoVPcPDkRezctg2rV6yQw8U0OF1bi62n7qLigEChM3rKWvpnFii0PGEJFFrWR6DQuj4ChbZr1GKg8MCJC9i+eTNWLl0qh4tpUHvyJLaeuiNQKF5Cp/MSEogFCi1PWAKFlvURKLSuj0Ch7RoJFLoYILVE6BUolFxCZ/Y2ChRanrAECi3rI1BoXR+BQts1EigUKHR6z6lAoUChQKHtg75pgnSWR4FC69+ttKSxrhHtXaqPreskUChQKFAoYVenDLs6Mwiaf/Zj119i85FHqNxyC2WbbsrRSIOFW29j06GHOHHpOSo2i0bN2ci2o4+w//RTLN5xR2yokQ2ZNFu26x721j7Fij33RKNmNFq55x7O3n6l2ZzwL/PBUKuf19c+geQUum4upXgKxVOo1VjiiPc5efMljp2/h91HrmLnwctyNNJgz5GrOHHuLq7deoJdh6+IPo30oc3sOnQFtRfu4cK1h9h3/Lpo1IRG1OnAiZs4f/UhDp68IRo1o9HBUzdx7f5LgcKWmIvnKtcsUChQ6AhY0+qcJ28+x8nac9i/dx9qdu+Ro5EG1OX0qVpcv3oVe/fUiD6N9KHN7N1dg7Onz+DypUs4uP+AaNSERtTpyKHDuHjhgnqUe63psebo4SO4fveRQKGrAFJLvA6BQoFCrQDOEe9z7Nrv2FNzAGtWrHD6VA5HjD9rV65Eza5dOFtbi9XLl4tGTaQ8rVq2DPtranD8yBFsWLNGNGpCI9rmpvXrcezwYWzZuFE0akajrZs24eL1OwKFjhjM5JzahKwFCgUKHQFrWp1ToNDyOCFQaFkfzjMChdY1Eii0TSOBwmZo2VmBbnFVNYqLylFUWIaS4gosq17s8isigUKBQq0AzhHvI1BoebISKLSsj0ChdX1M87l4Cq1rJVDoQlC4YslSzEjJxeedPPF+azd8280HObklWLZ4iUuDoUChQKEjYE2rcwoUWp6oBAot6yNQaF0fgULbNRIodCEoLFtQCa+QFPy71RR1fNzOHcFR6Vi0cJFAobSd0SxHRCuYcpX3ESi0PGEJFFrWR6DQuj4ChbZrJFDoQlCYmVWEgeOj66Hw/TZuGDg+BoRF003hio/iKRRPoTMDokCh5QlLoNCyPgKF1vUxzXsSPraulUChi0DhiiVLMH1WNlr1DaiHwvdaT8EPPf0wN6sIS104t1CgUKBQoND6YG+aGJ3tUaDQ+ncrhSbWNaLdCxRa10mg0EWgcGFFFXzDZuPTjh74qJ07furlVx9CDo2Zg8qKKpf1FgoUChQKFFof7J0NBk2fV6DQ+ncrUGhdI4FC2zQSKHQRKMzOKcHwyfF4r7Ubvuvhi8l+M/Bh26mgt3DYxDgUFZULFEpeoeQVGtAGjBo+ZueCqsoqVOuck2wkKFy2eLHq7pA6Jx9JKbmYlTof83KKUVG2EMt1LOgzEhQuWbQYxcXlSM8oQGJyrip+zMrWXyMjQSFthWldmVmFmDE7FzNnz0fG3EKUllSANmZaEOnxKFDoAlDIquNpM7PRYVAwmEfYeWgI0jML8GMvPwWFrfsFgPmGeg5ajjRu8RSKp1A8hbZ5Aazdh5yQCDgcLyLiMhAQmYb5eaW6TlJGgEKm55SXLUR4XAbGuiegz5hIdB0Whh4jwzFkQiy8Q1MwJ7MQ1VXVumhlFCgk1MQnzcN4r0T0VRqFotuwMAwaHwOPwGQQprnQsGaHjvq7EcLHVZWLkJScqxw3A36NRrfhYergz1P8ZyIpOUdXjQQKXQAKF1UugndICr7s4qXa0YyeOg0LSisx6LcYBYkMKfNGddUqZIFCgUKBwn8OhQQeguDceUWIS5qnxhKCzi99/NF+UBDSMvJ1m8QJB3pDIfUh7PiFp+Kn3v74oO1UfNR2Kj57narD37/r4YPhk+OUV2zxIu3B0AhQuKC0QnW76DQkBJ908FA6UaNPO3ioFmmcn/qPi1K570x3chT4WTqv3lDIOZgLi+4jwvBZJ08VzaM+PD5qN1XN4VxoRCfMhR52RO0ECl0ACtmLcNikOAWAP/fxR3h8pgLA4Oh0ZWjvtZqCqQGzVDNrSzeMs/5NoFCgUKDwn0EhF5RpGQUIjExXi0iCIBeRjDiwtdUvff1bPBRWVVSpSfrrbt4q8vJ1V2/lKRzlNg2Df4tBm/6B+Li9Oz7r6Kk0ZDhZ67FUbyhkqkHs9Cx0HBysUpgIgD1HhYMOihFT4lUUi9DD9CZ6xBjJ0iNypScULl+yRN1rjNx90MZNQSG9zSOnxGP4pDh0GRqq7j0uMtoPClZpCXpsPiFQ6ORQuGLpUrW67zgoGIS/rsNCMS+nRFUbZ84rxBedvdRA1mtUhAoJMdSs9YDl6PcTKBQoFCh8+/uaHrCs7CI1ZtBr8UGbqfikvXudl0egsH6czM4tQf9foxQkU59fPRORm1cCervKyxciIj6jHoZ+6OUHv/DZ9f/r6LHPdH69obCkpBwj3abho/buyus1aHy0ghp6xgjV3FShdb9ABUOE6qDIdPW86fNr9agnFFYvrMYEn6S6RVdrNxVeT06dr0LFFeULVV4h52nO4wRDj8BZysa00sb0PgKFTg6FdDG7BczEl5298GG7qRg6MRZLFlWjLgemUg1WLDjhKjc2cR64DZ7py3eVR4FCgUKBwreHQnpqktPm4/sevirt5Ofe/iq8x3y5b7r7iKdw6VI1jjLH64vOnsp7yvBx7vzSBrtEVZYvVPlh9BYSGuk95Pir5fiqNxQS+ujpone53cAg5TVsfP0TvJPUPEVvIT2IeTrkquoFhbzXCgoWKI8pgY/2xBAxQdGkE3MN+Ry7h1AjOnoKC8s0tyWBQieHwtz5JaphNd3RrDr2CEpW4Ef4W1ixEOM8EtXKjUbm5j9TVYWZjNBVHgUKBQoFCv8BFC5ZohL/2fCe7azy8xco2EmYma0WkxI+XorK8ir4h6cq2OFk3XdsFFhdaz52csIPjExT+WDUjAV/WhdT6A2FtJ8fevoqnZg32FRxUlziPPzYs65VWvcR4apy21xHLX7WCwrZJ5i5uYRBdgRhmJ1FN+YhdBZ5MazOFDDaEUPwKen5ysmjhTam9xAodHIonDajruqYRqQ8gl29lVHRsLiq/aqLl0ry5d/7jInAnMyCBgOayRCc+VGgUKBQoPDtoZD3PPOcCDnMXTJ5twQK32jJAhP3oGQ1SdMLOGJyPJY2gkICILcX5STOcbbtgEDlFdJyTNUbChmtYliY109PKXUzv35CUXD0HFWQw9cQnGlnJpszf60jf9YLCnmPse0MFxa8/l6jI1Tqhvm1svUTN6Cgc4ev+aSDu6pS1jq6J1DoxFDIgdwnJKV+hUZDokeQSeKmg7/zeR40tsj4TM1XHuaG74ifBQoFCgUK34DMu95jAoVvtFRQGNg0FHL8ZaRmku8MMJfw/ddjLXeVYs+5d/0e3ub/dYdC/6ahkIuOstJKuPnPwPc9fesLmOi0iIjP1Lwnn75QmKsKPzkX91ZQWFeQRDAuKS6Hf0QqmMJhKvKiRzE2MUvzriEChU4MhSXFFRg+KV61RuAqlpWCLGfv2eigx5BeRB6TfWe4XBWyQKFAoUDhG5B5G5ho6rUChW+0bA4K6fmiTgPGR6utRNmCxRwK0zMFCunhYoiU1cbMUf28U11eJqGIc1JYXAaWatyo2WhQSDtiyHjM1ATl3PmkvYeqZDc5cmKmZ4EdApq6Tx31nEChE0NhSloeOg8JVSsLrk4ZwmCvsaxGh2dQMr7pVpc43m9slCqLd5RB6XFegUKBQoHCNyDzrvegQOEbLZuCQu5EERyVji7DQpX3i4U5PEzhU47FLRkK2R+Xc1DUtLnoOryuH1+XoSEY7zUd33SrCzELFEaA8zc9gZyTGcVjSH2MewJoPwKFDt56an3tExw4cQHbN2/WlLjfdXC29P+m0DFd8jQgGhY76jf1P5lzC1UvLbqj6Z7mTgXLdNySqanP+C7PCRQKFAoUvgGZd7mX+L8ChW+0NIdC9tnrMSIcv3klgr3m2J9wrMd01W7FJ3S22kGKY3FLh0JWzVIjPn7b3Uf10E1MzlE6sQ8mNWrpUMim8OxPyD6F3HmMxV7R0+eqLe9YhCJQKFDYJMxZGtzLF1SqrYPqOqG7g+X+zN1o6n/4WvY/4qDGMDOTgvXqKN/U53vX5wQKBQoFCt+AzLveTwKFb7Q0h0KGh7/q6q3aqrC5sG9YKrjnPMOkzI/j5C5QOEU18f6pt58quGGvvXnZxXV9c7MK671gLR0KGUr/qqsX2g8MUr0LGWbnnMw9ogUKHQyEnCxc0VOYnVOsklW5EqNhqaTd6oatEkyTA6vlmAzNFSzd9xO8E12qNY1AoUChQOEbkDHd9//0UaDwjZbmUEjgYy9CLrA53jKMzEIK6twACvsFqDSef6r/P/k/IxWa0FHB/XxDYtJRXvbGUZFpBoW/9A1A5LTMBi1Z/sl1v+3/GCWnkI3iOW9z60T2L2RrGh7mUMiCE247qfX2tJJT6KQ5hewDFRCRprx+IdHpqgrO0g2Smp4Pv7DZ6vXMYygtbdgywNL/Gv1vAoUChQKFb0DmXe9XgcI3WnIPec/gFOUB5CTN8GfqnLy/bQLA/WxNqTwtsSWNe+Cs+rz1tgOCEB6XCbZYMbdFbqdIGCRcM3+O7dTM/67Fz3pCIXcv4aKC10/nTEBEaoPoHqGQNQHtB9aFj9mSJjE5F9UabzghUOikUKjFDeQs7yFQKFAoUPgGZN71vhUofKMlQ3pBUemq1Re7N3QfEfa3alDmZ3OCZ59CtgDrPCSkxTWvpoOCIWMCT+9REZibVfQ34KMzgq17+Bp6W9mY+V1t9W3/Xy8oZJUx2xTV2UhdL8tZqfNVWN10DXxNaka+yrdk/j+jgAwrN26Wbnq9ox4FCgUKNb8x7W3MAoUChQKFb0DmXe8vgcI3WrKHXFJKLr5gO5XWbviuuy9yckpUs2/qzL3nGWJmZS23GaUniNW37/odvO3/6x0+pkbc5o4w07ze3ikAACAASURBVLZ/oOqHa75bB8Fmom9SPTizyjYvb4HmOukFhUwzKC4uV8VJ3H3si85eCI3JaJDbzwUI+wjThmhrXYeFIi+/LrT8tvbwLq8XKBQo1PzGfBeDbep/BQoFCgUK34BMU/fI2zwnUNhQy3k5xeg7NhLvcdeoNm6qbUhRUbkKIXM3E3rAOg8NUR4whpBZifw2etvjtXpDYVFRmaqmJdCwoJFb3XHfXsIgC3GS0/LQYVCQ6pX7RScvBEenax4Wpc56QSHfm57AcR4J9dvO1rWHq/MEMm+QXkE+R08qFxjcllaPglCBQoFCzQcwewyC5ucQKBQoFChsCDLm98fb/ixQ2FDL6oXVSJiRrZovqwm77VR0GByswIcbBbDqmNuXEYjYWqSgoEzzMVVvKKRXMD5pHjq9bqfCJsz0GLK5N0GH1cYMv7/Xyg1DJsT+bYu3t7XRf/p6PaGQXmfugMOCT+anEp5b9w9E39d9Ltv0C1QaffDavnJzS3RpHSdQKFCo+QD2T2/o5v5PoFCgUKCwIcg0d6/Y8rxAYUMtVyxZisryKsRMn6vAkB5DTtwEQU7snOBZcTtwfIzaGECPHrB6QyHtit6usNgMtOoXoLyqDJPWeQ7dlUbUiX0euQew1sUTJrvXEwr5GZYtXoxpM+apYhJCMjWqsyN39TOfa9M/AImzcjTPJTRpJFAoUChQqEFbJGeGFvnsjoXuY9d+x56aA1izYoUh7kWGS7k7EpvrMoSVn6997pdpguLj2pUrUbNrF87W1mL18uW6aEQvD0N5M1JyVUsv5nuxeTX7FQ4aH6OKUXJy63oWmn92rX42AhTyWgnPKel5ym4IgGzyzWrkfuOi4B+eqqprCY8Eba20MX8fvaGQn4Xb1rHoxCs4Re2Ew2r1dgOD1M+ewclq2zut29CYayRQKFCoy81pboTv+rN4Ch0LLQKFjtXXaFDIcCmT4pnkzlwx5oS96z36Lv9vBCjk52dRyZJF1SgqLENmVpHyCnIXKcJgedlCzXvumWtqFCjkZ2IeYUlxuQJAtqFJzyhQTb65iQJ34jL/3Fr/bAQo5DXTm7ygtEI19ubexzy4GGPRkt4aCRQKFOp6k9pjUBAodCy0CBQ6Vl+jQaE97kl7nsMoUGjPa7L3uYwEhfa+NnuezyhQaM9rsve5Wg4UnryIHVu3qvADQxByuI4Gp0+dwtZTd1Fx4D4EYBwLMKKv/fUVKLQcShQotKwPoUCg0LpG1Emg0LpOLQIKN55+itrLd3Cm9jSOHDwsh4tpcOvmTew8+1CgUHIjnXJRIFBoeaISKLSsj0ChdX1M3jSBQutatQgo3HTmKW48fIVnz17hyZOXcriYBn/+57/Ye+mZQKFAoUChC6bDCBRan8jFU2hdI/EU2qZRi4DC9bVPcPXBH3j6+3/w8PGfcriYBq/++D/UCBQ6JRBJOPoexFNoebISKLSsj3gKresjnkLbNWpRUPhEoNAlgVig0P55bgJr2mkqUGh5whIotKyPQKF1fQQKbddIoNDFvGYt0RMqUKgdwAgs2l9rgULLE5ZAoWV9BAqt6yNQaLtGAoUChU7vPRQotD+oCPxpp6lAoeUJS6DQsj4Chdb1ESi0XSOBQoFCgUIp0JB8RB1t4Pj1Zzh8+Di2bd6MzRs2yNFIg+1btuDIoUO4fOkSOGGJRn+3kS0bN+L40aM4e/o0dm3bJho1siGTzezZtQtnamtRs3u3aNSMRnt378aVW9q1d/uXHh4IU6GJ5BS6ZpGNeAq182rpcf+6+nueufMKDx4/x4MHT3D//mM5GmlAXZ4+fY6Xr/4UjRppY24vv//+Ai+ev8KjR0/FhprR6dGj3/H8+Ss8fvy7aGRBo4fP/qOZo0CgUDyTdvdMChQKFDozOJ6+/QqPnv2Fp8/+wpPf5WisAXV58fJ/+PM//080smAfL1/9D3/8+X/4Xeyo2fvo2fO/8OrP/+HZi/82+5rG9tfSfn/2/L949OK/AoUtsUDDVa5ZoFCg0JmhsPbWSzx48h88euKanvx3HWeoi5rM//g/uy8o3/WzGen/n734Cy9f/RePn0jrtea+F0YLX7wiEIpGljR6+PwvgcLmBDLy83fuv8C1W09x5cbjvx1XbzzBtZtPcfPOM9x/+MqlB1OBQoFCgULXBUqBQtu+W4FC6zoJFNqmkUChk4Z0T1+4i5LqnUjOWfG3IyVnJTIK16GoajvWbj2Os5fu494D14RDgUKBQoFC64O9kRe4lj6bQKFt361AoXWdBApt00ig0EmhcM/BCxg0eRb+3WrK3473Wrvh807eaNU/FMOmpmBOwVrUHLqIG7efuZzXUKBQoFCg0Ppgbwm8jPw3gULbvluBQus6CRTappFAoQtA4cftPfBT32B0GRGLLiNi0GlYtALCr7r64v02bvi8szf844qwY9853Ln/0qXAUKBQoFCg0Ppgb2Tws/TZBApt+24FCq3rJFBom0YChS4AhW0HhWPanMXYsfccttecxbptJzC/bDM8IvLwXc8ABYZfdvXFzHnLcfbiPYFCHfvSOTPAyGe3P4BLoYnliUqg0LI+JqAWKLSuk0ChbRoJFLoAFHYfHY/SxTsbwN6DR3/g9Pm78I4uwFfd/FSIeWLQPGyrOdvgdaZBxVkfxVNof1AR+NNOU4FCyxOVQKFlfUzjtkChdZ0ECm3TSKDQRaGQgwXBsLBqO1oPCFNQOMx9NlZvPipQKJ5CzVoOCGBaBkyBQssTlUChZX0ECm3ThzoJFFrXihoJFLowFPJGyKvYglYDQhUUjvXNwMadpwQKBQoFCg1iA0aAQi4eT5y5herV+8HOBTGzq5CUtQxlS3fj8Mnruo4XRoZCtv46VnsTF6481FUjjvNG8RRevvYYG3ecUsWNUSkLEZO6CPmV23Dk5DXcufdCV52MAoW37jzH9r1nkV26EbGpixCXVo2css3Yuf88bt97rrtGAoUuCoX3Hr7C3sOX8Ktfpio0+ayTN6JTqtQgZlpdusKjhI8te6LEU2dsffSGwnsPXqroAdNMuo6MxU99glUe8g+9g9BhaBTG+M7BotX7dGtpZTQovPvgFQ4ev4q8iq3wiSmEZ2Q+lq8/pOtEbgQo5MKCoBM+oxw9x07Dz32D8W3PAGVLrQaEYcDEmZhbvAGnzt1RESw95h4jQOHRUzcUBPabkKSKQZnz/32vQOW46T8hCXHp1Thz8Z6uGgkUugAU/tw3RA1OXHnMK9mIOQXrlOGN883ANz388UUXH7iHz8f67Sdcri2NQKGxoUeg1PL3oycUciJfufEwfvXLUBP4h+3c1XjRZlA4CIUftJ2Kzzp5oc/4RFQsr9Fl7DACFLJjw7HaGyhcuE0trLnQ7jQ8Gl9380OXkbF/y+fWA3j09hSy5Vnw9AXKbj5s665aorUbHIE2A8JAu+LRYUgk5uSvRe25O7pAtJ5QyHvt/OUHCEwoVTBIPb7o7AMC8y/9Q0GnDZ9rPTAMsWmLcPHqQ9x/9IfmOkn42EmBkIOOeZ9CtqT5sU8QOg6LRsehUeDN+EPvQHzSwRMftJmKER6pWLzmAC5ff6zbCsRRA6VAoWXoECgztj56QSEnqYtXH8EtNEfBzacdvTDWZ47y5lSt2oeCyq3wjsoHn+dkRS/GoePXNPcY6g2F9GzRwzUpaB66jYrDdz0D8XEHT7AXLHvEth8SieLqHZpP3o3HUz2h8OqNp5g9fzXaDopQCwnqlJq3BotW70flihpEzqpU3jC2R+v3WxKWrjsI7sjV+Boc/bueUHj3wUuUVO9Q+f3vt5mqFhXx6YuxcOVelC3bo8LI7QZHqvm6zcAwVK3cq8siTKDQVaCwg4dy17NHIY/Ow2PANjVc5RMKe/86HTOzlmPfkcugcTr65tPy/AKFxoYegVLL349eUMj0knVbjytPDgGn19hpWLBkF5gnx/v31t3nKjds8ORkBT8cR0oXv/m7Vve43lDIbg0DJs5QGlAnelAJNoy+CBTWFS7QQfFbQBboIfylXwgIO5euPVZ2xMXH8dM38au/KY3JC4mZy3Dmgvat0fSCwroF2ENMDMpSi6xPOnqpXMujtTeURrwXD5+4hqjkhQqq6aH3jMxT7eP4v1rda3wfgUIXgcJf+ofAN7ZIhTcY4iio3Ias4g2ImFmB3uMSlCH+3C8EiZlLJafQIAUGAkuWYaml6KMXFNJTkzR3Kb7q5qvgJjihVOXKmU9A5y89wKx5K9TfCUBBCaUqJ8z8NY7+2QhQOMorTe0e5RVVgOSclcozSA+hQGEdFHIx0XPMNKXHELdktbVqY7vgtqucg6jZlJActZFC49c4+ne9oPDu/ZfYe/gy2g+p86S2GxShvKW3zQpvbt55pnJTmWPIxUenYVFqFzL+r6N1MT+/QKGLQGFTfQr5Rd+4/buq/GozMFzdjL3GJmDhir265CqYG549fxZPocCVMwOkXlBIT+Ck4Gy1YGRYL3X+apXzZLo36aFgDhRzlDmR8xjpmao8GqbXaPGoNxSyKpsL7VWbj6pwO3XhvvO9xiUoTSR8/KcCZW6pShthL1wWU5jbxp17L5WX2TQPDZo0U5fiHL2g8Pbd5wqUuQAj8A2Zkowtu0/j/sM3XkBC4aqNR9F+cATeazUF3I1s9ZZj4PPmWjr6Z4FCF4dCGtCpc3fRf+IMMI+BqxDug2y+QnG0kTn6/AKFAoUChdb7jzW+DwmFY7znqLzjj9q5Y27hepXcztcxnMV8Q/Y0pVfHBIXMKzxw7Kqmk5TeUNhYN/4uUNjQ3qZnLFE57bQTt9Bc1J6/q2zkwaM/1Vyza/8FBE1fgG97BChbohOjfFmN5s4JvaCQ99qqTUfUvUaNxvjMwe4DF+rvI7aoqTl0CfFpixUM8jUftffAkjUHcP3W7/Wva8oW7f2cQGELgEJWMY30TAOLUb7u7ofZ81dpvvqwt+Gan0+gUKBQoLDhJG1+fzT3c5NQeOUhGK46dfY2iqq2g6HAjzt41ENht1HxKi+5uXM64nmBQtu+Wz0LTZqCwvsPX6nCRuZkTgjMArdZpZeMwNNhSJRKcdK62MRoUEhPIXN42dfRP64YX3T2VjUA1IhH+bI9uHbzqUChvQf49bVPcPXBH3UJlE4MgY0HXPPq4+bCxzS67XvPqao5lSTdJ0hV0rHFQuPzOevvAoUChfYeM7Q8n57hY3NPYWbhepy9cA/7Dl9GxMxKfNPdTxVTsKLUNEkJFNYBmngKG4JqQyjMUYsK9trLLFqP73sF4NOOnug0PEalKggU1nkK2aj64pWHyCvfgt6/JqiWNOwg8mPv4Pr7TaDQQQUALREKmfdy684z7Dl4EaO80pXB8WZk1Rxd0s4KgE19boFCgUItIc7e72UUKEzJXYXSJbswKSgb33T3R/vBkapNRkHVtvpJSqBQoLCpMdgcCpmnumLjEVWU9HlnbxUyDZm+AAsW71LN0AUK66BwydoD6v5itTbTujwi8lC8aAf6jk+sv98ECgUK3wrWzD2F3/bwB5N32aCah1tYLkZ7z0GnoVFqdUYv4fc9A5E0dxlOnr39Vu/T1CBgpOcECgUK7Q1qWp7PCFDIPoS9fk1Al5Exqg8f002qVu7D6fN3sXj1/vpJSqBQoLCpsd8cCtkKjYUUX3f3V/1ys0s34fSFe9iyu1a1SxMonILOI2LUri/cyYS9hdmi59CJa9hec1Y5bqgRD4FCgcK3gjVzKGQPMTaZZe8s08Hf+TwPbjuUmrdaNZ/VusS9qUHEns8JFAoUaglx9n4vI0AhF42fqBBfNCJmVWLTzlpcvflUdS+gR8M0SQkUChQ2NXabQyGLluj9mhSSjZWbjuDS1UeqoGTH3rMChR081b3ETSU4T08MzsaiVXWLLxZ/sviE0TzT/SZQKFD4VlDIVgnsFD90asrfjmFTUzDCMxVekflIylymeiKdPHcbrpRLaBqcBAoFCu0NalqezyhQyL1Y2ZmADe5ZhML7iy2tzKGw72+JOHDsyluNU6b79J8+SqFJw/y95nQ0SqEJt21jf9yd+841KGg0h0LueFK2dDdYjNLc9TjieaMUmrA1jV9cMTbsOKkWX0z3YsW/ORRy1xzuCCPVxw4AQ1fNKWT/Iu43uX77ySaPjTtPoebgRbXPJAd3PfZRdMSN3ficAoUChVpCnL3fS08oZE85RhToKQyfWY59Ry83WDheu/VUbcNl8lwM95itwlyN70FH/i5QaHwonJW9Qu3fSzsZ6paCtVuO416jnbPWbjmGjsOilBeMO8QsXXcIDzQu/NQLCtmncP22E6q6mBpxxzFub2cOfNRrx95zKqr3XuspqlMIczNv3JY+hbD3oOuqUOjIgdiZzi1QKFBo7zFDy/PpBYV37r1AXOoi1SqEE1Xw9AV/29HkwuUHSJu/uj6cxbYZWuckCxQaHwrZvojeP9rR4CnJWLPl+N88gMwt/OV1g2sWM7FVjdbzjF5QyJQt9iFsPSBM9QtuOzgCi9ccqPfIUwd65xlu/7FvsFqkdRgaCVYo69G25+Hzv+zOYc2Nqf9q7g+OfF6g0LZBResb1F7vJ1AoUOjI8cPR59YLCu89eKXSSn7pF6omoT6/Tkfl8pp67wVznLbVnMFor3Q12bP5fcHCbbhyvW5PW3vdv9bOI1Bo2/itZ/iYdjLWN0Pt28udTaZnLsXVm3V7aKsdYM7fVU3QmUfHfLpp6YtRe66uwbW179+ef9cLChml4+5AY30y1PWzRQ/3hz5++pYCY4bRuT80deO+xzwmh2SrQi/qZ08NrJ2LGgkUauzCtvalyN9tGwRNOgkUChQ6GtwceX69oJCTDXvJ/eqXoZLeP+vkhcnB2aotDXOd6MkIn1Gu/kYg7DoqFvuPXP5bWNB0HzrqUaDQtvFQTyi8dO0REucuVXsbE2h6jktQCwimMK3bdgKzslfip77B+LCtO9hTl5XteuyqpRcU8t6gtzBnwWal0fut3ZRnNS1vjUr94nZ2qXlr0GVkLLjlJKuSS6p31i/QHHVvNXVegUIBQk1XIU0Z4bs+J1AoUOhIaHP0ufWCQt539x+9QvWqfWBhGr04nNBNbTIY6mMlKXdC4v6++ZXbdJmkBAqND4W0JebDeUcV4Otufviw7VR82cVHVRszj5C74tCWfu5X50U8WntTl3lHTyjkIozeQvfwPPzQO1Dda19180O7IZHq4M/sFML7zysqH+cu3W+wN/K7zpO2/r9AoUChLjenrQZqy+sECgUKHQ1ujjy/nlDI+4seDFYYM/z3Y59glWPIpsOERE5QbJExv2wLuD+rLfejvV9jRCg8e/EeRnikqqbD/X5LRMXyGl20MddaT08hPwd3z2IrI5/oArQdGK728KUd8WAz9G6j4xCfXq28zXq1RdMTCk3f1aHj1xCcUIpOw6NVL8c6jXyURh2HRsE3thiHT1zXrTBUoFCgUPfBzHSz/NNHgUKBQkdCm6PPrTcU8r6ry/u6oyoi49KqERBfrNqK5JVtxt7Dl3QdI4wIhddu/Y6VG4+otirVqw/gyMnrumrE71BvKDSN3+xLuHrzMdWQ2Te2SNlSWv4abNl9Wu3jq3WOnOlz8dEIUMjPwc4hm3bVgrsIBU4rUbu/8GeG29kpxPwza/2zQKFAoa4GaA+DFygUKHQ0uDny/EaAQt6HnKxZfMKqZOZ78aBHhx4ge9yn//QcRoRCtlKhVncfvFSPRmj3ZRQobMqO2B+XxRQPHtkWCv+ntmLt/4wChfyc1IO6mO41k0bWrsHRfxcoFCjUdcC3h4ELFAoUOhLaHH1uo0ChPe5FR5zDiFDoiOt813MaBQrf9Toc+f9GgkJHXue7nLsFQeGfePLsL6cHoHf5sl31fwUKBQodDW6OPL9AoWXvkUChZX1M47pAoXWdBApt08jlW9JsOv0UV++/wKPHz3D//mM5XEyDFy/+QM3F31Fx4L5mDTcdCQly7pYFuQKFlicqgULL+ggU2qYPdRIotK5Vi/AUbjz9BCcv3sbJEydxYN9+OVxMg+vXrmHHmQcChQ7YIlIA1fGAKlBoeaISKLSsj0ChbfoIFNqmU4uAQu5ocuDkRezYuhWrli+Xw8U0qD11CltP3REoFCh0Sk+xQKHlyUqg0LI+AoW26SNQaJtOLQcKT1zA9s2bsXLpUjlcTIPakycFCp0cCAt23cb8bTeQt+OmU4Ldu3hUBQotT1YChZb1ESi0TR+BQtt0Eih0MUBqidArUOj4EOe7QI8t/ztv02XELdiHiPydyFx3oUWBoUCh5clKoNCyPgKFtukjUGibTgKFAoVO7zkVKHR+KExdeRqjw0vRamgsJiVUY+aSE8jZcg3Fe5z/2qxBsYLCp/8B4cc0wcvjGy3qoPC/+OPP/xONLLRQe/7iv3j56n94/PQ/YkfN6ETgefHqf6rgRO6xN/eYuRYChQKFAoVOHnq1Bh3O8HdC4cjQInzQ1l0dPw+Khn/GemSsPY/522+gcPcdl/Ue1t5+ifuP2dj3BR48lKOxBg8fvcTvz/7Eq1d/iUYW7OPZsz/x4uVfePT4pdhRMzo9evIKz1/+hcdPXolGFjR6+Owvzcbbf+kxQalCE8kpdHr4ay40Lp5C5/emmUPhv1tNAQ8CYofRifDP3IA5a8+DeYd6jB+Ofs/Tt17gyrUbOH/uHM6dPStHIw0unj+PWzdu4MG9e6JRI21M9nL+7FncunkT9+7exaULF8SGmtHp8qVLuH/vHq5cviwaNaPRlctXcO/xC83GWoFC8UzaHU4FCl0TCgmG77Vxw8edvNHbPQMxpTXKa+hoSNP6/Meu/Y69+w5i3apVWL18uRyNNFi/ejX27dmDc6dPY+3KlaJPI32UzaxYgYP79uHEsWPYtG6daNSURsuXY8vGjTh+9Ci2bd4sGjWj0bbNW3Dx+l2Bwua8UPK88au1BQpdFwpNXsOPOnji+37hGBKQh7iyfcjfeUuzQcvRkEgo3FNzAGtWrLD7gskVxi+CYM2uXThbW6smcle4Jntfw6ply7C/pgbHjxzBhjVrxI6acb5sWr8exw4fVnBo7+/AVc63ddMmXLyuXbqOeAqbMVZ7GVT1wkWYn1eKeTnFyM4pwdLqxS4/QAgUuj4U1nkNp+KzLr5oMzweo8JLEVNSU1eM4uQ5oQKFlheeAoWW9eHcIVBoXSPqJFBoXSeBQgdDmr1gz5bzrFiyBOkZBeg1KgJdh4ViwLho5M4vwbLFrg2GAoUtAwpNXsP327rjy+6B6DxuJiZOW4TEqqMo2qNduMPenkOBQssTlUChZX0ECq3rY5o/BQqtayVQ6EJQWFm+EAGRaXi/jRveaz0Fn3f0ROS0TFQvrHZpb6FAobGhsGj3XeTvuKW8elkbLquikZRlp5BQeQjRJTUIzt6q2tB0GjtD5RCa4M/a44ftPfB93zD0npoB3znrMHvFaRQ6YTGKQKHliUqg0LI+AoXW9REotF0jgUIXgkKGi4dPjlOVm5xQP2gzFcMnxaG8bKFAoZOHGO3tnbLH+dgmJm/7TWRtvIw5a85h9opaJC06irgF+xFZuAtB2Zvhk7YW7jNXYOK0avwaXYHRYaUYFlSIAd7Z6Dk5HV3GJ6PtiGkqX/DTzj71tmsNCM3//lF7T/wyOBqD/eYjMGsT0ladQcFO56lUFii0PGEJFFrWR6DQuj4ChbZrJFDoIlDI0HFSSi7aDQyqn1jpLfypl7/KLVy2eInLgqF4Cu3rKVSwt+MmsjdfxdwNF5G+5hxSlp9SwBdfdgBRRXsQkrMVfhnr4Zm8SoVwx0aWYXhwIfp7zUP3ianoOCYJvwyJwbd9QvBFN3980skHH3fwwoftPPB+m6l4r7VbvZ2aA967/MzzthoSo5pgRxTswtwNl5wirCxQaHnCEii0rI9AoXV9BApt10ig0EWgkAUmwdHp+KKzl/IQftnFS026H7VzR0xiFhZVLhIobOHeQubd0YOWu+065m26gsz1F5G++ixSltdi5uLjmL7wMGJL9yI8fweC5m2G1+zVmDx9CcZFVyjvXl+Puej2W4ry7H3XNwyfd/PHZ5198UlHb9Bbx76CjoC9twVFfhZCqduMZUiqPqbC1kbOORQotDxhCRRa1keg0Lo+AoW2ayRQ6CJQmJe/AGPdE1Q+4dddvTF8crz6mRPqr57TUVpSIVDoolBYyJy9nbcw/zXszV1/EXPWnAcbQicvO1kPfGpv4cJdCJy7GR7JK1Ue35iIBSrs2nNKOjqMScSPAyLwZfcAfN7VHwznmjx7bwtmRng9K5V7uaWr5tfJy08ZtsehUaFwWfViLFq4SPcOBkaCQnZzKFtQifyCBcidX4q8vFIUF5erRTejNSb40PrRSNXHtJuKsoUoeK0RdSoqKkdV5SIs11EjfidGKTRZvngJKsurUFhYprqFsGMIf+ZzemskUOgiUDh9Vg46DQlRBSYdBgUjLaMAX3X1Vr+37huAednFWLHE9tWC1oPau7yfq4aPlWdv121VpDF/2w3l8WJIlzl89PJxCzh6+rhPMIEvJGcLPGatwPiYSgwNLECvKeloPyoBP/QPV4BnBC+eHrD4cUdvdJs4G+EFO5G14ZLhilGMBIWckBZXVSvwmTuvCAkzs1FUVKYb7HBcMAIUcuxkNCZzbiHcA2eh9+gIcJztMiwUI92mIS4xSy289UrTMQoUsqgxK7sIfmGz0XdsJNoPCkaHwcEYNjEO0QlZCg71bJNmBChcsmgx8vIWIDgqHYN+i0HHwSFq7h78WwxCotORX1Cm60JMoNAFoJA3mX9EKr7q4oVPOrhjyIRYNaj3HBWhvIV8joN7dZVrViE7CxQS8uqP3XfVfr6Fu+6o7dsY1qW3L3/HTVW8kbf9BujxS6o+iuiiPSp/b1LCYowMLUE/zyx0GpuEHwdG4tPOvoYI2eoBe2/7nvR8UruZi48pnY0SUtYbCgk89FxwHCkpLkdc4jwMHB+Dzzt54pe+/kjLyG/xCXnTOwAAIABJREFUUEggZM72F5098R532mnthvdbs8uDm/r9s44eGOUWryZ7PRbfRoBC2k/09LloOyBQpS4xp50aKZ1eFz4O+DUaGXMLsaxaH6+q3lBIb/Ks1PnoOCQEH7ZlbrWZRq2nqOcIiZlZReqefBdnyT/9X4FCF4DC/PwFGOU2TRnUj738EBSVrlz1vmGz6wyv1RT4hKRgQWmlroP7PzVSa/9nVCgs2nNPgR9hL2fLNZXHl7HuApKXncK0ikOIKNwF/7kb4DZzGcZGlWOQb67K2Ws1LA5f9wyqy9Xr4IkP23uqMO4H7dxV3p4q1HBQscbbgpazvZ55jwyPjwovQfLSE4bYGUVPKOQktaC0Aow0jHabhp/7+OPj9u71qScChUuxpKoaM1Jy8U0373og/KVvAHqMCEPHwcEqj/u9Vm4gGA6bFKfCydbGLHv/XW8opB3RhroOD1Wg/GG7qeBc1GNEOLoOD8OXhOnWbq87YsSr4kd7a2DL+fSEQmo0P2+BKgYlEH7Q1k1p1G1YmOor/H1PP1WE91G7qeg0NBTFRWW6gKFAoQtA4fSZOeg8JFStzjoPqVtlcNWWnlmgVvtc2fYZE6lCyLbcOM72GiNAIXvxMaw7a8kJVZ3LViy/xS/EiJAiVZHbbcJstBuVoHL2vukdgq96BCk4YWXuZ138VHj3445eYO89oxRsOBvw2fp5OTl90skbPw2Kwq+xFUhddUbXLfP0gkJOUmxj1W14GL7u5o1POnioSZv6mLQUKFyqcgcZfamDGje1AOeOUVxkl5RUIDR2DtoPClJen596+6lesVqPoXpDYUlxBcZ6TMdnnTzwcTt39Bsbhax5RSpixXz2xFk5CoDoNfymqw/CYueoNAWtddITCrm4cPOfVTcnt3ZDn9GRyvus7Ki4XEF1j5ER6t77pL07vEKSUVVZpbkjR6DQyaFwyaJqeAan4JtuPsorOHhCjEoOZ25QSUm5ynv5oO1UfNfDB9NmzgNfr/WN6Oj3MwQU7rmL7M1XVK++aRUHEZq7DV6pqzFh2iIM8c9Dj0lpdVW7fUJVixaGMlklS6+faQKWxymaacEJnnA+Ib4KaavP6tq6Ri8o5BgxOz0P33b3USE+jiG9R0eqfLlvu9X1jGzpUEhwnpk6X42vBJrvuvuAuZZcdJvGNYIhi/no/SFYD50YW/8302sc/ag3FDIk2n1EmALnNv0DERaXARacmK6buYbjPBJU+J2bK4zznK4KUUx/1+pRLyhkegZzc5mDSjv5srOX6hbCDSd47Uw5YD/hkOg5+Kh9XReHrkPDUFRcDtqgVvrwfQQKnRwKGTrmIESXM9vQjPVIUFVMhUVlyMktQf9xUSocREP0DE7GAhesQjYCFLIZdMGu26rClaHirI2XVCEIGynTe5hYdQTx5QcQXVyDUNXjbwPcZ63Ab3ELMTKsBIP8ctHbLQNdf0tG+1HTVY+/7/uF4+tewar1C72IApDvDo2EQVZW9/fKgl/GBtV/MW/HzRbpKSQUsiCN48cE7yTEJGRhblaRmqzaDqjrd9rSoZCempCYOSqczpBoj5FhKjXHfJLmNqJ+4al1YeTWbugyNFQtzM1f4+if9YZCpiwx9YALWxbh0EvY+Jq5u9b3PX3Vaxi5Sp2jfa6qXlDIRQRzKVUKQms3lXeZnDYf5oVJfA0XaT/08lNeZy7S5swtbLAAaaypI34XKHRyKExMzkHnoXVVx1ylsnk181p4DJkYi1/6+OODNnXhIFOSrx6J0I4wXtM5jQKFtu4SUmDWPoYVxGwdQ3Bkn8D4sv0KHCMKdiIwq25HkKkzl+O3uCrVlHlIQB76emSi24QUtBuZgJ8HReHbPqH4skcg2IKF3kfz8J94H+tAUsFgN3/0mJgK91krVSPu3K3XdPUQmuxFL0+h8k4sqFRJ7QUFZaq6ll4JFqUxV46209KhkKE9r+AUpQVzLQnQrB41jT3UkDmZk3yT8GlHD/U6AnVRYXn9a0yvdeSj3lDoHpisvKm0mUHjY1Bc1PD6F1VWwTuEES1vpRGLKWhnWnvB9IJC2gwhkEWf1Ihe1cysQqww44+FFVWIjM9UqRx8Dedz5rKyG4AjbafxuQUKzb6UxuIY/Xe6pH3DUlWuBo2IlUwEQHoFTQdd9fwbDwJizPQslwshOxsUmmDA2iM9j9xGTu0ssv6S2kqOO4vQ6xi7YB/C8naobd08U1ZhSuJSjI9diJGhxarvYF93guNs1cS59bA4/NA/Al/1DGoQum4J8MhrJCy3H52I8bGVqnVP7tbrunoGG3/vekFhc+ObQOGb1l3MhyPwqEm6vTtGTI7H0tdQyPGX/eXoJewwKEiF4Pm61v0CkDWvWNOJXG8odPOfCfbH5fWztYqpLy6hr7ysUnmf2TKN+YYmjaKmzW3gKWvOHu35vJ5QOHN2roro8fqVNzW7zkaoEfWiJ7XnyHAw3Yuv4dwdnzRPc6+zQKETQyFzEFgxyNYRDB/TNW/qecQb0HR838NXQeKnHTxUjy2ubO15o+l9LleFwsbw0NzvbGfDPobcpYTVzWkrz6iG1XFl+xGeT4/jJnjOfr0dXXS5Kn4Z5JOD3m5zlMex07gZKmTdZni8Kr74rm8ovupJz6MfPurgpGFrBYN+aDMsHvSuBudsUT0Km9NQz+cFCt9AWFNjiZ59CpuDQraomZNZgIk+SSo6wzGYC3FO5q36BiA9s1DTMdZwUFhcrlqgsT8uPYQEZUKjKWr1U29/lXe4dPEbr2tT3729nzMaFDLHn2le7BTCIlFWsHMXMtoRDzpxtN6NTKDQiaGQ1cWsHOSN9kNPX4z3SgQrkVnpZX7wefYwZBUyXfsZWdoOWPa+sRufr6VDoU1As6du1xN6ybgn8JzX+xknLjqC2NJ9YLg6OHsLvNPWYHIit7Yrf72XcZYqkuk8bqYKV9PryKpdbnPHCmrm57GSl1XTRsl5/KiDJ77vH44BPtnwz9iA2StOq3xPm3TSYdcbgULngULuFEVQnD4zW42lhBsWDzCP0LS1aEuHQs4xrM5m6HPklHh81cVbgTM9iCywIOwIFEao/MGUtDy1ExlthuDcd0wkfujpJ1Do6MF6fe0THDhxAds3b9Z09dYYXuz5O0MXAZFp9aHj3qNoZE0n7jKZnEZnWsVGJczVpf+RPa/f/FwChffsGg417aRiCl1zFxDmPU6vPITIot0IyNqk9hUeF1WBYcEFqiF01wkpapu8VkNj8dPAKLBIhtW9zHX8vGtdyx3CGnstOgoeGSpmiJyfhXmY3OKPPSIdPb686/kFCp0DCunBYYFEQEQa2g0IUlXbzNNms2+f0Nn1Y3FLh0Lmy/mEzUa3EWEKlAnM0QlzkZSSo1KYBAqnqL6E3Bmn16gIpRG9hAERqQqkTfm84il04ArdFaGQpewsJvmsk6dqgjnOY7rqmWUOS6afK8qr6j2KdSHkZM3zFEyfxRGPAoX2hUJbIYe9Gev2XL6h8h7Zp3H2ilpMKz+I8LwdYK9GtnwZEVqE/t7zFKy1HTlNFcc07tVo2meZA+HbHoRB/j+385s4rboOBnWuKLZVQ75OoNA5oJAtab7s4q3SddjXkW1VWFHKQoCI+EyBwtc5hQyBsgUaq2e5jRvD7GxPw8IKk3OipXsK6VX+vLOnAsK+Y6NUj8K6LQKL64u8BAoFCt/Ki8k8BIYtWBH3XQ9fBEamYUlV0/kZ9CqOnpqgQshMYh09dZrag9IRgKbHOQUK9YFCW8GHnkdu38fQNcGR4WsWzCRUHkIUPY9zN6r9mtmK522KX/haNvqmd3BMZBlmLXEOz2Bj3QQKnQMKOUkz+Z/AExSVpvrAcmzlmNcYCtlKRMux0Eg5hbwvuZuJR9AslJrtomUOhT/39kc4exm20JxCFoUSDKf4z1T9GtkeiraUld0QCmMlp9Axk5sregqZs8FNx6f4zVADVE5OicXyfvaEYjIrX88qp6JGLQO0HMDs/V4ChY65bxrDiz1+r9/7mftAm+3/TEgcHlyoIM9WTyF3gxnkm6Pa+bDYxih7Gb+tTgKFzgGFXFC3HxiEufPqvIPmrb3MobBt/0Dk55e2WCjsMCgYsYlZyjtorpE5FPI102bMszhn2Xue4PmMUmjCGgBCcUXZwnoNGkMhHT5JyTnSkuZtB1RbXu+KUMhGl1WVi8DeRosWLmrQPb6pm4l9kkyvZ+WcedPMpl7vTM8JFDoPFDZ3vzJncWRokU1QyBzFfh5zVWX13I2XUbjrtuHzBpu7bj4vUGhcKOSkzZYzXKio5tUjwptMvQmOTq9vyULg4bis5Riqt6eQOZWmxtTcFaepljzcG5nbAFJL5h1ypxgtNeJ76QWFnK/pmGGVOr2EXDhwFxhzTynnZHqYW/Wry/+nJzElPU/zFnJSfezE1cda31BGfT+BQteHQhancHcX9l/0TV+H5GWnVBseS7DlLH8TKDQuFHKiZt9G5skxdMxdO3LmlzRYVBMcJ/vNAPerpXdn4PhozQv59IbC6bOy0WlIXcNzFuHETJ/bAPiWVS/B1IBZ+Ip5h62nqKrk3PklDV6jxfyiFxTSC1hUWKZyKmlHrMJmo2o6dEzXzZ/pYWXTaobgOw4Kxvz8Us1tSaBQoLDeKE3G6WyPAoWuDYUfd/BS2/95JHMnkiNqj+nC3Xec2jtoDqwChcaFQo6FzPNidwe29OKOFBN8ksDtRdk/jr1i42fMU54vFqKwJyz78mk9huoNhYWFZRg2MU71yyVAc+eX+fNLweIJ6pQ2pwBdhoaov7NFDSu4K8u19abyO9ELCvnejNCNdU9Q0EcwZOU6O4ZQH3qW+TOfIxCyyfcknyRUvN4bWUt7EigUKNR8ALO3gQsUuiYUftjeUzWf5k4tMSV7VYGKK8GgCQwFCo0Nhez0EBaboQoDGPpjYd/wyXGY7DtD9YZl65UvOnvik/Ye6Dc2Spc+sHpDIZswM0eu7YBABTXczm7whFhVSDHJdwYYUuY2gB+2dQOrbRlKNRXp2Hs+sHQ+PaFQ7TU+p0BtHWnyFtJeJvnMUHuP9xsbqeyIfYfZszA1Pb9+9xxL12TvvwkUChQKFDqw8t008cujZXA1zyn8pKM32o5IwKjwUoRkb0Xm+otwRRg02YRAobGhkJM5C/OmBs4Cq2a5cwnDxATBzzp6qlxDhgP7j4tSXsPqqjchQXtP2M2dT28o5OfifsfMLWT4mPowB/OLzl74opOn6k1KrXqMCEP09LnKw9rctTjyeT2hkNfF9kXeoSlqtzHmF1InPvLgrmT8nTmpQdHpqKpYBPNCHUfqYn5ugUKBQoFCgULdQ7Fpq85gbFQZfh4UjUF+uQiat0V5Bp21otgEfLY8Gg0KWSU60TdJeb3Y/zQvT9tKWvMJij/ruc2d6bMQDBeUVqoGw0MmxKLz0FBVicwJnA2Iud1dclqe5pWips9nBCgkwBCeWYnNnV+6DgtVO5m0HxSMHiPDQVtKnJXdoOLW9Pm1etQbCnmd3GaWYMxQcvcR4aA+tCP+PMptGri5xMJK7UPrpu9AoFCgUKBQoFB3KMxcdxFB8zbDY9ZKpK4849KewcagaDQoZMJ7UVEZcueXgrlirJw0TRh6PBoBCnndhB5qk5e3AEnJuaooYNqMbMzJLETZgkoQHPXQh+9pBCg0XTtDybQbVtdy7964pHngrlqEITaxNr1Oj0cjQCGvm/cU7zFuc0d94pPmqZxCbqGoR1jd/LsQKBQo1PUmNTfGf/qz5BRaDs02hhAj/m7aGYX9Bo34+Rz5mYwGhf/0PnTU/xkFCh11ffY4r5Gg0B7X46hzGAUKHXV99jivQKFAoUCheApbHIg5EvLe9twChcbOKbTHROvocwgUWrYhk/4ChdZ1ahFQuKH2CQ6evIid27ZhzYoVcriYBqdra7H11F1UHLgvcCOA63Q2IFBoeaIST6FlfQg8AoXWNaJOAoXWdWoRULj5zFNcf/ACT548xf37D+RwMQ1evnyFmotPBQoFCJ0OCOlVFCi0PFEJFFrWR6DQuj7iKbRdoxYBhfQUXn3wB57+/h88fPyHHC6mwas//oeaS88ECgUKBQpdMB1GoND6hC6eQusaiafQNo1aBBRy72NC4RMFhX/i4WM5XEmDV3/8n0ChAKFTAqF4Cq1PVAKF1jUSKLSukUChbRoJFAogOj0kCxQ6f/Xx2xZnuNLrJXxsebISKLSsj4SPresj4WPbNRIoFCgUKBQvm9N62VwBDgUKLU9YAoWW9REotK6PQKHtGgkUChQKFAoUChTqaAPHr/+O/QcOY8PatWr3DkKQHG80oC77a2pw4dw5rF+9WrRpwj7WrVqFQwcO4NTx49i8YYNo1IRGvKe2bd6ME0ePYseWLaJRMxrt2LoNl67f1WxO+JceK3vJKXTtHEoJH0v4WI9xxV7vWXvrBS5euoZTJ07hxLETcjTS4NTJU7h88RLu37+PkydOij6N9FE2c/wErl65ips3b+F07WnRqCmNjp3A2TNncfP6DZw7c1Y0akajc2fP4daDpwKFrlR40dKuRaBQoNBegKbHec7cfYWnz//C8+f/wTM5/qYBdXn1x3/x11//97e/iV5vbOaPP/6LP//zPzx/8Zfo1Mx99OLlX0ojPortvLEdcy2ozeOX/xUobGkg5UrXK1AoUKgHzNnrPWtvvcSDJ//Boyeu7dH/p2MOdXn2/C/wPv+n52gJ//fsxV94+eq/ePyErdfElprSgB1IXrz6r3QisWAfqkvL878ECpsyIHnOOQYWgUKBQnsBmh7nESi0PM4IFFrWxzRPCRRa10mg0DaNHgoUWhfKdOMZ6fHew1e4dfc5bt559reDz9+9/xL3H7JZt3Nen62fW6BQoFAPmLPXewoUWh6fBAot62MaJwUKreskUGibRgKFTgpNKzcewW8Bc9F5eEz90WVELPr8Oh2TQ7KRnr8WB49fU3BoGjhc8VGgUKDQXoCmx3kECi1PVAKFlvUxjekChdZ1Eii0TSOBQieFwsVrDqDXuAR80HZq/fFhW3d81M4dn3b0wjfd/UFInJa+GCfP3MaDR67pNRQoFCjUA+bs9Z4ChZYnKoFCy/oIFNqmD3USKLSuFTUSKHRiKOwxJh7/bjUFX3f3w6Aps+AdXaC8h52Gx+D91nWw+H2vQITPqMC+I5dx98FLlwsnCxQKFNoL0PQ4j0Ch5YlKoNCyPgKFtukjUGibTgKFTgqENHB6Ck1Q2GlYNFLnr8bB41dRc+gS1mw5hukZS/F970C838YNP/YJVh7DIydvCBTq2KhYD+iQ9zQ2NAsUWp6sBAot6yNQaJs+AoW26SRQ6CJQ2H10PEoX76wHvnsPXqmQ8Yx5y/FtzwC819oNfE3F8hpVlGIaSFzhUTyFxoYegVLL349AoeXJSqDQsj6mMVxyCq3rJOFj2zSS8LGTgqG5p7AxFHKgYA7h8TO3MNY3A5918sanHT0RMasCR05dr4dH04DizI8ChZahQ6DM2PoYBQpv33uB85cf4PCJ66g5dFFFHc5duo879/VNOTESFN5/9Aeu3XiKIyfrNNp/9ArOXLynukA80HkeMQoU0iFx9cYTHKu9iT2HLqLm8CWcPn8Xd+69wINH1qHEkXORUaGQczW7hfAedOT123Ju8RTqfCPb8iU19xprUMj/Y9uaOQVr8XPfEJV7OMIjFWu3Htfd8Jq7pn/yvEChsaFHoNTy92MEKLx49RHYzSAldxWCpy+AV1Q+/OOLkTR3GRau3AvCoV6FakaAQl779Vu/q7FzTsE6hExfAM/IfPjGFmHanCUqAnP01A0QiP7JGGaP/9EbCgnFl68/xtY9p5FVvAFhSeXwjMxTthSXWo0FS3apBQfbpdnjev/JOYwEhXUg+ALnLz3Azn3nsGz9IWzdc0Y3bUx6ChS6OBTyi1616Sg6Do1SUNhtVBwqlu3R3fBMBmiPR4FCy9AhUGZsffSGwkvXHqF40Q5wwfhVN7/6Tgbvt5mKj9t7oOvIWGQWrcfZi/dx/6H20KM3FBJ26Platu4Qhrgl47POXipPm10fmJbzYTt3dBkRg8TMpThw7IouGnEc1RsKr958iiVrD2JScDa+e52yZOqMQVtqMzAMUckLsevABeVZtcfY/7bnMAIUstiT9sRFBHP/MwrWwS00B8OmpiA5e6Xuc7NAYQuAwgPHrqL76DgFhW0GhqOgcptuq/63vYlteb1AobGhR6DU8vejJxTSs1W+dA+6jorDR+3d8W2PAJV7PGDiDPQcOw0/9glS0PNND39kl27EleuPNQ8B6g2F3Bxg/fYT6D9hhhpDmYpDCKRGbAn2U98QBc+MxsTMrlLhZFvGLXu/Rk8o5GKBGo3zy8AHbd1VulKn4dEYOGkm+k+cgdYDwpQdsVUawZAFkXpsrKAnFNIzSI/7tpqzKF28C2EzypX90J7YQeTnfiHKM29vu3jb8wkUtgAoPH3hrjI+Gt5PfYKVa//Off1zF97WWJt7vUChZegQKDO2PnpBIScp5sP1HZ+oept+1c0X/nHFKkR6/PRNbN97FtMzlikwpEfsu14B2Ln/vObN8PWGwkMnrsEvrkhN3PQKjvJOx7ptJ0CN2OZrVvYKdB4erbyGbAVWVLVDF2+PnlBIbzMh54suPgqQ6fViOPTEmVs4fPI6chZsRttB4coL3WFIJIqqtuPazaea66QnFDI3N71gLbqMjMXH7T2Vt/mj9h5KE4FCjVuCrK99gqsP/nC5TbBtySkkSDHJt9fYBDWo/dg3GFklG3VPHm8O8P7J8wKFxoYegVLL349eUMgwVuXyGhXq46Q0yisNG3acrPfgEBqPnrwBt9BcNXbwNdwl6cKVh5pO5npCIUPHDPH90j9EQd93PQOx++DFBmB86txthM8oxycdvPBVV1+VZ/hPxrF3/R89oXDTzlMY7jFb2Qk9hLllmxrYyO17zxEQX6L66bJFWsTMCgXV73rNb/v/ekIhcylH+6Tjs05eahH2fc9A9BmfiHaDI5Ru4inUEAxbOhQeVOHjuibXbQdFoLBqe4Mb9m1vLKO9XqDQMnQIlBlbH72gkJWOLAagd4fAF5++GCfO3G4wNrAAZW7xhnoonBKSo6pKtRwD9ITCa7d+R37FVuXVYX7lkCnJ4HOERZMG1DE9by2+7e4P5s7xNay0Nf1dq0c9oTBnwSawVy7taLR3OnbuO/+3689fuE2FkfkahpkJklppY3ofvaFwQtA8FVKflrYY67edUBq4h88XKNR6kmrpULhiw2F0eF1o0mN0PBauqNH8ZjTdlI54FCg0NvRofb872/vpBYX0XIz3z1Stqrg9Jr2AbEljfo9evPpQFZlwIucx3H02GE41f42jf9YTChleZ3iY104Pj0dk3t+KJBgGnZ27Gt/1ClSvYy4mw6aO1qXx+fWEwhlzl9d3uJgckv2366dXurh6J5jTTi37T0jCkrUHNM9t1xMK2c6IbXpOnbuDy9ce4/bd56owiRXa1EQ8heIpfOdBw5bwMRPJk3NWqh1NaHhjfedg446T7/zejQckPX8XKBQodDYQNP+8ekLhGO85+KSDpwpnZRauByGQ9zILB06euaXaWZk8QBw/+vw6HezNp+X9ricU1p6/q5L/ee2fd/aGT0xhg15y/HtO2Sb0m5CkCin4OuaMMfdSS434XnpC4fSMJSr3lNfPStra83fU9TMF4cbtZyip3olBk2eBhSZKoxEx6jmtt13VEwpN9xU1MdnGoeNXVdseaiJQKFBYbxgmA3nbR2tQSOM7XnsTIz3T1M3IQY3VcVytvO17Gfn1AoUCheaQ5Ww/GwUK576GQnoQ2S+NhQOMMLC4gpMWDzbJZ3GFluOBEaGQY+uegxfU1qG9xk5TwMhiHGrUeUQMtuw+ralG/D6MA4W5ICyzGTPnmtT5a1QlO9MUTBqxRVrBwm3QuuBRbyhsfN8IFN7Dv/QYsFti+PjeA96QNxCaWKYSyd9v7aZaKBAk2WKhsXE68+8ChQKFeowr9npPI0HhgaNXUL5sDyYGzUPbwRHoPipe/WyCwm6jBArZxJqVtVPD56PdkAj0+y1JtathOx8FhcNjsHl3reZjrJGgkC1n1m8/Ce+oArQfEqmqs6eG59YXNXUYEqVaowkUiqdQoNAsQfldQczcU8gKpvj0alU9yGo5NqPljgTf9mDysxt+6ReKtLw1qD1X59Z/1/c20v8LFAoU2gvQ9DiPEaCQ3sCghFLEp1Vj4KQZaDMoXDUhLly4XRWmCRROUdGW8f5zMa9kI4a5z8ZPfYMx1mcOChduUyHmdoPqqkg7t3AoZDsa7qI1zjcD33T3V/mDrEauXr0fHV8XowgU1hUqiadQPIV2XT2aQyFd8wztcJDizgRsC8BKOA72HODj0qpx6Pg1te2dkYDOHp9FoFCgUA+Ys9d7GgEKOVYwVMxecswhJCBu2lmLK9efqIIAgcIpaizl4ps7c7QeGAaf6AKs3nwUV248UYvw9oMjxVP4uhdujzHxKkducnA2qlbuw43bv2N7zRnV9Ju2JFAoUGgaP8VTaEdP4fL1h9UqjMm75gc7pH/XI0BtbTfaK11VxrEajsnj9oAwo51DoFCg0DTAOOOjEaCQE/WXXX1VuwwWpjFvsK5I4PcGUNhzTAL2H2mZhSbU6KN27ug6KlYtsrmlHRsSczxkZMYEhdztZHvNWc3HWqOEj9m6h97S6JQq7DIruNmx92w9FNJpUbRoR4N+j1rMK5JT+KaVUnN6U6OHz/+CVmOpQKEdoZCJziwcYf6P+cHqL/Yfy6vYqryDTPhtzgBc4XmBQoFCrQYwR7yPnlDIEB+rj//deooKiZYvq2nQnJr5c4tX71ceMELRwEmzwL6nWo4behaacDeoGVnL1fV/wP17B4SpqtnLaru/N1Wk3KHDFD7uNjpOtRrRUiO+l55QyH2fuVsWbYQ5hCk5q/7W3mjrntOqCIevYXEOG6dr7agQKBTCUoNLAAAdLUlEQVQoVLTrqoUmWg86Rn0/gUKBQkfAmlbn1AsK2SeNjXPZf495xzOzV+D0hXsNgO/qjSdYsGRXPRSO9c3AkZM3GrzG0eOCnlB44coDpOevwXutpyh4JkQzFGp+zew/l1u2WfXp4+v6jJ+Oc5fvN3iN+esd9bOeUJg6f7UKqRP4fvXPbLJt0fJ1h8Et7viaoW4pWLnpiOYaCRQKFAoU2tEz6ajB7F3PK1AoUKgVwDniffSCQoY+GSr+upufmqi9ovKx5+DFBg2Fz1y4B/ag40TOI3Jmpdo2813v2bf5fz2hkNWxC1fWKCBkfna3UXE4dvom2P/VdA3MKUzIXAqm7XAvW4Kz6W9aPuoJheVLd6P3uATVcqb/hBlYsu5gAztiKsLs3FX1/XI9IvPVdoFa6sP3EigUKBQoFCjULDfCEcAg53R94NULChm6Yz89bn3JllXcbYKNmC9ff6Sghtu3bdh+Ep2GRykgZPiUxW0MKWs5mesJhbzObTVnVa4le+wx73Jm1nLQg0jQIRxSIxb4EZp/7BOEuLRFmupj+i70hMJ9hy9jSmiOgmdq5BtXhEvXHisdqNPRUzcxxC1F/Z17RKfmrVFFTKbPrtWjQKFAoUChQKFAoYaN4gVi3x5i9YJCTtaXrj1CcOICfNPDH9zqjrtxBMSXYPb8VYhMrlQ7mNBDRiAc5Z2OU2fvNPAAaTGZ6w2FF648VG1oPm7vqTo6tB4Qptp9peSuUs2rGQolCH3QdqoKi27fq32RCb8HPaHw5p3nSqOOw6KUt5DteqaGzUda/hok567CMI9UfN65rnk1u2OwhyHD7lrYj/l7CBQKFAoUChQKFAoUGtoG9IJCTpb0Fu4+cAF+sUX4vlegCn9+3d1Phfm+7RkAVpIShgg+nMiZh2g+yWrxs95QSG/g0VM3EJO6CJ928lLwZ9KImrHzA4t1Bk6aiZLFO3XbHEBPKHzw6E8cOXVd9cr9pX+IWkR82cVX9XL8sU+w0ogLix6j45FfuRXnLmmfc0lbFSgUKBQoFCg0NBCIZ+3tPWuuppmeUMiJkqC39/AlpOatxhifOarBcKsBoaqKlPvVRiUvxOZdp9UetvQuagGC5u+hNxTyszD/8sjJ68gsXg82sOZWdq0GhCmNCIMRsyqxYuORBpXb5tegxc96QmGdRi9w+MQ15FdsxdSwXHQdGYdf+oeqApQ+4xMROK0UlStqcOrcHdw1y8nUQhvTexgNCk+du61yLYdOTcHkkGzVpsf0WfV6pEbSkqYFgJNeBqbF+0qhiYCVM4Oi3lDIe5Qew9Pn76qG1ZUr9qK4egfKl+3Gms3HFAyZF1ZocU+bv4cRoNCkEUPJ2/acwcKVe1VrGlZmEwa5McCN2/puH6o3FJo0unT1kepPuGjVfgU59J4uW3dIVST///bO9C2qK1vj/afcdEY7ptPpvnniFGejEbWTOE9xYkYQRARBQEVAQEQFRQaZZXBKOrmJom3fKBriGBVjh+R2TBsVURHUpNO598O6z7vxECjhVGFVnaF4P9QDSgGH97xn799ae+21sZsdXut+f4383GpQ+P2NdtGOBETLngtN103TRrsPhEICoekm1Mz4tB8JhYRCQqHzZSFXni9kAtHX9PrNDsHO25ZW4zODjtdpFSjsfl2aRtAJWS8zMqjdrwefWwEKtWtSPrrd6SOlUctDwRKz9nWzPloNCs3SQe/3EgoJhaY/qHoGdeVrhEJCIaHQ/AnXlWf1ad5jRSh8mr/D299jJSj09t/6tD+fUOh8nBgQUHio6Z5ca/1JOh78LG33/8WXj2nw07/+Vxq+aZfKxhbWD3JTie08YIXl46edZI34PkKh84kc94FQ6FwnQqFrGvl8TWF9U5t8d6td7rTelVs3W/jyMQ0edDyQE81thEICoe2AEBlOQqH+REUo1NdHA3NCoXOdCIWuaeTzUIhj7hq//FqO1dfLB/v28eVjGly+eFGOXrpBKCQUEgp9sByGUOh8Imem0DWNCIXOdRoQy8eEQt8GYUIhawpZU+h8sNcySnb7SCh07d4yU+hcJ0KhaxoxU+hjmbOBlg0lFBIKCYXOB3u7waB2vYRC1+4todC5ToRC1zQiFBIKbb2kTigkFBIKnQ/2GmTZ7SOh0LV7Syh0rhOh0DWNCIWEQkIh6/FsWY9nZxjUrv3y9UfSev9nuXf/Z7nbxpejBtCl4+G/5cef/o8a6fjjwcNf5NGPv0hbOz3k6CHt3/fbf5aHP/4i9zv+zWetDy9BmzsPfjFsPviNNhAa+ZE1hawpNNJv/F3MXPbHA1duPJLbdzukpeWu3LrVypeDBi0td+ReW7s8fPCj3Lp1h/o46KN5pq2tXdo7Hsjt1nvUqA+NWlvvSUfHI7lzp40a6WjUev8nQuFAq8Pzpb+Xy8eEsP5AmNXee/GfHXKp6ao0njwlJ0+c4MtBg8ZTp6Tp0mX5/rvv5POGBurjoA88c+rECfmq6Yp82/yNnG5spEa9aASdzp4+rTQ6f+YsNepDo/Nnz8q1m3cIhb4ESQPtbyEUEgqtBnr9uZ7z392XEw2N8tHBg7Yu4/DWuPPxBx9Iw2efyVeXL8tfDhygRr2UO324f78C5gtnz8qnH31EjXrRCP48/Mkncv7MGTly6BA16kOjo4cPS/O1G4RCbw1oRv7cg/v2yb7aOtlTWS2V5XukuqpGDtTt9XnzEwoJhf2BMKu9l1CoX95CKNTXB3MModC5RoRC1zQiFPZBy0bCnLu/68DevVJZsUe25RZL0sZciVqzWVbEZkl0QrasT8uTrduLFSAe3OubgEgoJBRaDfT6cz2EQv3JilCorw+h0Lk+2hzLTKFzrQiFNodCgN7u4gqJTdoqk+bEyYsjg+Q/hvh3vV4YESTjZ66WxJTtUl5a5ZOZQ0IhobA/EGa19xIK9ScqQqG+PoRC5/oQCl3XiFBocyisKN8jgVGb5LW3wuW3wwLkhTeDZPCYUPn9uDB5eUyIPD8iUJ4Z6i+vTVgu0fHZUlFW5XPLyYRCQqHVQK8/10Mo1J+wCIX6+hAKnetDKHRdI0KhjaEQ9YMxiVtk6NRIBX6vjA2VP7+fIGuSt0p6Vr5EJ2yWibNj5cWRwfLMEH8ZNjVKktNyVd2h9pD4wkdCIaGwPxBmtfcSCvUnLEKhvj6EQuf6aPMcl4+da0UotDEUFhSVy7uLEhX0vTQqWOYGrpOi4nLZX7dXLRMDGnfvrpDJ8+LlxTeD5NlhAbIoLEWKisp9KltIKCQUWg30+nM9hEL9iYpQqK8PodC5PoRC1zUiFNoYChM3bFfZPywPj3o3WtUN7q+t6wF82ISCDSdYPkat4aS5cZKRvavHe7QHxq4fCYWEwv5AmNXeSyjUn7AIhfr6EAqd66PNbcwUOteKUGhTKATsLYtIlVfHhynYe29xouzYWdIr7OVsK5KZy5JkwqxYmRe0XjbnFPT6Pu3BsdtHQiGh0Gqg15/rsQoUopVVbl6xpGzaoboYbNy0U3U0KDO5DtlKUIjVl127SiU1M1+SNm6X9el5gvG1rLRSHANyI8dRK7ekObh3n1SUV0ldda2Y3QHDKlCIVnG7i8slM3uXJKfmyrrUXMnMLlCrePCYkd5x/F2EQptCYXVVtUxfmiiDRgWrZeHFy1NUb0LHG4x/11TVyI78EjXA78wvlaqKalNN19s1uvN/hEJCYX8gzGrvtQIUIqAMjEyXiXNiZcSfV8rQKVEyYtpKmTBrtSwI2SA524sEgag7z+nTfq8VoBCTeMnuCvFfkSaTZmsaRcrwaVEydkaMzA9ar2C6utKcsdVqUAi90Cs3e2uhRMRmyWz/dWr+2VtjLvBYAQrRPi4mMUfeWbRWrfCh1h+v0e+tkulLEtU+gcryKkHf4ad9Ztz5PkKhScK7c9PwveWlleI3P17tNsaO44DINAV/7v5cO34/oZBQaDXQ68/1mA2FCBTnBa6XP04Ml+eGB8pzI4LkpZHB8sKbwfLs8EB5ZVyoTF2YoMDQjCyG2VCI7FZxcUXXygy6PDw7LLBToxGdtdqDx4bKlAXxkrwxV2r31Bg+mVsBCpERxIEJeTtKJH79NlkUtlEmzo6T/5wUobphpGbuVNlCM+cYs6Gwdk+thK7KUIEX5m08b9gIilZy+BxJnpHvRMuqhGzlI2hqtF6EQptCIaJW9CV8fkSQMlVgVDqhsLHFsKN5+jPp872EVj0PmAmFtdW1XbCDsWT4tJUyc1myLItIkwXBG2TcjNWqrRW+NmNpksqWGb0EaDYUIuO1OjFH/jBhuery8KeJETJzaZLS7f3QFNUH9nejQ2TQ6BDV/WHL1kLDJ3KzoRCwk51TKOGrs2T6kiQFPdAEXS9Qy44gY2PGwIZCZE8zNu+SIVMi1eqeCrYWxMvS8FRZEr5Rpi6Ml1fGhSk4xB6BzTmFpnQKIRQSCg0fwDwd+TBTSOjSgy6rf80sKATc4RSkIX6RqsfpG5MjZXlMpqpNRj9TdClIWL9NLSNrE3tKep7hmTCzoXB73m4VgGNDHzI5ASvSuzQqKalU2UG0/kIGEf1iQ6M3GT6mmg2F8Ao6WwCcO7NfQfLquDC1kqV5ZyBDITJ+qNldELxeATIy8DOWJqpNn+VlVVJWWqXqCwHUzwwNUIEY9MRSs6fnS2c/j1BIKDTcdM5M2d+vEwoJhVYHP73rMwsKsTFiRVyWIKODiRvZr9y83T02A5SWVMrisI3q63jP0vCNalNFf59Rd95vJhSivReOCh00urN2G7WWhYXlPU6GQn13YGSaWgLECVLTFsT3+Lo7f7ur32s2FObu2K1q5P74Vriqk0NtHOossXRMKNyn2sTl7ypVNahoDYfDJZJScnssp6PsAOUHyKoCDFGvuqug1PBaXkKhTaEQg/XkeWu6agpRJI56DlcHEV96H6GQUKgHXVb/mllQuK+mTmb6J6seppiEQqI3qYxF97EBm9JWJmR3QSHq5gBF3d/j7c/NhEL8/ZFxmx9nb4LEb/6aHhM5/nYF17FZ6iQpABCW/pAV8rYu3X++2VBYUFAmy1dlSFBUusp+IfOFzUnQglC4Ty0DZ20pEBwwgWdNLQ9vKegRgKFeN3PLLlXbC81eHhMqmVsKxOjNOYRCm0Ihdrm9u3jt41R0gCxZvlGq+kg1Y9DC4IYj8fARk0H3AcXunxMKCYVWBz+96zMLCjHZILBEvSA2TiBr2H25CpMUNqGgbg6TFF7jZsSolixGjhlmQmFpaZUEr9yk/nYcAIDWXt3HT4ytxUXlavzVMq7YSbqroMzQMdZsKIRXUJ8KPeAN1M9h2Z1Q2LlRBM9aWmZ+13L6pLmxsj2vuMsj0AttjXBCGbKIeNZeeDNQUtJ3KF2NfN4IhTaFQpgEBaqagWYsSxJEa72ZZ2d+iSwM3SDTFiaoug+0CejtfXb9P0IhoVAPuqz+NfOgsFbenovNaoFPQGFdTZ0qdMexmQBGDQoBPH31Q/XW+GEqFJZUSlDUr1A4a1lyFxRiIs/bsVtm+yd3LcFDJ9RoZm8tMnSMNRsKHe89obDnruFOKNypnjV4BM8doBm6abvbQ6Mz5HejOks5tOdt7Ybthm8gJRTaGApxxvEbfpFqwB4zfZVsSMvrkY7WHlS0B0BtBwqh35odq85F1r7mCx8JhYRCq4Of3vVZDQpR24QNJtiJ/NxwtF8JIBQO8VfL7BoUomcjag2ROUVrkd8ODVAvQmEnDBEKXYdCbPZCPW+Xj7oFYYTCBu9Mbp9cvieNX34tx+rrDY3evA1cONcY2T9E+ihOnROwrse5xtjxVFRYrkAQhsPr/bAUKSjsPaPo7ev11s8nFHrnudEDGX7Nc5pbBQrDYjLVEteS5amCncjYNICTklCvrGUumClMFuw4DlgBjVao3bbTFyeqpsPYeUsoJBT2Ns/1lilMy8qXlfHZaon9lbFh6sSxoJWbVDCmPW+EQkJhv6AVO+Ni1m5RyxVol4BBCREHonwcv4QzjyfPXaPaKHQWt65SR+qg9qM349r1/wiFngMUwp7xWloFCifOiVMTE5pYoxYsfHWmYFcpdklqk9RAhkIE3+jbOGV+gjpeFMvEAGZkejC5azttuXzMmkLHudQRCodOjRS/eWtkqF+U/GFCuCADjU0l2Iyi1WHimSMUEgr7DWvFxeWqieprby1Xy8Mvjw5RkIjB+/W3I1R2EECIgSoqbrOU7K4UM7qkOz4knvw3odB4kCE8ek5zK0BhZw++EHl1/HJV7xSXlCPocFCzp0Y2pOcRCof4q12jaFCNVRmcOoGAvLCwTNUYxiVvJRR2K8Xi8rH+8jE2LWFjEo6URM1q7o4Sqa2u6bE5h1DoJSDE5OWry8cAKzx8KPzGzsEp8+PVwPTymBBluMFjQuUNvxWqw3z8um3qqCZkFz0JZFb4WYRCzwEKYc94La0AhZiAkOlaGLxB0jJ2CppXI3jEqkJ3KBz5brTk55caOoZYZaMJwPmlUcFqYwnqCdF0GOMvxsDuUDh0SmTXJgKjxkduNOkJYX3pbtYxd46ZwueHB3YGX8k5gsQOfOQI0qjlTU7NVYFZX3+PN/6fG026RTfeENiIn4miZwziOBYH0StaKGBZI2xVhgAG0ZAWEb+vZQg1bQmFxoMM4dFzmpsHhXUybWG8oOEygAdLWDnbimRvza/lJdh0si711+XjCbNiDW+3YiYUlpdWCXaFAppxCgUyOxhPu7elwTiEY/BQg4n3oekwJnptfDLiI6HQ+lC4KStfNThXAdjECIlNyunRRg5QiFKEEdNWKh8hI23GKTCEQh+AQm3QwdZ2RCRonIqehTiP0uhzSrVrMfIjodBzgELYM15Ls6AQveVwvjEmH0Ahzl9Fz73uzy7GklVrt3QtH2PjSXFxRY/3dH+/Nz43EwpxIAD+fuwuxvFt42eulj0V1T0C7P11dRIRmyVYoUGpzpjpMYZndwiF1oZCPGsIuH4/Pkx5BOVdqZk7e5xtjB6PqClEcIHnEXsE0NoI3+uN56qvn0ko9CEo7Osm+/r/EwqNBxnCo+c0NwsKUUqCZc9XHjfLxUYTZDO0SQiZCxzNNXNZsoJCTFThMZlSWW7seaxmQiFWYVIzdqpaS4AhJuyMzbu6TjVB0I1zf+cFrVeZRAA2zq81eswlFFobCuEjdAsZ/d4qFVwMHhuqAglkouEV+AjlCNgcig1N8BraxxUWlfOYO29MNr5cU2j04GPF30co9BygeOP548/Uvz9mQaFqWVVU3jVRvTgyWGUON28pVI3wsZQVvjpLBo9FdsNf7bjdss34zIWZUIjxrhOMk9RGPtR5vbNorWRmF6hldK2eGz0dkSVE31iU8Bg9ThIKrQ2F8AMygcFR6er4OngFWWfsLsahEzg5KGHDNvV/eNYGjQqWiNWZhjeuxnUyU8hMoeEDmKcHTEKhPnQQyqytj1lQiOcQGQyc7fv62ysU9ODIuyF+UTJp7hoFi4NGYUm0c5JaGpFq+Jm+uEazobCuulZlC/80KUKBn+rmMCVSJs2Jk3EzY9QyH5aWsZt0lj/6GBq7vA6NCIXWh0IEYSjPGDs9RtXxPjs8QHUIQUYQtbqdz2Cg6hgycXasCkbM2BhKKCQUEgq9uPOdQGZtILPC/TETCgEU2GEcEp0hr09eoZa2cPKROqFjGE4zCVS1cjOWJj3ekWx89wKzoRAa1VTVqH6NaDIMAOzSaGjniS9oBfbeorWqbgzvN/plRSjEhhwAEPSCPqihA2AbrU3332fW7uPu17AuLU9wAhlKDZB5Vs/aYx8hW492R+tT87rOke7+vUZ8Tig04QE24sYOpN/BTCHBywpw97TXYDYUYqxAHeG27cUSsnKT+M2Pl9HTY1RN06LQFHUsJr5uVvcCK0Ch0qimTvUljIjNFL/5nZlULAHOD9ogKek71OY+ZF7NGHutBoXwSllplcSszRb/FanKV1gmxRKqGfpov9MKUIhaXdQSJqzbJgi2sDFp7IwY9TmOri0rqexqdaRdt5EfCYWEQlMfUk+YnVBIKHxaILPC91kBCvEcAvyqq6pVRhATOgrfqyqqVUcDTzynT/szrAKFuH5M6MgaogWY0qi0U6O6GnM7PVgNCru02lOjSg7gKzOWQh09ZwUoxDVhYwky9Ni0BR/hhc+t0DGEUEgoJBRy+VisAEcD9RqsAoWOE6hV/m0lKLSKJo7XYUUodLxGK/zbKlBoBS36uoaBA4UXm+VvR4+qglw8QHz5jgZNFy/K0Us3pLKxhXBDwLWdBwiF+jV4hEJ9fTC5EwqdawSdCIXOdRoQUHioqU0ufXtLrly5KufOXeDLxzS49v11+duVVkIhgdB2QIjsKKFQf6IiFOrrQyh0ro+WFSMUOtdqQEDhvrOtcuzKXWm4eluOX7nFl49p8HnzXfnwwh0pO8VM4UBdgrXz300o1J+oCIX6+hAKnetDKHRdowEBhSUNtxQwlJ9qEb58T4OKz1uklEBoyyyZnWHOU9dOKNSfsAiF+voQCp3rQyh0XaMBAYWeGrz5c7jLlR6gBzztAUKh/oRFKNTXh1DoXB9CoesaEQpZh8UMEz1AD5joAUKh/oRFKNTXh1DoXB9CoesaEQpNnAw8nXHgz2MWix6wnwcAhQ0nG9VxbuyK8GRXhP/68EM5efy4XG1qko8OHmTniF66Z/zlwAFpPHlSvjx3Tg59/DE16kUjPFtHDh2S82fPqvN9+aw9+axBk7/W10vztZuGJQp+w0nLfpMW7xnvGT3gPQ+cv9YuX5y5IEfrj0j9p4f4ctDgr/VH5MwXX8g3zd/IkcOHqY+DPsozCnbOyZXLTfLfx45Ro940+vSQnPjsuDRduiwNnx2nRn1o1HD8hPzPP43btEkoZGbSsAiEIOM9kKG2ntP21Lcd8tX1dvn79Ta5ytcTGkCX5h/a5R+tj+Tv1+8/8XVq1umbb292yD9aHsjXP9BHfXmi+Yf7SqPmG+30UR9jzdc32uWrGw8Nm6cJhYRCw8xGcPEcuFBL72lZ2Xhbqr+4LTV86WpQe7pV9+sDXr/Tt6UGGuEjvdS3Bmeoka4/TneOR0aN+YRCQiGhkB6gB+gBeoAeoAfoASEU0gQcCOgBeoAeoAfoAXqAHiAUGpWS5e/x3nIftaW29AA9QA/QA/SA+x5gppCRAaNDeoAeoAfoAXqAHqAHmClkZOF+ZEENqSE9QA/QA/QAPWB/DzBTyMiA0SE9QA/QA/QAPUAP0APMFDKysX9kw3vIe0gP0AP0AD1AD7jvAWYKGRkwOqQH6AF6gB6gB+gBeoCZQkYW7kcW1JAa0gP0AD1AD9AD9vcAM4WMDBgd0gP0AD1AD9AD9AA9wEwhIxv7Rza8h7yH9AA9QA/QA/SA+x5gppCRAaNDeoAeoAfoAXqAHqAHmClkZOF+ZEENqSE9QA/QA/QAPWB/DzBTyMiA0SE9QA/QA/QAPUAP0APMFDKysX9kw3vIe0gP0AP0AD1AD7jvAWYKGRkwOqQH6AF6gB6gB+gBeoCZQkYW7kcW1JAa0gP0AD1AD9AD9vcAM4WMDBgd0gP0AD1AD9AD9AA9wEwhIxv7Rza8h7yH9AA9QA/QA/SA+x5gppCRAaNDeoAeoAfoAXqAHqAHmClkZOF+ZEENqSE9QA/QA/QAPWB/DzBTyMiA0SE9QA/QA/QAPUAP0APMFDKysX9kw3vIe0gP0AP0AD1AD7jvAWYKGRkwOqQH6AF6gB6gB+gBeoCZQkYW7kcW1JAa0gP0AD1AD9AD9vcAM4WMDBgd0gP0AD1AD9AD9AA9wEwhIxv7Rza8h7yH9AA9QA/QA/SA+x5gppCRAaNDeoAeoAfoAXqAHqAHmClkZOF+ZEENqSE9QA/QA/QAPWB/DzBTyMiA0SE9QA/QA/QAPUAP0APMFDKysX9kw3vIe0gP0AP0AD1AD7jvAWYKGRkwOqQH6AF6gB6gB+gBeoCZQkYW7kcW1JAa0gP0AD1AD9AD9vcAM4WMDBgd0gP0AD1AD9AD9AA9IP8PsHmhtLwbR0AAAAAASUVORK5CYII=)"
      ],
      "metadata": {
        "id": "vcnL3X4VAHE5"
      }
    },
    {
      "cell_type": "markdown",
      "source": [
        "para no darle mas peso a una variable que otra al transformarla en valores nuemricos, vamos autilizar el metodo one hot en code, consiste dar el valor de uno una caracteristica y los de mas 0, como en la imagen de ejemplo"
      ],
      "metadata": {
        "id": "y9t3lbVbeQ3i"
      }
    },
    {
      "cell_type": "markdown",
      "source": [
        "nos apoyalleremos en dos recursos de skill learn"
      ],
      "metadata": {
        "id": "VO9T9p6setSw"
      }
    },
    {
      "cell_type": "code",
      "source": [
        "from sklearn.compose import make_column_transformer #es un transformador de columnas, nos ayuda a generar un transformador de columnas\n",
        "from sklearn.preprocessing import OneHotEncoder #nos ayuda como nosostros queremos hacer la transformacion de nuestro data frame explicativas"
      ],
      "metadata": {
        "id": "PyGM0TVzA7Dk"
      },
      "execution_count": 19,
      "outputs": []
    },
    {
      "cell_type": "code",
      "source": [
        "columnas=X.columns"
      ],
      "metadata": {
        "id": "Mnb5v1dcA61R"
      },
      "execution_count": 20,
      "outputs": []
    },
    {
      "cell_type": "code",
      "source": [
        "One_hot=make_column_transformer((OneHotEncoder(drop='if_binary')\n",
        "                                ,['estado_civil','escolaridad','default','prestatario'])\n",
        "                                ,remainder='passthrough',sparse_threshold=0,force_int_remainder_cols=False)#lo ponemos en una tupla donde colocaremos el modelo que queremos para hacer la codificacion, pero no solo queremos aplicar en todas las columnas, si no hacerlo especifico o ignorar las que no son\n",
        "#para que no nos llene de ceros inecesarios, el ultimo parametro nos permite indicar ceros en una matriz relevante, es decir nos permite determinar una matriz esparsa lleando de 0 y algunos valores de 1, quitando informacion relevante y ponerlo en cero nos permite que no quite informacion relevante\n",
        "#force_int_remainder_cols, se implemento resientemente y hace obligatorio que se cambie a entero el nombre de la columna"
      ],
      "metadata": {
        "id": "cVgxDa88A6zB"
      },
      "execution_count": 21,
      "outputs": []
    },
    {
      "cell_type": "code",
      "source": [
        "X=One_hot.fit_transform(X)#la que hacemos es colocar la transformacion en nuestras variables explicativas en seleccion de las columnas especificadas\n"
      ],
      "metadata": {
        "id": "yQ7gh8xXA6wb"
      },
      "execution_count": 22,
      "outputs": []
    },
    {
      "cell_type": "code",
      "source": [
        "One_hot.get_feature_names_out(columnas)#nos mostrara un array con los nombres de las columnas, donde asigna uno para si y 0 para no, y las que son remainder las dejo intanctas"
      ],
      "metadata": {
        "colab": {
          "base_uri": "https://localhost:8080/"
        },
        "id": "MRNPWr1ijfDI",
        "outputId": "e373eaa3-0f79-48ae-f859-e86176aba56f"
      },
      "execution_count": 23,
      "outputs": [
        {
          "output_type": "execute_result",
          "data": {
            "text/plain": [
              "array(['onehotencoder__estado_civil_casado (a)',\n",
              "       'onehotencoder__estado_civil_divorciado (a)',\n",
              "       'onehotencoder__estado_civil_soltero (a)',\n",
              "       'onehotencoder__escolaridad_primaria',\n",
              "       'onehotencoder__escolaridad_secundaria',\n",
              "       'onehotencoder__escolaridad_superior', 'onehotencoder__default_si',\n",
              "       'onehotencoder__prestatario_si', 'remainder__edad',\n",
              "       'remainder__saldo', 'remainder__ultimo_contacto',\n",
              "       'remainder__ct_contactos'], dtype=object)"
            ]
          },
          "metadata": {},
          "execution_count": 23
        }
      ]
    },
    {
      "cell_type": "code",
      "source": [
        "X"
      ],
      "metadata": {
        "id": "kOVKLS1uA2LN",
        "colab": {
          "base_uri": "https://localhost:8080/"
        },
        "outputId": "4b4c79ff-24e0-4328-e8d8-14ff23500bfa"
      },
      "execution_count": 24,
      "outputs": [
        {
          "output_type": "execute_result",
          "data": {
            "text/plain": [
              "array([[ 1.000e+00,  0.000e+00,  0.000e+00, ...,  2.420e+02,  5.870e+02,\n",
              "         1.000e+00],\n",
              "       [ 1.000e+00,  0.000e+00,  0.000e+00, ...,  1.289e+03,  2.500e+02,\n",
              "         4.000e+00],\n",
              "       [ 0.000e+00,  0.000e+00,  1.000e+00, ...,  3.630e+02,  1.600e+01,\n",
              "         1.800e+01],\n",
              "       ...,\n",
              "       [ 0.000e+00,  0.000e+00,  1.000e+00, ..., -4.770e+02,  1.532e+03,\n",
              "         2.000e+00],\n",
              "       [ 1.000e+00,  0.000e+00,  0.000e+00, ...,  2.187e+03,  5.250e+02,\n",
              "         3.000e+00],\n",
              "       [ 0.000e+00,  0.000e+00,  1.000e+00, ...,  1.900e+01,  1.100e+02,\n",
              "         2.000e+00]])"
            ]
          },
          "metadata": {},
          "execution_count": 24
        }
      ]
    },
    {
      "cell_type": "markdown",
      "source": [
        "nuestra variable queda como valores numericos pero no sabemos como o que significan por eso usamos la funcion anterios de get_fature ... para ver los nombres de los valores... lo que vamos hacer es crear un dataframe con los valores anteriore sy las columnas utilizando :"
      ],
      "metadata": {
        "id": "LiHF_RXLNYZn"
      }
    },
    {
      "cell_type": "code",
      "source": [
        "pd.DataFrame(X,columns=One_hot.get_feature_names_out(columnas))"
      ],
      "metadata": {
        "id": "aB0ESpVxA2Hj",
        "colab": {
          "base_uri": "https://localhost:8080/",
          "height": 461
        },
        "outputId": "b4240569-8876-4350-a9f4-2f76262f1da4"
      },
      "execution_count": 25,
      "outputs": [
        {
          "output_type": "execute_result",
          "data": {
            "text/plain": [
              "      onehotencoder__estado_civil_casado (a)  \\\n",
              "0                                        1.0   \n",
              "1                                        1.0   \n",
              "2                                        0.0   \n",
              "3                                        0.0   \n",
              "4                                        1.0   \n",
              "...                                      ...   \n",
              "1263                                     0.0   \n",
              "1264                                     0.0   \n",
              "1265                                     0.0   \n",
              "1266                                     1.0   \n",
              "1267                                     0.0   \n",
              "\n",
              "      onehotencoder__estado_civil_divorciado (a)  \\\n",
              "0                                            0.0   \n",
              "1                                            0.0   \n",
              "2                                            0.0   \n",
              "3                                            1.0   \n",
              "4                                            0.0   \n",
              "...                                          ...   \n",
              "1263                                         0.0   \n",
              "1264                                         0.0   \n",
              "1265                                         0.0   \n",
              "1266                                         0.0   \n",
              "1267                                         0.0   \n",
              "\n",
              "      onehotencoder__estado_civil_soltero (a)  \\\n",
              "0                                         0.0   \n",
              "1                                         0.0   \n",
              "2                                         1.0   \n",
              "3                                         0.0   \n",
              "4                                         0.0   \n",
              "...                                       ...   \n",
              "1263                                      1.0   \n",
              "1264                                      1.0   \n",
              "1265                                      1.0   \n",
              "1266                                      0.0   \n",
              "1267                                      1.0   \n",
              "\n",
              "      onehotencoder__escolaridad_primaria  \\\n",
              "0                                     0.0   \n",
              "1                                     0.0   \n",
              "2                                     0.0   \n",
              "3                                     0.0   \n",
              "4                                     0.0   \n",
              "...                                   ...   \n",
              "1263                                  0.0   \n",
              "1264                                  0.0   \n",
              "1265                                  0.0   \n",
              "1266                                  0.0   \n",
              "1267                                  0.0   \n",
              "\n",
              "      onehotencoder__escolaridad_secundaria  \\\n",
              "0                                       0.0   \n",
              "1                                       1.0   \n",
              "2                                       0.0   \n",
              "3                                       0.0   \n",
              "4                                       1.0   \n",
              "...                                     ...   \n",
              "1263                                    0.0   \n",
              "1264                                    0.0   \n",
              "1265                                    0.0   \n",
              "1266                                    0.0   \n",
              "1267                                    0.0   \n",
              "\n",
              "      onehotencoder__escolaridad_superior  onehotencoder__default_si  \\\n",
              "0                                     1.0                        0.0   \n",
              "1                                     0.0                        0.0   \n",
              "2                                     1.0                        0.0   \n",
              "3                                     1.0                        0.0   \n",
              "4                                     0.0                        0.0   \n",
              "...                                   ...                        ...   \n",
              "1263                                  1.0                        0.0   \n",
              "1264                                  1.0                        0.0   \n",
              "1265                                  1.0                        0.0   \n",
              "1266                                  1.0                        0.0   \n",
              "1267                                  1.0                        0.0   \n",
              "\n",
              "      onehotencoder__prestatario_si  remainder__edad  remainder__saldo  \\\n",
              "0                               0.0             45.0             242.0   \n",
              "1                               0.0             42.0            1289.0   \n",
              "2                               0.0             23.0             363.0   \n",
              "3                               0.0             58.0            1382.0   \n",
              "4                               0.0             50.0            3357.0   \n",
              "...                             ...              ...               ...   \n",
              "1263                            0.0             52.0              83.0   \n",
              "1264                            0.0             35.0            5958.0   \n",
              "1265                            1.0             30.0            -477.0   \n",
              "1266                            0.0             42.0            2187.0   \n",
              "1267                            0.0             29.0              19.0   \n",
              "\n",
              "      remainder__ultimo_contacto  remainder__ct_contactos  \n",
              "0                          587.0                      1.0  \n",
              "1                          250.0                      4.0  \n",
              "2                           16.0                     18.0  \n",
              "3                          700.0                      1.0  \n",
              "4                          239.0                      4.0  \n",
              "...                          ...                      ...  \n",
              "1263                      1223.0                      6.0  \n",
              "1264                       215.0                      1.0  \n",
              "1265                      1532.0                      2.0  \n",
              "1266                       525.0                      3.0  \n",
              "1267                       110.0                      2.0  \n",
              "\n",
              "[1268 rows x 12 columns]"
            ],
            "text/html": [
              "\n",
              "  <div id=\"df-d44b3154-74da-4cda-a354-047e60220b40\" class=\"colab-df-container\">\n",
              "    <div>\n",
              "<style scoped>\n",
              "    .dataframe tbody tr th:only-of-type {\n",
              "        vertical-align: middle;\n",
              "    }\n",
              "\n",
              "    .dataframe tbody tr th {\n",
              "        vertical-align: top;\n",
              "    }\n",
              "\n",
              "    .dataframe thead th {\n",
              "        text-align: right;\n",
              "    }\n",
              "</style>\n",
              "<table border=\"1\" class=\"dataframe\">\n",
              "  <thead>\n",
              "    <tr style=\"text-align: right;\">\n",
              "      <th></th>\n",
              "      <th>onehotencoder__estado_civil_casado (a)</th>\n",
              "      <th>onehotencoder__estado_civil_divorciado (a)</th>\n",
              "      <th>onehotencoder__estado_civil_soltero (a)</th>\n",
              "      <th>onehotencoder__escolaridad_primaria</th>\n",
              "      <th>onehotencoder__escolaridad_secundaria</th>\n",
              "      <th>onehotencoder__escolaridad_superior</th>\n",
              "      <th>onehotencoder__default_si</th>\n",
              "      <th>onehotencoder__prestatario_si</th>\n",
              "      <th>remainder__edad</th>\n",
              "      <th>remainder__saldo</th>\n",
              "      <th>remainder__ultimo_contacto</th>\n",
              "      <th>remainder__ct_contactos</th>\n",
              "    </tr>\n",
              "  </thead>\n",
              "  <tbody>\n",
              "    <tr>\n",
              "      <th>0</th>\n",
              "      <td>1.0</td>\n",
              "      <td>0.0</td>\n",
              "      <td>0.0</td>\n",
              "      <td>0.0</td>\n",
              "      <td>0.0</td>\n",
              "      <td>1.0</td>\n",
              "      <td>0.0</td>\n",
              "      <td>0.0</td>\n",
              "      <td>45.0</td>\n",
              "      <td>242.0</td>\n",
              "      <td>587.0</td>\n",
              "      <td>1.0</td>\n",
              "    </tr>\n",
              "    <tr>\n",
              "      <th>1</th>\n",
              "      <td>1.0</td>\n",
              "      <td>0.0</td>\n",
              "      <td>0.0</td>\n",
              "      <td>0.0</td>\n",
              "      <td>1.0</td>\n",
              "      <td>0.0</td>\n",
              "      <td>0.0</td>\n",
              "      <td>0.0</td>\n",
              "      <td>42.0</td>\n",
              "      <td>1289.0</td>\n",
              "      <td>250.0</td>\n",
              "      <td>4.0</td>\n",
              "    </tr>\n",
              "    <tr>\n",
              "      <th>2</th>\n",
              "      <td>0.0</td>\n",
              "      <td>0.0</td>\n",
              "      <td>1.0</td>\n",
              "      <td>0.0</td>\n",
              "      <td>0.0</td>\n",
              "      <td>1.0</td>\n",
              "      <td>0.0</td>\n",
              "      <td>0.0</td>\n",
              "      <td>23.0</td>\n",
              "      <td>363.0</td>\n",
              "      <td>16.0</td>\n",
              "      <td>18.0</td>\n",
              "    </tr>\n",
              "    <tr>\n",
              "      <th>3</th>\n",
              "      <td>0.0</td>\n",
              "      <td>1.0</td>\n",
              "      <td>0.0</td>\n",
              "      <td>0.0</td>\n",
              "      <td>0.0</td>\n",
              "      <td>1.0</td>\n",
              "      <td>0.0</td>\n",
              "      <td>0.0</td>\n",
              "      <td>58.0</td>\n",
              "      <td>1382.0</td>\n",
              "      <td>700.0</td>\n",
              "      <td>1.0</td>\n",
              "    </tr>\n",
              "    <tr>\n",
              "      <th>4</th>\n",
              "      <td>1.0</td>\n",
              "      <td>0.0</td>\n",
              "      <td>0.0</td>\n",
              "      <td>0.0</td>\n",
              "      <td>1.0</td>\n",
              "      <td>0.0</td>\n",
              "      <td>0.0</td>\n",
              "      <td>0.0</td>\n",
              "      <td>50.0</td>\n",
              "      <td>3357.0</td>\n",
              "      <td>239.0</td>\n",
              "      <td>4.0</td>\n",
              "    </tr>\n",
              "    <tr>\n",
              "      <th>...</th>\n",
              "      <td>...</td>\n",
              "      <td>...</td>\n",
              "      <td>...</td>\n",
              "      <td>...</td>\n",
              "      <td>...</td>\n",
              "      <td>...</td>\n",
              "      <td>...</td>\n",
              "      <td>...</td>\n",
              "      <td>...</td>\n",
              "      <td>...</td>\n",
              "      <td>...</td>\n",
              "      <td>...</td>\n",
              "    </tr>\n",
              "    <tr>\n",
              "      <th>1263</th>\n",
              "      <td>0.0</td>\n",
              "      <td>0.0</td>\n",
              "      <td>1.0</td>\n",
              "      <td>0.0</td>\n",
              "      <td>0.0</td>\n",
              "      <td>1.0</td>\n",
              "      <td>0.0</td>\n",
              "      <td>0.0</td>\n",
              "      <td>52.0</td>\n",
              "      <td>83.0</td>\n",
              "      <td>1223.0</td>\n",
              "      <td>6.0</td>\n",
              "    </tr>\n",
              "    <tr>\n",
              "      <th>1264</th>\n",
              "      <td>0.0</td>\n",
              "      <td>0.0</td>\n",
              "      <td>1.0</td>\n",
              "      <td>0.0</td>\n",
              "      <td>0.0</td>\n",
              "      <td>1.0</td>\n",
              "      <td>0.0</td>\n",
              "      <td>0.0</td>\n",
              "      <td>35.0</td>\n",
              "      <td>5958.0</td>\n",
              "      <td>215.0</td>\n",
              "      <td>1.0</td>\n",
              "    </tr>\n",
              "    <tr>\n",
              "      <th>1265</th>\n",
              "      <td>0.0</td>\n",
              "      <td>0.0</td>\n",
              "      <td>1.0</td>\n",
              "      <td>0.0</td>\n",
              "      <td>0.0</td>\n",
              "      <td>1.0</td>\n",
              "      <td>0.0</td>\n",
              "      <td>1.0</td>\n",
              "      <td>30.0</td>\n",
              "      <td>-477.0</td>\n",
              "      <td>1532.0</td>\n",
              "      <td>2.0</td>\n",
              "    </tr>\n",
              "    <tr>\n",
              "      <th>1266</th>\n",
              "      <td>1.0</td>\n",
              "      <td>0.0</td>\n",
              "      <td>0.0</td>\n",
              "      <td>0.0</td>\n",
              "      <td>0.0</td>\n",
              "      <td>1.0</td>\n",
              "      <td>0.0</td>\n",
              "      <td>0.0</td>\n",
              "      <td>42.0</td>\n",
              "      <td>2187.0</td>\n",
              "      <td>525.0</td>\n",
              "      <td>3.0</td>\n",
              "    </tr>\n",
              "    <tr>\n",
              "      <th>1267</th>\n",
              "      <td>0.0</td>\n",
              "      <td>0.0</td>\n",
              "      <td>1.0</td>\n",
              "      <td>0.0</td>\n",
              "      <td>0.0</td>\n",
              "      <td>1.0</td>\n",
              "      <td>0.0</td>\n",
              "      <td>0.0</td>\n",
              "      <td>29.0</td>\n",
              "      <td>19.0</td>\n",
              "      <td>110.0</td>\n",
              "      <td>2.0</td>\n",
              "    </tr>\n",
              "  </tbody>\n",
              "</table>\n",
              "<p>1268 rows × 12 columns</p>\n",
              "</div>\n",
              "    <div class=\"colab-df-buttons\">\n",
              "\n",
              "  <div class=\"colab-df-container\">\n",
              "    <button class=\"colab-df-convert\" onclick=\"convertToInteractive('df-d44b3154-74da-4cda-a354-047e60220b40')\"\n",
              "            title=\"Convert this dataframe to an interactive table.\"\n",
              "            style=\"display:none;\">\n",
              "\n",
              "  <svg xmlns=\"http://www.w3.org/2000/svg\" height=\"24px\" viewBox=\"0 -960 960 960\">\n",
              "    <path d=\"M120-120v-720h720v720H120Zm60-500h600v-160H180v160Zm220 220h160v-160H400v160Zm0 220h160v-160H400v160ZM180-400h160v-160H180v160Zm440 0h160v-160H620v160ZM180-180h160v-160H180v160Zm440 0h160v-160H620v160Z\"/>\n",
              "  </svg>\n",
              "    </button>\n",
              "\n",
              "  <style>\n",
              "    .colab-df-container {\n",
              "      display:flex;\n",
              "      gap: 12px;\n",
              "    }\n",
              "\n",
              "    .colab-df-convert {\n",
              "      background-color: #E8F0FE;\n",
              "      border: none;\n",
              "      border-radius: 50%;\n",
              "      cursor: pointer;\n",
              "      display: none;\n",
              "      fill: #1967D2;\n",
              "      height: 32px;\n",
              "      padding: 0 0 0 0;\n",
              "      width: 32px;\n",
              "    }\n",
              "\n",
              "    .colab-df-convert:hover {\n",
              "      background-color: #E2EBFA;\n",
              "      box-shadow: 0px 1px 2px rgba(60, 64, 67, 0.3), 0px 1px 3px 1px rgba(60, 64, 67, 0.15);\n",
              "      fill: #174EA6;\n",
              "    }\n",
              "\n",
              "    .colab-df-buttons div {\n",
              "      margin-bottom: 4px;\n",
              "    }\n",
              "\n",
              "    [theme=dark] .colab-df-convert {\n",
              "      background-color: #3B4455;\n",
              "      fill: #D2E3FC;\n",
              "    }\n",
              "\n",
              "    [theme=dark] .colab-df-convert:hover {\n",
              "      background-color: #434B5C;\n",
              "      box-shadow: 0px 1px 3px 1px rgba(0, 0, 0, 0.15);\n",
              "      filter: drop-shadow(0px 1px 2px rgba(0, 0, 0, 0.3));\n",
              "      fill: #FFFFFF;\n",
              "    }\n",
              "  </style>\n",
              "\n",
              "    <script>\n",
              "      const buttonEl =\n",
              "        document.querySelector('#df-d44b3154-74da-4cda-a354-047e60220b40 button.colab-df-convert');\n",
              "      buttonEl.style.display =\n",
              "        google.colab.kernel.accessAllowed ? 'block' : 'none';\n",
              "\n",
              "      async function convertToInteractive(key) {\n",
              "        const element = document.querySelector('#df-d44b3154-74da-4cda-a354-047e60220b40');\n",
              "        const dataTable =\n",
              "          await google.colab.kernel.invokeFunction('convertToInteractive',\n",
              "                                                    [key], {});\n",
              "        if (!dataTable) return;\n",
              "\n",
              "        const docLinkHtml = 'Like what you see? Visit the ' +\n",
              "          '<a target=\"_blank\" href=https://colab.research.google.com/notebooks/data_table.ipynb>data table notebook</a>'\n",
              "          + ' to learn more about interactive tables.';\n",
              "        element.innerHTML = '';\n",
              "        dataTable['output_type'] = 'display_data';\n",
              "        await google.colab.output.renderOutput(dataTable, element);\n",
              "        const docLink = document.createElement('div');\n",
              "        docLink.innerHTML = docLinkHtml;\n",
              "        element.appendChild(docLink);\n",
              "      }\n",
              "    </script>\n",
              "  </div>\n",
              "\n",
              "\n",
              "    <div id=\"df-15ea2940-b9f9-462b-a541-ee1e2614ce0b\">\n",
              "      <button class=\"colab-df-quickchart\" onclick=\"quickchart('df-15ea2940-b9f9-462b-a541-ee1e2614ce0b')\"\n",
              "                title=\"Suggest charts\"\n",
              "                style=\"display:none;\">\n",
              "\n",
              "<svg xmlns=\"http://www.w3.org/2000/svg\" height=\"24px\"viewBox=\"0 0 24 24\"\n",
              "     width=\"24px\">\n",
              "    <g>\n",
              "        <path d=\"M19 3H5c-1.1 0-2 .9-2 2v14c0 1.1.9 2 2 2h14c1.1 0 2-.9 2-2V5c0-1.1-.9-2-2-2zM9 17H7v-7h2v7zm4 0h-2V7h2v10zm4 0h-2v-4h2v4z\"/>\n",
              "    </g>\n",
              "</svg>\n",
              "      </button>\n",
              "\n",
              "<style>\n",
              "  .colab-df-quickchart {\n",
              "      --bg-color: #E8F0FE;\n",
              "      --fill-color: #1967D2;\n",
              "      --hover-bg-color: #E2EBFA;\n",
              "      --hover-fill-color: #174EA6;\n",
              "      --disabled-fill-color: #AAA;\n",
              "      --disabled-bg-color: #DDD;\n",
              "  }\n",
              "\n",
              "  [theme=dark] .colab-df-quickchart {\n",
              "      --bg-color: #3B4455;\n",
              "      --fill-color: #D2E3FC;\n",
              "      --hover-bg-color: #434B5C;\n",
              "      --hover-fill-color: #FFFFFF;\n",
              "      --disabled-bg-color: #3B4455;\n",
              "      --disabled-fill-color: #666;\n",
              "  }\n",
              "\n",
              "  .colab-df-quickchart {\n",
              "    background-color: var(--bg-color);\n",
              "    border: none;\n",
              "    border-radius: 50%;\n",
              "    cursor: pointer;\n",
              "    display: none;\n",
              "    fill: var(--fill-color);\n",
              "    height: 32px;\n",
              "    padding: 0;\n",
              "    width: 32px;\n",
              "  }\n",
              "\n",
              "  .colab-df-quickchart:hover {\n",
              "    background-color: var(--hover-bg-color);\n",
              "    box-shadow: 0 1px 2px rgba(60, 64, 67, 0.3), 0 1px 3px 1px rgba(60, 64, 67, 0.15);\n",
              "    fill: var(--button-hover-fill-color);\n",
              "  }\n",
              "\n",
              "  .colab-df-quickchart-complete:disabled,\n",
              "  .colab-df-quickchart-complete:disabled:hover {\n",
              "    background-color: var(--disabled-bg-color);\n",
              "    fill: var(--disabled-fill-color);\n",
              "    box-shadow: none;\n",
              "  }\n",
              "\n",
              "  .colab-df-spinner {\n",
              "    border: 2px solid var(--fill-color);\n",
              "    border-color: transparent;\n",
              "    border-bottom-color: var(--fill-color);\n",
              "    animation:\n",
              "      spin 1s steps(1) infinite;\n",
              "  }\n",
              "\n",
              "  @keyframes spin {\n",
              "    0% {\n",
              "      border-color: transparent;\n",
              "      border-bottom-color: var(--fill-color);\n",
              "      border-left-color: var(--fill-color);\n",
              "    }\n",
              "    20% {\n",
              "      border-color: transparent;\n",
              "      border-left-color: var(--fill-color);\n",
              "      border-top-color: var(--fill-color);\n",
              "    }\n",
              "    30% {\n",
              "      border-color: transparent;\n",
              "      border-left-color: var(--fill-color);\n",
              "      border-top-color: var(--fill-color);\n",
              "      border-right-color: var(--fill-color);\n",
              "    }\n",
              "    40% {\n",
              "      border-color: transparent;\n",
              "      border-right-color: var(--fill-color);\n",
              "      border-top-color: var(--fill-color);\n",
              "    }\n",
              "    60% {\n",
              "      border-color: transparent;\n",
              "      border-right-color: var(--fill-color);\n",
              "    }\n",
              "    80% {\n",
              "      border-color: transparent;\n",
              "      border-right-color: var(--fill-color);\n",
              "      border-bottom-color: var(--fill-color);\n",
              "    }\n",
              "    90% {\n",
              "      border-color: transparent;\n",
              "      border-bottom-color: var(--fill-color);\n",
              "    }\n",
              "  }\n",
              "</style>\n",
              "\n",
              "      <script>\n",
              "        async function quickchart(key) {\n",
              "          const quickchartButtonEl =\n",
              "            document.querySelector('#' + key + ' button');\n",
              "          quickchartButtonEl.disabled = true;  // To prevent multiple clicks.\n",
              "          quickchartButtonEl.classList.add('colab-df-spinner');\n",
              "          try {\n",
              "            const charts = await google.colab.kernel.invokeFunction(\n",
              "                'suggestCharts', [key], {});\n",
              "          } catch (error) {\n",
              "            console.error('Error during call to suggestCharts:', error);\n",
              "          }\n",
              "          quickchartButtonEl.classList.remove('colab-df-spinner');\n",
              "          quickchartButtonEl.classList.add('colab-df-quickchart-complete');\n",
              "        }\n",
              "        (() => {\n",
              "          let quickchartButtonEl =\n",
              "            document.querySelector('#df-15ea2940-b9f9-462b-a541-ee1e2614ce0b button');\n",
              "          quickchartButtonEl.style.display =\n",
              "            google.colab.kernel.accessAllowed ? 'block' : 'none';\n",
              "        })();\n",
              "      </script>\n",
              "    </div>\n",
              "\n",
              "    </div>\n",
              "  </div>\n"
            ],
            "application/vnd.google.colaboratory.intrinsic+json": {
              "type": "dataframe",
              "summary": "{\n  \"name\": \"pd\",\n  \"rows\": 1268,\n  \"fields\": [\n    {\n      \"column\": \"onehotencoder__estado_civil_casado (a)\",\n      \"properties\": {\n        \"dtype\": \"number\",\n        \"std\": 0.4934216275780293,\n        \"min\": 0.0,\n        \"max\": 1.0,\n        \"num_unique_values\": 2,\n        \"samples\": [\n          0.0,\n          1.0\n        ],\n        \"semantic_type\": \"\",\n        \"description\": \"\"\n      }\n    },\n    {\n      \"column\": \"onehotencoder__estado_civil_divorciado (a)\",\n      \"properties\": {\n        \"dtype\": \"number\",\n        \"std\": 0.33395437437580244,\n        \"min\": 0.0,\n        \"max\": 1.0,\n        \"num_unique_values\": 2,\n        \"samples\": [\n          1.0,\n          0.0\n        ],\n        \"semantic_type\": \"\",\n        \"description\": \"\"\n      }\n    },\n    {\n      \"column\": \"onehotencoder__estado_civil_soltero (a)\",\n      \"properties\": {\n        \"dtype\": \"number\",\n        \"std\": 0.45404325646940547,\n        \"min\": 0.0,\n        \"max\": 1.0,\n        \"num_unique_values\": 2,\n        \"samples\": [\n          1.0,\n          0.0\n        ],\n        \"semantic_type\": \"\",\n        \"description\": \"\"\n      }\n    },\n    {\n      \"column\": \"onehotencoder__escolaridad_primaria\",\n      \"properties\": {\n        \"dtype\": \"number\",\n        \"std\": 0.3593643175588921,\n        \"min\": 0.0,\n        \"max\": 1.0,\n        \"num_unique_values\": 2,\n        \"samples\": [\n          1.0,\n          0.0\n        ],\n        \"semantic_type\": \"\",\n        \"description\": \"\"\n      }\n    },\n    {\n      \"column\": \"onehotencoder__escolaridad_secundaria\",\n      \"properties\": {\n        \"dtype\": \"number\",\n        \"std\": 0.4997092315310663,\n        \"min\": 0.0,\n        \"max\": 1.0,\n        \"num_unique_values\": 2,\n        \"samples\": [\n          1.0,\n          0.0\n        ],\n        \"semantic_type\": \"\",\n        \"description\": \"\"\n      }\n    },\n    {\n      \"column\": \"onehotencoder__escolaridad_superior\",\n      \"properties\": {\n        \"dtype\": \"number\",\n        \"std\": 0.4688243379191868,\n        \"min\": 0.0,\n        \"max\": 1.0,\n        \"num_unique_values\": 2,\n        \"samples\": [\n          0.0,\n          1.0\n        ],\n        \"semantic_type\": \"\",\n        \"description\": \"\"\n      }\n    },\n    {\n      \"column\": \"onehotencoder__default_si\",\n      \"properties\": {\n        \"dtype\": \"number\",\n        \"std\": 0.13350596169531515,\n        \"min\": 0.0,\n        \"max\": 1.0,\n        \"num_unique_values\": 2,\n        \"samples\": [\n          1.0,\n          0.0\n        ],\n        \"semantic_type\": \"\",\n        \"description\": \"\"\n      }\n    },\n    {\n      \"column\": \"onehotencoder__prestatario_si\",\n      \"properties\": {\n        \"dtype\": \"number\",\n        \"std\": 0.3408613004126143,\n        \"min\": 0.0,\n        \"max\": 1.0,\n        \"num_unique_values\": 2,\n        \"samples\": [\n          1.0,\n          0.0\n        ],\n        \"semantic_type\": \"\",\n        \"description\": \"\"\n      }\n    },\n    {\n      \"column\": \"remainder__edad\",\n      \"properties\": {\n        \"dtype\": \"number\",\n        \"std\": 11.383804651491229,\n        \"min\": 19.0,\n        \"max\": 87.0,\n        \"num_unique_values\": 64,\n        \"samples\": [\n          70.0,\n          77.0\n        ],\n        \"semantic_type\": \"\",\n        \"description\": \"\"\n      }\n    },\n    {\n      \"column\": \"remainder__saldo\",\n      \"properties\": {\n        \"dtype\": \"number\",\n        \"std\": 2690.40676693504,\n        \"min\": -1206.0,\n        \"max\": 27069.0,\n        \"num_unique_values\": 946,\n        \"samples\": [\n          1148.0,\n          -247.0\n        ],\n        \"semantic_type\": \"\",\n        \"description\": \"\"\n      }\n    },\n    {\n      \"column\": \"remainder__ultimo_contacto\",\n      \"properties\": {\n        \"dtype\": \"number\",\n        \"std\": 347.9697229415952,\n        \"min\": 5.0,\n        \"max\": 3025.0,\n        \"num_unique_values\": 646,\n        \"samples\": [\n          1006.0,\n          1060.0\n        ],\n        \"semantic_type\": \"\",\n        \"description\": \"\"\n      }\n    },\n    {\n      \"column\": \"remainder__ct_contactos\",\n      \"properties\": {\n        \"dtype\": \"number\",\n        \"std\": 2.8856424362736948,\n        \"min\": 1.0,\n        \"max\": 32.0,\n        \"num_unique_values\": 21,\n        \"samples\": [\n          1.0,\n          24.0\n        ],\n        \"semantic_type\": \"\",\n        \"description\": \"\"\n      }\n    }\n  ]\n}"
            }
          },
          "metadata": {},
          "execution_count": 25
        }
      ]
    },
    {
      "cell_type": "markdown",
      "source": [
        "ahora tenemos un dataframe con los valores que fueron asignados, donde vemos que donde era no=0 y donde era si=1"
      ],
      "metadata": {
        "id": "WXgKVLMAOBkA"
      }
    },
    {
      "cell_type": "markdown",
      "source": [
        "con esto ya tenemos la transformacion necesaria para nuestras variables explicativas"
      ],
      "metadata": {
        "id": "yFgJfzDAj-pS"
      }
    },
    {
      "cell_type": "markdown",
      "source": [
        "## Transformando la variable respuesta"
      ],
      "metadata": {
        "id": "eVg26seuoAvc"
      }
    },
    {
      "cell_type": "markdown",
      "source": [
        "Así como las variables explicativas, la variable objetivo también debe convertirse al formato numérico. Podemos representar una variable objetivo binaria como 0 o 1, donde 0 indica la ausencia de la característica de la variable y 1 representa su presencia."
      ],
      "metadata": {
        "id": "v2czom6YKsCp"
      }
    },
    {
      "cell_type": "code",
      "source": [
        "from sklearn.preprocessing import LabelEncoder"
      ],
      "metadata": {
        "id": "-t4p8aO2A3oY"
      },
      "execution_count": 26,
      "outputs": []
    },
    {
      "cell_type": "code",
      "source": [
        "label_encoder=LabelEncoder()"
      ],
      "metadata": {
        "id": "kiQDHea5A2E1"
      },
      "execution_count": 27,
      "outputs": []
    },
    {
      "cell_type": "code",
      "source": [
        "y=label_encoder.fit_transform(y)"
      ],
      "metadata": {
        "id": "Ob7UAX5bSNjl"
      },
      "execution_count": 28,
      "outputs": []
    },
    {
      "cell_type": "code",
      "source": [
        "y"
      ],
      "metadata": {
        "colab": {
          "base_uri": "https://localhost:8080/"
        },
        "id": "SWaeXkbNSNVs",
        "outputId": "d6d3b182-8e6f-476d-b00b-0da0f8193171"
      },
      "execution_count": 29,
      "outputs": [
        {
          "output_type": "execute_result",
          "data": {
            "text/plain": [
              "array([1, 1, 0, ..., 1, 1, 1])"
            ]
          },
          "metadata": {},
          "execution_count": 29
        }
      ]
    },
    {
      "cell_type": "markdown",
      "source": [
        "de esta manera tenemos nuestra variable de respuesta en un array unidimencional y nuestras variables explocativas en un array bidimencional o en una matriz"
      ],
      "metadata": {
        "id": "JSpjV9PWSeMa"
      }
    },
    {
      "cell_type": "markdown",
      "source": [
        "#### biblioteca Scikit-Learn"
      ],
      "metadata": {
        "id": "s4s2gzT_WTXp"
      }
    },
    {
      "cell_type": "markdown",
      "source": [
        "Además de los datos, hay algo que se vuelve indispensable en los proyectos de Machine Learning, que son los algoritmos. Es claro que no necesitamos crear los algoritmos desde cero, están disponibles de forma gratuita a través de una biblioteca del lenguaje Python, Scikit-Learn. Esta ofrece no solo una amplia variedad de algoritmos, sino también herramientas de preprocesamiento de datos, análisis y evaluación de modelos.\n",
        "\n",
        "Uno de los puntos más positivos de la biblioteca es su documentación, que está bien organizada y tiene una navegación intuitiva. Contiene la explicación y ejemplos de uso de todas las funciones, además de información teórica sobre diversos temas relacionados con Machine Learning. La documentación sin duda debe formar parte del día a día de la persona científica de datos, desde el nivel inicial hasta el más avanzado de conocimiento.\n",
        "\n",
        "El otro punto ventajoso de esta biblioteca es su uso simple. Con pocas líneas de código es posible entrenar un modelo, abstraiendo todos los detalles complejos que ocurren detrás de escena. Por esta razón, se ha convertido en una de las principales bibliotecas para trabajar con datos y, sobre todo, Machine Learning.\n",
        "\n",
        "https://scikit-learn.org/stable/index.html"
      ],
      "metadata": {
        "id": "A3IXtkd3WY0H"
      }
    },
    {
      "cell_type": "markdown",
      "source": [
        "####One Hot Encoding"
      ],
      "metadata": {
        "id": "PwJDSBSOWhJx"
      }
    },
    {
      "cell_type": "markdown",
      "source": [
        "Los algoritmos de Machine Learning no pueden comprender información que no esté en formato numérico. Por lo tanto, si se desea utilizar variables categóricas en modelos, es necesario que pasen por algún tipo de tratamiento para que estén en formato numérico. Esto no significa que se convertirán en variables numéricas, solo que estarán en un formato que sea comprendido por los modelos.\n",
        "\n",
        "Así, estas transformaciones deben preservar la información real de las categorías de la mejor manera posible, sin introducir sesgos en el modelo y sin información que esté alejada de la realidad.\n",
        "\n",
        "La forma ideal de hacer este tipo de transformación, que mantiene la información original, se conoce como one hot encoding. Esta acción transforma cada una de las clases de las variables categóricas en nuevas columnas, utilizando el valor 0 para representar la ausencia de la característica y 1 para la presencia de la característica en la muestra de la base de datos. Observa en detalle el dinamismo de este proceso en la imagen a continuación."
      ],
      "metadata": {
        "id": "0j2RsgxRWmcZ"
      }
    },
    {
      "cell_type": "markdown",
      "source": [
        "![image.png](data:image/png;base64,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)"
      ],
      "metadata": {
        "id": "mgyDBjzjWotp"
      }
    },
    {
      "cell_type": "markdown",
      "source": [
        "Hay una forma muy simple de hacer esta transformación usando la biblioteca pandas, a partir de la función pd.get_dummies(), sin embargo, no es un método muy recomendado cuando estamos trabajando con Machine Learning, ya que esta función no puede abstraer y ejecutar la misma transformación para un nuevo dato. Si tienes una nueva información que pertenece solo a una de las clases de una variable objetivo, el proceso de get_dummies no será capaz de generar las otras columnas provenientes de las otras clases. Esto se convierte en un problema para el modelo, ya que espera todas las características para realizar una predicción.\n",
        "\n",
        "El método más recomendado para realizar la transformación en proyectos de Machine Learning es el OneHotEncoder. En un primer momento, con los datos iniciales, comienza su acción comprendiendo las características de los datos y genera las nuevas columnas para cada clase. Además, almacena la regla capaz de hacer este procedimiento para nuevos datos. Por lo tanto, en el proceso de transformación de un nuevo dato, puede crear todas las columnas necesarias, aunque este nuevo dato tenga solo la información de una de las clases."
      ],
      "metadata": {
        "id": "IsaCaBM2XwVX"
      }
    },
    {
      "cell_type": "markdown",
      "source": [
        "###¿Qué aprendimos?"
      ],
      "metadata": {
        "id": "MTDo6r5hX7XU"
      }
    },
    {
      "cell_type": "markdown",
      "source": [
        "En esta clase, aprendiste a:\n",
        "\n",
        "* Utilizar la biblioteca Scikit-Learn para hacer transformaciones de datos;\n",
        "* Hacer la separación de las variables explicativas y la variable objetivo;\n",
        "* Realizar la transformación de variables categóricas a formato numérico con one hot encoding;\n",
        "* Transformar la variable objetivo a formato numérico con el LabelEncoder."
      ],
      "metadata": {
        "id": "myFVdfjVX9ZQ"
      }
    },
    {
      "cell_type": "markdown",
      "source": [
        "# 3 Ajustando modelos"
      ],
      "metadata": {
        "id": "04r_U98KoNML"
      }
    },
    {
      "cell_type": "markdown",
      "source": [
        "nota:\n",
        "antes de hacer un modelo de machine laerning debemos secmentar nuestro modelo en dos uno de prueba y otro para entrenamiento\n",
        "\n",
        "entrenamiento: mosstraremos al modelo cual es la repsuesta con lass variabless explicativas entrenamois al modelo para que sepa como encontrar la respuesta, duarnte la ejecucion, y el aprendisaje mediante la clasificacion, una forma de aprendisaje automatico, donde essta viendo la salida a la hora de entrenar\n",
        "\n",
        "donde el allara patrones de respuesta que puedan justificar esas salidas, es decri si este camino la respuesta es 1 sera uno o sera 0, me diante lo patrones de entrenamiento.\n",
        "\n",
        "lueo del entrenamiento ess probarlo con datos que nunca vio para saber si los genera correctamente o no dado que si seguimos con los datos el modelo se puede aprender las missmas salidas y al momento de ver datos nuevos no encuentr ningun patron poer ser datos que nunca vio."
      ],
      "metadata": {
        "id": "ESHFjkpxP4cE"
      }
    },
    {
      "cell_type": "markdown",
      "source": [
        "## Dividiendo los datos entre entrenamiento y prueba"
      ],
      "metadata": {
        "id": "IhVdsTrEobYU"
      }
    },
    {
      "cell_type": "markdown",
      "source": [
        "Para comprender si el modelo realmente está aprendiendo de los datos, necesitamos hacer una separación de los datos entre entrenamiento y prueba. Los datos de **entrenamiento** se utilizan para ajustar el modelo, mientras que los datos de **prueba** sirven para verificar el aprendizaje del modelo en datos que no fueron utilizados en el momento del ajuste."
      ],
      "metadata": {
        "id": "fj__Hu1bLCVY"
      }
    },
    {
      "cell_type": "markdown",
      "source": [
        "<a href=\"https://ibb.co/2749Chh3\"><img src=\"https://i.ibb.co/Y7sC1QQB/train-test.png\" alt=\"train-test\" border=\"0\"></a>"
      ],
      "metadata": {
        "id": "Az25kGn-PYir"
      }
    },
    {
      "cell_type": "markdown",
      "source": [
        "los datos los dividiremos en un % de prueba y uno para el modelo usando la siguiente biblioteca o modulo"
      ],
      "metadata": {
        "id": "Dh3KCW58RZ5l"
      }
    },
    {
      "cell_type": "code",
      "source": [
        "from sklearn.model_selection import train_test_split"
      ],
      "metadata": {
        "id": "PRttl9ml_3o9"
      },
      "execution_count": 31,
      "outputs": []
    },
    {
      "cell_type": "markdown",
      "source": [
        "procedemos a separar loss array en base de entrenamiento y de prueba"
      ],
      "metadata": {
        "id": "oTf5lPcNRxAD"
      }
    },
    {
      "cell_type": "code",
      "source": [
        "X_train,X_test,y_train,y_test=train_test_split(X,y,stratify=y,random_state=5)"
      ],
      "metadata": {
        "id": "XXGsRowP_3XX"
      },
      "execution_count": 32,
      "outputs": []
    },
    {
      "cell_type": "markdown",
      "source": [
        "## Modelo de referencia - Baseline"
      ],
      "metadata": {
        "id": "EPMZl3TasDtS"
      }
    },
    {
      "cell_type": "markdown",
      "source": [
        "El modelo más simple de clasificar los datos es simplemente utilizar un algoritmo que asigna todas las clasificaciones a la clase que tiene mayor frecuencia. Este algoritmo sirve como un criterio de comparación para identificar si los otros modelos tienen un rendimiento mejor que la clasificación más simple posible."
      ],
      "metadata": {
        "id": "fuydEJIBLbmh"
      }
    },
    {
      "cell_type": "code",
      "source": [],
      "metadata": {
        "id": "XhmVFsrT_7b0"
      },
      "execution_count": 29,
      "outputs": []
    },
    {
      "cell_type": "code",
      "source": [],
      "metadata": {
        "id": "nn-egwQm_7Xw"
      },
      "execution_count": 29,
      "outputs": []
    },
    {
      "cell_type": "markdown",
      "source": [
        "## Árboles de Decisión"
      ],
      "metadata": {
        "id": "4piugifGsF4g"
      }
    },
    {
      "cell_type": "markdown",
      "source": [
        "El modelo de árbol de decisión es muy utilizado debido a su alta **explicabilidad** y **procesamiento rápido**, manteniendo un rendimiento bastante interesante.\n",
        "\n",
        "Se basa en decisiones simples tomadas por el algoritmo, separando los datos mediante comparaciones de **menor** y **mayor** en los valores de las columnas de la base de datos."
      ],
      "metadata": {
        "id": "Hx3luIUAMEWY"
      }
    },
    {
      "cell_type": "code",
      "source": [],
      "metadata": {
        "id": "7RW7IJ_t_8N3"
      },
      "execution_count": 29,
      "outputs": []
    },
    {
      "cell_type": "code",
      "source": [],
      "metadata": {
        "id": "0o5XX-5U_8KC"
      },
      "execution_count": 29,
      "outputs": []
    },
    {
      "cell_type": "code",
      "source": [],
      "metadata": {
        "id": "2Z-vk9hs_8G6"
      },
      "execution_count": 29,
      "outputs": []
    },
    {
      "cell_type": "markdown",
      "source": [
        "```python\n",
        "valores_columnas = ['casado (a)',\n",
        "                'divorciado (a)',\n",
        "                'soltero (a)',\n",
        "                'primaria',\n",
        "                'secundaria',\n",
        "                'superior',\n",
        "                'default',\n",
        "                'prestatario',\n",
        "                'edad',\n",
        "                'saldo',\n",
        "                'ultimo_contacto',\n",
        "                'ct_contactos']\n",
        "```"
      ],
      "metadata": {
        "id": "df2Z_0iWhe6s"
      }
    },
    {
      "cell_type": "code",
      "source": [],
      "metadata": {
        "id": "tTXqDZxWAA4q"
      },
      "execution_count": 29,
      "outputs": []
    },
    {
      "cell_type": "code",
      "source": [],
      "metadata": {
        "id": "SVyXiwIMAA1L"
      },
      "execution_count": 29,
      "outputs": []
    },
    {
      "cell_type": "code",
      "source": [],
      "metadata": {
        "id": "0UwoiWOEAAyq"
      },
      "execution_count": 29,
      "outputs": []
    },
    {
      "cell_type": "markdown",
      "source": [
        "# 4. Selección de modelos"
      ],
      "metadata": {
        "id": "VKrlCIXdP7Yi"
      }
    },
    {
      "cell_type": "markdown",
      "source": [
        "## Normalizando los datos"
      ],
      "metadata": {
        "id": "jc5hcDjhP_7i"
      }
    },
    {
      "cell_type": "markdown",
      "source": [
        "Algunos algoritmos pueden asignar un mayor peso a los valores de las variables debido a la escala de los valores y no por la importancia de la clasificación de la variable objetivo. Por ejemplo, en una base de datos con las columnas **edad** y **salario**, el algoritmo puede dar un mayor peso de decisión a los valores del salario simplemente por estar en una escala mayor que los valores de la edad, y no porque la variable salario sea más importante que la variable edad.\n",
        "\n",
        "En estos casos, necesitamos realizar una transformación en los datos para que estén en una misma escala, evitando que el algoritmo sea influenciado incorrectamente por los valores numéricos divergentes entre las variables."
      ],
      "metadata": {
        "id": "5lPMT48xM1Jm"
      }
    },
    {
      "cell_type": "markdown",
      "source": [
        "$X_{sc} = \\frac{X - X_{min}}{X_{max} - X_{min}} $"
      ],
      "metadata": {
        "id": "v1lUQnVXbhCb"
      }
    },
    {
      "cell_type": "code",
      "source": [],
      "metadata": {
        "id": "sOJiNe2A-eH_"
      },
      "execution_count": 29,
      "outputs": []
    },
    {
      "cell_type": "code",
      "source": [],
      "metadata": {
        "id": "ogyiUP8e-eBg"
      },
      "execution_count": 29,
      "outputs": []
    },
    {
      "cell_type": "code",
      "source": [],
      "metadata": {
        "id": "9jONGKMz-d_M"
      },
      "execution_count": 29,
      "outputs": []
    },
    {
      "cell_type": "markdown",
      "source": [
        "## KNN"
      ],
      "metadata": {
        "id": "EeLwrThg0W7C"
      }
    },
    {
      "cell_type": "markdown",
      "source": [
        "El algoritmo KNN se basa en el cálculo de la distancia entre los registros de la base de datos y busca elementos que estén cerca unos de otros (vecinos) para tomar la decisión de clasificación.\n",
        "\n",
        "Debido a que utiliza cálculos de distancia, este algoritmo está influenciado por la escala de las variables, y por eso es necesario realizar una transformación en los datos antes de utilizar este método."
      ],
      "metadata": {
        "id": "QmAV0IFuNs43"
      }
    },
    {
      "cell_type": "code",
      "source": [],
      "metadata": {
        "id": "WWfngI9t-fjN"
      },
      "execution_count": 29,
      "outputs": []
    },
    {
      "cell_type": "code",
      "source": [],
      "metadata": {
        "id": "OLA-IDeJ-ffP"
      },
      "execution_count": 29,
      "outputs": []
    },
    {
      "cell_type": "code",
      "source": [],
      "metadata": {
        "id": "sLFS5Q-W-fc3"
      },
      "execution_count": 29,
      "outputs": []
    },
    {
      "cell_type": "markdown",
      "source": [
        "## Escogiendo y serializando el mejor modelo"
      ],
      "metadata": {
        "id": "8qdYbnwhVFSU"
      }
    },
    {
      "cell_type": "markdown",
      "source": [
        "Al final de un proyecto de machine learning, debemos comparar los resultados de los modelos y elegir el que tenga el mejor rendimiento.\n",
        "\n",
        "Podemos almacenar el modelo en un archivo serializado del tipo pickle para que sea utilizado en producción, es decir, en datos del mundo real para atender las necesidades del problema que necesita ser resuelto."
      ],
      "metadata": {
        "id": "HXa-CK0kOGr3"
      }
    },
    {
      "cell_type": "code",
      "source": [],
      "metadata": {
        "id": "5nPHjdtn-jDe"
      },
      "execution_count": 29,
      "outputs": []
    },
    {
      "cell_type": "code",
      "source": [],
      "metadata": {
        "id": "_QJx3nzo-i7j"
      },
      "execution_count": 29,
      "outputs": []
    },
    {
      "cell_type": "code",
      "source": [],
      "metadata": {
        "id": "H_miBe1Z-i31"
      },
      "execution_count": 29,
      "outputs": []
    },
    {
      "cell_type": "markdown",
      "source": [
        "```python\n",
        "nuevo_dato = {\n",
        "    'edad': [45],\n",
        "    'estado_civil':['soltero (a)'],\n",
        "    'escolaridad':['superior'],\n",
        "    'default': ['no'],\n",
        "    'saldo': [23040],\n",
        "    'prestatario': ['no'],\n",
        "    'ultimo_contacto': [800],\n",
        "    'ct_contactos': [4]\n",
        "}\n",
        "```"
      ],
      "metadata": {
        "id": "nKDya8qahXrt"
      }
    },
    {
      "cell_type": "code",
      "source": [],
      "metadata": {
        "id": "M36ZyNeI-nXD"
      },
      "execution_count": 29,
      "outputs": []
    },
    {
      "cell_type": "code",
      "source": [],
      "metadata": {
        "id": "9e6TGmHX-nSW"
      },
      "execution_count": 29,
      "outputs": []
    },
    {
      "cell_type": "code",
      "source": [],
      "metadata": {
        "id": "MJhJ1VzS-nPM"
      },
      "execution_count": 29,
      "outputs": []
    }
  ]
}