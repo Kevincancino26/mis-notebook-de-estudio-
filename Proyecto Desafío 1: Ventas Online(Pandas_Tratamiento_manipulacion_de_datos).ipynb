{
  "nbformat": 4,
  "nbformat_minor": 0,
  "metadata": {
    "colab": {
      "provenance": [],
      "authorship_tag": "ABX9TyMdhupbPz/Yj0IFybrNOVss",
      "include_colab_link": true
    },
    "kernelspec": {
      "name": "python3",
      "display_name": "Python 3"
    },
    "language_info": {
      "name": "python"
    }
  },
  "cells": [
    {
      "cell_type": "markdown",
      "metadata": {
        "id": "view-in-github",
        "colab_type": "text"
      },
      "source": [
        "<a href=\"https://colab.research.google.com/github/Kevincancino26/mis-notebook-de-estudio-/blob/main/Proyecto%20Desaf%C3%ADo%201%3A%20Ventas%20Online(Pandas_Tratamiento_manipulacion_de_datos).ipynb\" target=\"_parent\"><img src=\"https://colab.research.google.com/assets/colab-badge.svg\" alt=\"Open In Colab\"/></a>"
      ]
    },
    {
      "cell_type": "code",
      "execution_count": null,
      "metadata": {
        "id": "jSKPn13ub7dm"
      },
      "outputs": [],
      "source": []
    }
  ]
}